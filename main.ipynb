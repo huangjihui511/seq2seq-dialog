{
 "nbformat": 4,
 "nbformat_minor": 2,
 "metadata": {
  "language_info": {
   "name": "python",
   "codemirror_mode": {
    "name": "ipython",
    "version": 3
   },
   "version": "3.7.4-final"
  },
  "orig_nbformat": 2,
  "file_extension": ".py",
  "mimetype": "text/x-python",
  "name": "python",
  "npconvert_exporter": "python",
  "pygments_lexer": "ipython3",
  "version": 3,
  "kernelspec": {
   "name": "python37464bitc618d87d24fd41819fe0e569b8dfcad8",
   "display_name": "Python 3.7.4 64-bit"
  }
 },
 "cells": [
  {
   "cell_type": "code",
   "execution_count": 50,
   "metadata": {
    "tags": [
     "outputPrepend"
    ]
   },
   "outputs": [
    {
     "output_type": "execute_result",
     "data": {
      "text/plain": "('Hello doctor, I get a cough for the last few days, which is heavy during night times .  No raise in temperature but feeling tired with no travel history .  No contact with any Covid-19 persons .  It has been four to five days and has drunk a lot of Benadryl and took Paracetamol too .  Doctors have shut the OP so do not know what to do? Please help . ',\n 'Hello, I understand your concern .  I just have a few more questions . Does your cough has phlegm? Any other symptoms like difficulty breathing? Any other medical condition such as asthma, hypertension? Are you a smoker? Alcoholic beverage drinker?')"
     },
     "metadata": {},
     "execution_count": 50
    }
   ],
   "source": [
    "path = \"COVID-Dialogue-Dataset-English.txt\"\n",
    "f = open(path,encoding=\"UTF-8\")\n",
    "l1 = f.read()\n",
    "l2 = l1.split(\"id=\")\n",
    "p2d = []\n",
    "d2p = []\n",
    "\n",
    "def clean_sentence(str):\n",
    "    str = str.replace(\".\", \" . \").replace(\"\\n\", \"\").replace(\"/\",\"\")\n",
    "    return str\n",
    "for item in l2:\n",
    "    if len(item) != 0:\n",
    "        temp = item.split(\"Dialogue\\nPatient:\")\n",
    "        if len(temp) > 1:\n",
    "            item2 = temp[1]\n",
    "            item3 = item2.split(\"Patient:\")\n",
    "            l = []\n",
    "            if len(item3) != 0:\n",
    "                for item4 in item3:\n",
    "                    item5 = item4.split(\"Doctor:\")\n",
    "                    item5 = [clean_sentence(item6) for item6 in item5]\n",
    "                    l += item5\n",
    "            for i in range(1, len(l), 2):\n",
    "                p2d.append((l[i - 1].strip(\"\\n\"), l[i].strip(\"\\n\")))\n",
    "                if i + 1 < len(l):\n",
    "                    d2p.append((l[i].strip(\"\\n\"), l[i + 1].strip(\"\\n\")))\n",
    "data = p2d + d2p\n",
    "data[0]"
   ]
  },
  {
   "cell_type": "code",
   "execution_count": 51,
   "metadata": {},
   "outputs": [],
   "source": [
    "import json\n",
    "json_str = json.dumps(data)\n",
    "f = open(\"dia_data.txt\", \"w\")\n",
    "json.dump(json_str,f)"
   ]
  },
  {
   "cell_type": "code",
   "execution_count": 52,
   "metadata": {},
   "outputs": [
    {
     "output_type": "stream",
     "name": "stdout",
     "text": "352\n184\n647\n76\n301\n238\n773\n1496\n428\n1454\n3579\n1395\n245\n353\n1557\n158\n35\n24\n25\n19\n47\n37\n45\n26\n35\n47\n156\n84\n262\n160\n146\n82\n82\n211\n218\n249\n142\n82\n197\n257\n149\n137\n149\n307\n268\n265\n329\n391\n302\n747\n534\n398\n358\n302\n834\n865\n1117\n445\n695\n1378\n573\n359\n621\n300\n295\n1796\n482\n940\n505\n349\n434\n535\n379\n417\n927\n414\n599\n266\n522\n721\n366\n320\n534\n639\n739\n577\n484\n505\n429\n565\n473\n345\n398\n1082\n763\n284\n525\n632\n298\n431\n540\n401\n335\n506\n278\n300\n269\n477\n323\n704\n532\n291\n499\n388\n308\n269\n962\n461\n334\n360\n2232\n388\n475\n288\n279\n443\n324\n611\n370\n596\n258\n408\n343\n321\n769\n280\n257\n276\n673\n531\n1056\n532\n266\n266\n580\n368\n314\n342\n397\n349\n313\n474\n419\n276\n517\n277\n953\n273\n272\n275\n328\n498\n331\n321\n624\n290\n414\n413\n1299\n601\n881\n1669\n606\n322\n263\n360\n492\n299\n319\n355\n322\n544\n939\n713\n521\n414\n483\n142\n115\n88\n257\n248\n256\n132\n238\n164\n75\n252\n253\n138\n231\n28\n19\n138\n143\n148\n160\n243\n68\n255\n232\n142\n261\n82\n216\n227\n215\n174\n256\n138\n142\n228\n224\n159\n229\n258\n131\n254\n242\n37\n248\n249\n162\n104\n217\n247\n204\n253\n66\n126\n204\n191\n159\n218\n239\n237\n239\n237\n126\n99\n58\n255\n237\n255\n76\n27\n114\n238\n247\n160\n243\n37\n270\n160\n246\n251\n134\n256\n154\n60\n254\n88\n74\n138\n172\n87\n219\n254\n252\n131\n82\n229\n83\n69\n167\n193\n263\n176\n258\n258\n184\n162\n185\n98\n245\n248\n153\n89\n213\n245\n69\n87\n174\n110\n103\n257\n164\n108\n113\n72\n106\n76\n253\n246\n80\n83\n254\n42\n53\n256\n124\n211\n100\n259\n65\n251\n146\n144\n162\n69\n253\n100\n254\n135\n167\n199\n260\n187\n205\n244\n201\n153\n65\n88\n102\n120\n250\n151\n249\n252\n81\n257\n244\n84\n82\n186\n108\n213\n127\n85\n253\n231\n158\n145\n97\n83\n231\n214\n138\n262\n253\n216\n182\n195\n80\n148\n58\n43\n252\n66\n148\n97\n258\n66\n240\n103\n253\n219\n240\n245\n26\n253\n216\n160\n163\n258\n31\n106\n130\n135\n171\n101\n108\n146\n209\n237\n250\n54\n253\n103\n174\n209\n165\n248\n172\n108\n96\n162\n265\n232\n44\n209\n230\n165\n218\n115\n71\n68\n83\n107\n113\n186\n202\n90\n133\n117\n81\n246\n145\n46\n254\n255\n257\n247\n168\n194\n218\n246\n238\n250\n237\n154\n227\n205\n113\n75\n255\n251\n247\n160\n257\n117\n248\n245\n259\n91\n132\n223\n174\n260\n109\n131\n74\n148\n65\n181\n252\n252\n97\n74\n257\n85\n243\n44\n203\n193\n64\n54\n105\n232\n98\n33\n189\n167\n149\n232\n255\n103\n139\n217\n155\n235\n35\n253\n128\n204\n255\n72\n71\n211\n43\n258\n82\n123\n172\n209\n232\n109\n235\n57\n191\n139\n53\n96\n35\n210\n86\n161\n248\n255\n81\n76\n41\n251\n236\n218\n89\n176\n97\n186\n70\n101\n84\n248\n251\n262\n72\n94\n68\n83\n173\n41\n176\n46\n251\n256\n85\n182\n263\n61\n253\n205\n96\n120\n247\n89\n94\n174\n87\n122\n148\n256\n154\n178\n251\n138\n134\n140\n203\n264\n78\n191\n25\n250\n169\n56\n134\n189\n101\n267\n157\n100\n125\n230\n248\n179\n90\n24\n205\n253\n255\n234\n240\n250\n249\n162\n187\n130\n207\n247\n94\n200\n59\n239\n238\n248\n197\n69\n376\n240\n974\n1470\n211\n189\n111\n233\n324\n419\n"
    }
   ],
   "source": [
    "for item in data:\n",
    "    print(len(item[0]))"
   ]
  },
  {
   "cell_type": "code",
   "execution_count": 53,
   "metadata": {},
   "outputs": [],
   "source": [
    "import json\n",
    "f = open(\"dialog_data.txt\", \"w\")\n",
    "json_str = json.dumps(data)\n",
    "json.dump(json_str,f)"
   ]
  },
  {
   "cell_type": "code",
   "execution_count": 54,
   "metadata": {},
   "outputs": [
    {
     "output_type": "execute_result",
     "data": {
      "text/plain": "['Without', 'any', 'details', 'it', \"'s\", 'impossible', 'to', 'say', '.']"
     },
     "metadata": {},
     "execution_count": 54
    }
   ],
   "source": [
    "word_tokenize(\"Without any details it's impossible to say . \")"
   ]
  },
  {
   "cell_type": "code",
   "execution_count": 55,
   "metadata": {},
   "outputs": [
    {
     "output_type": "execute_result",
     "data": {
      "text/plain": "('Hello doctor , I get a cough for the last few days , which is heavy during night times . No raise in temperature but feeling tired with no travel history . No contact with any Covid-19 persons . It has been four to five days and has drunk a lot of Benadryl and took Paracetamol too . Doctors have shut the OP so do not know what to do ? Please help .',\n 'Hello , I understand your concern . I just have a few more questions . Does your cough has phlegm ? Any other symptoms like difficulty breathing ? Any other medical condition such as asthma , hypertension ? Are you a smoker ? Alcoholic beverage drinker ?')"
     },
     "metadata": {},
     "execution_count": 55
    }
   ],
   "source": [
    "dictionary = {}\n",
    "\n",
    "from nltk import word_tokenize\n",
    "from nltk.corpus import stopwords\n",
    "from string import punctuation\n",
    "from itertools import chain\n",
    "\n",
    "sw = stopwords.words('english')\n",
    "punct = punctuation\n",
    "reverse_flag = False\n",
    "stopword_flag = False\n",
    "words_min_times = 0\n",
    "def clean_data(data):\n",
    "    for item in data:\n",
    "        for item2 in item:\n",
    "            words = word_tokenize(item2)\n",
    "            for word in words:\n",
    "                dictionary.setdefault(word,0)\n",
    "                dictionary[word] += 1\n",
    "    data2 = []\n",
    "    for item in data:\n",
    "        temp = []\n",
    "        flag = 0\n",
    "        if \"www\" in item[0] or \"www\" in item[1]:\n",
    "            continue\n",
    "        for item2 in item:\n",
    "            item2 = \" \".join([token for token in word_tokenize(item2) if dictionary[token] > words_min_times])\n",
    "            \n",
    "            if reverse_flag and flag == 1:\n",
    "                item2 = \" \".join(reversed(item2.split(\" \")))\n",
    "            if stopword_flag:\n",
    "                item2 = \" \".join([token for token in word_tokenize(item2) if token.lower() not in chain(punct, sw)])\n",
    "            temp.append(item2)\n",
    "            flag += 1\n",
    "        temp = tuple(temp)\n",
    "        data2.append(temp)\n",
    "    return data2\n",
    "data2 = clean_data(data)\n",
    "data2[0]"
   ]
  },
  {
   "cell_type": "code",
   "execution_count": 56,
   "metadata": {},
   "outputs": [],
   "source": [
    "from __future__ import unicode_literals, print_function, division\n",
    "from io import open\n",
    "import unicodedata\n",
    "import string\n",
    "import re\n",
    "import random\n",
    "\n",
    "import torch\n",
    "import torch.nn as nn\n",
    "from torch import optim\n",
    "import torch.nn.functional as F\n",
    "\n",
    "device = torch.device(\"cuda\" if torch.cuda.is_available() else \"cpu\")"
   ]
  },
  {
   "cell_type": "code",
   "execution_count": 57,
   "metadata": {},
   "outputs": [],
   "source": [
    "SOS_token = 0\n",
    "EOS_token = 1\n",
    "\n",
    "\n",
    "class Lang:\n",
    "    def __init__(self, name):\n",
    "        self.name = name\n",
    "        self.word2index = {}\n",
    "        self.word2count = {}\n",
    "        self.index2word = {0: \"SOS\", 1: \"EOS\"}\n",
    "        self.n_words = 2  # Count SOS and EOS\n",
    "\n",
    "    def addSentence(self, sentence):\n",
    "        for word in sentence.split(' '):\n",
    "            self.addWord(word)\n",
    "\n",
    "    def addWord(self, word):\n",
    "        if word not in self.word2index:\n",
    "            self.word2index[word] = self.n_words\n",
    "            self.word2count[word] = 1\n",
    "            self.index2word[self.n_words] = word\n",
    "            self.n_words += 1\n",
    "        else:\n",
    "            self.word2count[word] += 1"
   ]
  },
  {
   "cell_type": "code",
   "execution_count": 58,
   "metadata": {},
   "outputs": [],
   "source": [
    "# Turn a Unicode string to plain ASCII, thanks to\n",
    "# https://stackoverflow.com/a/518232/2809427\n",
    "def unicodeToAscii(s):\n",
    "    return ''.join(\n",
    "        c for c in unicodedata.normalize('NFD', s)\n",
    "        if unicodedata.category(c) != 'Mn'\n",
    "    )\n",
    "\n",
    "# Lowercase, trim, and remove non-letter characters\n",
    "\n",
    "\n",
    "def normalizeString(s):\n",
    "    s = unicodeToAscii(s.lower().strip())\n",
    "    #s = re.sub(r\"([.!?\\'])\", r\" \\1\", s)\n",
    "    #s = re.sub(r\"[^a-zA-Z.!?]+\", r\" \", s)\n",
    "    return s"
   ]
  },
  {
   "cell_type": "code",
   "execution_count": 59,
   "metadata": {},
   "outputs": [],
   "source": [
    "def readLangs(lang):\n",
    "    print(\"Reading lines...\")\n",
    "    '''\n",
    "    # Read the file and split into lines\n",
    "    lines = open('data/%s-%s.txt' % (lang1, lang2), encoding='utf-8').\\\n",
    "        read().strip().split('\\n')\n",
    "\n",
    "    # Split every line into pairs and normalize\n",
    "    pairs = [[normalizeString(s) for s in l.split('\\t')] for l in lines]\n",
    "    '''\n",
    "    pairs = [(normalizeString(item[0]), normalizeString(item[1])) for item in data2]\n",
    "    # Reverse pairs, make Lang instances\n",
    "\n",
    "\n",
    "    lang = Lang(lang)\n",
    "\n",
    "    return lang, pairs"
   ]
  },
  {
   "cell_type": "code",
   "execution_count": 77,
   "metadata": {},
   "outputs": [],
   "source": [
    "MAX_LENGTH = 50\n",
    "\n",
    "eng_prefixes = (\n",
    "    \"i am \", \"i m \",\n",
    "    \"he is\", \"he s \",\n",
    "    \"she is\", \"she s \",\n",
    "    \"you are\", \"you re \",\n",
    "    \"we are\", \"we re \",\n",
    "    \"they are\", \"they re \"\n",
    ")\n",
    "\n",
    "\n",
    "def filterPair(p):\n",
    "    return len(p[0].split(' ')) < MAX_LENGTH and \\\n",
    "        len(p[1].split(' ')) < MAX_LENGTH\n",
    "\n",
    "\n",
    "def filterPairs(pairs):\n",
    "    return [pair for pair in pairs if filterPair(pair)]"
   ]
  },
  {
   "cell_type": "code",
   "execution_count": 78,
   "metadata": {
    "tags": [
     "outputPrepend"
    ]
   },
   "outputs": [
    {
     "output_type": "stream",
     "name": "stdout",
     "text": "Reading lines...\nRead 595 sentence pairs\nTrimmed to 128 sentence pairs\nCounting words...\nCounted words:\nlang 1395\n('hi there . my 3 years old daughter had diarrhea for a couple of days and she has a fever without a cough now . can it be covid-19 ?', 'it could . only way to know is to test , self isolate : )')\n"
    }
   ],
   "source": [
    "def prepareData(lang):\n",
    "    lang, pairs = readLangs(lang)\n",
    "    print(\"Read %s sentence pairs\" % len(pairs))\n",
    "    pairs = filterPairs(pairs)\n",
    "    print(\"Trimmed to %s sentence pairs\" % len(pairs))\n",
    "    print(\"Counting words...\")\n",
    "    for pair in pairs:\n",
    "        #print(pair)\n",
    "        lang.addSentence(pair[0])\n",
    "        lang.addSentence(pair[1])\n",
    "    print(\"Counted words:\")\n",
    "    print(lang.name, lang.n_words)\n",
    "    return lang, pairs\n",
    "\n",
    "\n",
    "lang, pairs = prepareData('lang')\n",
    "print(random.choice(pairs))"
   ]
  },
  {
   "cell_type": "code",
   "execution_count": 79,
   "metadata": {},
   "outputs": [],
   "source": [
    "class EncoderRNN(nn.Module):\n",
    "    def __init__(self, input_size, hidden_size):\n",
    "        super(EncoderRNN, self).__init__()\n",
    "        self.hidden_size = hidden_size\n",
    "\n",
    "        self.embedding = nn.Embedding(input_size, hidden_size)\n",
    "        self.gru = nn.GRU(hidden_size, hidden_size)\n",
    "\n",
    "    def forward(self, input, hidden):\n",
    "        embedded = self.embedding(input).view(1, 1, -1)\n",
    "        output = embedded\n",
    "        output, hidden = self.gru(output, hidden)\n",
    "        return output, hidden\n",
    "\n",
    "    def initHidden(self):\n",
    "        return torch.zeros(1, 1, self.hidden_size, device=device)"
   ]
  },
  {
   "cell_type": "code",
   "execution_count": 80,
   "metadata": {},
   "outputs": [],
   "source": [
    "class DecoderRNN(nn.Module):\n",
    "    def __init__(self, hidden_size, output_size):\n",
    "        super(DecoderRNN, self).__init__()\n",
    "        self.hidden_size = hidden_size\n",
    "\n",
    "        self.embedding = nn.Embedding(output_size, hidden_size)\n",
    "        self.gru = nn.GRU(hidden_size, hidden_size)\n",
    "        self.out = nn.Linear(hidden_size, output_size)\n",
    "        self.softmax = nn.LogSoftmax(dim=1)\n",
    "\n",
    "    def forward(self, input, hidden):\n",
    "        output = self.embedding(input).view(1, 1, -1)\n",
    "        output = F.relu(output)\n",
    "        output, hidden = self.gru(output, hidden)\n",
    "        output = self.softmax(self.out(output[0]))\n",
    "        return output, hidden\n",
    "\n",
    "    def initHidden(self):\n",
    "        return torch.zeros(1, 1, self.hidden_size, device=device)"
   ]
  },
  {
   "cell_type": "code",
   "execution_count": 81,
   "metadata": {},
   "outputs": [],
   "source": [
    "class AttnDecoderRNN(nn.Module):\n",
    "    def __init__(self, hidden_size, output_size, dropout_p=0.1, max_length=MAX_LENGTH):\n",
    "        super(AttnDecoderRNN, self).__init__()\n",
    "        self.hidden_size = hidden_size\n",
    "        self.output_size = output_size\n",
    "        self.dropout_p = dropout_p\n",
    "        self.max_length = max_length\n",
    "\n",
    "        self.embedding = nn.Embedding(self.output_size, self.hidden_size)\n",
    "        self.attn = nn.Linear(self.hidden_size * 2, self.max_length)\n",
    "        self.attn_combine = nn.Linear(self.hidden_size * 2, self.hidden_size)\n",
    "        self.dropout = nn.Dropout(self.dropout_p)\n",
    "        self.gru = nn.GRU(self.hidden_size, self.hidden_size)\n",
    "        self.out = nn.Linear(self.hidden_size, self.output_size)\n",
    "\n",
    "    def forward(self, input, hidden, encoder_outputs):\n",
    "        embedded = self.embedding(input).view(1, 1, -1)\n",
    "        embedded = self.dropout(embedded)\n",
    "\n",
    "        attn_weights = F.softmax(\n",
    "            self.attn(torch.cat((embedded[0], hidden[0]), 1)), dim=1)\n",
    "        attn_applied = torch.bmm(attn_weights.unsqueeze(0),\n",
    "                                 encoder_outputs.unsqueeze(0))\n",
    "\n",
    "        output = torch.cat((embedded[0], attn_applied[0]), 1)\n",
    "        output = self.attn_combine(output).unsqueeze(0)\n",
    "\n",
    "        output = F.relu(output)\n",
    "        output, hidden = self.gru(output, hidden)\n",
    "\n",
    "        output = F.log_softmax(self.out(output[0]), dim=1)\n",
    "        return output, hidden, attn_weights\n",
    "\n",
    "    def initHidden(self):\n",
    "        return torch.zeros(1, 1, self.hidden_size, device=device)"
   ]
  },
  {
   "cell_type": "code",
   "execution_count": 82,
   "metadata": {},
   "outputs": [],
   "source": [
    "def indexesFromSentence(lang, sentence):\n",
    "    return [lang.word2index[word] for word in sentence.split(' ')]\n",
    "\n",
    "\n",
    "def tensorFromSentence(lang, sentence):\n",
    "    indexes = indexesFromSentence(lang, sentence)\n",
    "    indexes.append(EOS_token)\n",
    "    return torch.tensor(indexes, dtype=torch.long, device=device).view(-1, 1)\n",
    "\n",
    "\n",
    "def tensorsFromPair(pair):\n",
    "    input_tensor = tensorFromSentence(lang, pair[0])\n",
    "    target_tensor = tensorFromSentence(lang, pair[1])\n",
    "    return (input_tensor, target_tensor)"
   ]
  },
  {
   "cell_type": "code",
   "execution_count": 83,
   "metadata": {},
   "outputs": [],
   "source": [
    "teacher_forcing_ratio = 0.5\n",
    "\n",
    "\n",
    "def train(input_tensor, target_tensor, encoder, decoder, encoder_optimizer, decoder_optimizer, criterion, max_length=MAX_LENGTH):\n",
    "    encoder_hidden = encoder.initHidden()\n",
    "\n",
    "    encoder_optimizer.zero_grad()\n",
    "    decoder_optimizer.zero_grad()\n",
    "\n",
    "    input_length = input_tensor.size(0)\n",
    "    target_length = target_tensor.size(0)\n",
    "\n",
    "    encoder_outputs = torch.zeros(max_length, encoder.hidden_size, device=device)\n",
    "\n",
    "    loss = 0\n",
    "\n",
    "    for ei in range(input_length):\n",
    "        encoder_output, encoder_hidden = encoder(\n",
    "            input_tensor[ei], encoder_hidden)\n",
    "        encoder_outputs[ei] = encoder_output[0, 0]\n",
    "\n",
    "    decoder_input = torch.tensor([[SOS_token]], device=device)\n",
    "\n",
    "    decoder_hidden = encoder_hidden\n",
    "\n",
    "    use_teacher_forcing = True if random.random() < teacher_forcing_ratio else False\n",
    "\n",
    "    if use_teacher_forcing:\n",
    "        # Teacher forcing: Feed the target as the next input\n",
    "        for di in range(target_length):\n",
    "            decoder_output, decoder_hidden, decoder_attention = decoder(\n",
    "                decoder_input, decoder_hidden, encoder_outputs)\n",
    "            loss += criterion(decoder_output, target_tensor[di])\n",
    "            decoder_input = target_tensor[di]  # Teacher forcing\n",
    "\n",
    "    else:\n",
    "        # Without teacher forcing: use its own predictions as the next input\n",
    "        for di in range(target_length):\n",
    "            decoder_output, decoder_hidden, decoder_attention = decoder(\n",
    "                decoder_input, decoder_hidden, encoder_outputs)\n",
    "            topv, topi = decoder_output.topk(1)\n",
    "            decoder_input = topi.squeeze().detach()  # detach from history as input\n",
    "\n",
    "            loss += criterion(decoder_output, target_tensor[di])\n",
    "            if decoder_input.item() == EOS_token:\n",
    "                break\n",
    "\n",
    "    loss.backward()\n",
    "\n",
    "    encoder_optimizer.step()\n",
    "    decoder_optimizer.step()\n",
    "\n",
    "    return loss.item() / target_length"
   ]
  },
  {
   "cell_type": "code",
   "execution_count": 84,
   "metadata": {},
   "outputs": [],
   "source": [
    "import time\n",
    "import math\n",
    "\n",
    "\n",
    "def asMinutes(s):\n",
    "    m = math.floor(s / 60)\n",
    "    s -= m * 60\n",
    "    return '%dm %ds' % (m, s)\n",
    "\n",
    "\n",
    "def timeSince(since, percent):\n",
    "    now = time.time()\n",
    "    s = now - since\n",
    "    es = s / (percent)\n",
    "    rs = es - s\n",
    "    return '%s (- %s)' % (asMinutes(s), asMinutes(rs))"
   ]
  },
  {
   "cell_type": "code",
   "execution_count": 85,
   "metadata": {},
   "outputs": [],
   "source": [
    "def trainIters(encoder, decoder, n_iters, print_every=1000, plot_every=100, learning_rate=0.01):\n",
    "    start = time.time()\n",
    "    plot_losses = []\n",
    "    print_loss_total = 0  # Reset every print_every\n",
    "    plot_loss_total = 0  # Reset every plot_every\n",
    "    print(\"the size of data is:\", len(pairs))\n",
    "    encoder_optimizer = optim.SGD(encoder.parameters(), lr=learning_rate)\n",
    "    decoder_optimizer = optim.SGD(decoder.parameters(), lr=learning_rate)\n",
    "    training_pairs = [tensorsFromPair(random.choice(pairs))\n",
    "                      for i in range(n_iters)]\n",
    "    criterion = nn.NLLLoss()\n",
    "\n",
    "    for iter in range(1, n_iters + 1):\n",
    "        training_pair = training_pairs[iter - 1]\n",
    "        input_tensor = training_pair[0]\n",
    "        target_tensor = training_pair[1]\n",
    "\n",
    "        loss = train(input_tensor, target_tensor, encoder,\n",
    "                     decoder, encoder_optimizer, decoder_optimizer, criterion)\n",
    "        print_loss_total += loss\n",
    "        plot_loss_total += loss\n",
    "\n",
    "        if iter % print_every == 0:\n",
    "            print_loss_avg = print_loss_total / print_every\n",
    "            print_loss_total = 0\n",
    "            print('%s (%d %d%%) %.4f' % (timeSince(start, iter / n_iters),\n",
    "                                         iter, iter / n_iters * 100, print_loss_avg))\n",
    "\n",
    "        if iter % plot_every == 0:\n",
    "            plot_loss_avg = plot_loss_total / plot_every\n",
    "            plot_losses.append(plot_loss_avg)\n",
    "            plot_loss_total = 0\n",
    "\n",
    "    showPlot(plot_losses)"
   ]
  },
  {
   "cell_type": "code",
   "execution_count": 86,
   "metadata": {},
   "outputs": [],
   "source": [
    "import matplotlib.pyplot as plt\n",
    "plt.switch_backend('agg')\n",
    "import matplotlib.ticker as ticker\n",
    "import numpy as np\n",
    "\n",
    "\n",
    "def showPlot(points):\n",
    "    plt.figure()\n",
    "    fig, ax = plt.subplots()\n",
    "    # this locator puts ticks at regular intervals\n",
    "    loc = ticker.MultipleLocator(base=0.2)\n",
    "    ax.yaxis.set_major_locator(loc)\n",
    "    plt.plot(points)"
   ]
  },
  {
   "cell_type": "code",
   "execution_count": 87,
   "metadata": {},
   "outputs": [],
   "source": [
    "def evaluate(encoder, decoder, sentence, max_length=MAX_LENGTH):\n",
    "    with torch.no_grad():\n",
    "        input_tensor = tensorFromSentence(lang, sentence)\n",
    "        input_length = input_tensor.size()[0]\n",
    "        encoder_hidden = encoder.initHidden()\n",
    "\n",
    "        encoder_outputs = torch.zeros(max_length, encoder.hidden_size, device=device)\n",
    "\n",
    "        for ei in range(input_length):\n",
    "            encoder_output, encoder_hidden = encoder(input_tensor[ei],\n",
    "                                                     encoder_hidden)\n",
    "            encoder_outputs[ei] += encoder_output[0, 0]\n",
    "\n",
    "        decoder_input = torch.tensor([[SOS_token]], device=device)  # SOS\n",
    "\n",
    "        decoder_hidden = encoder_hidden\n",
    "\n",
    "        decoded_words = []\n",
    "        decoder_attentions = torch.zeros(max_length, max_length)\n",
    "\n",
    "        for di in range(max_length):\n",
    "            decoder_output, decoder_hidden, decoder_attention = decoder(\n",
    "                decoder_input, decoder_hidden, encoder_outputs)\n",
    "            decoder_attentions[di] = decoder_attention.data\n",
    "            topv, topi = decoder_output.data.topk(1)\n",
    "            if topi.item() == EOS_token:\n",
    "                decoded_words.append('<EOS>')\n",
    "                break\n",
    "            else:\n",
    "                decoded_words.append(lang.index2word[topi.item()])\n",
    "\n",
    "            decoder_input = topi.squeeze().detach()\n",
    "\n",
    "        return decoded_words, decoder_attentions[:di + 1]"
   ]
  },
  {
   "cell_type": "code",
   "execution_count": 88,
   "metadata": {},
   "outputs": [],
   "source": [
    "def evaluateRandomly(encoder, decoder, n=10):\n",
    "    for i in range(n):\n",
    "        pair = random.choice(pairs)\n",
    "        print('>', pair[0])\n",
    "        p1 = pair[1].split(\" \")\n",
    "        if reverse_flag:\n",
    "            p1 = reseverd(p1)\n",
    "        print('=', \" \".join(p1))\n",
    "        output_words, attentions = evaluate(encoder, decoder, pair[0])\n",
    "        if reverse_flag:\n",
    "            output_words = reseverd(output_words)\n",
    "        output_sentence = ' '.join(output_words)\n",
    "        print('<', output_sentence)\n",
    "        print('')"
   ]
  },
  {
   "cell_type": "code",
   "execution_count": 89,
   "metadata": {},
   "outputs": [
    {
     "output_type": "stream",
     "name": "stdout",
     "text": "the size of data is: 128\n0m 28s (- 23m 14s) (200 2%) 4.1077\n0m 51s (- 20m 32s) (400 4%) 3.7411\n1m 12s (- 18m 59s) (600 6%) 3.6332\n1m 34s (- 18m 5s) (800 8%) 3.8403\n2m 12s (- 19m 55s) (1000 10%) 3.6584\n2m 40s (- 19m 34s) (1200 12%) 3.5161\n3m 6s (- 19m 5s) (1400 14%) 3.1494\n3m 33s (- 18m 39s) (1600 16%) 3.4000\n4m 0s (- 18m 17s) (1800 18%) 3.1351\n4m 28s (- 17m 54s) (2000 20%) 3.0773\n4m 56s (- 17m 29s) (2200 22%) 2.6707\n5m 21s (- 16m 58s) (2400 24%) 2.5154\n5m 51s (- 16m 41s) (2600 26%) 2.5193\n6m 25s (- 16m 31s) (2800 28%) 2.3908\n6m 52s (- 16m 2s) (3000 30%) 2.1269\n7m 25s (- 15m 46s) (3200 32%) 1.8447\n7m 54s (- 15m 21s) (3400 34%) 1.5731\n8m 24s (- 14m 56s) (3600 36%) 1.3443\n8m 54s (- 14m 31s) (3800 38%) 1.0137\n9m 29s (- 14m 14s) (4000 40%) 1.0968\n9m 58s (- 13m 46s) (4200 42%) 0.9464\n10m 28s (- 13m 19s) (4400 44%) 0.6162\n10m 59s (- 12m 53s) (4600 46%) 0.5781\n11m 30s (- 12m 27s) (4800 48%) 0.3631\n12m 1s (- 12m 1s) (5000 50%) 0.4793\n12m 32s (- 11m 34s) (5200 52%) 0.3578\n13m 5s (- 11m 9s) (5400 54%) 0.2477\n13m 36s (- 10m 41s) (5600 56%) 0.1427\n14m 9s (- 10m 15s) (5800 57%) 0.1792\n14m 42s (- 9m 48s) (6000 60%) 0.2058\n15m 17s (- 9m 22s) (6200 62%) 0.0891\n15m 48s (- 8m 53s) (6400 64%) 0.1683\n16m 22s (- 8m 25s) (6600 66%) 0.1075\n16m 53s (- 7m 57s) (6800 68%) 0.0895\n17m 27s (- 7m 28s) (7000 70%) 0.1260\n18m 1s (- 7m 0s) (7200 72%) 0.1084\n18m 35s (- 6m 31s) (7400 74%) 0.1067\n19m 8s (- 6m 2s) (7600 76%) 0.0506\n19m 39s (- 5m 32s) (7800 78%) 0.0785\n20m 12s (- 5m 3s) (8000 80%) 0.1024\n20m 44s (- 4m 33s) (8200 82%) 0.0737\n21m 15s (- 4m 2s) (8400 84%) 0.0993\n21m 47s (- 3m 32s) (8600 86%) 0.1121\n22m 20s (- 3m 2s) (8800 88%) 0.1346\n22m 53s (- 2m 32s) (9000 90%) 0.0345\n23m 25s (- 2m 2s) (9200 92%) 0.0548\n23m 57s (- 1m 31s) (9400 94%) 0.0726\n24m 29s (- 1m 1s) (9600 96%) 0.0909\n25m 14s (- 0m 30s) (9800 98%) 0.0369\n25m 46s (- 0m 0s) (10000 100%) 0.0466\n"
    },
    {
     "output_type": "display_data",
     "data": {
      "text/plain": "<Figure size 432x288 with 0 Axes>"
     },
     "metadata": {}
    },
    {
     "output_type": "display_data",
     "data": {
      "text/plain": "<Figure size 432x288 with 1 Axes>",
      "image/svg+xml": "<?xml version=\"1.0\" encoding=\"utf-8\" standalone=\"no\"?>\n<!DOCTYPE svg PUBLIC \"-//W3C//DTD SVG 1.1//EN\"\n  \"http://www.w3.org/Graphics/SVG/1.1/DTD/svg11.dtd\">\n<!-- Created with matplotlib (https://matplotlib.org/) -->\n<svg height=\"248.518125pt\" version=\"1.1\" viewBox=\"0 0 380.482812 248.518125\" width=\"380.482812pt\" xmlns=\"http://www.w3.org/2000/svg\" xmlns:xlink=\"http://www.w3.org/1999/xlink\">\n <defs>\n  <style type=\"text/css\">\n*{stroke-linecap:butt;stroke-linejoin:round;}\n  </style>\n </defs>\n <g id=\"figure_1\">\n  <g id=\"patch_1\">\n   <path d=\"M -0 248.518125 \nL 380.482812 248.518125 \nL 380.482812 0 \nL -0 0 \nz\n\" style=\"fill:none;\"/>\n  </g>\n  <g id=\"axes_1\">\n   <g id=\"patch_2\">\n    <path d=\"M 38.482813 224.64 \nL 373.282813 224.64 \nL 373.282813 7.2 \nL 38.482813 7.2 \nz\n\" style=\"fill:#ffffff;\"/>\n   </g>\n   <g id=\"matplotlib.axis_1\">\n    <g id=\"xtick_1\">\n     <g id=\"line2d_1\">\n      <defs>\n       <path d=\"M 0 0 \nL 0 3.5 \n\" id=\"mc99d5a62bb\" style=\"stroke:#000000;stroke-width:0.8;\"/>\n      </defs>\n      <g>\n       <use style=\"stroke:#000000;stroke-width:0.8;\" x=\"53.700994\" xlink:href=\"#mc99d5a62bb\" y=\"224.64\"/>\n      </g>\n     </g>\n     <g id=\"text_1\">\n      <!-- 0 -->\n      <defs>\n       <path d=\"M 31.78125 66.40625 \nQ 24.171875 66.40625 20.328125 58.90625 \nQ 16.5 51.421875 16.5 36.375 \nQ 16.5 21.390625 20.328125 13.890625 \nQ 24.171875 6.390625 31.78125 6.390625 \nQ 39.453125 6.390625 43.28125 13.890625 \nQ 47.125 21.390625 47.125 36.375 \nQ 47.125 51.421875 43.28125 58.90625 \nQ 39.453125 66.40625 31.78125 66.40625 \nz\nM 31.78125 74.21875 \nQ 44.046875 74.21875 50.515625 64.515625 \nQ 56.984375 54.828125 56.984375 36.375 \nQ 56.984375 17.96875 50.515625 8.265625 \nQ 44.046875 -1.421875 31.78125 -1.421875 \nQ 19.53125 -1.421875 13.0625 8.265625 \nQ 6.59375 17.96875 6.59375 36.375 \nQ 6.59375 54.828125 13.0625 64.515625 \nQ 19.53125 74.21875 31.78125 74.21875 \nz\n\" id=\"DejaVuSans-48\"/>\n      </defs>\n      <g transform=\"translate(50.519744 239.238437)scale(0.1 -0.1)\">\n       <use xlink:href=\"#DejaVuSans-48\"/>\n      </g>\n     </g>\n    </g>\n    <g id=\"xtick_2\">\n     <g id=\"line2d_2\">\n      <g>\n       <use style=\"stroke:#000000;stroke-width:0.8;\" x=\"115.188598\" xlink:href=\"#mc99d5a62bb\" y=\"224.64\"/>\n      </g>\n     </g>\n     <g id=\"text_2\">\n      <!-- 20 -->\n      <defs>\n       <path d=\"M 19.1875 8.296875 \nL 53.609375 8.296875 \nL 53.609375 0 \nL 7.328125 0 \nL 7.328125 8.296875 \nQ 12.9375 14.109375 22.625 23.890625 \nQ 32.328125 33.6875 34.8125 36.53125 \nQ 39.546875 41.84375 41.421875 45.53125 \nQ 43.3125 49.21875 43.3125 52.78125 \nQ 43.3125 58.59375 39.234375 62.25 \nQ 35.15625 65.921875 28.609375 65.921875 \nQ 23.96875 65.921875 18.8125 64.3125 \nQ 13.671875 62.703125 7.8125 59.421875 \nL 7.8125 69.390625 \nQ 13.765625 71.78125 18.9375 73 \nQ 24.125 74.21875 28.421875 74.21875 \nQ 39.75 74.21875 46.484375 68.546875 \nQ 53.21875 62.890625 53.21875 53.421875 \nQ 53.21875 48.921875 51.53125 44.890625 \nQ 49.859375 40.875 45.40625 35.40625 \nQ 44.1875 33.984375 37.640625 27.21875 \nQ 31.109375 20.453125 19.1875 8.296875 \nz\n\" id=\"DejaVuSans-50\"/>\n      </defs>\n      <g transform=\"translate(108.826098 239.238437)scale(0.1 -0.1)\">\n       <use xlink:href=\"#DejaVuSans-50\"/>\n       <use x=\"63.623047\" xlink:href=\"#DejaVuSans-48\"/>\n      </g>\n     </g>\n    </g>\n    <g id=\"xtick_3\">\n     <g id=\"line2d_3\">\n      <g>\n       <use style=\"stroke:#000000;stroke-width:0.8;\" x=\"176.676201\" xlink:href=\"#mc99d5a62bb\" y=\"224.64\"/>\n      </g>\n     </g>\n     <g id=\"text_3\">\n      <!-- 40 -->\n      <defs>\n       <path d=\"M 37.796875 64.3125 \nL 12.890625 25.390625 \nL 37.796875 25.390625 \nz\nM 35.203125 72.90625 \nL 47.609375 72.90625 \nL 47.609375 25.390625 \nL 58.015625 25.390625 \nL 58.015625 17.1875 \nL 47.609375 17.1875 \nL 47.609375 0 \nL 37.796875 0 \nL 37.796875 17.1875 \nL 4.890625 17.1875 \nL 4.890625 26.703125 \nz\n\" id=\"DejaVuSans-52\"/>\n      </defs>\n      <g transform=\"translate(170.313701 239.238437)scale(0.1 -0.1)\">\n       <use xlink:href=\"#DejaVuSans-52\"/>\n       <use x=\"63.623047\" xlink:href=\"#DejaVuSans-48\"/>\n      </g>\n     </g>\n    </g>\n    <g id=\"xtick_4\">\n     <g id=\"line2d_4\">\n      <g>\n       <use style=\"stroke:#000000;stroke-width:0.8;\" x=\"238.163804\" xlink:href=\"#mc99d5a62bb\" y=\"224.64\"/>\n      </g>\n     </g>\n     <g id=\"text_4\">\n      <!-- 60 -->\n      <defs>\n       <path d=\"M 33.015625 40.375 \nQ 26.375 40.375 22.484375 35.828125 \nQ 18.609375 31.296875 18.609375 23.390625 \nQ 18.609375 15.53125 22.484375 10.953125 \nQ 26.375 6.390625 33.015625 6.390625 \nQ 39.65625 6.390625 43.53125 10.953125 \nQ 47.40625 15.53125 47.40625 23.390625 \nQ 47.40625 31.296875 43.53125 35.828125 \nQ 39.65625 40.375 33.015625 40.375 \nz\nM 52.59375 71.296875 \nL 52.59375 62.3125 \nQ 48.875 64.0625 45.09375 64.984375 \nQ 41.3125 65.921875 37.59375 65.921875 \nQ 27.828125 65.921875 22.671875 59.328125 \nQ 17.53125 52.734375 16.796875 39.40625 \nQ 19.671875 43.65625 24.015625 45.921875 \nQ 28.375 48.1875 33.59375 48.1875 \nQ 44.578125 48.1875 50.953125 41.515625 \nQ 57.328125 34.859375 57.328125 23.390625 \nQ 57.328125 12.15625 50.6875 5.359375 \nQ 44.046875 -1.421875 33.015625 -1.421875 \nQ 20.359375 -1.421875 13.671875 8.265625 \nQ 6.984375 17.96875 6.984375 36.375 \nQ 6.984375 53.65625 15.1875 63.9375 \nQ 23.390625 74.21875 37.203125 74.21875 \nQ 40.921875 74.21875 44.703125 73.484375 \nQ 48.484375 72.75 52.59375 71.296875 \nz\n\" id=\"DejaVuSans-54\"/>\n      </defs>\n      <g transform=\"translate(231.801304 239.238437)scale(0.1 -0.1)\">\n       <use xlink:href=\"#DejaVuSans-54\"/>\n       <use x=\"63.623047\" xlink:href=\"#DejaVuSans-48\"/>\n      </g>\n     </g>\n    </g>\n    <g id=\"xtick_5\">\n     <g id=\"line2d_5\">\n      <g>\n       <use style=\"stroke:#000000;stroke-width:0.8;\" x=\"299.651408\" xlink:href=\"#mc99d5a62bb\" y=\"224.64\"/>\n      </g>\n     </g>\n     <g id=\"text_5\">\n      <!-- 80 -->\n      <defs>\n       <path d=\"M 31.78125 34.625 \nQ 24.75 34.625 20.71875 30.859375 \nQ 16.703125 27.09375 16.703125 20.515625 \nQ 16.703125 13.921875 20.71875 10.15625 \nQ 24.75 6.390625 31.78125 6.390625 \nQ 38.8125 6.390625 42.859375 10.171875 \nQ 46.921875 13.96875 46.921875 20.515625 \nQ 46.921875 27.09375 42.890625 30.859375 \nQ 38.875 34.625 31.78125 34.625 \nz\nM 21.921875 38.8125 \nQ 15.578125 40.375 12.03125 44.71875 \nQ 8.5 49.078125 8.5 55.328125 \nQ 8.5 64.0625 14.71875 69.140625 \nQ 20.953125 74.21875 31.78125 74.21875 \nQ 42.671875 74.21875 48.875 69.140625 \nQ 55.078125 64.0625 55.078125 55.328125 \nQ 55.078125 49.078125 51.53125 44.71875 \nQ 48 40.375 41.703125 38.8125 \nQ 48.828125 37.15625 52.796875 32.3125 \nQ 56.78125 27.484375 56.78125 20.515625 \nQ 56.78125 9.90625 50.3125 4.234375 \nQ 43.84375 -1.421875 31.78125 -1.421875 \nQ 19.734375 -1.421875 13.25 4.234375 \nQ 6.78125 9.90625 6.78125 20.515625 \nQ 6.78125 27.484375 10.78125 32.3125 \nQ 14.796875 37.15625 21.921875 38.8125 \nz\nM 18.3125 54.390625 \nQ 18.3125 48.734375 21.84375 45.5625 \nQ 25.390625 42.390625 31.78125 42.390625 \nQ 38.140625 42.390625 41.71875 45.5625 \nQ 45.3125 48.734375 45.3125 54.390625 \nQ 45.3125 60.0625 41.71875 63.234375 \nQ 38.140625 66.40625 31.78125 66.40625 \nQ 25.390625 66.40625 21.84375 63.234375 \nQ 18.3125 60.0625 18.3125 54.390625 \nz\n\" id=\"DejaVuSans-56\"/>\n      </defs>\n      <g transform=\"translate(293.288908 239.238437)scale(0.1 -0.1)\">\n       <use xlink:href=\"#DejaVuSans-56\"/>\n       <use x=\"63.623047\" xlink:href=\"#DejaVuSans-48\"/>\n      </g>\n     </g>\n    </g>\n    <g id=\"xtick_6\">\n     <g id=\"line2d_6\">\n      <g>\n       <use style=\"stroke:#000000;stroke-width:0.8;\" x=\"361.139011\" xlink:href=\"#mc99d5a62bb\" y=\"224.64\"/>\n      </g>\n     </g>\n     <g id=\"text_6\">\n      <!-- 100 -->\n      <defs>\n       <path d=\"M 12.40625 8.296875 \nL 28.515625 8.296875 \nL 28.515625 63.921875 \nL 10.984375 60.40625 \nL 10.984375 69.390625 \nL 28.421875 72.90625 \nL 38.28125 72.90625 \nL 38.28125 8.296875 \nL 54.390625 8.296875 \nL 54.390625 0 \nL 12.40625 0 \nz\n\" id=\"DejaVuSans-49\"/>\n      </defs>\n      <g transform=\"translate(351.595261 239.238437)scale(0.1 -0.1)\">\n       <use xlink:href=\"#DejaVuSans-49\"/>\n       <use x=\"63.623047\" xlink:href=\"#DejaVuSans-48\"/>\n       <use x=\"127.246094\" xlink:href=\"#DejaVuSans-48\"/>\n      </g>\n     </g>\n    </g>\n   </g>\n   <g id=\"matplotlib.axis_2\">\n    <g id=\"ytick_1\">\n     <g id=\"line2d_7\">\n      <defs>\n       <path d=\"M 0 0 \nL -3.5 0 \n\" id=\"m82bd91796a\" style=\"stroke:#000000;stroke-width:0.8;\"/>\n      </defs>\n      <g>\n       <use style=\"stroke:#000000;stroke-width:0.8;\" x=\"38.482813\" xlink:href=\"#m82bd91796a\" y=\"224.395485\"/>\n      </g>\n     </g>\n     <g id=\"text_7\">\n      <!-- −0.2 -->\n      <defs>\n       <path d=\"M 10.59375 35.5 \nL 73.1875 35.5 \nL 73.1875 27.203125 \nL 10.59375 27.203125 \nz\n\" id=\"DejaVuSans-8722\"/>\n       <path d=\"M 10.6875 12.40625 \nL 21 12.40625 \nL 21 0 \nL 10.6875 0 \nz\n\" id=\"DejaVuSans-46\"/>\n      </defs>\n      <g transform=\"translate(7.2 228.194703)scale(0.1 -0.1)\">\n       <use xlink:href=\"#DejaVuSans-8722\"/>\n       <use x=\"83.789062\" xlink:href=\"#DejaVuSans-48\"/>\n       <use x=\"147.412109\" xlink:href=\"#DejaVuSans-46\"/>\n       <use x=\"179.199219\" xlink:href=\"#DejaVuSans-50\"/>\n      </g>\n     </g>\n    </g>\n    <g id=\"ytick_2\">\n     <g id=\"line2d_8\">\n      <g>\n       <use style=\"stroke:#000000;stroke-width:0.8;\" x=\"38.482813\" xlink:href=\"#m82bd91796a\" y=\"215.56357\"/>\n      </g>\n     </g>\n     <g id=\"text_8\">\n      <!-- 0.0 -->\n      <g transform=\"translate(15.579688 219.362789)scale(0.1 -0.1)\">\n       <use xlink:href=\"#DejaVuSans-48\"/>\n       <use x=\"63.623047\" xlink:href=\"#DejaVuSans-46\"/>\n       <use x=\"95.410156\" xlink:href=\"#DejaVuSans-48\"/>\n      </g>\n     </g>\n    </g>\n    <g id=\"ytick_3\">\n     <g id=\"line2d_9\">\n      <g>\n       <use style=\"stroke:#000000;stroke-width:0.8;\" x=\"38.482813\" xlink:href=\"#m82bd91796a\" y=\"206.731655\"/>\n      </g>\n     </g>\n     <g id=\"text_9\">\n      <!-- 0.2 -->\n      <g transform=\"translate(15.579688 210.530874)scale(0.1 -0.1)\">\n       <use xlink:href=\"#DejaVuSans-48\"/>\n       <use x=\"63.623047\" xlink:href=\"#DejaVuSans-46\"/>\n       <use x=\"95.410156\" xlink:href=\"#DejaVuSans-50\"/>\n      </g>\n     </g>\n    </g>\n    <g id=\"ytick_4\">\n     <g id=\"line2d_10\">\n      <g>\n       <use style=\"stroke:#000000;stroke-width:0.8;\" x=\"38.482813\" xlink:href=\"#m82bd91796a\" y=\"197.899741\"/>\n      </g>\n     </g>\n     <g id=\"text_10\">\n      <!-- 0.4 -->\n      <g transform=\"translate(15.579688 201.698959)scale(0.1 -0.1)\">\n       <use xlink:href=\"#DejaVuSans-48\"/>\n       <use x=\"63.623047\" xlink:href=\"#DejaVuSans-46\"/>\n       <use x=\"95.410156\" xlink:href=\"#DejaVuSans-52\"/>\n      </g>\n     </g>\n    </g>\n    <g id=\"ytick_5\">\n     <g id=\"line2d_11\">\n      <g>\n       <use style=\"stroke:#000000;stroke-width:0.8;\" x=\"38.482813\" xlink:href=\"#m82bd91796a\" y=\"189.067826\"/>\n      </g>\n     </g>\n     <g id=\"text_11\">\n      <!-- 0.6 -->\n      <g transform=\"translate(15.579688 192.867045)scale(0.1 -0.1)\">\n       <use xlink:href=\"#DejaVuSans-48\"/>\n       <use x=\"63.623047\" xlink:href=\"#DejaVuSans-46\"/>\n       <use x=\"95.410156\" xlink:href=\"#DejaVuSans-54\"/>\n      </g>\n     </g>\n    </g>\n    <g id=\"ytick_6\">\n     <g id=\"line2d_12\">\n      <g>\n       <use style=\"stroke:#000000;stroke-width:0.8;\" x=\"38.482813\" xlink:href=\"#m82bd91796a\" y=\"180.235911\"/>\n      </g>\n     </g>\n     <g id=\"text_12\">\n      <!-- 0.8 -->\n      <g transform=\"translate(15.579688 184.03513)scale(0.1 -0.1)\">\n       <use xlink:href=\"#DejaVuSans-48\"/>\n       <use x=\"63.623047\" xlink:href=\"#DejaVuSans-46\"/>\n       <use x=\"95.410156\" xlink:href=\"#DejaVuSans-56\"/>\n      </g>\n     </g>\n    </g>\n    <g id=\"ytick_7\">\n     <g id=\"line2d_13\">\n      <g>\n       <use style=\"stroke:#000000;stroke-width:0.8;\" x=\"38.482813\" xlink:href=\"#m82bd91796a\" y=\"171.403997\"/>\n      </g>\n     </g>\n     <g id=\"text_13\">\n      <!-- 1.0 -->\n      <g transform=\"translate(15.579688 175.203215)scale(0.1 -0.1)\">\n       <use xlink:href=\"#DejaVuSans-49\"/>\n       <use x=\"63.623047\" xlink:href=\"#DejaVuSans-46\"/>\n       <use x=\"95.410156\" xlink:href=\"#DejaVuSans-48\"/>\n      </g>\n     </g>\n    </g>\n    <g id=\"ytick_8\">\n     <g id=\"line2d_14\">\n      <g>\n       <use style=\"stroke:#000000;stroke-width:0.8;\" x=\"38.482813\" xlink:href=\"#m82bd91796a\" y=\"162.572082\"/>\n      </g>\n     </g>\n     <g id=\"text_14\">\n      <!-- 1.2 -->\n      <g transform=\"translate(15.579688 166.371301)scale(0.1 -0.1)\">\n       <use xlink:href=\"#DejaVuSans-49\"/>\n       <use x=\"63.623047\" xlink:href=\"#DejaVuSans-46\"/>\n       <use x=\"95.410156\" xlink:href=\"#DejaVuSans-50\"/>\n      </g>\n     </g>\n    </g>\n    <g id=\"ytick_9\">\n     <g id=\"line2d_15\">\n      <g>\n       <use style=\"stroke:#000000;stroke-width:0.8;\" x=\"38.482813\" xlink:href=\"#m82bd91796a\" y=\"153.740167\"/>\n      </g>\n     </g>\n     <g id=\"text_15\">\n      <!-- 1.4 -->\n      <g transform=\"translate(15.579688 157.539386)scale(0.1 -0.1)\">\n       <use xlink:href=\"#DejaVuSans-49\"/>\n       <use x=\"63.623047\" xlink:href=\"#DejaVuSans-46\"/>\n       <use x=\"95.410156\" xlink:href=\"#DejaVuSans-52\"/>\n      </g>\n     </g>\n    </g>\n    <g id=\"ytick_10\">\n     <g id=\"line2d_16\">\n      <g>\n       <use style=\"stroke:#000000;stroke-width:0.8;\" x=\"38.482813\" xlink:href=\"#m82bd91796a\" y=\"144.908253\"/>\n      </g>\n     </g>\n     <g id=\"text_16\">\n      <!-- 1.6 -->\n      <g transform=\"translate(15.579688 148.707471)scale(0.1 -0.1)\">\n       <use xlink:href=\"#DejaVuSans-49\"/>\n       <use x=\"63.623047\" xlink:href=\"#DejaVuSans-46\"/>\n       <use x=\"95.410156\" xlink:href=\"#DejaVuSans-54\"/>\n      </g>\n     </g>\n    </g>\n    <g id=\"ytick_11\">\n     <g id=\"line2d_17\">\n      <g>\n       <use style=\"stroke:#000000;stroke-width:0.8;\" x=\"38.482813\" xlink:href=\"#m82bd91796a\" y=\"136.076338\"/>\n      </g>\n     </g>\n     <g id=\"text_17\">\n      <!-- 1.8 -->\n      <g transform=\"translate(15.579688 139.875557)scale(0.1 -0.1)\">\n       <use xlink:href=\"#DejaVuSans-49\"/>\n       <use x=\"63.623047\" xlink:href=\"#DejaVuSans-46\"/>\n       <use x=\"95.410156\" xlink:href=\"#DejaVuSans-56\"/>\n      </g>\n     </g>\n    </g>\n    <g id=\"ytick_12\">\n     <g id=\"line2d_18\">\n      <g>\n       <use style=\"stroke:#000000;stroke-width:0.8;\" x=\"38.482813\" xlink:href=\"#m82bd91796a\" y=\"127.244423\"/>\n      </g>\n     </g>\n     <g id=\"text_18\">\n      <!-- 2.0 -->\n      <g transform=\"translate(15.579688 131.043642)scale(0.1 -0.1)\">\n       <use xlink:href=\"#DejaVuSans-50\"/>\n       <use x=\"63.623047\" xlink:href=\"#DejaVuSans-46\"/>\n       <use x=\"95.410156\" xlink:href=\"#DejaVuSans-48\"/>\n      </g>\n     </g>\n    </g>\n    <g id=\"ytick_13\">\n     <g id=\"line2d_19\">\n      <g>\n       <use style=\"stroke:#000000;stroke-width:0.8;\" x=\"38.482813\" xlink:href=\"#m82bd91796a\" y=\"118.412509\"/>\n      </g>\n     </g>\n     <g id=\"text_19\">\n      <!-- 2.2 -->\n      <g transform=\"translate(15.579688 122.211727)scale(0.1 -0.1)\">\n       <use xlink:href=\"#DejaVuSans-50\"/>\n       <use x=\"63.623047\" xlink:href=\"#DejaVuSans-46\"/>\n       <use x=\"95.410156\" xlink:href=\"#DejaVuSans-50\"/>\n      </g>\n     </g>\n    </g>\n    <g id=\"ytick_14\">\n     <g id=\"line2d_20\">\n      <g>\n       <use style=\"stroke:#000000;stroke-width:0.8;\" x=\"38.482813\" xlink:href=\"#m82bd91796a\" y=\"109.580594\"/>\n      </g>\n     </g>\n     <g id=\"text_20\">\n      <!-- 2.4 -->\n      <g transform=\"translate(15.579688 113.379813)scale(0.1 -0.1)\">\n       <use xlink:href=\"#DejaVuSans-50\"/>\n       <use x=\"63.623047\" xlink:href=\"#DejaVuSans-46\"/>\n       <use x=\"95.410156\" xlink:href=\"#DejaVuSans-52\"/>\n      </g>\n     </g>\n    </g>\n    <g id=\"ytick_15\">\n     <g id=\"line2d_21\">\n      <g>\n       <use style=\"stroke:#000000;stroke-width:0.8;\" x=\"38.482813\" xlink:href=\"#m82bd91796a\" y=\"100.748679\"/>\n      </g>\n     </g>\n     <g id=\"text_21\">\n      <!-- 2.6 -->\n      <g transform=\"translate(15.579688 104.547898)scale(0.1 -0.1)\">\n       <use xlink:href=\"#DejaVuSans-50\"/>\n       <use x=\"63.623047\" xlink:href=\"#DejaVuSans-46\"/>\n       <use x=\"95.410156\" xlink:href=\"#DejaVuSans-54\"/>\n      </g>\n     </g>\n    </g>\n    <g id=\"ytick_16\">\n     <g id=\"line2d_22\">\n      <g>\n       <use style=\"stroke:#000000;stroke-width:0.8;\" x=\"38.482813\" xlink:href=\"#m82bd91796a\" y=\"91.916765\"/>\n      </g>\n     </g>\n     <g id=\"text_22\">\n      <!-- 2.8 -->\n      <g transform=\"translate(15.579688 95.715983)scale(0.1 -0.1)\">\n       <use xlink:href=\"#DejaVuSans-50\"/>\n       <use x=\"63.623047\" xlink:href=\"#DejaVuSans-46\"/>\n       <use x=\"95.410156\" xlink:href=\"#DejaVuSans-56\"/>\n      </g>\n     </g>\n    </g>\n    <g id=\"ytick_17\">\n     <g id=\"line2d_23\">\n      <g>\n       <use style=\"stroke:#000000;stroke-width:0.8;\" x=\"38.482813\" xlink:href=\"#m82bd91796a\" y=\"83.08485\"/>\n      </g>\n     </g>\n     <g id=\"text_23\">\n      <!-- 3.0 -->\n      <defs>\n       <path d=\"M 40.578125 39.3125 \nQ 47.65625 37.796875 51.625 33 \nQ 55.609375 28.21875 55.609375 21.1875 \nQ 55.609375 10.40625 48.1875 4.484375 \nQ 40.765625 -1.421875 27.09375 -1.421875 \nQ 22.515625 -1.421875 17.65625 -0.515625 \nQ 12.796875 0.390625 7.625 2.203125 \nL 7.625 11.71875 \nQ 11.71875 9.328125 16.59375 8.109375 \nQ 21.484375 6.890625 26.8125 6.890625 \nQ 36.078125 6.890625 40.9375 10.546875 \nQ 45.796875 14.203125 45.796875 21.1875 \nQ 45.796875 27.640625 41.28125 31.265625 \nQ 36.765625 34.90625 28.71875 34.90625 \nL 20.21875 34.90625 \nL 20.21875 43.015625 \nL 29.109375 43.015625 \nQ 36.375 43.015625 40.234375 45.921875 \nQ 44.09375 48.828125 44.09375 54.296875 \nQ 44.09375 59.90625 40.109375 62.90625 \nQ 36.140625 65.921875 28.71875 65.921875 \nQ 24.65625 65.921875 20.015625 65.03125 \nQ 15.375 64.15625 9.8125 62.3125 \nL 9.8125 71.09375 \nQ 15.4375 72.65625 20.34375 73.4375 \nQ 25.25 74.21875 29.59375 74.21875 \nQ 40.828125 74.21875 47.359375 69.109375 \nQ 53.90625 64.015625 53.90625 55.328125 \nQ 53.90625 49.265625 50.4375 45.09375 \nQ 46.96875 40.921875 40.578125 39.3125 \nz\n\" id=\"DejaVuSans-51\"/>\n      </defs>\n      <g transform=\"translate(15.579688 86.884069)scale(0.1 -0.1)\">\n       <use xlink:href=\"#DejaVuSans-51\"/>\n       <use x=\"63.623047\" xlink:href=\"#DejaVuSans-46\"/>\n       <use x=\"95.410156\" xlink:href=\"#DejaVuSans-48\"/>\n      </g>\n     </g>\n    </g>\n    <g id=\"ytick_18\">\n     <g id=\"line2d_24\">\n      <g>\n       <use style=\"stroke:#000000;stroke-width:0.8;\" x=\"38.482813\" xlink:href=\"#m82bd91796a\" y=\"74.252935\"/>\n      </g>\n     </g>\n     <g id=\"text_24\">\n      <!-- 3.2 -->\n      <g transform=\"translate(15.579688 78.052154)scale(0.1 -0.1)\">\n       <use xlink:href=\"#DejaVuSans-51\"/>\n       <use x=\"63.623047\" xlink:href=\"#DejaVuSans-46\"/>\n       <use x=\"95.410156\" xlink:href=\"#DejaVuSans-50\"/>\n      </g>\n     </g>\n    </g>\n    <g id=\"ytick_19\">\n     <g id=\"line2d_25\">\n      <g>\n       <use style=\"stroke:#000000;stroke-width:0.8;\" x=\"38.482813\" xlink:href=\"#m82bd91796a\" y=\"65.421021\"/>\n      </g>\n     </g>\n     <g id=\"text_25\">\n      <!-- 3.4 -->\n      <g transform=\"translate(15.579688 69.220239)scale(0.1 -0.1)\">\n       <use xlink:href=\"#DejaVuSans-51\"/>\n       <use x=\"63.623047\" xlink:href=\"#DejaVuSans-46\"/>\n       <use x=\"95.410156\" xlink:href=\"#DejaVuSans-52\"/>\n      </g>\n     </g>\n    </g>\n    <g id=\"ytick_20\">\n     <g id=\"line2d_26\">\n      <g>\n       <use style=\"stroke:#000000;stroke-width:0.8;\" x=\"38.482813\" xlink:href=\"#m82bd91796a\" y=\"56.589106\"/>\n      </g>\n     </g>\n     <g id=\"text_26\">\n      <!-- 3.6 -->\n      <g transform=\"translate(15.579688 60.388325)scale(0.1 -0.1)\">\n       <use xlink:href=\"#DejaVuSans-51\"/>\n       <use x=\"63.623047\" xlink:href=\"#DejaVuSans-46\"/>\n       <use x=\"95.410156\" xlink:href=\"#DejaVuSans-54\"/>\n      </g>\n     </g>\n    </g>\n    <g id=\"ytick_21\">\n     <g id=\"line2d_27\">\n      <g>\n       <use style=\"stroke:#000000;stroke-width:0.8;\" x=\"38.482813\" xlink:href=\"#m82bd91796a\" y=\"47.757191\"/>\n      </g>\n     </g>\n     <g id=\"text_27\">\n      <!-- 3.8 -->\n      <g transform=\"translate(15.579688 51.55641)scale(0.1 -0.1)\">\n       <use xlink:href=\"#DejaVuSans-51\"/>\n       <use x=\"63.623047\" xlink:href=\"#DejaVuSans-46\"/>\n       <use x=\"95.410156\" xlink:href=\"#DejaVuSans-56\"/>\n      </g>\n     </g>\n    </g>\n    <g id=\"ytick_22\">\n     <g id=\"line2d_28\">\n      <g>\n       <use style=\"stroke:#000000;stroke-width:0.8;\" x=\"38.482813\" xlink:href=\"#m82bd91796a\" y=\"38.925277\"/>\n      </g>\n     </g>\n     <g id=\"text_28\">\n      <!-- 4.0 -->\n      <g transform=\"translate(15.579688 42.724495)scale(0.1 -0.1)\">\n       <use xlink:href=\"#DejaVuSans-52\"/>\n       <use x=\"63.623047\" xlink:href=\"#DejaVuSans-46\"/>\n       <use x=\"95.410156\" xlink:href=\"#DejaVuSans-48\"/>\n      </g>\n     </g>\n    </g>\n    <g id=\"ytick_23\">\n     <g id=\"line2d_29\">\n      <g>\n       <use style=\"stroke:#000000;stroke-width:0.8;\" x=\"38.482813\" xlink:href=\"#m82bd91796a\" y=\"30.093362\"/>\n      </g>\n     </g>\n     <g id=\"text_29\">\n      <!-- 4.2 -->\n      <g transform=\"translate(15.579688 33.892581)scale(0.1 -0.1)\">\n       <use xlink:href=\"#DejaVuSans-52\"/>\n       <use x=\"63.623047\" xlink:href=\"#DejaVuSans-46\"/>\n       <use x=\"95.410156\" xlink:href=\"#DejaVuSans-50\"/>\n      </g>\n     </g>\n    </g>\n    <g id=\"ytick_24\">\n     <g id=\"line2d_30\">\n      <g>\n       <use style=\"stroke:#000000;stroke-width:0.8;\" x=\"38.482813\" xlink:href=\"#m82bd91796a\" y=\"21.261447\"/>\n      </g>\n     </g>\n     <g id=\"text_30\">\n      <!-- 4.4 -->\n      <g transform=\"translate(15.579688 25.060666)scale(0.1 -0.1)\">\n       <use xlink:href=\"#DejaVuSans-52\"/>\n       <use x=\"63.623047\" xlink:href=\"#DejaVuSans-46\"/>\n       <use x=\"95.410156\" xlink:href=\"#DejaVuSans-52\"/>\n      </g>\n     </g>\n    </g>\n    <g id=\"ytick_25\">\n     <g id=\"line2d_31\">\n      <g>\n       <use style=\"stroke:#000000;stroke-width:0.8;\" x=\"38.482813\" xlink:href=\"#m82bd91796a\" y=\"12.429532\"/>\n      </g>\n     </g>\n     <g id=\"text_31\">\n      <!-- 4.6 -->\n      <g transform=\"translate(15.579688 16.228751)scale(0.1 -0.1)\">\n       <use xlink:href=\"#DejaVuSans-52\"/>\n       <use x=\"63.623047\" xlink:href=\"#DejaVuSans-46\"/>\n       <use x=\"95.410156\" xlink:href=\"#DejaVuSans-54\"/>\n      </g>\n     </g>\n    </g>\n   </g>\n   <g id=\"line2d_32\">\n    <path clip-path=\"url(#p49368f9469)\" d=\"M 53.700994 17.083636 \nL 56.775374 51.259188 \nL 59.849755 51.498439 \nL 62.924135 49.215453 \nL 65.998515 52.701854 \nL 69.072895 57.547839 \nL 72.147275 52.855821 \nL 75.221655 39.103689 \nL 78.296036 54.553835 \nL 81.370416 53.465092 \nL 84.444796 61.688078 \nL 87.519176 58.896114 \nL 90.593556 76.028589 \nL 93.667936 76.946806 \nL 96.742317 56.406702 \nL 99.816697 74.43522 \nL 102.891077 82.800108 \nL 105.965457 71.438405 \nL 109.039837 72.534386 \nL 112.114217 86.804035 \nL 115.188598 93.446248 \nL 118.262978 101.805134 \nL 121.337358 109.427484 \nL 124.411738 99.538548 \nL 127.486118 106.977387 \nL 130.560498 101.64803 \nL 133.634879 110.179288 \nL 136.709259 109.791707 \nL 139.783639 116.681228 \nL 142.858019 126.603642 \nL 145.932399 139.788427 \nL 149.006779 128.412715 \nL 152.08116 136.000381 \nL 155.15554 156.189243 \nL 158.22992 151.800469 \nL 161.3043 160.602143 \nL 164.37868 169.593566 \nL 167.45306 172.005468 \nL 170.527441 170.382956 \nL 173.601821 163.871907 \nL 176.676201 166.813206 \nL 179.750581 180.725113 \nL 182.824961 189.268048 \nL 185.899341 187.440502 \nL 188.973722 186.077523 \nL 192.048102 193.992518 \nL 195.122482 200.049327 \nL 198.196862 199.011896 \nL 201.271242 194.740366 \nL 204.345622 194.058154 \nL 207.420003 197.919152 \nL 210.494383 201.604709 \nL 213.568763 202.601051 \nL 216.643143 206.653466 \nL 219.717523 207.154606 \nL 222.791903 211.371448 \nL 225.866284 208.448453 \nL 228.940664 206.849631 \nL 232.015044 205.386659 \nL 235.089424 207.568239 \nL 238.163804 213.104913 \nL 241.238184 210.153213 \nL 244.312565 209.148575 \nL 247.386945 207.112635 \nL 250.461325 211.256847 \nL 253.535705 210.377196 \nL 256.610085 212.252127 \nL 259.684465 210.971143 \nL 262.758846 211.638447 \nL 265.833226 208.356819 \nL 268.907606 208.83426 \nL 271.981986 212.715764 \nL 275.056366 211.319677 \nL 278.130746 210.387307 \nL 281.205127 212.130002 \nL 284.279507 214.530001 \nL 287.353887 211.83781 \nL 290.428267 212.354451 \nL 293.502647 211.66979 \nL 296.577027 210.415965 \nL 299.651408 211.998779 \nL 302.725788 212.623007 \nL 305.800168 211.086411 \nL 308.874548 211.266466 \nL 311.948928 211.665252 \nL 315.023308 209.559016 \nL 318.097689 206.584652 \nL 321.172069 212.651661 \nL 324.246449 214.35795 \nL 327.320829 213.723447 \nL 330.395209 212.656351 \nL 333.469589 213.629718 \nL 336.54397 213.053361 \nL 339.61835 211.659045 \nL 342.69273 211.040237 \nL 345.76711 212.05711 \nL 348.84149 214.756364 \nL 351.91587 213.116213 \nL 354.990251 214.519386 \nL 358.064631 212.496243 \n\" style=\"fill:none;stroke:#1f77b4;stroke-linecap:square;stroke-width:1.5;\"/>\n   </g>\n   <g id=\"patch_3\">\n    <path d=\"M 38.482813 224.64 \nL 38.482813 7.2 \n\" style=\"fill:none;stroke:#000000;stroke-linecap:square;stroke-linejoin:miter;stroke-width:0.8;\"/>\n   </g>\n   <g id=\"patch_4\">\n    <path d=\"M 373.282813 224.64 \nL 373.282813 7.2 \n\" style=\"fill:none;stroke:#000000;stroke-linecap:square;stroke-linejoin:miter;stroke-width:0.8;\"/>\n   </g>\n   <g id=\"patch_5\">\n    <path d=\"M 38.482813 224.64 \nL 373.282812 224.64 \n\" style=\"fill:none;stroke:#000000;stroke-linecap:square;stroke-linejoin:miter;stroke-width:0.8;\"/>\n   </g>\n   <g id=\"patch_6\">\n    <path d=\"M 38.482813 7.2 \nL 373.282812 7.2 \n\" style=\"fill:none;stroke:#000000;stroke-linecap:square;stroke-linejoin:miter;stroke-width:0.8;\"/>\n   </g>\n  </g>\n </g>\n <defs>\n  <clipPath id=\"p49368f9469\">\n   <rect height=\"217.44\" width=\"334.8\" x=\"38.482813\" y=\"7.2\"/>\n  </clipPath>\n </defs>\n</svg>\n",
      "image/png": "[encoded data removed]"
     },
     "metadata": {
      "needs_background": "light"
     }
    }
   ],
   "source": [
    "hidden_size = 256\n",
    "encoder1 = EncoderRNN(lang.n_words, hidden_size).to(device)\n",
    "attn_decoder1 = AttnDecoderRNN(hidden_size, lang.n_words, dropout_p=0.1).to(device)\n",
    "\n",
    "trainIters(encoder1, attn_decoder1, 10000, print_every=200)"
   ]
  },
  {
   "cell_type": "code",
   "execution_count": 90,
   "metadata": {
    "tags": [
     "outputPrepend",
     "outputPrepend",
     "outputPrepend",
     "outputPrepend"
    ]
   },
   "outputs": [
    {
     "output_type": "stream",
     "name": "stdout",
     "text": "> how do i book a virtual consultation with my doctor for covid-19 ?\n= in brief : call your doctor call your doctor 's office for instructions would you like to video or text chat with me ?\n< in brief : call your doctor call your doctor 's office for instructions would you like to video or text chat with me ? <EOS>\n\n> how do i book a virtual consultation with my doctor for covid-19 ?\n= in brief : call your doctor call your doctor 's office for instructions would you like to video or text chat with me ?\n< in brief : call your doctor call your doctor 's office for instructions would you like to video or text chat with me ? <EOS>\n\n> does getting covid19 make you immune to a reinfection or just less likely to be reinfected ?\n= less likely nt immun . your body will develop antibodies against the virus but depending on how strong you keep your immune system , it is possible to get it again if you 're re-exposed with a weak immune system .\n< less likely nt immun . your body will develop antibodies against the virus but depending on how strong you keep your immune system , it is possible to get it again if you 're re-exposed with a weak immune system . <EOS>\n\n> body ache and fever , scratchy itchy throat ?\n= early covid-19 ? call your health care provider to get instructions regarding testing , self-quarantine and possible hospitalization then follow through !\n< early covid-19 ? call your health care provider to get instructions regarding testing , self-quarantine and possible hospitalization then follow through ! <EOS>\n\n> i have no termometer for fever cheek . does covid 19 cause persistent fever or it comes and goes . i feel my body little hot two times a day a have nasal allergy and parangities for long time . every years it 's come for a while ?\n= in brief : your symptoms sound more like seasonal allergy . treat as such , your pharmacist can assist . try to do this over the phone and collect if possible . would you like to video or text chat with me ?\n< in brief : your symptoms sound more like seasonal allergy . treat as such , your pharmacist can assist . try to do this over the phone and collect if possible . would you like to video or text chat with me ? <EOS>\n\n> do i need to take my 10 month old son for his measles vaccinations now that it is due or can it wait until the coronavirus pandemic has calmed down as i dont want to expose him unnecessarily in clinics or hospitals .\n= in brief : wait for now wait for now , keep talking on this platform . stay safe . would you like to video or text chat with me ?\n< in brief : wait for now wait for now , keep talking on this platform . stay safe . would you like to video or text chat with me ? <EOS>\n\n> should i shave my beard to reduce my chances of contracting coronavirus covid-19 ?\n= in brief : yes this virus clings to everything especially hairs . either wash your beard a few times a day and spray with alcohol or shave off . would you like to video or text chat with me ?\n< in brief : yes virus clings to everything especially hairs . either wash your beard a few times a day and spray with alcohol or shave off . <EOS>\n\n> how can i avoid catching covid-19 if i have to travel by plane or public transportation ?\n= in brief : same measures wear a mask , social distance as possible , try not to touch surfaces , keep hands clean . best would still be not to travel if possible . would you like to video or text chat with me ?\n< in brief : same measures wear a mask , social distance as possible , try not to touch surfaces , keep hands clean . best would still be not to travel if possible . would you like to video or text chat with me ? <EOS>\n\n> on the night of 23rd march i started experiencing soar throat and little bit nose block . i visited gp yesterday and was given flue medication . gp advised against corona testing since my temp was normal . should i be concern about the corona virus ?\n= not at all . your\n< not at all . your <EOS>\n\n> i hear covid 19 virus dies around 27c . does it mean once temperature outside rises above 27 c all covid 19 viruses outside will be dead ?\n= not as fragile . as one might hope . -80 c does not kill it +56 c does kill it .\n< not as fragile . as one might hope . -80 c does not kill it +56 c does kill it . <EOS>\n\n"
    }
   ],
   "source": [
    "evaluateRandomly(encoder1, attn_decoder1)"
   ]
  },
  {
   "cell_type": "code",
   "execution_count": 91,
   "metadata": {},
   "outputs": [
    {
     "output_type": "execute_result",
     "data": {
      "text/plain": "antibacterial or normal handsoap ? is antibacterial better since it specialized to get rid germs better ? im confused since i read on internet , any kind of soap doesnt matter .',\n  'in brief : any soap any soap should be effective against most viruses . antibacterial soap may advertise against bacterial but has no claim to be better against viruses . would you like to video or text chat with me ?'),\n ('experiencing pain and swelling accompanied by warmth to the touch with a red patch around my elbow . also experiencing body aches . what could be the problem ?',\n  'might need treatment . could be infection or other condition requiring urgent treatment . seek evaluation , but preferably on phone or online , to avoid coronavirus exposure . video consultations are available on healthtap ; click on `` talk-to-doctor . `` .'),\n ('i use athraway chronic for rheumatoid arthritis , will this complicate things relating to the corona virus ?',\n  'no . i do not think it will have any effect on corona virus .'),\n ('is my wife is at huge risk of getting the virus , as she is a nurse in a gp surgery ? i ’ m so scared for her . i ’ m scared she will get it , and we will both end up with it .',\n  'hopefully not . your wife should know the protocol of handle covid-19 as well as other viruses . her institution should be providing ppe ( personal protective equipment ) for her to use properly .'),\n ('hi , i would like to know is the coronavirus one virus or mixed with other viruses as i been told by someone ?',\n  'no . coronavirus is the name of a family of viruses , but each one can cause disease . coronavirus covid-19 is one specific virus linked to the present pandemic , not a mixture of viruses .'),\n ('if one get corona and you are self isolating and it is not severe , is there any meds that one can take ?',\n  'in brief : not really keep immunity up , keep mental health strong , no specific meds at this point in time would you like to video or text chat with me ?'),\n ('hi , i have come into contact with someone that tested positive for the virus , what do i need to do ? i have been isolating for a week now and developed a sore throat yesterday',\n  'in brief : continue to self isolate . get rest , drink lots of liquids , tylenol as needed , if get severely sick seek care . would you like to video or text chat with me ?'),\n ('do i have coronavirus ? i have joint pains . i did sleep most of the day yesterday so i might have been in an uncomfortable position . i have neck , shoulder , elbow joint and wrist pain . must i get tested ?',\n  'in brief : no not yet , joint pain alone not an indication , but stay home would you like to video or text chat with me ?'),\n ('i have a prolia injection appointment at the beginning of april . will it be safer to postpone the appointment because of the covid-19 situation ? prolia appointment',\n  'yes postpone . yes . definitely you can postpone the treatment by 2-4 weeks at least . .'),\n ('my wife is a nurse in a gp practice , and although she has a mask and gloves etc , is that enough to protect her , if an infected patient with the virus was to come in to her ?',\n  'nearly . need an n95 mask , gloves and gown as well as eye protection if in contact with aerosol , if working with truely negative she is safe , but we need more testing and to keep mildly ill with corona away from every body else .'),\n ('i have a sour throat . i travelled to joburg on 8 march and sat next to a passenger with a face mask and had a running stomach . i now suspect corona infection ?',\n  \"? test . do you have access to testing ? if so perhaps do a telephonic consult ? and get tested and self isolate ? usually anosmia - loss of smell is an early warning sign but close contact to someone who is positive it 's highly contagious .\"),\n ('hi there , i came into contact with somebody on tuesday last week that was later that week tested positive for covid-19 . i found this out on friday and straight away went into self quarantine . i am not showing symptoms as yet . ?',\n  'welldone . stay there if you feel it will help you can get a test but do so safely , else continue doing the right thing .'),\n ('i have had sore throat and shortness of breath , tight chest since last monday . 8 days later and symptoms are not going away . no runny nose . i have been exposed to travelers . should i go for covid test ?',\n  'yes . yes .'),\n ('i have a dry cough and sore throat . should i be scared of contacting of covid 19 ?',\n  'no . fear does not help us right now . this thing is coming . angela merkel said 70 % of us will get it . rather stay isolated and access your doctor via a telephonic consult and keep drinking fluids and also boost your immunity .'),\n (\"i have had contact with a co-worker who has now been confirmed as having the corona virus . i do n't have any symptoms but my landlords would like me to be tested . is this possible & how do i do this ?\",\n  'contact your doctor . in the mean time self quarantine yourself . if you do not have a doctor call your local health resources to find out where you can be tested . it may be difficult to come by a testing location in some countries .'),\n ('hi , can i use oralcon birth control pills even though we have the coronavirus epademic ?',\n  'in brief : yes i am unaware of any contraindication to using bcp and the virus . would you like to video or text chat with me ?'),\n (\"i 'm told that dirrhea is a symptom of covid 19 . i have had it for 36 hours , no appetite . do i need to be tested and where ? i 'm in alberton .\",\n  'diaree . no , treat the diaree with fluids and electrolytes , load with probioticslook out for fever , ( take paracetamol ) or other symptoms .'),\n (\"i have these symptoms and wondering if i should do a covid test diarrhea nausea weakness fatigue shortness of breath joint n muscle pains pressure in the chest dizziness sweating and chills i do n't have fever but breathing is concerning me most ?\",\n  \"test if you can . if you have access test , or consult telephonically do n't go to a public space .\"),\n ('was in cape town 20200312 - 20200315 close proximity to sevral overseas tourists 20200320 throat sore and voice gone back ( upper middle area ) and shoulders hurt shivering , dry cough , headache and lethargic should i go for covid19 testing ?',\n  'in brief : yes yes would you like to video or text chat with me ?'),\n ('hi i have hypothyroidism . i ’ ve been in chronic meds for over 5 years now . am i at risk for coronavirus . also should i boost my immune system ? thanks',\n  'in brief : no you are not more than the next person : ) relax self isolate would you like to video or text chat with me ?'),\n ('hi i had a runny nose took some immune booster and med lemon and now it is a cough with sporadic phlegm . should get test for this covid 19 ? i don ’ t have a fever . i also have a bit of short breath .',\n  \"in brief : test if can do n't go to a public space , consult via the telephone or get a coronavirus test would you like to video or text chat with me ?\"),\n ('does getting covid19 make you immune to a reinfection or just less likely to be reinfected ?',\n  \"less likely nt immun . your body will develop antibodies against the virus but depending on how strong you keep your immune system , it is possible to get it again if you 're re-exposed with a weak immune system .\"),\n ('hi there . my 3 years old daughter had diarrhea for a couple of days and she has a fever without a cough now . can it be covid-19 ?',\n  'it could . only way to know is to test , self isolate : )'),\n ('can vaccines for coronavirus in domestic pets be modified for humans as a way to have a vaccine for covid-19 ?',\n  \"in brief : no i really do n't think so but its a very different virus as is the old corona we know - 5 varieties of the common cold are from coronaviruses would you like to video or text chat with me ?\"),\n ('i know hospitals filter air with hepa filters . will the filters in my car or office building work just as well to prevent corona ?',\n  'in brief : no worries covid-19 does not survive outdoors . medical officials actually encourages getting outdoors , but keeping your distance from others . would you like to video or text chat with me ?'),\n ('will taking ibuprofen ( advil ) increase the strength of the covid-19 virus ?',\n  'conflicting info . i have seen articles on both sides of using advil or motrin . personally i would recommend not using it because side effects , interactions and complications from nsaids in general . acetaminophen is safer .'),\n ('i have diarrhea and i read that it could be a precursor to having covid-19 . i was in china end of september 2020 . so more than 6 weeks back . ?',\n  \"in brief : if that is all you have by now you do n't have the chinese virus . would you like to video or text chat with me ?\"),\n ('is it safe to eat food prepared by someone with coronavirus ? even if they wear a mask and gloves ?',\n  'better to skip . the protective gear is not protectve enough to prepare food .'),\n ('can the meat i eat give me coronavirus ? will cooking kill the coronavirus ?',\n  'cooking will kill . cooking adequately will kill the virus-30 sec of , microwave .'),\n ('does a virus cause lesions dry and oily nose',\n  'in brief : usually not more likely to cause runny nose increase moist discharge would you like to video or text chat with me ?'),\n ('can covid19 cause shortness of breath without a cough ?',\n  'yes . there are many causes of shortness of breath . covid-19 may be one cause and is not necessarily associated with cough . fever is one prominent symptom , but the absence of fever does not rule out the infection . .'),\n ('can a person with type 1 diabetes ever just get mild symptoms of coronavirus , or will it always be fatal ?',\n  'in brief : death at 38 your risk of death from the virus is low . if you diabetes is controlled you should not have particularly higher risk . poorly controlled diabetes would make a difference . would you like to video or text chat with me ?'),\n ('should one also cover eyes in addition to covering mouth and nose with mask to avoid exposure to corona virus ? lots of people only use masks but that may not provide full protection , right ?',\n  'correct . every bit helps .'),\n ('should i be tested for covid 19 have been in contact with family member who arrived from france on 13 march . not showing any symptoms to date been 7days since visit ?',\n  'in brief : self quarantine suggest self quarantine for 14 days . if symptomatic then contact your primary care physician telephonically , or alternatively use this platform to get tested and further management . godspeed . would you like to video or text chat with me ?'),\n ('if someone has carona virus and iam passing by him or talking to him without touching he is just breathing . can this virus effect you by just breathing by the effected or u have to be touched or sneezed upon you to get this virus ?',\n  'less likely . recommended to stay 6 feet apart . however , if no touching and the person was not sneezing the likelyhood of transmission is low . .'),\n ('sick for past week . doctor prescribed meds . not feeling better . symptoms are shortness of breath , difficulty breathing , barking cough , mild headache , body ache . should i consider getting tested for covid 19 .',\n  'yes . everyone with flu like symptoms should be tested for covid19 . test is becoming more widely available in the united states as the pandemic worsens .'),\n ('i work in an open office . experiencing daily coughing and run a bit of a fever . sneezing frequently . should i get tested for covid 9 ? situated in jhb',\n  'maybe . do video w'),\n ('i am the main member of discovery , i want to complete a health covid assessment for my husband ? please let me know how to do so ?',\n  \"in brief : call discovery you 'll need to call discovery . would you like to video or text chat with me ?\"),\n ('hi there . i was at a festival over this past weekend and there has been a report of someone testing positive now . is it a good idea to go for a test andor self isolate ? is national travel by car ok ?',\n  'in brief : self-quarantine ! enter self-quarantine then call your health care provider to get instructions regarding testing , self-quarantine and possible hospitalization then follow through ! would you like to video or text chat with me ?'),\n ('body ache and fever , scratchy itchy throat ?',\n  'early covid-19 ? call your health care provider to get instructions regarding testing , self-quarantine and possible hospitalization then follow through !'),\n ('hi , i arrived from the netherlands on monday morning . no symptoms but have been around my helper . should we get tested ?',\n  'coronavirus pui crit . self-quarantine and monitor yourself for 14 days from return date . if symptoms develop , please contact the nicd for screening to see if you have to get tested . public hotlines : +27 800029999 ; +27 800111132 ; +27 82 883 9920 .'),\n ('my daughter has had a high temperature ( around 37 degrees ) , sore throat and headaches for 2 days . she is responding to medication . should i have her tested for covid19 ?',\n  'maybe . do video w'),\n ('will i be covered if i get corona 19 with my medival aid ?',\n  'in brief : probably . . . . . . but we here on this forum answer general medical questions , not particulars of individual medical coverage . call medival aid to know for sure . would you like to video or text chat with me ?'),\n ('hi where in cape town can you get tested for covid19 ?',\n  'in brief : covid 19 tests you can be tested either at any of the private labs or at selected government clinics . you need to meet the criteria for testing before it is done . would you like to video or text chat with me ?'),\n ('having slight itching at throat but no cough . is it any thing related to covid ?',\n  'probably not . fever and cough , headache , body aches are much more common . please follow your symptoms , treat appropriately . honey in hot tea , gargle with salt water , suck hard candy . secretscepachol losenges should decrease symptoms . good luck .'),\n ('i think i need to be tested for covid-19 ?',\n  'covid 19 . dear patient . what is your concern symptoms ? dr wil .'),\n ('i have ms should i get tested for coronavirus ? i have a soar throat for a week off and on',\n  'hi there . hi there , if there ’ s any other symptom like fever , shortness of breath you should get tested and seek medical atention however you should call your local emergency line for covid and stay away from hospitals , and follow oms guidelines please .'),\n ('vomiting , diarrhea , achey , dizzy and weak fever has kept rising and is now at 103 . 4 any advice ?',\n  'infection . seem you have an infectious gastroenteritis , flu or even coronavirus . take tylenol , stay hydrated , get tests ordered by a physician . .'),\n ('are children with a respiratory pathology at greater risk for covid-19 ( since there are so little cases of children getting the virus , but still their natural history could be an issue ) ?',\n  'be very cautious . there is not a lot of information on children with covid-19 but definitely would try to protect this child especially and consult the doctor asap if child develops fever and shortness of breath .'),\n ('is gargling with listerine effective against corona virus induced sore throat ? will it kill the virus ? how about with mixture of warm water and salt , will this also kill virus !',\n  \"gargling . you ca n't be sure but it may help if you do those things as well as using zinc lozenges at the first sign of any throat discomfort and stay hydrated also . i recommend them . at least it 'll do no harm .\"),\n ('21 month old has a fever 38 . 7 and dry cough ?',\n  'contact doctor . was heshe exposed to coronavirus or flu or other illness ? heshe may need to be examined andor tested . please call hisher doctor to discuss and possibly be examined for proper diagnosis and treatment .'),\n ('i travelled to mauritius and do not have symptoms . should i get tested for covid19 ?',\n  'self quarantine . suggest self quarantine for 14 days . if symptomatic , contact your primary care physician or use this platform .'),\n ('i have a dry cough and a sore throat . i do not have a fever and a slight headache ( could be i need more water ) i am 4 months pregnant and not sure if i should be tested for corona ?',\n  'socially isolate . get pleanty of fluids and rest and avoid others call dr if fever or difficulty breathing .'),\n ('what ’ s worse with the coronavirus , type 1 or type 2 diabetes ?',\n  'diabetes . my answer would be controlled or not . type 1 or 2 if managed well and treated can still maintain good immunity . if either are out of control then infections of any type more likely . .'),\n ('can animal byproducts spread coronavirus ? do i have to worry about milk , eggs , or fruits ?',\n  'in brief : no we have no evidence of any concern with such spread . it may be worth wiping all packages that come i nto the house with lysol wipes would you like to video or text chat with me ?'),\n ('why are so many people with diabetes dying from the coronavirus ? it ’ s really frightening me .',\n  'in brief : immunocompromised body is busy dealing with diabetes , not as much resiliancy remaining to fight viral symptoms , and subsequent opportunistic infections would you like to video or text chat with me ?'),\n ('can i go for coronavirus testing if my nose is blocked and i have traveled from a high risk country ?',\n  'coronavirus testing . yes , get tested if symptomatic ( early symptoms could be mild respiratory symptoms and nonspecific ) or self quarantine given your high risk of exposure . .'),\n ('hi i am 39 years old and have flu like symptoms as of yesterday . runny nose , sore throat . no fever yet . i returned from germany 19 days ago . should i get tested for cov19 ?',\n  'if you get fever yes . but from what we know it may bee a little late to get the chines virus after so many days . monitor tempreture .'),\n ('i have been feeling sick for a couple of days now and tried self medication but does not seem to help . i suffer from polycystic kidney disease , low blood pressure , anemic , endometriosis , chronic sinus .',\n  'screen sputum . you may have a bacterial illness such as bronchitis , pneumonia or a sinus infection . your pcp may collect sputum , screen for strepinfluenza . covid-19 is usually associated with a dry cough , but secondary infection may occur . please see your pcp .'),\n ('re covid 19 i understand the incubation period of covid 19 is up to 14 days . but how long is the contagious period ? i have read one is contagious 2 days before showing symptoms . is that true ? are you still contagious until symptom free ?',\n  'covid . for most people the infection can last up to two weeks . in people who get particularly ill the infection last 4 to 6 weeks . .'),\n ('can coronavirus symptoms be mild for some people versus severe ? for example , could it just involve being very fatigued , low grade fever for a few days and not the extreme symptoms ? or is it always a full blown cold and struggle to breathe ?',\n  'in brief : symptoms vary . some may have no symptoms at all . some can be life threatening . would you like to video or text chat with me ?'),\n ('hello , i understand your concern . i just have a few more questions . does your cough has phlegm ? any other symptoms like difficulty breathing ? any other medical condition such as asthma , hypertension ? are you a smoker ? alcoholic beverage drinker ?',\n  'thank you doctor , i have phlegm but not a lot . a tiny amount comes out most of the time . i have no difficulty in breathing . no medical conditions and not a smoker nor a drinker .'),\n ('hello , i can understand your concern . in my opinion , you should get done a chest x-ray and cbc ( complete blood count ) . if both these are normal then no need to worry much . i hope this helps .',\n  'thank you doctor , after doing all these i can upload all for further query .')]"
     },
     "metadata": {},
     "execution_count": 91
    }
   ],
   "source": [
    "pairs"
   ]
  },
  {
   "cell_type": "code",
   "execution_count": 92,
   "metadata": {},
   "outputs": [
    {
     "output_type": "execute_result",
     "data": {
      "text/plain": "{0: 'SOS',\n 1: 'EOS',\n 2: 'thank',\n 3: 'you',\n 4: 'doctor',\n 5: ',',\n 6: 'after',\n 7: 'doing',\n 8: 'all',\n 9: 'these',\n 10: 'i',\n 11: 'can',\n 12: 'upload',\n 13: 'for',\n 14: 'further',\n 15: 'query',\n 16: '.',\n 17: 'hi',\n 18: 'yes',\n 19: 'in',\n 20: 'this',\n 21: 'only',\n 22: 'will',\n 23: 'see',\n 24: 'and',\n 25: 'revert',\n 26: 'to',\n 27: 'have',\n 28: 'covid',\n 29: '19',\n 30: 'symptoms',\n 31: '?',\n 32: 'without',\n 33: 'any',\n 34: 'details',\n 35: 'it',\n 36: \"'s\",\n 37: 'impossible',\n 38: 'say',\n 39: 'do',\n 40: 'is',\n 41: 'vomiting',\n 42: 'diarrhea',\n 43: 'a',\n 44: 'symptom',\n 45: 'of',\n 46: 'covid-19',\n 47: 'nausea',\n 48: 'andor',\n 49: 'occur',\n 50: 'fairly',\n 51: 'frequently',\n 52: 'early',\n 53: 'the',\n 54: 'infection',\n 55: 'but',\n 56: 'are',\n 57: 'rarely',\n 58: 'if',\n 59: 'ever',\n 60: 'cough',\n 61: 'fever',\n 62: \"n't\",\n 63: 'develop',\n 64: 'within',\n 65: 'day',\n 66: 'or',\n 67: 'two',\n 68: 'probably',\n 69: 'coronavirus',\n 70: '229e',\n 71: 'same',\n 72: 'as',\n 73: 'cov229e',\n 74: 'one',\n 75: 'several',\n 76: 'coronaviruses',\n 77: 'that',\n 78: 'cause',\n 79: 'common',\n 80: 'colds',\n 81: 'biologically',\n 82: 'related',\n 83: 'sars-cov-2',\n 84: '(',\n 85: ')',\n 86: 'different',\n 87: 'viruses',\n 88: 'where',\n 89: 'be',\n 90: 'tested',\n 91: 'your',\n 92: 'local',\n 93: 'health',\n 94: 'department',\n 95: 'we',\n 96: 'no',\n 97: 'idea',\n 98: 'here',\n 99: 'what',\n 100: 'set',\n 101: 'up',\n 102: 'live',\n 103: 'am',\n 104: 'at',\n 105: 'risk',\n 106: 'united',\n 107: 'states',\n 108: 'infections',\n 109: 'likely',\n 110: 'pick',\n 111: 'over',\n 112: 'next',\n 113: 'few',\n 114: 'weeks',\n 115: 'us',\n 116: 'avoiding',\n 117: 'travel',\n 118: 'following',\n 119: 'hand',\n 120: 'washing',\n 121: 'recommendations',\n 122: 'most',\n 123: 'important',\n 124: 'prophylactic',\n 125: 'measures',\n 126: 'true',\n 127: 'false',\n 128: 'anyone',\n 129: 'infected',\n 130: 'with',\n 131: 'start',\n 132: 'increases',\n 133: 'chances',\n 134: 'death',\n 135: 'compared',\n 136: 'person',\n 137: 'who',\n 138: 'just',\n 139: 'respiratory',\n 140: 'why',\n 141: 'brief',\n 142: ':',\n 143: 'datafrom',\n 144: 'data',\n 145: 'from',\n 146: 'china',\n 147: 'there',\n 148: 'has',\n 149: 'been',\n 150: 'association',\n 151: 'between',\n 152: 'worse',\n 153: 'seems',\n 154: 'inflammatory',\n 155: 'response',\n 156: 'associated',\n 157: 'people',\n 158: 'should',\n 159: 'shave',\n 160: 'my',\n 161: 'beard',\n 162: 'reduce',\n 163: 'contracting',\n 164: 'yesthis',\n 165: 'virus',\n 166: 'clings',\n 167: 'everything',\n 168: 'especially',\n 169: 'hairs',\n 170: 'either',\n 171: 'wash',\n 172: 'times',\n 173: 'spray',\n 174: 'alcohol',\n 175: 'off',\n 176: 'mild',\n 177: 'intermittent',\n 178: 'asthma',\n 179: 'an',\n 180: 'elevated',\n 181: 'group',\n 182: 'complications',\n 183: 'so',\n 184: 'continue',\n 185: 'use',\n 186: 'inhalers',\n 187: 'when',\n 188: 'occasionally',\n 189: 'necessary',\n 190: 'steroids',\n 191: 'them',\n 192: 'put',\n 193: 'me',\n 194: 'more',\n 195: 'maybebeing',\n 196: '50',\n 197: 'medical',\n 198: 'condition',\n 199: 'like',\n 200: 'makes',\n 201: 'higher',\n 202: 'illness',\n 203: 'including',\n 204: 'covid19',\n 205: 'appears',\n 206: 'less',\n 207: 'issue',\n 208: 'children',\n 209: 'youth',\n 210: 'would',\n 211: 'make',\n 212: 'think',\n 213: 'not',\n 214: 'bad',\n 215: 'cold',\n 216: 'got',\n 217: 'twice',\n 218: 'does',\n 219: 'mean',\n 220: 'nodiarrhea',\n 221: 'rule',\n 222: 'out',\n 223: 'traveled',\n 224: 'endemic',\n 225: 'areas',\n 226: 'met',\n 227: 'test',\n 228: 'possible',\n 229: 'taking',\n 230: 'extra',\n 231: 'vitamin',\n 232: 'c',\n 233: 'every',\n 234: 'help',\n 235: 'prevent',\n 236: 'catching',\n 237: 'flu',\n 238: 'how',\n 239: 'much',\n 240: 'recommended',\n 241: 'cwhile',\n 242: 'getting',\n 243: 'enough',\n 244: 'diet',\n 245: 'highly',\n 246: 'special',\n 247: 'ability',\n 248: 'best',\n 249: 'preventative',\n 250: 'frequent',\n 251: 'handwashing',\n 252: 'sneezingcoughingcold',\n 253: 'fevers',\n 254: 'steps',\n 255: 'self-care',\n 256: 'staying',\n 257: 'hydrated',\n 258: 'sleep',\n 259: 'yesit',\n 260: 'helps',\n 261: 'keep',\n 262: 'body',\n 263: 'good',\n 264: 'shape',\n 265: 'nutrition',\n 266: 'avoid',\n 267: 'by',\n 268: 'plane',\n 269: 'public',\n 270: 'transportation',\n 271: 'wear',\n 272: 'mask',\n 273: 'social',\n 274: 'distance',\n 275: 'try',\n 276: 'touch',\n 277: 'surfaces',\n 278: 'hands',\n 279: 'clean',\n 280: 'still',\n 281: 'video',\n 282: 'text',\n 283: 'chat',\n 284: 'allegra',\n 285: 'increased',\n 286: 'viral',\n 287: 'dangerous',\n 288: 'take',\n 289: 'during',\n 290: 'pandemic',\n 291: 'being',\n 292: 'cautious',\n 293: 'medication',\n 294: 'increase',\n 295: 'potential',\n 296: 'avoided',\n 297: 'outbreak',\n 298: 'such',\n 299: 'seeing',\n 300: 'now',\n 301: 'contact',\n 302: 'positive',\n 303: 'last',\n 304: '12-day',\n 305: 'asymptomatic',\n 306: 'confirm',\n 307: 'contracted',\n 308: 'don',\n 309: '’',\n 310: 't',\n 311: 'responsible',\n 312: 'wait',\n 313: 'till',\n 314: 'manifest',\n 315: 'isolate',\n 316: 'really',\n 317: 'need',\n 318: 'testing',\n 319: 'act',\n 320: 'contagious',\n 321: '14',\n 322: 'days',\n 323: 'consult',\n 324: 'gp',\n 325: 'get',\n 326: 'unknown',\n 327: 'sore',\n 328: 'throat',\n 329: 'slight',\n 330: 'well',\n 331: 'slightly',\n 332: 'dry',\n 333: 'eyes',\n 334: 'may',\n 335: 'individuals',\n 336: 'unknowingly',\n 337: 'detail',\n 338: 'temperature',\n 339: 'internationally',\n 340: 'locally',\n 341: 'seeming',\n 342: 'becoming',\n 343: 'vigilant',\n 344: 'about',\n 345: 'suggest',\n 346: 'appointment',\n 347: 'morning',\n 348: '2',\n 349: 'woke',\n 350: 'was',\n 351: 'lot',\n 352: 'better',\n 353: 'little',\n 354: 'scratchy',\n 355: 'other',\n 356: 'were',\n 357: 'stuffy',\n 358: 'nose',\n 359: 'bit',\n 360: 'on',\n 361: 'side',\n 362: 'corona',\n 363: 'sounds',\n 364: 'seasonal',\n 365: 'allergy',\n 366: 'gargle',\n 367: 'warm',\n 368: 'salt',\n 369: 'water',\n 370: 'meds',\n 371: 'home',\n 372: 'ask',\n 373: 'questions',\n 374: 'forum',\n 375: '-',\n 376: 'go',\n 377: 'unless',\n 378: 'pneumonia',\n 379: 'vaccines',\n 380: 'prevnar',\n 381: 'pneumovax',\n 382: 'developing',\n 383: 'catch',\n 384: 'bacterial',\n 385: 'they',\n 386: 'effect',\n 387: 'termometer',\n 388: 'cheek',\n 389: 'persistent',\n 390: 'comes',\n 391: 'goes',\n 392: 'feel',\n 393: 'hot',\n 394: 'nasal',\n 395: 'parangities',\n 396: 'long',\n 397: 'time',\n 398: 'years',\n 399: 'come',\n 400: 'while',\n 401: 'sound',\n 402: 'treat',\n 403: 'pharmacist',\n 404: 'assist',\n 405: 'phone',\n 406: 'collect',\n 407: 'irbesartan',\n 408: 'angiotensin',\n 409: 'receptor',\n 410: 'blocker',\n 411: 'uncomplicated',\n 412: 'hypertension',\n 413: 'cell',\n 414: 'expression',\n 415: 'receptors',\n 416: 'ar',\n 417: 's',\n 418: 'enters',\n 419: 'cells',\n 420: 'via',\n 421: 'change',\n 422: 'blood',\n 423: 'pressure',\n 424: 'thanks',\n 425: 'dr',\n 426: 'rather',\n 427: 'hold',\n 428: 'regular',\n 429: 'discuss',\n 430: 'telephone',\n 431: 'regarding',\n 432: 'stop',\n 433: 'own',\n 434: 'state',\n 435: 'officials',\n 436: 'temp',\n 437: 'ban',\n 438: 'activities',\n 439: '&',\n 440: 'shut',\n 441: 'down',\n 442: 'nonessential',\n 443: 'businesses',\n 444: 'curb',\n 445: 'spread',\n 446: 'light',\n 447: 'hosting',\n 448: 'yoga',\n 449: 'class',\n 450: 'school',\n 451: 'parking',\n 452: 'unwise',\n 453: 'neighbor',\n 454: \"'m\",\n 455: 'concerned',\n 456: 'delayvirtual',\n 457: 'virtual',\n 458: 'togethers',\n 459: 'considered',\n 460: 'least',\n 461: '6',\n 462: 'feet',\n 463: 'persons',\n 464: 'household',\n 465: 'ritonavir',\n 466: '100mg',\n 467: 'lopinavir400mg',\n 468: 'safe',\n 469: 'drugs',\n 470: 'improvement',\n 471: 'appear',\n 472: 'patient',\n 473: 'support',\n 474: 'clinical',\n 475: 'trials',\n 476: 'needed',\n 477: '10',\n 478: 'month',\n 479: 'old',\n 480: 'son',\n 481: 'his',\n 482: 'measles',\n 483: 'vaccinations',\n 484: 'due',\n 485: 'until',\n 486: 'calmed',\n 487: 'dont',\n 488: 'want',\n 489: 'expose',\n 490: 'him',\n 491: 'unnecessarily',\n 492: 'clinics',\n 493: 'hospitals',\n 494: 'talking',\n 495: 'platform',\n 496: 'stay',\n 497: 'baby',\n 498: 'boy',\n 499: 'scheduled',\n 500: 'vaccination',\n 501: 'lockdown',\n 502: 'know',\n 503: 'exposing',\n 504: 'advice',\n 505: 'exposure',\n 506: 'right',\n 507: 'quarantine',\n 508: 'against',\n 509: 'run',\n 510: 'sanitizer',\n 511: 'soap',\n 512: 'providing',\n 513: 'available',\n 514: 'easily',\n 515: 'trying',\n 516: 'shared',\n 517: 'places',\n 518: 'also',\n 519: 'protect',\n 520: 'some',\n 521: 'extent',\n 522: 'wife',\n 523: 'found',\n 524: 'she',\n 525: 'sat',\n 526: 'someone',\n 527: 'tuesday',\n 528: 'please',\n 529: 'advise',\n 530: 'reporting',\n 531: 'coming',\n 532: 'soon',\n 533: 'easy',\n 534: 'everyone',\n 535: 'year',\n 536: 'small',\n 537: 'worried',\n 538: 'her',\n 539: 'traveler',\n 540: 'area',\n 541: '>',\n 542: '100',\n 543: '4f',\n 544: 'than',\n 545: 'close',\n 546: 'quarters',\n 547: 'recently',\n 548: 'europe',\n 549: 'away',\n 550: 'order',\n 551: 'lower',\n 552: 'absolutely',\n 553: 'morningwithout',\n 554: 'rude',\n 555: 'quite',\n 556: 'stringent',\n 557: 'sanitizing',\n 558: 'face',\n 559: 'monitor',\n 560: 'sure',\n 561: '!',\n 562: 'leave',\n 563: 'product',\n 564: 'fridge',\n 565: 'die',\n 566: 'survive',\n 567: 'frozen',\n 568: 'food',\n 569: 'shows',\n 570: 'transfer',\n 571: 'sources',\n 572: 'way',\n 573: 'low',\n 574: 'high',\n 575: 'temperatures',\n 576: 'which',\n 577: 'fragile',\n 578: 'might',\n 579: 'hope',\n 580: '-80',\n 581: 'kill',\n 582: '+56',\n 583: 'hear',\n 584: 'dies',\n 585: 'around',\n 586: '27c',\n 587: 'once',\n 588: 'outside',\n 589: 'rises',\n 590: 'above',\n 591: '27',\n 592: 'dead',\n 593: 'disprin',\n 594: 'compral',\n 595: 'pils',\n 596: 'contain',\n 597: 'ibuprophen',\n 598: 'depends',\n 599: 'treatment',\n 600: 'far',\n 601: 'symptomatic',\n 602: 'supportive',\n 603: 'disprincompral',\n 604: 'ibuprofen',\n 605: 'm',\n 606: 'sick',\n 607: 'because',\n 608: 'diabetes',\n 609: 'anything',\n 610: 'anxiety',\n 611: 'care',\n 612: '1',\n 613: 'hands2',\n 614: 'can3',\n 615: 'control',\n 616: 'glucose',\n 617: 'levels4',\n 618: 'meditate',\n 619: 'search',\n 620: 'breathing',\n 621: 'exercises',\n 622: 'ago',\n 623: 'started',\n 624: 'experiencing',\n 625: 'fatigue',\n 626: 'random',\n 627: 'pains',\n 628: 'mostly',\n 629: 'below',\n 630: 'ribs',\n 631: 'sweating',\n 632: 'feeling',\n 633: 'give',\n 634: 'flue',\n 635: 'insist',\n 636: 'shouldnt',\n 637: 'history',\n 638: 'international',\n 639: 'virsu',\n 640: 'night',\n 641: '23rd',\n 642: 'march',\n 643: 'soar',\n 644: 'block',\n 645: 'visited',\n 646: 'yesterday',\n 647: 'given',\n 648: 'advised',\n 649: 'since',\n 650: 'normal',\n 651: 'concern',\n 652: 'ashmatic',\n 653: 'using',\n 654: 'chest',\n 655: 'tight',\n 656: 'throught',\n 657: 'lungs',\n 658: 'yet',\n 659: 'respiration',\n 660: 'rate',\n 661: 'google',\n 662: 'per',\n 663: 'minute',\n 664: '25',\n 665: 'battling',\n 666: 'breath',\n 667: 'hey',\n 668: 'had',\n 669: '``',\n 670: \"''\",\n 671: 'week',\n 672: 'grade',\n 673: 'past',\n 674: 'dizzy',\n 675: 'dizziness',\n 676: 'he',\n 677: 'reasons',\n 678: 'headache',\n 679: 'availability',\n 680: 'telephonic',\n 681: 'capability',\n 682: 'stretched',\n 683: 'self',\n 684: 'currently',\n 685: 'semi',\n 686: 'emerging',\n 687: 'wisdom',\n 688: 'tooth',\n 689: 'sharp',\n 690: 'growing',\n 691: 'inner',\n 692: 'causing',\n 693: 'discomfort',\n 694: 'ease',\n 695: 'ca',\n 696: 'surgery',\n 697: 'remove',\n 698: 'nsaids',\n 699: 'otc',\n 700: 'pain',\n 701: 'inflammation',\n 702: 'calling',\n 703: 'oral',\n 704: 'surgeon',\n 705: 'offices',\n 706: 'open',\n 707: 'emergencies',\n 708: 'falls',\n 709: 'into',\n 710: 'category',\n 711: '3',\n 712: 'call',\n 713: 'pharmacy',\n 714: 'article',\n 715: '2017',\n 716: 'singulair',\n 717: 'could',\n 718: 'influenza',\n 719: 'alveolar',\n 720: 'deep',\n 721: 'lrt',\n 722: 'god',\n 723: 'bless',\n 724: 'new',\n 725: 'based',\n 726: 'paper',\n 727: 'https',\n 728: 'journals',\n 729: 'plos',\n 730: 'orgplospathogensarticle',\n 731: 'through',\n 732: 'isolation',\n 733: 'very',\n 734: 'urgent',\n 735: 'steroid',\n 736: 'tab',\n 737: 'rinses',\n 738: 'allergic',\n 739: 'saline',\n 740: 'antihistamine',\n 741: 'often',\n 742: 'helpful',\n 743: 'controlling',\n 744: 'report',\n 745: 'shortness',\n 746: 'pcp',\n 747: 'having',\n 748: 'course',\n 749: 'today',\n 750: 'coughing',\n 751: 'first',\n 752: 'telephonically',\n 753: 'access',\n 754: 'panado',\n 755: 'fluids',\n 756: 'rest',\n 757: 'reoccurring',\n 758: 'strep',\n 759: 'throattonsillitis',\n 760: 'problems',\n 761: 'vulnerable',\n 762: 'apparently',\n 763: 'needs',\n 764: 'mucosa',\n 765: 'lips',\n 766: 'mouth',\n 767: 'infect',\n 768: 'follow',\n 769: 'authorities',\n 770: 'wet',\n 771: 'sometimes',\n 772: 'took',\n 773: 'starting',\n 774: 'painful',\n 775: 'sneezed',\n 776: 'hour',\n 777: 'general',\n 778: 'physician',\n 779: 'direct',\n 780: 'proper',\n 781: 'book',\n 782: 'consultation',\n 783: 'office',\n 784: 'instructions',\n 785: 'specific',\n 786: 'animals',\n 787: 'pets',\n 788: 'others',\n 789: 'limited',\n 790: 'reading',\n 791: 'infests',\n 792: 'varieties',\n 793: 'bats',\n 794: 'snakes',\n 795: 'dog',\n 796: 'cat',\n 797: 'list',\n 798: 'tired',\n 799: 'hard',\n 800: 'buy',\n 801: 'free',\n 802: 'post',\n 803: 'again',\n 804: 'its',\n 805: 'feels',\n 806: 'something',\n 807: 'stuck',\n 808: 'putting',\n 809: 'info',\n 810: 'travelled',\n 811: 'ibuprufen',\n 812: 'thisbseasonnof',\n 813: 'paracetamol',\n 814: 'medications',\n 815: 'unaware',\n 816: 'contraindications',\n 817: 'both',\n 818: 'taken',\n 819: '4',\n 820: 'hours',\n 821: 'sms',\n 822: 'stating',\n 823: 'ibuprofin',\n 824: 'advil',\n 825: 'mypaid',\n 826: 'myprodol',\n 827: 'fewer',\n 828: 'increasing',\n 829: 'multiplication',\n 830: 'look',\n 831: 'unprecedented',\n 832: 'convey',\n 833: 'switch',\n 834: 'napacod',\n 835: 'hashimotos',\n 836: 'nodules',\n 837: 'checked',\n 838: 'yearly',\n 839: 'thyroid',\n 840: 'specialist',\n 841: 'preschool',\n 842: 'teacher',\n 843: 'assistant',\n 844: 'work',\n 845: '47',\n 846: 'yr',\n 847: 'female',\n 848: 'level',\n 849: 'nearly',\n 850: 'assuming',\n 851: 'immunosuppresive',\n 852: 'therapy',\n 853: 'distancing',\n 854: 'exposed',\n 855: 'quit',\n 856: 'smoking',\n 857: 'non',\n 858: 'smoke',\n 859: 'vape',\n 860: 'lung',\n 861: 'scarring',\n 862: 'thought',\n 863: 'heard',\n 864: 'changes',\n 865: 'structure',\n 866: 'microscopically',\n 867: 'seen',\n 868: 'x-rays',\n 869: 'air',\n 870: 'beyond',\n 871: 'airborne',\n 872: 'facts',\n 873: 'primarily',\n 874: 'acquired',\n 875: 'number',\n 876: 'potentially',\n 877: 'dissipate',\n 878: 'allergies',\n 879: 'else',\n 880: 'many',\n 881: 'online',\n 882: 'resources',\n 883: 'distinguish',\n 884: 'told',\n 885: 'otherwise',\n 886: 'daughter',\n 887: 'drip',\n 888: 'amoxicillin',\n 889: 'panamol',\n 890: 'rhineton',\n 891: 'ear',\n 892: 'diagnosed',\n 893: 'monday',\n 894: 'back',\n 895: 'cape',\n 896: 'town',\n 897: 'plenty',\n 898: 'trouble',\n 899: 't=breathing',\n 900: 'itchyburning',\n 901: 'n',\n 902: 'b',\n 903: 'antibacterial',\n 904: 'handsoap',\n 905: 'specialized',\n 906: 'rid',\n 907: 'germs',\n 908: 'im',\n 909: 'confused',\n 910: 'read',\n 911: 'internet',\n 912: 'kind',\n 913: 'doesnt',\n 914: 'matter',\n 915: 'effective',\n 916: 'advertise',\n 917: 'claim',\n 918: 'swelling',\n 919: 'accompanied',\n 920: 'warmth',\n 921: 'red',\n 922: 'patch',\n 923: 'elbow',\n 924: 'aches',\n 925: 'problem',\n 926: 'requiring',\n 927: 'seek',\n 928: 'evaluation',\n 929: 'preferably',\n 930: 'consultations',\n 931: 'healthtap',\n 932: ';',\n 933: 'click',\n 934: 'talk-to-doctor',\n 935: 'athraway',\n 936: 'chronic',\n 937: 'rheumatoid',\n 938: 'arthritis',\n 939: 'complicate',\n 940: 'things',\n 941: 'relating',\n 942: 'huge',\n 943: 'nurse',\n 944: 'scared',\n 945: 'end',\n 946: 'hopefully',\n 947: 'protocol',\n 948: 'handle',\n 949: 'institution',\n 950: 'ppe',\n 951: 'personal',\n 952: 'protective',\n 953: 'equipment',\n 954: 'properly',\n 955: 'mixed',\n 956: 'name',\n 957: 'family',\n 958: 'each',\n 959: 'disease',\n 960: 'linked',\n 961: 'present',\n 962: 'mixture',\n 963: 'isolating',\n 964: 'severe',\n 965: 'immunity',\n 966: 'mental',\n 967: 'strong',\n 968: 'point',\n 969: 'developed',\n 970: 'drink',\n 971: 'lots',\n 972: 'liquids',\n 973: 'tylenol',\n 974: 'severely',\n 975: 'joint',\n 976: 'did',\n 977: 'uncomfortable',\n 978: 'position',\n 979: 'neck',\n 980: 'shoulder',\n 981: 'wrist',\n 982: 'must',\n 983: 'alone',\n 984: 'indication',\n 985: 'prolia',\n 986: 'injection',\n 987: 'beginning',\n 988: 'april',\n 989: 'safer',\n 990: 'postpone',\n 991: 'situation',\n 992: 'definitely',\n 993: '2-4',\n 994: 'practice',\n 995: 'although',\n 996: 'gloves',\n 997: 'etc',\n 998: 'n95',\n 999: 'gown',\n ...}"
     },
     "metadata": {},
     "execution_count": 92
    }
   ],
   "source": [
    "lang.index2word"
   ]
  },
  {
   "cell_type": "code",
   "execution_count": 24,
   "metadata": {},
   "outputs": [
    {
     "output_type": "execute_result",
     "data": {
      "text/plain": "5391"
     },
     "metadata": {},
     "execution_count": 24
    }
   ],
   "source": [
    "lang.n_words"
   ]
  },
  {
   "cell_type": "code",
   "execution_count": 27,
   "metadata": {},
   "outputs": [
    {
     "output_type": "execute_result",
     "data": {
      "text/plain": "[('thank you doctor , after doing all these i can upload all for further query .',\n  '. you to revert and see will i . only query this in upload , yes , hi'),\n ('i have covid 19 symptoms ?',\n  \". say to impossible 's it details any without\"),\n ('do i have covid 19 ?', \". say to impossible 's it details any without\"),\n ('is the coronavirus 229e the same as covid-19 ?',\n  '. viruses different but , ) covid-19 of cause the ( sars-cov-2 to related biologically . colds common cause that coronaviruses several of one is cov229e'),\n ('where can i be tested for covid 19 ?',\n  '. live you where is up set your what here idea no have we , department health local , doctor local your'),\n ('am i at risk for covid-19 in the united states ?',\n  '. measures prophylactic important most the probably are recommendations washing hand following and travel avoiding . us in weeks few next the over up pick likely will infections covid'),\n ('should i shave my beard to reduce my chances of contracting coronavirus / covid-19 ?',\n  '. off shave or alcohol with spray and day a times few a beard your wash either . hairs especially everything to clings virus this yes : brief in'),\n ('can taking extra steps for self-care ( like staying hydrated , getting more sleep ) every day help prevent you from catching the coronavirus or the flu ?',\n  '. nutrition good and shape good in body the keep to helps it yes : brief in'),\n ('do i have covid 19 ?',\n  \"? me with chat text or video to like you would . say to impossible 's it details any without unknown : brief in\"),\n ('will getting either of the pneumonia vaccines , prevnar and pneumovax , prevent you from developing pneumonia if you catch the flu or covid ?',\n  '. pneumonia viral on effect no have they . pneumonia bacterial prevent vaccines the . no'),\n ('how do i know if i have corona virus ?', '! tested get , sure be to'),\n ('if i leave covid 19 infected product in fridge , will virus die or survive in the fridge ?',\n  '. . way this sources food via virus of transfer no is there that shows food frozen from data . covid'),\n ('i hear covid 19 virus dies around 27c . does it mean once temperature outside rises above 27 c all covid 19 viruses outside will be dead ?',\n  '. it kill does c +56 it kill not does c -80 . hope might one as . fragile as not'),\n ('if i have had a sore throat for 3 days but with no fever should i be tested for covid-19 ?',\n  'call'),\n ('how do i book a virtual consultation with my doctor for covid-19 ?',\n  \"? me with chat text or video to like you would instructions for office 's doctor your call doctor your call : brief in\"),\n ('i also have a dry throat sometimes its feels like there is something stuck or putting pressure on my throat ?',\n  '? patient virus corona a with contact into come or travelled you have . info more need'),\n ('i have a 2 years old with cough n fever sweating which is worse at night , can she b tested for covid19 ?',\n  '? me with chat text or video to like you would . advise for doctor your call yes : brief in'),\n ('i use athraway chronic for rheumatoid arthritis , will this complicate things relating to the corona virus ?',\n  '. virus corona on effect any have will it think not do i . no'),\n ('i have a prolia injection appointment at the beginning of april . will it be safer to postpone the appointment because of the covid-19 situation ? prolia appointment',\n  '. . least at weeks 2-4 by treatment the postpone can you definitely . yes . postpone yes'),\n ('hi , can i use oralcon birth control pills even though we have the coronavirus epademic ?',\n  '? me with chat text or video to like you would . virus the and bcp using to contraindication any of unaware am i yes : brief in'),\n ('is it safe to eat food prepared by someone with coronavirus ? even if they wear a mask and gloves ?',\n  '. food prepare to enough protectve not is gear protective the . skip to better'),\n ('can the meat i eat give me coronavirus ? will cooking kill the coronavirus ?',\n  '. microwave , of sec virus-30 the kill will adequately cooking . kill will cooking'),\n ('does a virus cause lesions dry and oily nose',\n  '? me with chat text or video to like you would discharge moist increase nose runny cause to likely more not usually : brief in'),\n ('i am the main member of discovery , i want to complete a health covid assessment for my husband ? please let me know how to do so ?',\n  \"? me with chat text or video to like you would . discovery call to need 'll you discovery call : brief in\"),\n ('body ache and fever , scratchy itchy throat ?',\n  '! through follow then hospitalization possible and self-quarantine , testing regarding instructions get to provider care health your call ? covid-19 early'),\n ('i think i need to be tested for covid-19 ?',\n  '. wil dr ? symptoms concern/ your is what . patient dear . 19 covid'),\n ('vomiting , diarrhea , achey , dizzy and weak fever has kept rising and is now at 103 . 4 any advice ?',\n  '. . physician a by ordered tests get , hydrated stay , tylenol take . coronavirus even or flu , gastroenteritis infectious an have you seem . infection'),\n ('i travelled to mauritius and do not have symptoms . should i get tested for covid19 ?',\n  '. platform this use or physician care primary your contact , symptomatic if . days 14 for quarantine self suggest . quarantine self')]"
     },
     "metadata": {},
     "execution_count": 27
    }
   ],
   "source": [
    "pairs"
   ]
  },
  {
   "cell_type": "code",
   "execution_count": null,
   "metadata": {},
   "outputs": [],
   "source": []
  }
 ]
}