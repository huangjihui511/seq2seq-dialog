{
 "nbformat": 4,
 "nbformat_minor": 2,
 "metadata": {
  "language_info": {
   "name": "python",
   "codemirror_mode": {
    "name": "ipython",
    "version": 3
   },
   "version": "3.6.8-final"
  },
  "orig_nbformat": 2,
  "file_extension": ".py",
  "mimetype": "text/x-python",
  "name": "python",
  "npconvert_exporter": "python",
  "pygments_lexer": "ipython3",
  "version": 3,
  "kernelspec": {
   "name": "python36864bit86ffd2f3f8b84d26a0c31fc6fe440cfe",
   "display_name": "Python 3.6.8 64-bit"
  }
 },
 "cells": [
  {
   "cell_type": "code",
   "execution_count": 20,
   "metadata": {
    "tags": [
     "outputPrepend"
    ]
   },
   "outputs": [],
   "source": [
    "path = \"COVID-Dialogue-Dataset-English.txt\"\n",
    "f = open(path,encoding=\"UTF-8\")\n",
    "l1 = f.read()\n",
    "l2 = l1.split(\"id=\")\n",
    "p2d = []\n",
    "d2p = []\n",
    "for item in l2:\n",
    "    if len(item) != 0:\n",
    "        temp = item.split(\"Dialogue\\nPatient:\")\n",
    "        if len(temp) > 1:\n",
    "            item2 = temp[1]\n",
    "            item3 = item2.split(\"Patient:\")\n",
    "            l = []\n",
    "            if len(item3) != 0:\n",
    "                for item4 in item3:\n",
    "                    item5 = item4.split(\"Doctor:\")\n",
    "                    l += item5\n",
    "            for i in range(1, len(l), 2):\n",
    "                p2d.append((l[i - 1], l[i]))\n",
    "                if i + 1 < len(l):\n",
    "                    d2p.append((l[i].strip(\"\\n\"), l[i + 1].strip(\"\\n\")))"
   ]
  },
  {
   "cell_type": "code",
   "execution_count": null,
   "metadata": {},
   "outputs": [],
   "source": []
  }
 ]
}