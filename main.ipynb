{
 "nbformat": 4,
 "nbformat_minor": 2,
 "metadata": {
  "language_info": {
   "name": "python",
   "codemirror_mode": {
    "name": "ipython",
    "version": 3
   },
   "version": "3.7.4-final"
  },
  "orig_nbformat": 2,
  "file_extension": ".py",
  "mimetype": "text/x-python",
  "name": "python",
  "npconvert_exporter": "python",
  "pygments_lexer": "ipython3",
  "version": 3,
  "kernelspec": {
   "name": "python37464bitc618d87d24fd41819fe0e569b8dfcad8",
   "display_name": "Python 3.7.4 64-bit"
  }
 },
 "cells": [
  {
   "cell_type": "code",
   "execution_count": 57,
   "metadata": {
    "tags": [
     "outputPrepend"
    ]
   },
   "outputs": [
    {
     "output_type": "execute_result",
     "data": {
      "text/plain": "('Hello doctor, I get a cough for the last few days, which is heavy during night times. No raise in temperature but feeling tired with no travel history. No contact with any Covid-19 persons. It has been four to five days and has drunk a lot of Benadryl and took Paracetamol too. Doctors have shut the OP so do not know what to do? Please help.',\n 'Hello, I understand your concern. I just have a few more questions.\\nDoes your cough has phlegm? Any other symptoms like difficulty breathing? Any other medical condition such as asthma, hypertension? Are you a smoker? Alcoholic beverage drinker?')"
     },
     "metadata": {},
     "execution_count": 57
    }
   ],
   "source": [
    "path = \"COVID-Dialogue-Dataset-English.txt\"\n",
    "f = open(path,encoding=\"UTF-8\")\n",
    "l1 = f.read()\n",
    "l2 = l1.split(\"id=\")\n",
    "p2d = []\n",
    "d2p = []\n",
    "for item in l2:\n",
    "    if len(item) != 0:\n",
    "        temp = item.split(\"Dialogue\\nPatient:\")\n",
    "        if len(temp) > 1:\n",
    "            item2 = temp[1]\n",
    "            item3 = item2.split(\"Patient:\")\n",
    "            l = []\n",
    "            if len(item3) != 0:\n",
    "                for item4 in item3:\n",
    "                    item5 = item4.split(\"Doctor:\")\n",
    "                    l += item5\n",
    "            for i in range(1, len(l), 2):\n",
    "                p2d.append((l[i - 1].strip(\"\\n\"), l[i].strip(\"\\n\")))\n",
    "                if i + 1 < len(l):\n",
    "                    d2p.append((l[i].strip(\"\\n\"), l[i + 1].strip(\"\\n\")))\n",
    "data = p2d + d2p\n",
    "data[0]"
   ]
  },
  {
   "cell_type": "code",
   "execution_count": 58,
   "metadata": {},
   "outputs": [],
   "source": [
    "\n",
    "#nltk.download('stopwords')\n",
    "def clean_text(tokenized_list, sw, punct, lemmatize=False):\n",
    "    new_list = []\n",
    "    for doc in tokenized_list:\n",
    "        new_list.append([token.lower() for token in doc if token.lower() not in chain(punct, sw)])\n",
    "        return new_list\n",
    "# Remove punctuations and stopwords, and lower-case text\\n\",\n",
    "sw = stopwords.words('english')\n",
    "punct = punctuation\n",
    "#temp_text = clean_text(token_text, sw, punct)\n",
    "#temp_title = clean_text(token_title, sw, punct)"
   ]
  },
  {
   "cell_type": "code",
   "execution_count": 59,
   "metadata": {},
   "outputs": [
    {
     "output_type": "execute_result",
     "data": {
      "text/plain": "('Hello doctor get cough last days heavy night times raise temperature feeling tired travel history contact Covid-19 persons four five days drunk lot Benadryl took Paracetamol Doctors shut OP know Please help',\n 'Hello understand concern questions cough phlegm symptoms like difficulty breathing medical condition asthma hypertension smoker Alcoholic beverage drinker')"
     },
     "metadata": {},
     "execution_count": 59
    }
   ],
   "source": [
    "dictionary = {}\n",
    "\n",
    "from nltk import word_tokenize\n",
    "from nltk.corpus import stopwords\n",
    "from string import punctuation\n",
    "from itertools import chain\n",
    "\n",
    "sw = stopwords.words('english')\n",
    "punct = punctuation\n",
    "\n",
    "def clean_data(data):\n",
    "    for item in data:\n",
    "        for item2 in item:\n",
    "            words = word_tokenize(item2)\n",
    "            for word in words:\n",
    "                dictionary.setdefault(word,0)\n",
    "                dictionary[word] += 1\n",
    "    data2 = []\n",
    "    for item in data:\n",
    "        temp = []\n",
    "        for item2 in item:\n",
    "            item2 = \" \".join([token for token in word_tokenize(item2) if dictionary[token] > 0 and token.lower() not in chain(punct, sw)])\n",
    "            temp.append(item2)\n",
    "        temp = tuple(temp)\n",
    "        data2.append(temp)\n",
    "    return data2\n",
    "data2 = clean_data(data)\n",
    "data2[0]"
   ]
  },
  {
   "cell_type": "code",
   "execution_count": 60,
   "metadata": {},
   "outputs": [],
   "source": [
    "from __future__ import unicode_literals, print_function, division\n",
    "from io import open\n",
    "import unicodedata\n",
    "import string\n",
    "import re\n",
    "import random\n",
    "\n",
    "import torch\n",
    "import torch.nn as nn\n",
    "from torch import optim\n",
    "import torch.nn.functional as F\n",
    "\n",
    "device = torch.device(\"cuda\" if torch.cuda.is_available() else \"cpu\")"
   ]
  },
  {
   "cell_type": "code",
   "execution_count": 61,
   "metadata": {},
   "outputs": [],
   "source": [
    "SOS_token = 0\n",
    "EOS_token = 1\n",
    "\n",
    "\n",
    "class Lang:\n",
    "    def __init__(self, name):\n",
    "        self.name = name\n",
    "        self.word2index = {}\n",
    "        self.word2count = {}\n",
    "        self.index2word = {0: \"SOS\", 1: \"EOS\"}\n",
    "        self.n_words = 2  # Count SOS and EOS\n",
    "\n",
    "    def addSentence(self, sentence):\n",
    "        for word in sentence.split(' '):\n",
    "            self.addWord(word)\n",
    "\n",
    "    def addWord(self, word):\n",
    "        if word not in self.word2index:\n",
    "            self.word2index[word] = self.n_words\n",
    "            self.word2count[word] = 1\n",
    "            self.index2word[self.n_words] = word\n",
    "            self.n_words += 1\n",
    "        else:\n",
    "            self.word2count[word] += 1"
   ]
  },
  {
   "cell_type": "code",
   "execution_count": 62,
   "metadata": {},
   "outputs": [],
   "source": [
    "# Turn a Unicode string to plain ASCII, thanks to\n",
    "# https://stackoverflow.com/a/518232/2809427\n",
    "def unicodeToAscii(s):\n",
    "    return ''.join(\n",
    "        c for c in unicodedata.normalize('NFD', s)\n",
    "        if unicodedata.category(c) != 'Mn'\n",
    "    )\n",
    "\n",
    "# Lowercase, trim, and remove non-letter characters\n",
    "\n",
    "\n",
    "def normalizeString(s):\n",
    "    s = unicodeToAscii(s.lower().strip())\n",
    "    s = re.sub(r\"([.!?])\", r\" \\1\", s)\n",
    "    s = re.sub(r\"[^a-zA-Z.!?]+\", r\" \", s)\n",
    "    return s"
   ]
  },
  {
   "cell_type": "code",
   "execution_count": 63,
   "metadata": {},
   "outputs": [],
   "source": [
    "def readLangs(lang):\n",
    "    print(\"Reading lines...\")\n",
    "    '''\n",
    "    # Read the file and split into lines\n",
    "    lines = open('data/%s-%s.txt' % (lang1, lang2), encoding='utf-8').\\\n",
    "        read().strip().split('\\n')\n",
    "\n",
    "    # Split every line into pairs and normalize\n",
    "    pairs = [[normalizeString(s) for s in l.split('\\t')] for l in lines]\n",
    "    '''\n",
    "    pairs = [(normalizeString(item[0]), normalizeString(item[1])) for item in data2]\n",
    "    # Reverse pairs, make Lang instances\n",
    "\n",
    "\n",
    "    lang = Lang(lang)\n",
    "\n",
    "    return lang, pairs"
   ]
  },
  {
   "cell_type": "code",
   "execution_count": 64,
   "metadata": {},
   "outputs": [],
   "source": [
    "MAX_LENGTH = 1000\n",
    "\n",
    "eng_prefixes = (\n",
    "    \"i am \", \"i m \",\n",
    "    \"he is\", \"he s \",\n",
    "    \"she is\", \"she s \",\n",
    "    \"you are\", \"you re \",\n",
    "    \"we are\", \"we re \",\n",
    "    \"they are\", \"they re \"\n",
    ")\n",
    "\n",
    "\n",
    "def filterPair(p):\n",
    "    return len(p[0].split(' ')) < MAX_LENGTH and \\\n",
    "        len(p[1].split(' ')) < MAX_LENGTH\n",
    "\n",
    "\n",
    "def filterPairs(pairs):\n",
    "    return [pair for pair in pairs if filterPair(pair)]"
   ]
  },
  {
   "cell_type": "code",
   "execution_count": 65,
   "metadata": {
    "tags": [
     "outputPrepend"
    ]
   },
   "outputs": [
    {
     "output_type": "stream",
     "name": "stdout",
     "text": "Reading lines...\nRead 628 sentence pairs\nTrimmed to 628 sentence pairs\nCounting words...\nCounted words:\nlang 5282\n('traveled headache spite cough week throat getting sore chest feels slightly tight fever', 'virus viral respiratory tract infection absence fever reassuring time fever shortness breath develop re area covid present call md instructions drink adequate fluids gargle warm salt water also recommend using zinc lozenges take acetaminophen')\n"
    }
   ],
   "source": [
    "def prepareData(lang):\n",
    "    lang, pairs = readLangs(lang)\n",
    "    print(\"Read %s sentence pairs\" % len(pairs))\n",
    "    pairs = filterPairs(pairs)\n",
    "    print(\"Trimmed to %s sentence pairs\" % len(pairs))\n",
    "    print(\"Counting words...\")\n",
    "    for pair in pairs:\n",
    "        #print(pair)\n",
    "        lang.addSentence(pair[0])\n",
    "        lang.addSentence(pair[1])\n",
    "    print(\"Counted words:\")\n",
    "    print(lang.name, lang.n_words)\n",
    "    return lang, pairs\n",
    "\n",
    "\n",
    "lang, pairs = prepareData('lang')\n",
    "print(random.choice(pairs))"
   ]
  },
  {
   "cell_type": "code",
   "execution_count": 66,
   "metadata": {},
   "outputs": [],
   "source": [
    "class EncoderRNN(nn.Module):\n",
    "    def __init__(self, input_size, hidden_size):\n",
    "        super(EncoderRNN, self).__init__()\n",
    "        self.hidden_size = hidden_size\n",
    "\n",
    "        self.embedding = nn.Embedding(input_size, hidden_size)\n",
    "        self.gru = nn.GRU(hidden_size, hidden_size)\n",
    "\n",
    "    def forward(self, input, hidden):\n",
    "        embedded = self.embedding(input).view(1, 1, -1)\n",
    "        output = embedded\n",
    "        output, hidden = self.gru(output, hidden)\n",
    "        return output, hidden\n",
    "\n",
    "    def initHidden(self):\n",
    "        return torch.zeros(1, 1, self.hidden_size, device=device)"
   ]
  },
  {
   "cell_type": "code",
   "execution_count": 67,
   "metadata": {},
   "outputs": [],
   "source": [
    "class DecoderRNN(nn.Module):\n",
    "    def __init__(self, hidden_size, output_size):\n",
    "        super(DecoderRNN, self).__init__()\n",
    "        self.hidden_size = hidden_size\n",
    "\n",
    "        self.embedding = nn.Embedding(output_size, hidden_size)\n",
    "        self.gru = nn.GRU(hidden_size, hidden_size)\n",
    "        self.out = nn.Linear(hidden_size, output_size)\n",
    "        self.softmax = nn.LogSoftmax(dim=1)\n",
    "\n",
    "    def forward(self, input, hidden):\n",
    "        output = self.embedding(input).view(1, 1, -1)\n",
    "        output = F.relu(output)\n",
    "        output, hidden = self.gru(output, hidden)\n",
    "        output = self.softmax(self.out(output[0]))\n",
    "        return output, hidden\n",
    "\n",
    "    def initHidden(self):\n",
    "        return torch.zeros(1, 1, self.hidden_size, device=device)"
   ]
  },
  {
   "cell_type": "code",
   "execution_count": 68,
   "metadata": {},
   "outputs": [],
   "source": [
    "class AttnDecoderRNN(nn.Module):\n",
    "    def __init__(self, hidden_size, output_size, dropout_p=0.1, max_length=MAX_LENGTH):\n",
    "        super(AttnDecoderRNN, self).__init__()\n",
    "        self.hidden_size = hidden_size\n",
    "        self.output_size = output_size\n",
    "        self.dropout_p = dropout_p\n",
    "        self.max_length = max_length\n",
    "\n",
    "        self.embedding = nn.Embedding(self.output_size, self.hidden_size)\n",
    "        self.attn = nn.Linear(self.hidden_size * 2, self.max_length)\n",
    "        self.attn_combine = nn.Linear(self.hidden_size * 2, self.hidden_size)\n",
    "        self.dropout = nn.Dropout(self.dropout_p)\n",
    "        self.gru = nn.GRU(self.hidden_size, self.hidden_size)\n",
    "        self.out = nn.Linear(self.hidden_size, self.output_size)\n",
    "\n",
    "    def forward(self, input, hidden, encoder_outputs):\n",
    "        embedded = self.embedding(input).view(1, 1, -1)\n",
    "        embedded = self.dropout(embedded)\n",
    "\n",
    "        attn_weights = F.softmax(\n",
    "            self.attn(torch.cat((embedded[0], hidden[0]), 1)), dim=1)\n",
    "        attn_applied = torch.bmm(attn_weights.unsqueeze(0),\n",
    "                                 encoder_outputs.unsqueeze(0))\n",
    "\n",
    "        output = torch.cat((embedded[0], attn_applied[0]), 1)\n",
    "        output = self.attn_combine(output).unsqueeze(0)\n",
    "\n",
    "        output = F.relu(output)\n",
    "        output, hidden = self.gru(output, hidden)\n",
    "\n",
    "        output = F.log_softmax(self.out(output[0]), dim=1)\n",
    "        return output, hidden, attn_weights\n",
    "\n",
    "    def initHidden(self):\n",
    "        return torch.zeros(1, 1, self.hidden_size, device=device)"
   ]
  },
  {
   "cell_type": "code",
   "execution_count": 69,
   "metadata": {},
   "outputs": [],
   "source": [
    "def indexesFromSentence(lang, sentence):\n",
    "    return [lang.word2index[word] for word in sentence.split(' ')]\n",
    "\n",
    "\n",
    "def tensorFromSentence(lang, sentence):\n",
    "    indexes = indexesFromSentence(lang, sentence)\n",
    "    indexes.append(EOS_token)\n",
    "    return torch.tensor(indexes, dtype=torch.long, device=device).view(-1, 1)\n",
    "\n",
    "\n",
    "def tensorsFromPair(pair):\n",
    "    input_tensor = tensorFromSentence(lang, pair[0])\n",
    "    target_tensor = tensorFromSentence(lang, pair[1])\n",
    "    return (input_tensor, target_tensor)"
   ]
  },
  {
   "cell_type": "code",
   "execution_count": 70,
   "metadata": {},
   "outputs": [],
   "source": [
    "teacher_forcing_ratio = 0.5\n",
    "\n",
    "\n",
    "def train(input_tensor, target_tensor, encoder, decoder, encoder_optimizer, decoder_optimizer, criterion, max_length=MAX_LENGTH):\n",
    "    encoder_hidden = encoder.initHidden()\n",
    "\n",
    "    encoder_optimizer.zero_grad()\n",
    "    decoder_optimizer.zero_grad()\n",
    "\n",
    "    input_length = input_tensor.size(0)\n",
    "    target_length = target_tensor.size(0)\n",
    "\n",
    "    encoder_outputs = torch.zeros(max_length, encoder.hidden_size, device=device)\n",
    "\n",
    "    loss = 0\n",
    "\n",
    "    for ei in range(input_length):\n",
    "        encoder_output, encoder_hidden = encoder(\n",
    "            input_tensor[ei], encoder_hidden)\n",
    "        encoder_outputs[ei] = encoder_output[0, 0]\n",
    "\n",
    "    decoder_input = torch.tensor([[SOS_token]], device=device)\n",
    "\n",
    "    decoder_hidden = encoder_hidden\n",
    "\n",
    "    use_teacher_forcing = True if random.random() < teacher_forcing_ratio else False\n",
    "\n",
    "    if use_teacher_forcing:\n",
    "        # Teacher forcing: Feed the target as the next input\n",
    "        for di in range(target_length):\n",
    "            decoder_output, decoder_hidden, decoder_attention = decoder(\n",
    "                decoder_input, decoder_hidden, encoder_outputs)\n",
    "            loss += criterion(decoder_output, target_tensor[di])\n",
    "            decoder_input = target_tensor[di]  # Teacher forcing\n",
    "\n",
    "    else:\n",
    "        # Without teacher forcing: use its own predictions as the next input\n",
    "        for di in range(target_length):\n",
    "            decoder_output, decoder_hidden, decoder_attention = decoder(\n",
    "                decoder_input, decoder_hidden, encoder_outputs)\n",
    "            topv, topi = decoder_output.topk(1)\n",
    "            decoder_input = topi.squeeze().detach()  # detach from history as input\n",
    "\n",
    "            loss += criterion(decoder_output, target_tensor[di])\n",
    "            if decoder_input.item() == EOS_token:\n",
    "                break\n",
    "\n",
    "    loss.backward()\n",
    "\n",
    "    encoder_optimizer.step()\n",
    "    decoder_optimizer.step()\n",
    "\n",
    "    return loss.item() / target_length"
   ]
  },
  {
   "cell_type": "code",
   "execution_count": 71,
   "metadata": {},
   "outputs": [],
   "source": [
    "import time\n",
    "import math\n",
    "\n",
    "\n",
    "def asMinutes(s):\n",
    "    m = math.floor(s / 60)\n",
    "    s -= m * 60\n",
    "    return '%dm %ds' % (m, s)\n",
    "\n",
    "\n",
    "def timeSince(since, percent):\n",
    "    now = time.time()\n",
    "    s = now - since\n",
    "    es = s / (percent)\n",
    "    rs = es - s\n",
    "    return '%s (- %s)' % (asMinutes(s), asMinutes(rs))"
   ]
  },
  {
   "cell_type": "code",
   "execution_count": 72,
   "metadata": {},
   "outputs": [],
   "source": [
    "def trainIters(encoder, decoder, n_iters, print_every=1000, plot_every=100, learning_rate=0.01):\n",
    "    start = time.time()\n",
    "    plot_losses = []\n",
    "    print_loss_total = 0  # Reset every print_every\n",
    "    plot_loss_total = 0  # Reset every plot_every\n",
    "\n",
    "    encoder_optimizer = optim.SGD(encoder.parameters(), lr=learning_rate)\n",
    "    decoder_optimizer = optim.SGD(decoder.parameters(), lr=learning_rate)\n",
    "    training_pairs = [tensorsFromPair(random.choice(pairs))\n",
    "                      for i in range(n_iters)]\n",
    "    criterion = nn.NLLLoss()\n",
    "\n",
    "    for iter in range(1, n_iters + 1):\n",
    "        training_pair = training_pairs[iter - 1]\n",
    "        input_tensor = training_pair[0]\n",
    "        target_tensor = training_pair[1]\n",
    "\n",
    "        loss = train(input_tensor, target_tensor, encoder,\n",
    "                     decoder, encoder_optimizer, decoder_optimizer, criterion)\n",
    "        print_loss_total += loss\n",
    "        plot_loss_total += loss\n",
    "\n",
    "        if iter % print_every == 0:\n",
    "            print_loss_avg = print_loss_total / print_every\n",
    "            print_loss_total = 0\n",
    "            print('%s (%d %d%%) %.4f' % (timeSince(start, iter / n_iters),\n",
    "                                         iter, iter / n_iters * 100, print_loss_avg))\n",
    "\n",
    "        if iter % plot_every == 0:\n",
    "            plot_loss_avg = plot_loss_total / plot_every\n",
    "            plot_losses.append(plot_loss_avg)\n",
    "            plot_loss_total = 0\n",
    "\n",
    "    showPlot(plot_losses)"
   ]
  },
  {
   "cell_type": "code",
   "execution_count": 73,
   "metadata": {},
   "outputs": [],
   "source": [
    "import matplotlib.pyplot as plt\n",
    "plt.switch_backend('agg')\n",
    "import matplotlib.ticker as ticker\n",
    "import numpy as np\n",
    "\n",
    "\n",
    "def showPlot(points):\n",
    "    plt.figure()\n",
    "    fig, ax = plt.subplots()\n",
    "    # this locator puts ticks at regular intervals\n",
    "    loc = ticker.MultipleLocator(base=0.2)\n",
    "    ax.yaxis.set_major_locator(loc)\n",
    "    plt.plot(points)"
   ]
  },
  {
   "cell_type": "code",
   "execution_count": 74,
   "metadata": {},
   "outputs": [],
   "source": [
    "def evaluate(encoder, decoder, sentence, max_length=MAX_LENGTH):\n",
    "    with torch.no_grad():\n",
    "        input_tensor = tensorFromSentence(lang, sentence)\n",
    "        input_length = input_tensor.size()[0]\n",
    "        encoder_hidden = encoder.initHidden()\n",
    "\n",
    "        encoder_outputs = torch.zeros(max_length, encoder.hidden_size, device=device)\n",
    "\n",
    "        for ei in range(input_length):\n",
    "            encoder_output, encoder_hidden = encoder(input_tensor[ei],\n",
    "                                                     encoder_hidden)\n",
    "            encoder_outputs[ei] += encoder_output[0, 0]\n",
    "\n",
    "        decoder_input = torch.tensor([[SOS_token]], device=device)  # SOS\n",
    "\n",
    "        decoder_hidden = encoder_hidden\n",
    "\n",
    "        decoded_words = []\n",
    "        decoder_attentions = torch.zeros(max_length, max_length)\n",
    "\n",
    "        for di in range(max_length):\n",
    "            decoder_output, decoder_hidden, decoder_attention = decoder(\n",
    "                decoder_input, decoder_hidden, encoder_outputs)\n",
    "            decoder_attentions[di] = decoder_attention.data\n",
    "            topv, topi = decoder_output.data.topk(1)\n",
    "            if topi.item() == EOS_token:\n",
    "                decoded_words.append('<EOS>')\n",
    "                break\n",
    "            else:\n",
    "                decoded_words.append(lang.index2word[topi.item()])\n",
    "\n",
    "            decoder_input = topi.squeeze().detach()\n",
    "\n",
    "        return decoded_words, decoder_attentions[:di + 1]"
   ]
  },
  {
   "cell_type": "code",
   "execution_count": 75,
   "metadata": {},
   "outputs": [],
   "source": [
    "def evaluateRandomly(encoder, decoder, n=10):\n",
    "    for i in range(n):\n",
    "        pair = random.choice(pairs)\n",
    "        print('>', pair[0])\n",
    "        print('=', pair[1])\n",
    "        output_words, attentions = evaluate(encoder, decoder, pair[0])\n",
    "        output_sentence = ' '.join(output_words)\n",
    "        print('<', output_sentence)\n",
    "        print('')"
   ]
  },
  {
   "cell_type": "code",
   "execution_count": 76,
   "metadata": {},
   "outputs": [
    {
     "output_type": "stream",
     "name": "stdout",
     "text": "0m 10s (- 36m 26s) (50 0%) 5.0889\n0m 16s (- 27m 28s) (100 1%) 3.6654\n0m 26s (- 28m 29s) (150 1%) 5.0958\n0m 32s (- 26m 19s) (200 2%) 4.0895\n0m 40s (- 26m 5s) (250 2%) 4.8753\n0m 47s (- 25m 32s) (300 3%) 4.9326\n0m 55s (- 25m 39s) (350 3%) 5.7255\n1m 4s (- 25m 44s) (400 4%) 4.9985\n1m 14s (- 26m 22s) (450 4%) 5.6726\n1m 21s (- 25m 45s) (500 5%) 5.4888\n1m 30s (- 25m 46s) (550 5%) 5.3183\n1m 39s (- 25m 58s) (600 6%) 5.4049\n1m 47s (- 25m 52s) (650 6%) 4.9827\n1m 56s (- 25m 53s) (700 7%) 5.5618\n2m 4s (- 25m 31s) (750 7%) 4.5864\n2m 10s (- 25m 5s) (800 8%) 4.5715\n2m 19s (- 24m 56s) (850 8%) 5.2281\n2m 26s (- 24m 37s) (900 9%) 5.1172\n2m 35s (- 24m 40s) (950 9%) 5.5799\n2m 42s (- 24m 20s) (1000 10%) 4.7767\n2m 49s (- 24m 8s) (1050 10%) 5.6481\n2m 59s (- 24m 13s) (1100 11%) 5.6808\n3m 8s (- 24m 12s) (1150 11%) 5.2945\n3m 18s (- 24m 16s) (1200 12%) 5.4602\n3m 26s (- 24m 6s) (1250 12%) 5.3109\n3m 35s (- 24m 1s) (1300 13%) 5.7788\n3m 43s (- 23m 54s) (1350 13%) 5.1921\n3m 53s (- 23m 56s) (1400 14%) 5.7180\n4m 2s (- 23m 49s) (1450 14%) 4.9261\n4m 9s (- 23m 34s) (1500 15%) 5.0097\n4m 17s (- 23m 24s) (1550 15%) 5.3437\n4m 26s (- 23m 18s) (1600 16%) 5.0788\n4m 35s (- 23m 13s) (1650 16%) 5.0668\n4m 44s (- 23m 9s) (1700 17%) 5.0230\n4m 54s (- 23m 7s) (1750 17%) 5.3477\n5m 2s (- 22m 59s) (1800 18%) 5.2776\n5m 10s (- 22m 49s) (1850 18%) 4.6274\n5m 18s (- 22m 38s) (1900 19%) 5.2605\n5m 27s (- 22m 31s) (1950 19%) 4.8086\n5m 35s (- 22m 20s) (2000 20%) 4.6774\n5m 44s (- 22m 15s) (2050 20%) 5.2890\n5m 52s (- 22m 5s) (2100 21%) 4.5326\n6m 2s (- 22m 3s) (2150 21%) 5.5089\n6m 11s (- 21m 57s) (2200 22%) 4.6662\n6m 20s (- 21m 50s) (2250 22%) 4.9018\n6m 28s (- 21m 39s) (2300 23%) 4.3741\n6m 37s (- 21m 33s) (2350 23%) 4.7334\n6m 46s (- 21m 26s) (2400 24%) 5.2179\n6m 56s (- 21m 22s) (2450 24%) 5.1192\n7m 3s (- 21m 11s) (2500 25%) 4.8322\n7m 13s (- 21m 7s) (2550 25%) 4.8790\n7m 22s (- 20m 59s) (2600 26%) 5.3835\n7m 30s (- 20m 49s) (2650 26%) 4.9783\n7m 40s (- 20m 43s) (2700 27%) 4.6271\n7m 49s (- 20m 37s) (2750 27%) 4.8435\n7m 57s (- 20m 28s) (2800 28%) 4.6911\n8m 9s (- 20m 27s) (2850 28%) 4.7723\n8m 16s (- 20m 14s) (2900 28%) 4.6491\n8m 26s (- 20m 9s) (2950 29%) 4.9354\n8m 35s (- 20m 2s) (3000 30%) 4.8937\n8m 42s (- 19m 50s) (3050 30%) 4.5927\n8m 50s (- 19m 40s) (3100 31%) 4.7843\n8m 57s (- 19m 28s) (3150 31%) 4.9270\n9m 5s (- 19m 19s) (3200 32%) 4.7634\n9m 13s (- 19m 9s) (3250 32%) 4.8571\n9m 20s (- 18m 58s) (3300 33%) 4.8502\n9m 28s (- 18m 47s) (3350 33%) 4.2198\n9m 39s (- 18m 44s) (3400 34%) 4.8418\n9m 47s (- 18m 34s) (3450 34%) 4.7596\n9m 54s (- 18m 24s) (3500 35%) 4.5325\n10m 4s (- 18m 18s) (3550 35%) 5.4443\n10m 12s (- 18m 8s) (3600 36%) 4.7507\n10m 20s (- 17m 59s) (3650 36%) 5.0614\n10m 27s (- 17m 48s) (3700 37%) 4.4257\n10m 35s (- 17m 39s) (3750 37%) 4.4507\n10m 44s (- 17m 30s) (3800 38%) 4.8025\n10m 51s (- 17m 20s) (3850 38%) 4.3050\n11m 1s (- 17m 14s) (3900 39%) 4.8784\n11m 9s (- 17m 6s) (3950 39%) 5.0366\n11m 17s (- 16m 56s) (4000 40%) 4.6538\n11m 26s (- 16m 48s) (4050 40%) 4.6018\n11m 38s (- 16m 45s) (4100 41%) 4.9597\n11m 49s (- 16m 40s) (4150 41%) 4.8327\n11m 59s (- 16m 34s) (4200 42%) 4.6638\n12m 7s (- 16m 23s) (4250 42%) 4.6257\n12m 15s (- 16m 15s) (4300 43%) 4.6413\n12m 23s (- 16m 5s) (4350 43%) 4.5763\n12m 31s (- 15m 56s) (4400 44%) 4.4861\n12m 39s (- 15m 47s) (4450 44%) 4.9664\n12m 47s (- 15m 38s) (4500 45%) 4.6172\n12m 55s (- 15m 28s) (4550 45%) 4.4606\n13m 3s (- 15m 20s) (4600 46%) 4.4905\n13m 13s (- 15m 12s) (4650 46%) 4.9303\n13m 21s (- 15m 3s) (4700 47%) 4.6234\n13m 29s (- 14m 54s) (4750 47%) 4.5332\n13m 37s (- 14m 45s) (4800 48%) 4.6620\n13m 46s (- 14m 37s) (4850 48%) 3.9485\n13m 55s (- 14m 29s) (4900 49%) 4.6295\n14m 3s (- 14m 20s) (4950 49%) 4.1391\n14m 11s (- 14m 11s) (5000 50%) 4.1446\n14m 19s (- 14m 2s) (5050 50%) 4.5877\n14m 28s (- 13m 54s) (5100 51%) 4.5484\n14m 38s (- 13m 46s) (5150 51%) 4.4850\n14m 47s (- 13m 39s) (5200 52%) 4.8241\n14m 56s (- 13m 31s) (5250 52%) 4.2195\n15m 3s (- 13m 21s) (5300 53%) 4.2720\n15m 11s (- 13m 12s) (5350 53%) 4.7149\n15m 19s (- 13m 2s) (5400 54%) 4.2482\n15m 27s (- 12m 54s) (5450 54%) 4.3254\n15m 36s (- 12m 46s) (5500 55%) 4.1882\n15m 45s (- 12m 37s) (5550 55%) 4.7389\n15m 52s (- 12m 28s) (5600 56%) 4.3935\n16m 0s (- 12m 19s) (5650 56%) 4.7561\n16m 8s (- 12m 10s) (5700 56%) 4.5843\n16m 18s (- 12m 3s) (5750 57%) 4.6608\n16m 30s (- 11m 57s) (5800 57%) 4.6893\n16m 42s (- 11m 50s) (5850 58%) 4.3296\n16m 53s (- 11m 44s) (5900 59%) 4.3015\n17m 5s (- 11m 37s) (5950 59%) 4.1655\n17m 13s (- 11m 28s) (6000 60%) 4.1596\n17m 22s (- 11m 20s) (6050 60%) 4.4194\n17m 30s (- 11m 11s) (6100 61%) 4.2854\n17m 38s (- 11m 2s) (6150 61%) 4.3662\n17m 45s (- 10m 52s) (6200 62%) 4.5633\n17m 53s (- 10m 43s) (6250 62%) 4.6305\n18m 2s (- 10m 35s) (6300 63%) 4.5961\n18m 9s (- 10m 26s) (6350 63%) 3.8859\n18m 16s (- 10m 16s) (6400 64%) 3.9569\n18m 24s (- 10m 7s) (6450 64%) 4.5813\n18m 31s (- 9m 58s) (6500 65%) 4.0326\n18m 38s (- 9m 49s) (6550 65%) 3.9643\n18m 46s (- 9m 40s) (6600 66%) 4.6665\n18m 54s (- 9m 31s) (6650 66%) 4.3761\n19m 5s (- 9m 23s) (6700 67%) 4.3486\n19m 15s (- 9m 16s) (6750 67%) 4.1567\n19m 23s (- 9m 7s) (6800 68%) 4.2261\n19m 31s (- 8m 58s) (6850 68%) 4.0762\n19m 40s (- 8m 50s) (6900 69%) 4.1528\n19m 49s (- 8m 41s) (6950 69%) 4.4568\n19m 56s (- 8m 32s) (7000 70%) 4.4818\n20m 5s (- 8m 24s) (7050 70%) 4.6758\n20m 12s (- 8m 15s) (7100 71%) 4.5064\n20m 19s (- 8m 6s) (7150 71%) 4.1002\n20m 26s (- 7m 57s) (7200 72%) 3.9837\n20m 34s (- 7m 48s) (7250 72%) 4.2488\n20m 43s (- 7m 39s) (7300 73%) 4.1327\n20m 50s (- 7m 30s) (7350 73%) 3.8818\n20m 58s (- 7m 22s) (7400 74%) 4.0921\n21m 7s (- 7m 13s) (7450 74%) 3.9846\n21m 14s (- 7m 4s) (7500 75%) 3.7236\n21m 21s (- 6m 55s) (7550 75%) 3.9193\n21m 37s (- 6m 49s) (7600 76%) 4.0617\n21m 47s (- 6m 41s) (7650 76%) 3.8686\n22m 0s (- 6m 34s) (7700 77%) 4.0219\n22m 11s (- 6m 26s) (7750 77%) 4.1218\n22m 21s (- 6m 18s) (7800 78%) 4.0331\n22m 32s (- 6m 10s) (7850 78%) 4.0211\n22m 42s (- 6m 2s) (7900 79%) 3.9628\n22m 50s (- 5m 53s) (7950 79%) 3.9242\n22m 59s (- 5m 44s) (8000 80%) 3.9806\n23m 7s (- 5m 36s) (8050 80%) 3.9360\n23m 15s (- 5m 27s) (8100 81%) 3.8188\n23m 24s (- 5m 18s) (8150 81%) 3.9503\n23m 34s (- 5m 10s) (8200 82%) 4.2355\n23m 41s (- 5m 1s) (8250 82%) 4.3088\n23m 50s (- 4m 52s) (8300 83%) 3.7745\n23m 58s (- 4m 44s) (8350 83%) 3.9228\n24m 6s (- 4m 35s) (8400 84%) 3.9124\n24m 13s (- 4m 26s) (8450 84%) 3.9080\n24m 21s (- 4m 17s) (8500 85%) 3.6677\n24m 29s (- 4m 9s) (8550 85%) 3.6231\n24m 38s (- 4m 0s) (8600 86%) 3.9508\n24m 51s (- 3m 52s) (8650 86%) 4.0186\n25m 1s (- 3m 44s) (8700 87%) 3.7222\n25m 9s (- 3m 35s) (8750 87%) 3.6431\n25m 17s (- 3m 26s) (8800 88%) 3.9658\n25m 26s (- 3m 18s) (8850 88%) 3.7892\n25m 35s (- 3m 9s) (8900 89%) 3.6230\n25m 46s (- 3m 1s) (8950 89%) 3.2361\n25m 54s (- 2m 52s) (9000 90%) 3.3839\n26m 3s (- 2m 44s) (9050 90%) 3.9836\n26m 15s (- 2m 35s) (9100 91%) 3.6932\n26m 25s (- 2m 27s) (9150 91%) 4.3269\n26m 35s (- 2m 18s) (9200 92%) 3.7997\n26m 45s (- 2m 10s) (9250 92%) 3.8949\n26m 56s (- 2m 1s) (9300 93%) 4.1015\n27m 5s (- 1m 52s) (9350 93%) 3.8209\n27m 18s (- 1m 44s) (9400 94%) 4.3151\n27m 29s (- 1m 36s) (9450 94%) 4.0252\n27m 39s (- 1m 27s) (9500 95%) 3.5239\n27m 48s (- 1m 18s) (9550 95%) 3.8099\n27m 56s (- 1m 9s) (9600 96%) 3.5329\n28m 9s (- 1m 1s) (9650 96%) 3.6345\n28m 18s (- 0m 52s) (9700 97%) 3.9558\n28m 27s (- 0m 43s) (9750 97%) 3.5831\n28m 35s (- 0m 35s) (9800 98%) 3.5951\n28m 44s (- 0m 26s) (9850 98%) 3.3214\n28m 53s (- 0m 17s) (9900 99%) 3.5148\n29m 1s (- 0m 8s) (9950 99%) 3.7978\n29m 11s (- 0m 0s) (10000 100%) 3.9340\n"
    },
    {
     "output_type": "display_data",
     "data": {
      "text/plain": "<Figure size 432x288 with 0 Axes>"
     },
     "metadata": {}
    },
    {
     "output_type": "display_data",
     "data": {
      "text/plain": "<Figure size 432x288 with 1 Axes>",
      "image/svg+xml": "<?xml version=\"1.0\" encoding=\"utf-8\" standalone=\"no\"?>\n<!DOCTYPE svg PUBLIC \"-//W3C//DTD SVG 1.1//EN\"\n  \"http://www.w3.org/Graphics/SVG/1.1/DTD/svg11.dtd\">\n<!-- Created with matplotlib (https://matplotlib.org/) -->\n<svg height=\"248.518125pt\" version=\"1.1\" viewBox=\"0 0 372.103125 248.518125\" width=\"372.103125pt\" xmlns=\"http://www.w3.org/2000/svg\" xmlns:xlink=\"http://www.w3.org/1999/xlink\">\n <defs>\n  <style type=\"text/css\">\n*{stroke-linecap:butt;stroke-linejoin:round;}\n  </style>\n </defs>\n <g id=\"figure_1\">\n  <g id=\"patch_1\">\n   <path d=\"M 0 248.518125 \nL 372.103125 248.518125 \nL 372.103125 0 \nL 0 0 \nz\n\" style=\"fill:none;\"/>\n  </g>\n  <g id=\"axes_1\">\n   <g id=\"patch_2\">\n    <path d=\"M 30.103125 224.64 \nL 364.903125 224.64 \nL 364.903125 7.2 \nL 30.103125 7.2 \nz\n\" style=\"fill:#ffffff;\"/>\n   </g>\n   <g id=\"matplotlib.axis_1\">\n    <g id=\"xtick_1\">\n     <g id=\"line2d_1\">\n      <defs>\n       <path d=\"M 0 0 \nL 0 3.5 \n\" id=\"m3037d19fc5\" style=\"stroke:#000000;stroke-width:0.8;\"/>\n      </defs>\n      <g>\n       <use style=\"stroke:#000000;stroke-width:0.8;\" x=\"45.321307\" xlink:href=\"#m3037d19fc5\" y=\"224.64\"/>\n      </g>\n     </g>\n     <g id=\"text_1\">\n      <!-- 0 -->\n      <defs>\n       <path d=\"M 31.78125 66.40625 \nQ 24.171875 66.40625 20.328125 58.90625 \nQ 16.5 51.421875 16.5 36.375 \nQ 16.5 21.390625 20.328125 13.890625 \nQ 24.171875 6.390625 31.78125 6.390625 \nQ 39.453125 6.390625 43.28125 13.890625 \nQ 47.125 21.390625 47.125 36.375 \nQ 47.125 51.421875 43.28125 58.90625 \nQ 39.453125 66.40625 31.78125 66.40625 \nz\nM 31.78125 74.21875 \nQ 44.046875 74.21875 50.515625 64.515625 \nQ 56.984375 54.828125 56.984375 36.375 \nQ 56.984375 17.96875 50.515625 8.265625 \nQ 44.046875 -1.421875 31.78125 -1.421875 \nQ 19.53125 -1.421875 13.0625 8.265625 \nQ 6.59375 17.96875 6.59375 36.375 \nQ 6.59375 54.828125 13.0625 64.515625 \nQ 19.53125 74.21875 31.78125 74.21875 \nz\n\" id=\"DejaVuSans-48\"/>\n      </defs>\n      <g transform=\"translate(42.140057 239.238437)scale(0.1 -0.1)\">\n       <use xlink:href=\"#DejaVuSans-48\"/>\n      </g>\n     </g>\n    </g>\n    <g id=\"xtick_2\">\n     <g id=\"line2d_2\">\n      <g>\n       <use style=\"stroke:#000000;stroke-width:0.8;\" x=\"106.80891\" xlink:href=\"#m3037d19fc5\" y=\"224.64\"/>\n      </g>\n     </g>\n     <g id=\"text_2\">\n      <!-- 20 -->\n      <defs>\n       <path d=\"M 19.1875 8.296875 \nL 53.609375 8.296875 \nL 53.609375 0 \nL 7.328125 0 \nL 7.328125 8.296875 \nQ 12.9375 14.109375 22.625 23.890625 \nQ 32.328125 33.6875 34.8125 36.53125 \nQ 39.546875 41.84375 41.421875 45.53125 \nQ 43.3125 49.21875 43.3125 52.78125 \nQ 43.3125 58.59375 39.234375 62.25 \nQ 35.15625 65.921875 28.609375 65.921875 \nQ 23.96875 65.921875 18.8125 64.3125 \nQ 13.671875 62.703125 7.8125 59.421875 \nL 7.8125 69.390625 \nQ 13.765625 71.78125 18.9375 73 \nQ 24.125 74.21875 28.421875 74.21875 \nQ 39.75 74.21875 46.484375 68.546875 \nQ 53.21875 62.890625 53.21875 53.421875 \nQ 53.21875 48.921875 51.53125 44.890625 \nQ 49.859375 40.875 45.40625 35.40625 \nQ 44.1875 33.984375 37.640625 27.21875 \nQ 31.109375 20.453125 19.1875 8.296875 \nz\n\" id=\"DejaVuSans-50\"/>\n      </defs>\n      <g transform=\"translate(100.44641 239.238437)scale(0.1 -0.1)\">\n       <use xlink:href=\"#DejaVuSans-50\"/>\n       <use x=\"63.623047\" xlink:href=\"#DejaVuSans-48\"/>\n      </g>\n     </g>\n    </g>\n    <g id=\"xtick_3\">\n     <g id=\"line2d_3\">\n      <g>\n       <use style=\"stroke:#000000;stroke-width:0.8;\" x=\"168.296513\" xlink:href=\"#m3037d19fc5\" y=\"224.64\"/>\n      </g>\n     </g>\n     <g id=\"text_3\">\n      <!-- 40 -->\n      <defs>\n       <path d=\"M 37.796875 64.3125 \nL 12.890625 25.390625 \nL 37.796875 25.390625 \nz\nM 35.203125 72.90625 \nL 47.609375 72.90625 \nL 47.609375 25.390625 \nL 58.015625 25.390625 \nL 58.015625 17.1875 \nL 47.609375 17.1875 \nL 47.609375 0 \nL 37.796875 0 \nL 37.796875 17.1875 \nL 4.890625 17.1875 \nL 4.890625 26.703125 \nz\n\" id=\"DejaVuSans-52\"/>\n      </defs>\n      <g transform=\"translate(161.934013 239.238437)scale(0.1 -0.1)\">\n       <use xlink:href=\"#DejaVuSans-52\"/>\n       <use x=\"63.623047\" xlink:href=\"#DejaVuSans-48\"/>\n      </g>\n     </g>\n    </g>\n    <g id=\"xtick_4\">\n     <g id=\"line2d_4\">\n      <g>\n       <use style=\"stroke:#000000;stroke-width:0.8;\" x=\"229.784117\" xlink:href=\"#m3037d19fc5\" y=\"224.64\"/>\n      </g>\n     </g>\n     <g id=\"text_4\">\n      <!-- 60 -->\n      <defs>\n       <path d=\"M 33.015625 40.375 \nQ 26.375 40.375 22.484375 35.828125 \nQ 18.609375 31.296875 18.609375 23.390625 \nQ 18.609375 15.53125 22.484375 10.953125 \nQ 26.375 6.390625 33.015625 6.390625 \nQ 39.65625 6.390625 43.53125 10.953125 \nQ 47.40625 15.53125 47.40625 23.390625 \nQ 47.40625 31.296875 43.53125 35.828125 \nQ 39.65625 40.375 33.015625 40.375 \nz\nM 52.59375 71.296875 \nL 52.59375 62.3125 \nQ 48.875 64.0625 45.09375 64.984375 \nQ 41.3125 65.921875 37.59375 65.921875 \nQ 27.828125 65.921875 22.671875 59.328125 \nQ 17.53125 52.734375 16.796875 39.40625 \nQ 19.671875 43.65625 24.015625 45.921875 \nQ 28.375 48.1875 33.59375 48.1875 \nQ 44.578125 48.1875 50.953125 41.515625 \nQ 57.328125 34.859375 57.328125 23.390625 \nQ 57.328125 12.15625 50.6875 5.359375 \nQ 44.046875 -1.421875 33.015625 -1.421875 \nQ 20.359375 -1.421875 13.671875 8.265625 \nQ 6.984375 17.96875 6.984375 36.375 \nQ 6.984375 53.65625 15.1875 63.9375 \nQ 23.390625 74.21875 37.203125 74.21875 \nQ 40.921875 74.21875 44.703125 73.484375 \nQ 48.484375 72.75 52.59375 71.296875 \nz\n\" id=\"DejaVuSans-54\"/>\n      </defs>\n      <g transform=\"translate(223.421617 239.238437)scale(0.1 -0.1)\">\n       <use xlink:href=\"#DejaVuSans-54\"/>\n       <use x=\"63.623047\" xlink:href=\"#DejaVuSans-48\"/>\n      </g>\n     </g>\n    </g>\n    <g id=\"xtick_5\">\n     <g id=\"line2d_5\">\n      <g>\n       <use style=\"stroke:#000000;stroke-width:0.8;\" x=\"291.27172\" xlink:href=\"#m3037d19fc5\" y=\"224.64\"/>\n      </g>\n     </g>\n     <g id=\"text_5\">\n      <!-- 80 -->\n      <defs>\n       <path d=\"M 31.78125 34.625 \nQ 24.75 34.625 20.71875 30.859375 \nQ 16.703125 27.09375 16.703125 20.515625 \nQ 16.703125 13.921875 20.71875 10.15625 \nQ 24.75 6.390625 31.78125 6.390625 \nQ 38.8125 6.390625 42.859375 10.171875 \nQ 46.921875 13.96875 46.921875 20.515625 \nQ 46.921875 27.09375 42.890625 30.859375 \nQ 38.875 34.625 31.78125 34.625 \nz\nM 21.921875 38.8125 \nQ 15.578125 40.375 12.03125 44.71875 \nQ 8.5 49.078125 8.5 55.328125 \nQ 8.5 64.0625 14.71875 69.140625 \nQ 20.953125 74.21875 31.78125 74.21875 \nQ 42.671875 74.21875 48.875 69.140625 \nQ 55.078125 64.0625 55.078125 55.328125 \nQ 55.078125 49.078125 51.53125 44.71875 \nQ 48 40.375 41.703125 38.8125 \nQ 48.828125 37.15625 52.796875 32.3125 \nQ 56.78125 27.484375 56.78125 20.515625 \nQ 56.78125 9.90625 50.3125 4.234375 \nQ 43.84375 -1.421875 31.78125 -1.421875 \nQ 19.734375 -1.421875 13.25 4.234375 \nQ 6.78125 9.90625 6.78125 20.515625 \nQ 6.78125 27.484375 10.78125 32.3125 \nQ 14.796875 37.15625 21.921875 38.8125 \nz\nM 18.3125 54.390625 \nQ 18.3125 48.734375 21.84375 45.5625 \nQ 25.390625 42.390625 31.78125 42.390625 \nQ 38.140625 42.390625 41.71875 45.5625 \nQ 45.3125 48.734375 45.3125 54.390625 \nQ 45.3125 60.0625 41.71875 63.234375 \nQ 38.140625 66.40625 31.78125 66.40625 \nQ 25.390625 66.40625 21.84375 63.234375 \nQ 18.3125 60.0625 18.3125 54.390625 \nz\n\" id=\"DejaVuSans-56\"/>\n      </defs>\n      <g transform=\"translate(284.90922 239.238437)scale(0.1 -0.1)\">\n       <use xlink:href=\"#DejaVuSans-56\"/>\n       <use x=\"63.623047\" xlink:href=\"#DejaVuSans-48\"/>\n      </g>\n     </g>\n    </g>\n    <g id=\"xtick_6\">\n     <g id=\"line2d_6\">\n      <g>\n       <use style=\"stroke:#000000;stroke-width:0.8;\" x=\"352.759323\" xlink:href=\"#m3037d19fc5\" y=\"224.64\"/>\n      </g>\n     </g>\n     <g id=\"text_6\">\n      <!-- 100 -->\n      <defs>\n       <path d=\"M 12.40625 8.296875 \nL 28.515625 8.296875 \nL 28.515625 63.921875 \nL 10.984375 60.40625 \nL 10.984375 69.390625 \nL 28.421875 72.90625 \nL 38.28125 72.90625 \nL 38.28125 8.296875 \nL 54.390625 8.296875 \nL 54.390625 0 \nL 12.40625 0 \nz\n\" id=\"DejaVuSans-49\"/>\n      </defs>\n      <g transform=\"translate(343.215573 239.238437)scale(0.1 -0.1)\">\n       <use xlink:href=\"#DejaVuSans-49\"/>\n       <use x=\"63.623047\" xlink:href=\"#DejaVuSans-48\"/>\n       <use x=\"127.246094\" xlink:href=\"#DejaVuSans-48\"/>\n      </g>\n     </g>\n    </g>\n   </g>\n   <g id=\"matplotlib.axis_2\">\n    <g id=\"ytick_1\">\n     <g id=\"line2d_7\">\n      <defs>\n       <path d=\"M 0 0 \nL -3.5 0 \n\" id=\"m9b599d10a8\" style=\"stroke:#000000;stroke-width:0.8;\"/>\n      </defs>\n      <g>\n       <use style=\"stroke:#000000;stroke-width:0.8;\" x=\"30.103125\" xlink:href=\"#m9b599d10a8\" y=\"223.994142\"/>\n      </g>\n     </g>\n     <g id=\"text_7\">\n      <!-- 3.2 -->\n      <defs>\n       <path d=\"M 40.578125 39.3125 \nQ 47.65625 37.796875 51.625 33 \nQ 55.609375 28.21875 55.609375 21.1875 \nQ 55.609375 10.40625 48.1875 4.484375 \nQ 40.765625 -1.421875 27.09375 -1.421875 \nQ 22.515625 -1.421875 17.65625 -0.515625 \nQ 12.796875 0.390625 7.625 2.203125 \nL 7.625 11.71875 \nQ 11.71875 9.328125 16.59375 8.109375 \nQ 21.484375 6.890625 26.8125 6.890625 \nQ 36.078125 6.890625 40.9375 10.546875 \nQ 45.796875 14.203125 45.796875 21.1875 \nQ 45.796875 27.640625 41.28125 31.265625 \nQ 36.765625 34.90625 28.71875 34.90625 \nL 20.21875 34.90625 \nL 20.21875 43.015625 \nL 29.109375 43.015625 \nQ 36.375 43.015625 40.234375 45.921875 \nQ 44.09375 48.828125 44.09375 54.296875 \nQ 44.09375 59.90625 40.109375 62.90625 \nQ 36.140625 65.921875 28.71875 65.921875 \nQ 24.65625 65.921875 20.015625 65.03125 \nQ 15.375 64.15625 9.8125 62.3125 \nL 9.8125 71.09375 \nQ 15.4375 72.65625 20.34375 73.4375 \nQ 25.25 74.21875 29.59375 74.21875 \nQ 40.828125 74.21875 47.359375 69.109375 \nQ 53.90625 64.015625 53.90625 55.328125 \nQ 53.90625 49.265625 50.4375 45.09375 \nQ 46.96875 40.921875 40.578125 39.3125 \nz\n\" id=\"DejaVuSans-51\"/>\n       <path d=\"M 10.6875 12.40625 \nL 21 12.40625 \nL 21 0 \nL 10.6875 0 \nz\n\" id=\"DejaVuSans-46\"/>\n      </defs>\n      <g transform=\"translate(7.2 227.793361)scale(0.1 -0.1)\">\n       <use xlink:href=\"#DejaVuSans-51\"/>\n       <use x=\"63.623047\" xlink:href=\"#DejaVuSans-46\"/>\n       <use x=\"95.410156\" xlink:href=\"#DejaVuSans-50\"/>\n      </g>\n     </g>\n    </g>\n    <g id=\"ytick_2\">\n     <g id=\"line2d_8\">\n      <g>\n       <use style=\"stroke:#000000;stroke-width:0.8;\" x=\"30.103125\" xlink:href=\"#m9b599d10a8\" y=\"207.202229\"/>\n      </g>\n     </g>\n     <g id=\"text_8\">\n      <!-- 3.4 -->\n      <g transform=\"translate(7.2 211.001448)scale(0.1 -0.1)\">\n       <use xlink:href=\"#DejaVuSans-51\"/>\n       <use x=\"63.623047\" xlink:href=\"#DejaVuSans-46\"/>\n       <use x=\"95.410156\" xlink:href=\"#DejaVuSans-52\"/>\n      </g>\n     </g>\n    </g>\n    <g id=\"ytick_3\">\n     <g id=\"line2d_9\">\n      <g>\n       <use style=\"stroke:#000000;stroke-width:0.8;\" x=\"30.103125\" xlink:href=\"#m9b599d10a8\" y=\"190.410316\"/>\n      </g>\n     </g>\n     <g id=\"text_9\">\n      <!-- 3.6 -->\n      <g transform=\"translate(7.2 194.209535)scale(0.1 -0.1)\">\n       <use xlink:href=\"#DejaVuSans-51\"/>\n       <use x=\"63.623047\" xlink:href=\"#DejaVuSans-46\"/>\n       <use x=\"95.410156\" xlink:href=\"#DejaVuSans-54\"/>\n      </g>\n     </g>\n    </g>\n    <g id=\"ytick_4\">\n     <g id=\"line2d_10\">\n      <g>\n       <use style=\"stroke:#000000;stroke-width:0.8;\" x=\"30.103125\" xlink:href=\"#m9b599d10a8\" y=\"173.618403\"/>\n      </g>\n     </g>\n     <g id=\"text_10\">\n      <!-- 3.8 -->\n      <g transform=\"translate(7.2 177.417622)scale(0.1 -0.1)\">\n       <use xlink:href=\"#DejaVuSans-51\"/>\n       <use x=\"63.623047\" xlink:href=\"#DejaVuSans-46\"/>\n       <use x=\"95.410156\" xlink:href=\"#DejaVuSans-56\"/>\n      </g>\n     </g>\n    </g>\n    <g id=\"ytick_5\">\n     <g id=\"line2d_11\">\n      <g>\n       <use style=\"stroke:#000000;stroke-width:0.8;\" x=\"30.103125\" xlink:href=\"#m9b599d10a8\" y=\"156.82649\"/>\n      </g>\n     </g>\n     <g id=\"text_11\">\n      <!-- 4.0 -->\n      <g transform=\"translate(7.2 160.625709)scale(0.1 -0.1)\">\n       <use xlink:href=\"#DejaVuSans-52\"/>\n       <use x=\"63.623047\" xlink:href=\"#DejaVuSans-46\"/>\n       <use x=\"95.410156\" xlink:href=\"#DejaVuSans-48\"/>\n      </g>\n     </g>\n    </g>\n    <g id=\"ytick_6\">\n     <g id=\"line2d_12\">\n      <g>\n       <use style=\"stroke:#000000;stroke-width:0.8;\" x=\"30.103125\" xlink:href=\"#m9b599d10a8\" y=\"140.034578\"/>\n      </g>\n     </g>\n     <g id=\"text_12\">\n      <!-- 4.2 -->\n      <g transform=\"translate(7.2 143.833796)scale(0.1 -0.1)\">\n       <use xlink:href=\"#DejaVuSans-52\"/>\n       <use x=\"63.623047\" xlink:href=\"#DejaVuSans-46\"/>\n       <use x=\"95.410156\" xlink:href=\"#DejaVuSans-50\"/>\n      </g>\n     </g>\n    </g>\n    <g id=\"ytick_7\">\n     <g id=\"line2d_13\">\n      <g>\n       <use style=\"stroke:#000000;stroke-width:0.8;\" x=\"30.103125\" xlink:href=\"#m9b599d10a8\" y=\"123.242665\"/>\n      </g>\n     </g>\n     <g id=\"text_13\">\n      <!-- 4.4 -->\n      <g transform=\"translate(7.2 127.041884)scale(0.1 -0.1)\">\n       <use xlink:href=\"#DejaVuSans-52\"/>\n       <use x=\"63.623047\" xlink:href=\"#DejaVuSans-46\"/>\n       <use x=\"95.410156\" xlink:href=\"#DejaVuSans-52\"/>\n      </g>\n     </g>\n    </g>\n    <g id=\"ytick_8\">\n     <g id=\"line2d_14\">\n      <g>\n       <use style=\"stroke:#000000;stroke-width:0.8;\" x=\"30.103125\" xlink:href=\"#m9b599d10a8\" y=\"106.450752\"/>\n      </g>\n     </g>\n     <g id=\"text_14\">\n      <!-- 4.6 -->\n      <g transform=\"translate(7.2 110.249971)scale(0.1 -0.1)\">\n       <use xlink:href=\"#DejaVuSans-52\"/>\n       <use x=\"63.623047\" xlink:href=\"#DejaVuSans-46\"/>\n       <use x=\"95.410156\" xlink:href=\"#DejaVuSans-54\"/>\n      </g>\n     </g>\n    </g>\n    <g id=\"ytick_9\">\n     <g id=\"line2d_15\">\n      <g>\n       <use style=\"stroke:#000000;stroke-width:0.8;\" x=\"30.103125\" xlink:href=\"#m9b599d10a8\" y=\"89.658839\"/>\n      </g>\n     </g>\n     <g id=\"text_15\">\n      <!-- 4.8 -->\n      <g transform=\"translate(7.2 93.458058)scale(0.1 -0.1)\">\n       <use xlink:href=\"#DejaVuSans-52\"/>\n       <use x=\"63.623047\" xlink:href=\"#DejaVuSans-46\"/>\n       <use x=\"95.410156\" xlink:href=\"#DejaVuSans-56\"/>\n      </g>\n     </g>\n    </g>\n    <g id=\"ytick_10\">\n     <g id=\"line2d_16\">\n      <g>\n       <use style=\"stroke:#000000;stroke-width:0.8;\" x=\"30.103125\" xlink:href=\"#m9b599d10a8\" y=\"72.866926\"/>\n      </g>\n     </g>\n     <g id=\"text_16\">\n      <!-- 5.0 -->\n      <defs>\n       <path d=\"M 10.796875 72.90625 \nL 49.515625 72.90625 \nL 49.515625 64.59375 \nL 19.828125 64.59375 \nL 19.828125 46.734375 \nQ 21.96875 47.46875 24.109375 47.828125 \nQ 26.265625 48.1875 28.421875 48.1875 \nQ 40.625 48.1875 47.75 41.5 \nQ 54.890625 34.8125 54.890625 23.390625 \nQ 54.890625 11.625 47.5625 5.09375 \nQ 40.234375 -1.421875 26.90625 -1.421875 \nQ 22.3125 -1.421875 17.546875 -0.640625 \nQ 12.796875 0.140625 7.71875 1.703125 \nL 7.71875 11.625 \nQ 12.109375 9.234375 16.796875 8.0625 \nQ 21.484375 6.890625 26.703125 6.890625 \nQ 35.15625 6.890625 40.078125 11.328125 \nQ 45.015625 15.765625 45.015625 23.390625 \nQ 45.015625 31 40.078125 35.4375 \nQ 35.15625 39.890625 26.703125 39.890625 \nQ 22.75 39.890625 18.8125 39.015625 \nQ 14.890625 38.140625 10.796875 36.28125 \nz\n\" id=\"DejaVuSans-53\"/>\n      </defs>\n      <g transform=\"translate(7.2 76.666145)scale(0.1 -0.1)\">\n       <use xlink:href=\"#DejaVuSans-53\"/>\n       <use x=\"63.623047\" xlink:href=\"#DejaVuSans-46\"/>\n       <use x=\"95.410156\" xlink:href=\"#DejaVuSans-48\"/>\n      </g>\n     </g>\n    </g>\n    <g id=\"ytick_11\">\n     <g id=\"line2d_17\">\n      <g>\n       <use style=\"stroke:#000000;stroke-width:0.8;\" x=\"30.103125\" xlink:href=\"#m9b599d10a8\" y=\"56.075013\"/>\n      </g>\n     </g>\n     <g id=\"text_17\">\n      <!-- 5.2 -->\n      <g transform=\"translate(7.2 59.874232)scale(0.1 -0.1)\">\n       <use xlink:href=\"#DejaVuSans-53\"/>\n       <use x=\"63.623047\" xlink:href=\"#DejaVuSans-46\"/>\n       <use x=\"95.410156\" xlink:href=\"#DejaVuSans-50\"/>\n      </g>\n     </g>\n    </g>\n    <g id=\"ytick_12\">\n     <g id=\"line2d_18\">\n      <g>\n       <use style=\"stroke:#000000;stroke-width:0.8;\" x=\"30.103125\" xlink:href=\"#m9b599d10a8\" y=\"39.283101\"/>\n      </g>\n     </g>\n     <g id=\"text_18\">\n      <!-- 5.4 -->\n      <g transform=\"translate(7.2 43.082319)scale(0.1 -0.1)\">\n       <use xlink:href=\"#DejaVuSans-53\"/>\n       <use x=\"63.623047\" xlink:href=\"#DejaVuSans-46\"/>\n       <use x=\"95.410156\" xlink:href=\"#DejaVuSans-52\"/>\n      </g>\n     </g>\n    </g>\n    <g id=\"ytick_13\">\n     <g id=\"line2d_19\">\n      <g>\n       <use style=\"stroke:#000000;stroke-width:0.8;\" x=\"30.103125\" xlink:href=\"#m9b599d10a8\" y=\"22.491188\"/>\n      </g>\n     </g>\n     <g id=\"text_19\">\n      <!-- 5.6 -->\n      <g transform=\"translate(7.2 26.290406)scale(0.1 -0.1)\">\n       <use xlink:href=\"#DejaVuSans-53\"/>\n       <use x=\"63.623047\" xlink:href=\"#DejaVuSans-46\"/>\n       <use x=\"95.410156\" xlink:href=\"#DejaVuSans-54\"/>\n      </g>\n     </g>\n    </g>\n   </g>\n   <g id=\"line2d_20\">\n    <path clip-path=\"url(#pe9427e5b09)\" d=\"M 45.321307 125.15916 \nL 48.395687 107.066161 \nL 51.470067 80.932654 \nL 54.544447 42.47297 \nL 57.618827 24.114198 \nL 60.693208 42.505351 \nL 63.767588 50.011249 \nL 66.841968 108.217719 \nL 69.916348 58.371652 \nL 72.990728 57.893004 \nL 76.065108 17.083636 \nL 79.139489 41.185078 \nL 82.213869 27.120335 \nL 85.288249 34.661909 \nL 88.362629 75.563317 \nL 91.437009 55.131226 \nL 94.511389 69.099485 \nL 97.58577 46.61711 \nL 100.66015 77.572642 \nL 103.73453 94.442794 \nL 106.80891 80.358515 \nL 109.88329 65.513651 \nL 112.95767 103.262806 \nL 116.032051 74.909873 \nL 119.106431 74.907978 \nL 122.180811 61.848109 \nL 125.255191 89.431775 \nL 128.329571 92.401838 \nL 131.403951 97.155145 \nL 134.478332 80.038049 \nL 137.552712 99.019338 \nL 140.627092 85.862849 \nL 143.701472 85.152912 \nL 146.775852 112.263687 \nL 149.850232 102.583317 \nL 152.924613 64.680032 \nL 155.998993 94.397476 \nL 159.073373 104.220765 \nL 162.147753 107.147008 \nL 165.222133 85.86413 \nL 168.296513 91.275292 \nL 171.370894 94.006901 \nL 174.445274 103.637003 \nL 177.519654 112.229845 \nL 180.594034 90.347091 \nL 183.668414 116.899603 \nL 186.742794 91.600356 \nL 189.817175 106.649659 \nL 192.891555 132.559378 \nL 195.965935 144.916479 \nL 199.040315 109.132055 \nL 202.114695 101.867695 \nL 205.189075 136.190352 \nL 208.263456 116.392083 \nL 211.337836 135.265147 \nL 214.412216 109.291573 \nL 217.486596 100.554699 \nL 220.560976 100.148572 \nL 223.635356 130.333203 \nL 226.709737 143.17757 \nL 229.784117 127.240408 \nL 232.858497 117.80286 \nL 235.932877 105.336277 \nL 239.007257 163.425999 \nL 242.081637 131.055924 \nL 245.156018 130.344373 \nL 248.230398 126.400646 \nL 251.304778 140.756749 \nL 254.379158 147.21354 \nL 257.453538 117.425309 \nL 260.527918 107.196815 \nL 263.602299 153.304219 \nL 266.676679 140.81158 \nL 269.751059 157.921692 \nL 272.825439 169.07935 \nL 275.899819 157.625562 \nL 278.974199 161.421627 \nL 282.04858 150.322883 \nL 285.12296 157.50104 \nL 288.19734 160.821355 \nL 291.27172 167.119713 \nL 294.3461 149.026319 \nL 297.42048 153.327763 \nL 300.494861 163.748234 \nL 303.569241 174.640069 \nL 306.643621 174.712938 \nL 309.718001 167.708077 \nL 312.792381 173.248288 \nL 315.866761 181.504034 \nL 318.941142 214.756364 \nL 322.015522 170.392068 \nL 325.089902 151.512686 \nL 328.164282 156.980158 \nL 331.238662 151.117321 \nL 334.313042 175.754556 \nL 337.387423 184.414564 \nL 340.461803 174.028401 \nL 343.536183 191.322086 \nL 346.610563 205.681833 \nL 349.684943 168.084019 \n\" style=\"fill:none;stroke:#1f77b4;stroke-linecap:square;stroke-width:1.5;\"/>\n   </g>\n   <g id=\"patch_3\">\n    <path d=\"M 30.103125 224.64 \nL 30.103125 7.2 \n\" style=\"fill:none;stroke:#000000;stroke-linecap:square;stroke-linejoin:miter;stroke-width:0.8;\"/>\n   </g>\n   <g id=\"patch_4\">\n    <path d=\"M 364.903125 224.64 \nL 364.903125 7.2 \n\" style=\"fill:none;stroke:#000000;stroke-linecap:square;stroke-linejoin:miter;stroke-width:0.8;\"/>\n   </g>\n   <g id=\"patch_5\">\n    <path d=\"M 30.103125 224.64 \nL 364.903125 224.64 \n\" style=\"fill:none;stroke:#000000;stroke-linecap:square;stroke-linejoin:miter;stroke-width:0.8;\"/>\n   </g>\n   <g id=\"patch_6\">\n    <path d=\"M 30.103125 7.2 \nL 364.903125 7.2 \n\" style=\"fill:none;stroke:#000000;stroke-linecap:square;stroke-linejoin:miter;stroke-width:0.8;\"/>\n   </g>\n  </g>\n </g>\n <defs>\n  <clipPath id=\"pe9427e5b09\">\n   <rect height=\"217.44\" width=\"334.8\" x=\"30.103125\" y=\"7.2\"/>\n  </clipPath>\n </defs>\n</svg>\n",
      "image/png": "[encoded data removed]"
     },
     "metadata": {
      "needs_background": "light"
     }
    }
   ],
   "source": [
    "hidden_size = 128\n",
    "encoder1 = EncoderRNN(lang.n_words, hidden_size).to(device)\n",
    "attn_decoder1 = AttnDecoderRNN(hidden_size, lang.n_words, dropout_p=0.1).to(device)\n",
    "\n",
    "trainIters(encoder1, attn_decoder1, 10000, print_every=50)"
   ]
  },
  {
   "cell_type": "code",
   "execution_count": 77,
   "metadata": {
    "tags": [
     "outputPrepend",
     "outputPrepend",
     "outputPrepend",
     "outputPrepend"
    ]
   },
   "outputs": [
    {
     "output_type": "stream",
     "name": "stdout",
     "text": "> plane march th home ever since self quarantine headaches runny throat days left self quarantine worse symptoms\n= brief covid healthtap guidelines https www healthtap .com blog covid care guidelines virtual care guidelines for covid utm campaign covid outreach utm medium email hsmi hsenc p anqtz jlhafqzrxrcncgr mj eqcomm titlnybaqii sh f iyzjpz eivc okn qdpzno utm content utm source hs emaili agree symptoms improving contact provider would like video text chat\n< brief covid guidelines https guidelines https www healthtap .com blog covid care guidelines for covid utm guidelines preventing covid guidelines https www .healthtap .com blog post covid care guidelines preventing covid guidelines https www .healthtap .com blog covid care guidelines preventing covid guidelines https www .healthtap .com blog covid care guidelines preventing covid guidelines https www .healthtap .com blog post care guidelines preventing covid guidelines https www .healthtap .com blog post covid care guidelines preventing covid guidelines https www .healthtap .com blog post covid care guidelines preventing covid guidelines https www .healthtap .com blog covid care guidelines preventing covid guidelines https www .healthtap .com blog post covid care guidelines preventing covid guidelines https www .healthtap .com blog post covid care guidelines preventing covid https www .healthtap .com blog covid care guidelines preventing covid https www .healthtap .com blog post covid care guidelines preventing covid guidelines https www .healthtap .com blog post covid care guidelines preventing covid guidelines https www .healthtap .com blog post covid care guidelines preventing covid guidelines https www .healthtap .com blog covid care guidelines preventing covid guidelines https www .healthtap .com blog post covid care guidelines preventing covid care guidelines preventing covid  <EOS>\n\n> travelled last days cairo sharm el sheik dubai arrived back sa days ago self isolated started mild symptoms sore throat cough fatigue temperature normal need referral\n= brief covid criteria medical conditions would put high risk would book virtual consult dr currently testing due lack capacity fever dry cough shortness breath travel history would treat flu complete days possibly longer still sick quarantine contact dr condition changes would like video text chat\n< brief covid covid covid covid covid covid covid covid covid covid covid currently mild respiratory associated covid covid contact someone covid testing criteria covid testing would like video text chat <EOS>\n\n> scratchy throat phlegm loss appetite fatigue pharmacist research facility son rd contact flu symptoms quarantined waiting results contact need test\n= brief cluster cases would recommend staying home rest drink fluids monitoring temperature may covid another illness otherwise healthy await test results keep utensils linens separate washed use good hand washing disinfect surfaces test positive please screening family members home avoid contact others would like video text chat\n< brief hard covid home home rest drink fluids covid covid covid covid would like video text symptoms <EOS>\n\n> think covid difficulty breathing shortness breath tightness chest sore throat light fever symptoms progressing getting stronger last days diarrhea two days ago\n= brief bad needs er covid pandemic time doctor video may consult video instead requiring in person visit flu like symptoms strep throat infection cold influenza cause like covid usually person calls doctor symptoms bothersome serious recurrent persistent covid testing depends local availability would like video text chat\n< brief covid covid pandemic time covid covid throat doctor video may video consult video instead requiring in person visit flu like symptoms strep throat like covid infection cold influenza cause like covid covid usually person calls doctor symptoms bothersome serious recurrent persistent covid would like video text chat <EOS>\n\n> risk coronavirus vte\n= brief vte unaware vte venous thromboembolism associated increased risk severe infection keep mind risk low severe infection otherwise smoke start consider vitamin d vitamin c make sure stay active also social distancing social isolation remember pass would like video text chat\n< brief vte vte vte c c exposure risk exposure coronavirus covid infection good keep feet people keep risk coronavirus <EOS>\n\n> hi got diagnosed pneumonia yesterday sent home antibiotics amoxicillin doxycycline wondering risk factors would least one cigarette know good healing process probably slow serious risk smoking ciggerattes maybe even weed mixed tobacco doctor hospital diagnosed knew smoked also knew smoked least one two bongs said nothing leaving trying smoke etc etc\n= hello tobacco without seeds contribute bronchi spasm effects hamper pneumonia condition great extent clinic strongly recommend quitting tobacco items till complete recovery .hope answered query let know assist further .regards dr . bhagyesh v . patel\n< hello dearwarm welcome healthcaremagic .comi evaluated query thoroughly recommend many factors associated however bacterial pneumonia .but management <EOS>\n\n> really worried elderly parents catching covid steps take stay healthy\n= yes avoid contact ensure food supplies able slay home drink fluids develop fever please call pcp right away also consider virtual appointment ht symptoms watch include dry cough shortness breath use good hand washing disinfect surfaces\n< yes yes yes home home much covid stay home home stay home drink fluids monitor covid stay home home please stay home influenza stay home home influenza like symptoms covid home fluids influenza covid stay home fluids influenza covid stay home fluids influenza stay home fluids rest text chat <EOS>\n\n> safe take steroid tab nasal spray covid \n= brief nasal rinses allergic symptoms nasal saline oral antihistamine often helpful controlling symptoms continue monitor temperature report fever and or shortness breath pcp would like video text chat\n< brief yes without details s impossible say would like video text chat <EOS>\n\n> boyfriend suddenly lost sense smell sleep apnea test done days ago machine plus one nostrils stuffed due slight cold also test done nostrils clear caused\n= covid wo n t like hear loss smell anosmia taste often first symptom covid epidemic coronavirus infection nasal congestion also could go along probably know covid currently big problem nyc contact doctor right away\n< covid covid covid covid covid covid good good covid covid covid good good covid covid covid covid good good covid covid good covid good covid good good guide covid good <EOS>\n\n> tested positive covid fever keeps going daily symptoms remain\n= consider chest image pneumonia may occur continue spike fevers please see pcp chest image reevaluation testing additional bacterial viral causes may performed time stay home least three days fever broken avoid contact others\n< upper respiratory tract high history respiratory tract high respiratory tract high risk higher risk high respiratory symptoms high higher risk covid present would like <EOS>\n\n"
    }
   ],
   "source": [
    "evaluateRandomly(encoder1, attn_decoder1)"
   ]
  },
  {
   "cell_type": "code",
   "execution_count": 78,
   "metadata": {},
   "outputs": [
    {
     "output_type": "execute_result",
     "data": {
      "text/plain": "{0: 'SOS',\n 1: 'EOS',\n 2: 'hello',\n 3: 'doctor',\n 4: 'get',\n 5: 'cough',\n 6: 'last',\n 7: 'days',\n 8: 'heavy',\n 9: 'night',\n 10: 'times',\n 11: 'raise',\n 12: 'temperature',\n 13: 'feeling',\n 14: 'tired',\n 15: 'travel',\n 16: 'history',\n 17: 'contact',\n 18: 'covid',\n 19: 'persons',\n 20: 'four',\n 21: 'five',\n 22: 'drunk',\n 23: 'lot',\n 24: 'benadryl',\n 25: 'took',\n 26: 'paracetamol',\n 27: 'doctors',\n 28: 'shut',\n 29: 'op',\n 30: 'know',\n 31: 'please',\n 32: 'help',\n 33: 'understand',\n 34: 'concern',\n 35: 'questions',\n 36: 'phlegm',\n 37: 'symptoms',\n 38: 'like',\n 39: 'difficulty',\n 40: 'breathing',\n 41: 'medical',\n 42: 'condition',\n 43: 'asthma',\n 44: 'hypertension',\n 45: 'smoker',\n 46: 'alcoholic',\n 47: 'beverage',\n 48: 'drinker',\n 49: 'thank',\n 50: 'tiny',\n 51: 'amount',\n 52: 'comes',\n 53: 'time',\n 54: 'conditions',\n 55: 'hi',\n 56: 'would',\n 57: 'recommend',\n 58: 'take',\n 59: 'n',\n 60: 'acetylcysteine',\n 61: 'mg',\n 62: 'powder',\n 63: 'dissolved',\n 64: 'water',\n 65: 'three',\n 66: 'day',\n 67: 'may',\n 68: 'also',\n 69: 'nebulize',\n 70: 'using',\n 71: 'pnss',\n 72: 'saline',\n 73: 'nebulizer',\n 74: 'come',\n 75: 'vitamin',\n 76: 'c',\n 77: 'zinc',\n 78: 'boost',\n 79: 'immune',\n 80: 'system',\n 81: 'persist',\n 82: 'worsen',\n 83: 'new',\n 84: 'onset',\n 85: 'noted',\n 86: 'consult',\n 87: 'advised',\n 88: 'suffering',\n 89: 'coughing',\n 90: 'throat',\n 91: 'infection',\n 92: 'week',\n 93: 'fever',\n 94: 'felt',\n 95: 'chest',\n 96: 'pain',\n 97: 'two',\n 98: 'later',\n 99: 'consulted',\n 100: 'prescribed',\n 101: 'cavidur',\n 102: 'montek',\n 103: 'lc',\n 104: 'ambrolite',\n 105: 'syrup',\n 106: 'betaline',\n 107: 'gargle',\n 108: 'solution',\n 109: 'since',\n 110: 'improved',\n 111: 'frequent',\n 112: 'coming',\n 113: 'remarkably',\n 114: 'though',\n 115: 'completely',\n 116: 'yesterday',\n 117: 'onwards',\n 118: 'occuring',\n 119: 'maximum',\n 120: 'degree',\n 121: 'celcius',\n 122: 'touch',\n 123: 'foreign',\n 124: 'returned',\n 125: 'person',\n 126: 'went',\n 127: 'outside',\n 128: 'state',\n 129: 'incidence',\n 130: 'suggest',\n 131: 'opinion',\n 132: 'done',\n 133: 'x',\n 134: 'ray',\n 135: 'cbc',\n 136: 'complete',\n 137: 'blood',\n 138: 'count',\n 139: 'normal',\n 140: 'need',\n 141: 'worry',\n 142: 'much',\n 143: 'hope',\n 144: 'helps',\n 145: 'upload',\n 146: 'query',\n 147: 'yes',\n 148: 'see',\n 149: 'revert',\n 150: 'per',\n 151: 'guidelines',\n 152: 'made',\n 153: 'one',\n 154: 'test',\n 155: 'due',\n 156: 'city',\n 157: 'shutdown',\n 158: 'could',\n 159: 'able',\n 160: 'make',\n 161: 'every',\n 162: 'hours',\n 163: 'currently',\n 164: 'problem',\n 165: 'uploading',\n 166: 'examination',\n 167: 'report',\n 168: 'advice',\n 169: 'gone',\n 170: 'attached',\n 171: 'attachment',\n 172: 'removed',\n 173: 'protect',\n 174: 'patient',\n 175: 'identity',\n 176: 'total',\n 177: 'higher',\n 178: 'side',\n 179: 'along',\n 180: 'low',\n 181: 'hemoglobin',\n 182: 'start',\n 183: 'azithromycin',\n 184: 'tablet',\n 185: 'dolo',\n 186: 'subside',\n 187: 'iron',\n 188: 'many',\n 189: 'tablets',\n 190: 'taken',\n 191: 'morning',\n 192: 'want',\n 193: 'already',\n 194: 'today',\n 195: 'drink',\n 196: 'plenty',\n 197: 'fluids',\n 198: 'orally',\n 199: 'keep',\n 200: 'hydrated',\n 201: 'warm',\n 202: 'gargles',\n 203: 'steam',\n 204: 'inhalation',\n 205: 'year',\n 206: 'old',\n 207: 'man',\n 208: 'anxiety',\n 209: 'depression',\n 210: 'immunodeficiency',\n 211: 'disorders',\n 212: 'chronic',\n 213: 'diseases',\n 214: 'first',\n 215: 'wan',\n 216: 'na',\n 217: 'weakened',\n 218: 'likely',\n 219: 'die',\n 220: 'coronavirus',\n 221: 'second',\n 222: 'itchiness',\n 223: 'shortness',\n 224: 'breath',\n 225: 'always',\n 226: 'persistent',\n 227: 'feel',\n 228: 'subtle',\n 229: 'burning',\n 230: 'sensation',\n 231: 'go',\n 232: 'past',\n 233: 'ten',\n 234: 'someone',\n 235: 'positive',\n 236: 'quit',\n 237: 'smoking',\n 238: 'zero',\n 239: 'cigarettes',\n 240: 'manifest',\n 241: 'physical',\n 242: 'psychological',\n 243: 'irritation',\n 244: 'experiencing',\n 245: 'part',\n 246: 'believe',\n 247: 'hype',\n 248: 'mortality',\n 249: 'rate',\n 250: 'percent',\n 251: 'high',\n 252: 'people',\n 253: 'years',\n 254: 'co',\n 255: 'morbidities',\n 256: 'even',\n 257: 'anyone',\n 258: 'continue',\n 259: 'medicines',\n 260: 'taking',\n 261: 'consider',\n 262: 'visiting',\n 263: 'psychiatrist',\n 264: 'started',\n 265: 'dose',\n 266: 'ssri',\n 267: 'type',\n 268: 'needed',\n 269: 'benzodiazepines',\n 270: 'added',\n 271: 'temporarily',\n 272: 'deep',\n 273: 'exercises',\n 274: 'progressive',\n 275: 'muscle',\n 276: 'relaxation',\n 277: 'honey',\n 278: 'reduce',\n 279: 'itching',\n 280: 'try',\n 281: 'lukewarm',\n 282: 'salt',\n 283: 'getting',\n 284: 'chills',\n 285: 'cold',\n 286: 'usual',\n 287: 'lightheaded',\n 288: 'burping',\n 289: 'maybe',\n 290: 'minutes',\n 291: 'less',\n 292: 'running',\n 293: 'body',\n 294: 'bit',\n 295: 'weird',\n 296: 'starting',\n 297: 'trouble',\n 298: 'goes',\n 299: 'back',\n 300: 'repeats',\n 301: 'left',\n 302: 'right',\n 303: 'lungs',\n 304: 'upper',\n 305: 'heart',\n 306: 'pumping',\n 307: 'fast',\n 308: 'minor',\n 309: 'coughs',\n 310: 'seven',\n 311: 'ago',\n 312: 'still',\n 313: 'white',\n 314: 'mucus',\n 315: 'gotten',\n 316: 'yellow',\n 317: 'yet',\n 318: 'got',\n 319: 'severe',\n 320: 'flu',\n 321: 'medicine',\n 322: 'reliever',\n 323: 'away',\n 324: 'called',\n 325: 'phone',\n 326: 'told',\n 327: 'happen',\n 328: 'thing',\n 329: 'happened',\n 330: 'breathe',\n 331: 'something',\n 332: 'issue',\n 333: 'going',\n 334: 'least',\n 335: 'somehow',\n 336: 'gives',\n 337: 'pepcid',\n 338: 'gerd',\n 339: 'ate',\n 340: 'arms',\n 341: 'makes',\n 342: 'arm',\n 343: 'sometimes',\n 344: 'worried',\n 345: 'think',\n 346: 'hot',\n 347: 'forehead',\n 348: 'else',\n 349: 'weigh',\n 350: 'around',\n 351: 'kg',\n 352: 'answer',\n 353: 'following',\n 354: 'month',\n 355: 'use',\n 356: 'airports',\n 357: 'checked',\n 358: 'sleep',\n 359: 'malaise',\n 360: 'aches',\n 361: 'weakness',\n 362: 'school',\n 363: 'nearby',\n 364: 'grocery',\n 365: 'stores',\n 366: 'bus',\n 367: 'airport',\n 368: 'exposure',\n 369: 'anything',\n 370: 'sore',\n 371: 'seems',\n 372: 'clear',\n 373: 'probably',\n 374: 'thinking',\n 375: 'stuff',\n 376: 'appear',\n 377: 'whole',\n 378: 'smoke',\n 379: 'sudafed',\n 380: 'tylenol',\n 381: 'zyrtec',\n 382: 'sure',\n 383: 'better',\n 384: 'avoid',\n 385: 'dust',\n 386: 'winds',\n 387: 'ac',\n 388: 'minimum',\n 389: 'ceiling',\n 390: 'fan',\n 391: 'instead',\n 392: 'eating',\n 393: 'partying',\n 394: 'unnecessary',\n 395: 'quarantine',\n 396: 'strictest',\n 397: 'manner',\n 398: 'restrictions',\n 399: 'interacting',\n 400: 'meeting',\n 401: 'community',\n 402: 'lastly',\n 403: 'place',\n 404: 'residence',\n 405: 'country',\n 406: 'corona',\n 407: 'endemic',\n 408: 'talk',\n 409: 'interact',\n 410: 'known',\n 411: 'suspected',\n 412: 'picture',\n 413: 'open',\n 414: 'mouth',\n 415: 'showing',\n 416: 'details',\n 417: 'tonsils',\n 418: 'pharyngeal',\n 419: 'wall',\n 420: 'send',\n 421: 'woke',\n 422: 'sleeping',\n 423: 'ringing',\n 424: 'far',\n 425: 'hear',\n 426: 'thanks',\n 427: 'recommendations',\n 428: 'fall',\n 429: 'asleep',\n 430: 'quicker',\n 431: 'usually',\n 432: 'takes',\n 433: 'hour',\n 434: 'possible',\n 435: 'staying',\n 436: 'inside',\n 437: 'places',\n 438: 'lockdown',\n 439: 'online',\n 440: 'recently',\n 441: 'turned',\n 442: 'air',\n 443: 'purifier',\n 444: 'clean',\n 445: 'allergies',\n 446: 'viruses',\n 447: 'might',\n 448: 'unless',\n 449: 'really',\n 450: 'home',\n 451: 'next',\n 452: 'little',\n 453: 'sick',\n 454: 'enough',\n 455: 'stay',\n 456: 'san',\n 457: 'francisco',\n 458: 'ca',\n 459: 'united',\n 460: 'states',\n 461: 'close',\n 462: 'confirmed',\n 463: 'cases',\n 464: 'reports',\n 465: 'near',\n 466: 'district',\n 467: 'heard',\n 468: 'serious',\n 469: 'tonsil',\n 470: 'swallowing',\n 471: 'drank',\n 472: 'tea',\n 473: 'smaller',\n 474: 'middle',\n 475: 'behind',\n 476: 'tongue',\n 477: 'looks',\n 478: 'red',\n 479: 'inflamed',\n 480: 'rashes',\n 481: 'foods',\n 482: 'drinks',\n 483: 'follow',\n 484: 'precautions',\n 485: 'alright',\n 486: 'soon',\n 487: 'good',\n 488: 'tonight',\n 489: 'sf',\n 490: 'brother',\n 491: 'supposed',\n 492: 'fly',\n 493: 'india',\n 494: 'work',\n 495: 'canceled',\n 496: 'wake',\n 497: 'virus',\n 498: 'camera',\n 499: 'decent',\n 500: 'job',\n 501: 'focussed',\n 502: 'area',\n 503: 'interest',\n 504: 'picked',\n 505: 'big',\n 506: 'bumps',\n 507: 'enlarged',\n 508: 'current',\n 509: 'resolved',\n 510: 'size',\n 511: 'guess',\n 512: 'must',\n 513: 'slightly',\n 514: 'granular',\n 515: 'quite',\n 516: 'common',\n 517: 'infections',\n 518: 'supportive',\n 519: 'treatment',\n 520: 'traditional',\n 521: 'indian',\n 522: 'forms',\n 523: 'advise',\n 524: 'addition',\n 525: 'appropriate',\n 526: 'weight',\n 527: 'additionally',\n 528: 'tide',\n 529: 'period',\n 530: 'wonderfully',\n 531: 'watch',\n 532: 'warning',\n 533: 'increased',\n 534: 'thick',\n 535: 'postnasal',\n 536: 'drip',\n 537: 'swelling',\n 538: 'neck',\n 539: 'etc',\n 540: 'promptly',\n 541: 'z',\n 542: 'pack',\n 543: 'pm',\n 544: 'harder',\n 545: 'breakfast',\n 546: 'story',\n 547: 'feb',\n 548: 'th',\n 549: 'issues',\n 550: 'besides',\n 551: 'bloating',\n 552: 'lightheadedness',\n 553: 'problems',\n 554: 'friday',\n 555: 'february',\n 556: 'unwell',\n 557: 'bed',\n 558: 'came',\n 559: 'super',\n 560: 'faint',\n 561: 'lied',\n 562: 'stomach',\n 563: 'barely',\n 564: 'eat',\n 565: 'noodles',\n 566: 'small',\n 567: 'pieces',\n 568: 'spam',\n 569: 'vomited',\n 570: 'acid',\n 571: 'saturday',\n 572: 'diarrhea',\n 573: 'sunday',\n 574: 'march',\n 575: 'st',\n 576: 'monday',\n 577: 'tuesday',\n 578: 'wednesday',\n 579: 'stool',\n 580: 'thursday',\n 581: 'afternoon',\n 582: 'chicken',\n 583: 'uncomfortable',\n 584: 'hands',\n 585: 'kind',\n 586: 'fainting',\n 587: 'randomly',\n 588: 'tums',\n 589: 'described',\n 590: 'said',\n 591: 'sounds',\n 592: 'bad',\n 593: 'sound',\n 594: 'course',\n 595: 'lab',\n 596: 'tests',\n 597: 'asked',\n 598: 'tried',\n 599: 'stronger',\n 600: 'antacids',\n 601: 'zantac',\n 602: 'tell',\n 603: 'making',\n 604: 'burp',\n 605: 'almost',\n 606: 'fine',\n 607: 'office',\n 608: 'beats',\n 609: 'minute',\n 610: 'counted',\n 611: 'rating',\n 612: 'bpm',\n 613: 'call',\n 614: 'gets',\n 615: 'worse',\n 616: 'shortly',\n 617: 'drop',\n 618: 'slowly',\n 619: 'pains',\n 620: 'beating',\n 621: 'moving',\n 622: 'sat',\n 623: 'strange',\n 624: 'reflux',\n 625: 'esophagus',\n 626: 'protonix',\n 627: 'pantoprazole',\n 628: 'lie',\n 629: 'immediately',\n 630: 'consuming',\n 631: 'meals',\n 632: 'meal',\n 633: 'spicy',\n 634: 'oily',\n 635: 'store',\n 636: 'look',\n 637: 'talked',\n 638: 'pharmacy',\n 639: 'tightening',\n 640: 'ranitidine',\n 641: 'means',\n 642: 'nervous',\n 643: 'calm',\n 644: 'putting',\n 645: 'fingers',\n 646: 'teeth',\n 647: 'cause',\n 648: 'beat',\n 649: 'faster',\n 650: 'stick',\n 651: 'finish',\n 652: 'entire',\n 653: 'bottle',\n 654: 'used',\n 655: 'hungry',\n 656: 'snacks',\n 657: 'lying',\n 658: 'starve',\n 659: 't',\n 660: 'lasted',\n 661: 'waited',\n 662: 'pressure',\n 663: 'proton',\n 664: 'pump',\n 665: 'inhibitor',\n 666: 'appears',\n 667: 'heartburn',\n 668: 'acidity',\n 669: 'sinister',\n 670: 'trying',\n 671: 'bowl',\n 672: 'food',\n 673: 'veggies',\n 674: 'rice',\n 675: 'halfway',\n 676: 'meat',\n 677: 'coughed',\n 678: 'well',\n 679: 'cooked',\n 680: 'meats',\n 681: 'appreciate',\n 682: 'effort',\n 683: 'give',\n 684: 'wait',\n 685: 'drinking',\n 686: 'absolutely',\n 687: 'laryngoscopy',\n 688: 'check',\n 689: 'wrong',\n 690: 'larynx',\n 691: 'healthy',\n 692: 'yeah',\n 693: 'perfect',\n 694: 'okay',\n 695: 'll',\n 696: 'vegetables',\n 697: 'fruits',\n 698: 'junk',\n 699: 'mostly',\n 700: 'pork',\n 701: 'beef',\n 702: 'fish',\n 703: 'fried',\n 704: 'wheat',\n 705: 'bread',\n 706: 'patty',\n 707: 'market',\n 708: 'lunch',\n 709: 'cheap',\n 710: 'stopped',\n 711: 'french',\n 712: 'fries',\n 713: 'pizza',\n 714: 'soda',\n 715: '.',\n 716: 'exercise',\n 717: 'exercising',\n 718: 'months',\n 719: 'telling',\n 720: 'feels',\n 721: 'tight',\n 722: 'squeeze',\n 723: 'way',\n 724: 'point',\n 725: 'college',\n 726: 'm',\n 727: 'younger',\n 728: 'elementary',\n 729: 'squeezes',\n 730: 'stethoscope',\n 731: 'another',\n 732: 'regularly',\n 733: '.that',\n 734: 's',\n 735: 'recent',\n 736: 'kinda',\n 737: 'anyways',\n 738: 'track',\n 739: 'regards',\n 740: 'diet',\n 741: 'restart',\n 742: 'active',\n 743: 'quantity',\n 744: 'frequently',\n 745: 'without',\n 746: 'adding',\n 747: 'calories',\n 748: 'chaitanya',\n 749: 'swim',\n 750: 'daily',\n 751: 'spreads',\n 752: 'welcome',\n 753: 'ask',\n 754: 'service',\n 755: 'reviewed',\n 756: 'spread',\n 757: 'however',\n 758: 'human',\n 759: 'mainly',\n 760: 'droplets',\n 761: 'refrain',\n 762: 'swimming',\n 763: 'sometime',\n 764: 'although',\n 765: 'killed',\n 766: 'pool',\n 767: 'doesnot',\n 768: 'find',\n 769: 'host',\n 770: 'include',\n 771: 'social',\n 772: 'gatherings',\n 773: 'wash',\n 774: 'soap',\n 775: 'cover',\n 776: 'face',\n 777: 'mask',\n 778: 'sickness',\n 779: 'let',\n 780: 'assist',\n 781: 'dr',\n 782: 'vaishalee',\n 783: '',\n 784: 'depends',\n 785: 'severity',\n 786: 'pandemic',\n 787: 'video',\n 788: 'requiring',\n 789: 'in',\n 790: 'visit',\n 791: 'strep',\n 792: 'influenza',\n 793: 'calls',\n 794: 'bothersome',\n 795: 'recurrent',\n 796: 'testing',\n 797: 'local',\n 798: 'availability',\n 799: 'criteria',\n 800: 'real',\n 801: 'vs',\n 802: 'textbook',\n 803: 'life',\n 804: 'different',\n 805: 'supplies',\n 806: 'staff',\n 807: 'world',\n 808: 'hospitalized',\n 809: 'underlying',\n 810: 'suspect',\n 811: 'risk',\n 812: 'impossible',\n 813: 'say',\n 814: 'vomiting',\n 815: 'symptom',\n 816: 'nausea',\n 817: 'and',\n 818: 'or',\n 819: 'occur',\n 820: 'fairly',\n 821: 'early',\n 822: 'rarely',\n 823: 'ever',\n 824: 'develop',\n 825: 'within',\n 826: 'news',\n 827: 'break',\n 828: 'strategy',\n 829: 'information',\n 830: 'practice',\n 831: 'prudent',\n 832: 'er',\n 833: 'practicing',\n 834: 'front',\n 835: 'line',\n 836: 'focus',\n 837: 'mind',\n 838: 'cooking',\n 839: 'planning',\n 840: 'garden',\n 841: 'engage',\n 842: 'friends',\n 843: 'loved',\n 844: 'ones',\n 845: 'read',\n 846: 'e',\n 847: 'cov',\n 848: 'several',\n 849: 'coronaviruses',\n 850: 'colds',\n 851: 'biologically',\n 852: 'related',\n 853: 'sars',\n 854: 'seek',\n 855: 'care',\n 856: 'plus',\n 857: 'facility',\n 858: 'treating',\n 859: 'pneumonia',\n 860: 'unknown',\n 861: 'possibly',\n 862: 'exposed',\n 863: 'consultation',\n 864: 'self',\n 865: 'isolate',\n 866: 'tested',\n 867: 'health',\n 868: 'department',\n 869: 'idea',\n 870: 'set',\n 871: 'live',\n 872: 'pick',\n 873: 'weeks',\n 874: 'us',\n 875: 'avoiding',\n 876: 'hand',\n 877: 'washing',\n 878: 'important',\n 879: 'prophylactic',\n 880: 'measures',\n 881: 'dad',\n 882: 'runny',\n 883: 'nose',\n 884: '.any',\n 885: 'chance',\n 886: 'uncommon',\n 887: 'worldwide',\n 888: 'goal',\n 889: 'separated',\n 890: 'clinics',\n 891: 'hospitals',\n 892: 'overwhelmed',\n 893: 'patients',\n 894: 'primary',\n 895: 'instructed',\n 896: 'clinic',\n 897: 'treatable',\n 898: 'headache',\n 899: 'earache',\n 900: 'pattern',\n 901: 'specific',\n 902: 'agent',\n 903: 'suggests',\n 904: 'ear',\n 905: 'kids',\n 906: 'among',\n 907: 'affected',\n 908: 'proper',\n 909: 'screening',\n 910: 'confirm',\n 911: 'exclude',\n 912: 'parainfluenza',\n 913: 'rhinovirus',\n 914: 'rsv',\n 915: 'battling',\n 916: 'post',\n 917: 'nasal',\n 918: 'laproscope',\n 919: 'removal',\n 920: 'fallopian',\n 921: 'tubes',\n 922: 'nd',\n 923: 'o',\n 924: 'brief',\n 925: 'unlikely',\n 926: 'treat',\n 927: 'symptomatically',\n 928: 'stock',\n 929: 'whilst',\n 930: 'qualify',\n 931: 'posting',\n 932: 'true',\n 933: 'false',\n 934: 'infected',\n 935: 'increases',\n 936: 'chances',\n 937: 'death',\n 938: 'compared',\n 939: 'respiratory',\n 940: 'data',\n 941: 'china',\n 942: 'association',\n 943: 'inflammatory',\n 944: 'response',\n 945: 'associated',\n 946: 'portion',\n 947: 'illness',\n 948: 'sx',\n 949: 'clinical',\n 950: 'characteristics',\n 951: 'novel',\n 952: 'wuhan',\n 953: 'jama',\n 954: 'wang',\n 955: 'et',\n 956: 'al',\n 957: 'study',\n 958: 'looked',\n 959: 'number',\n 960: 'transmitted',\n 961: 'sexually',\n 962: 'sort',\n 963: 'sex',\n 964: 'likelihood',\n 965: 'kissing',\n 966: 'intercourse',\n 967: 'closeness',\n 968: 'intimate',\n 969: 'situation',\n 970: 'transmission',\n 971: 'shave',\n 972: 'beard',\n 973: 'contracting',\n 974: 'clings',\n 975: 'everything',\n 976: 'especially',\n 977: 'hairs',\n 978: 'either',\n 979: 'spray',\n 980: 'alcohol',\n 981: 'mild',\n 982: 'controlled',\n 983: 'contract',\n 984: 'experience',\n 985: 'difficulties',\n 986: 'seem',\n 987: 'great',\n 988: 'question',\n 989: 'lung',\n 990: 'disease',\n 991: 'carries',\n 992: 'control',\n 993: 'handwashwng',\n 994: 'distancing',\n 995: 'young',\n 996: 'age',\n 997: 'complications',\n 998: 'diabetes',\n 999: 'obesity',\n ...}"
     },
     "metadata": {},
     "execution_count": 78
    }
   ],
   "source": [
    "lang.index2word"
   ]
  },
  {
   "cell_type": "code",
   "execution_count": 24,
   "metadata": {},
   "outputs": [
    {
     "output_type": "execute_result",
     "data": {
      "text/plain": "5391"
     },
     "metadata": {},
     "execution_count": 24
    }
   ],
   "source": [
    "lang.n_words"
   ]
  },
  {
   "cell_type": "code",
   "execution_count": null,
   "metadata": {},
   "outputs": [],
   "source": []
  }
 ]
}