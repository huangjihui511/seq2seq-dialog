{
 "nbformat": 4,
 "nbformat_minor": 2,
 "metadata": {
  "language_info": {
   "name": "python",
   "codemirror_mode": {
    "name": "ipython",
    "version": 3
   },
   "version": "3.7.4-final"
  },
  "orig_nbformat": 2,
  "file_extension": ".py",
  "mimetype": "text/x-python",
  "name": "python",
  "npconvert_exporter": "python",
  "pygments_lexer": "ipython3",
  "version": 3,
  "kernelspec": {
   "name": "python37464bitc618d87d24fd41819fe0e569b8dfcad8",
   "display_name": "Python 3.7.4 64-bit"
  }
 },
 "cells": [
  {
   "cell_type": "code",
   "execution_count": 1,
   "metadata": {
    "tags": [
     "outputPrepend"
    ]
   },
   "outputs": [],
   "source": [
    "path = \"COVID-Dialogue-Dataset-English.txt\"\n",
    "f = open(path,encoding=\"UTF-8\")\n",
    "l1 = f.read()\n",
    "l2 = l1.split(\"id=\")\n",
    "p2d = []\n",
    "d2p = []\n",
    "for item in l2:\n",
    "    if len(item) != 0:\n",
    "        temp = item.split(\"Dialogue\\nPatient:\")\n",
    "        if len(temp) > 1:\n",
    "            item2 = temp[1]\n",
    "            item3 = item2.split(\"Patient:\")\n",
    "            l = []\n",
    "            if len(item3) != 0:\n",
    "                for item4 in item3:\n",
    "                    item5 = item4.split(\"Doctor:\")\n",
    "                    l += item5\n",
    "            for i in range(1, len(l), 2):\n",
    "                p2d.append((l[i - 1], l[i]))\n",
    "                if i + 1 < len(l):\n",
    "                    d2p.append((l[i].strip(\"\\n\"), l[i + 1].strip(\"\\n\")))\n",
    "data = p2d + d2p"
   ]
  },
  {
   "cell_type": "code",
   "execution_count": 2,
   "metadata": {},
   "outputs": [],
   "source": [
    "from __future__ import unicode_literals, print_function, division\n",
    "from io import open\n",
    "import unicodedata\n",
    "import string\n",
    "import re\n",
    "import random\n",
    "\n",
    "import torch\n",
    "import torch.nn as nn\n",
    "from torch import optim\n",
    "import torch.nn.functional as F\n",
    "\n",
    "device = torch.device(\"cuda\" if torch.cuda.is_available() else \"cpu\")"
   ]
  },
  {
   "cell_type": "code",
   "execution_count": 3,
   "metadata": {},
   "outputs": [],
   "source": [
    "SOS_token = 0\n",
    "EOS_token = 1\n",
    "\n",
    "\n",
    "class Lang:\n",
    "    def __init__(self, name):\n",
    "        self.name = name\n",
    "        self.word2index = {}\n",
    "        self.word2count = {}\n",
    "        self.index2word = {0: \"SOS\", 1: \"EOS\"}\n",
    "        self.n_words = 2  # Count SOS and EOS\n",
    "\n",
    "    def addSentence(self, sentence):\n",
    "        for word in sentence.split(' '):\n",
    "            self.addWord(word)\n",
    "\n",
    "    def addWord(self, word):\n",
    "        if word not in self.word2index:\n",
    "            self.word2index[word] = self.n_words\n",
    "            self.word2count[word] = 1\n",
    "            self.index2word[self.n_words] = word\n",
    "            self.n_words += 1\n",
    "        else:\n",
    "            self.word2count[word] += 1"
   ]
  },
  {
   "cell_type": "code",
   "execution_count": 4,
   "metadata": {},
   "outputs": [],
   "source": [
    "# Turn a Unicode string to plain ASCII, thanks to\n",
    "# https://stackoverflow.com/a/518232/2809427\n",
    "def unicodeToAscii(s):\n",
    "    return ''.join(\n",
    "        c for c in unicodedata.normalize('NFD', s)\n",
    "        if unicodedata.category(c) != 'Mn'\n",
    "    )\n",
    "\n",
    "# Lowercase, trim, and remove non-letter characters\n",
    "\n",
    "\n",
    "def normalizeString(s):\n",
    "    s = unicodeToAscii(s.lower().strip())\n",
    "    s = re.sub(r\"([.!?])\", r\" \\1\", s)\n",
    "    s = re.sub(r\"[^a-zA-Z.!?]+\", r\" \", s)\n",
    "    return s"
   ]
  },
  {
   "cell_type": "code",
   "execution_count": 5,
   "metadata": {},
   "outputs": [],
   "source": [
    "def readLangs(lang):\n",
    "    print(\"Reading lines...\")\n",
    "    '''\n",
    "    # Read the file and split into lines\n",
    "    lines = open('data/%s-%s.txt' % (lang1, lang2), encoding='utf-8').\\\n",
    "        read().strip().split('\\n')\n",
    "\n",
    "    # Split every line into pairs and normalize\n",
    "    pairs = [[normalizeString(s) for s in l.split('\\t')] for l in lines]\n",
    "    '''\n",
    "    pairs = [(normalizeString(item[0]), normalizeString(item[1])) for item in data]\n",
    "    # Reverse pairs, make Lang instances\n",
    "\n",
    "\n",
    "    lang = Lang(lang)\n",
    "\n",
    "    return lang, pairs"
   ]
  },
  {
   "cell_type": "code",
   "execution_count": 6,
   "metadata": {},
   "outputs": [],
   "source": [
    "MAX_LENGTH = 1000\n",
    "\n",
    "eng_prefixes = (\n",
    "    \"i am \", \"i m \",\n",
    "    \"he is\", \"he s \",\n",
    "    \"she is\", \"she s \",\n",
    "    \"you are\", \"you re \",\n",
    "    \"we are\", \"we re \",\n",
    "    \"they are\", \"they re \"\n",
    ")\n",
    "\n",
    "\n",
    "def filterPair(p):\n",
    "    return len(p[0].split(' ')) < MAX_LENGTH and \\\n",
    "        len(p[1].split(' ')) < MAX_LENGTH\n",
    "\n",
    "\n",
    "def filterPairs(pairs):\n",
    "    return [pair for pair in pairs if filterPair(pair)]"
   ]
  },
  {
   "cell_type": "code",
   "execution_count": 7,
   "metadata": {
    "tags": [
     "outputPrepend"
    ]
   },
   "outputs": [
    {
     "output_type": "stream",
     "name": "stdout",
     "text": "Reading lines...\nRead 628 sentence pairs\nTrimmed to 628 sentence pairs\nCounting words...\nCounted words:\nlang 5391\n('my daughter of has a high fever degrees . sore throat and body aches . i have elderly parents living with us and i am concerned about covid . please advise .', 'in brief isolate sick people throat pain can be from a strep throat antibiotics needed a cold or influenza or from some other cause such as allergies or irritants . usually a person sees the doctor call first if the sore throat is bothersome recurrent or doesn t go away quickly . the flu or covid usually have cough fever body aches whereas strep is mainly sore throat . can call doctor by video or phone . would you like to video or text chat with me ?')\n"
    }
   ],
   "source": [
    "def prepareData(lang):\n",
    "    lang, pairs = readLangs(lang)\n",
    "    print(\"Read %s sentence pairs\" % len(pairs))\n",
    "    pairs = filterPairs(pairs)\n",
    "    print(\"Trimmed to %s sentence pairs\" % len(pairs))\n",
    "    print(\"Counting words...\")\n",
    "    for pair in pairs:\n",
    "        #print(pair)\n",
    "        lang.addSentence(pair[0])\n",
    "        lang.addSentence(pair[1])\n",
    "    print(\"Counted words:\")\n",
    "    print(lang.name, lang.n_words)\n",
    "    return lang, pairs\n",
    "\n",
    "\n",
    "lang, pairs = prepareData('lang')\n",
    "print(random.choice(pairs))"
   ]
  },
  {
   "cell_type": "code",
   "execution_count": 8,
   "metadata": {},
   "outputs": [],
   "source": [
    "class EncoderRNN(nn.Module):\n",
    "    def __init__(self, input_size, hidden_size):\n",
    "        super(EncoderRNN, self).__init__()\n",
    "        self.hidden_size = hidden_size\n",
    "\n",
    "        self.embedding = nn.Embedding(input_size, hidden_size)\n",
    "        self.gru = nn.GRU(hidden_size, hidden_size)\n",
    "\n",
    "    def forward(self, input, hidden):\n",
    "        embedded = self.embedding(input).view(1, 1, -1)\n",
    "        output = embedded\n",
    "        output, hidden = self.gru(output, hidden)\n",
    "        return output, hidden\n",
    "\n",
    "    def initHidden(self):\n",
    "        return torch.zeros(1, 1, self.hidden_size, device=device)"
   ]
  },
  {
   "cell_type": "code",
   "execution_count": 9,
   "metadata": {},
   "outputs": [],
   "source": [
    "class DecoderRNN(nn.Module):\n",
    "    def __init__(self, hidden_size, output_size):\n",
    "        super(DecoderRNN, self).__init__()\n",
    "        self.hidden_size = hidden_size\n",
    "\n",
    "        self.embedding = nn.Embedding(output_size, hidden_size)\n",
    "        self.gru = nn.GRU(hidden_size, hidden_size)\n",
    "        self.out = nn.Linear(hidden_size, output_size)\n",
    "        self.softmax = nn.LogSoftmax(dim=1)\n",
    "\n",
    "    def forward(self, input, hidden):\n",
    "        output = self.embedding(input).view(1, 1, -1)\n",
    "        output = F.relu(output)\n",
    "        output, hidden = self.gru(output, hidden)\n",
    "        output = self.softmax(self.out(output[0]))\n",
    "        return output, hidden\n",
    "\n",
    "    def initHidden(self):\n",
    "        return torch.zeros(1, 1, self.hidden_size, device=device)"
   ]
  },
  {
   "cell_type": "code",
   "execution_count": 10,
   "metadata": {},
   "outputs": [],
   "source": [
    "class AttnDecoderRNN(nn.Module):\n",
    "    def __init__(self, hidden_size, output_size, dropout_p=0.1, max_length=MAX_LENGTH):\n",
    "        super(AttnDecoderRNN, self).__init__()\n",
    "        self.hidden_size = hidden_size\n",
    "        self.output_size = output_size\n",
    "        self.dropout_p = dropout_p\n",
    "        self.max_length = max_length\n",
    "\n",
    "        self.embedding = nn.Embedding(self.output_size, self.hidden_size)\n",
    "        self.attn = nn.Linear(self.hidden_size * 2, self.max_length)\n",
    "        self.attn_combine = nn.Linear(self.hidden_size * 2, self.hidden_size)\n",
    "        self.dropout = nn.Dropout(self.dropout_p)\n",
    "        self.gru = nn.GRU(self.hidden_size, self.hidden_size)\n",
    "        self.out = nn.Linear(self.hidden_size, self.output_size)\n",
    "\n",
    "    def forward(self, input, hidden, encoder_outputs):\n",
    "        embedded = self.embedding(input).view(1, 1, -1)\n",
    "        embedded = self.dropout(embedded)\n",
    "\n",
    "        attn_weights = F.softmax(\n",
    "            self.attn(torch.cat((embedded[0], hidden[0]), 1)), dim=1)\n",
    "        attn_applied = torch.bmm(attn_weights.unsqueeze(0),\n",
    "                                 encoder_outputs.unsqueeze(0))\n",
    "\n",
    "        output = torch.cat((embedded[0], attn_applied[0]), 1)\n",
    "        output = self.attn_combine(output).unsqueeze(0)\n",
    "\n",
    "        output = F.relu(output)\n",
    "        output, hidden = self.gru(output, hidden)\n",
    "\n",
    "        output = F.log_softmax(self.out(output[0]), dim=1)\n",
    "        return output, hidden, attn_weights\n",
    "\n",
    "    def initHidden(self):\n",
    "        return torch.zeros(1, 1, self.hidden_size, device=device)"
   ]
  },
  {
   "cell_type": "code",
   "execution_count": 11,
   "metadata": {},
   "outputs": [],
   "source": [
    "def indexesFromSentence(lang, sentence):\n",
    "    return [lang.word2index[word] for word in sentence.split(' ')]\n",
    "\n",
    "\n",
    "def tensorFromSentence(lang, sentence):\n",
    "    indexes = indexesFromSentence(lang, sentence)\n",
    "    indexes.append(EOS_token)\n",
    "    return torch.tensor(indexes, dtype=torch.long, device=device).view(-1, 1)\n",
    "\n",
    "\n",
    "def tensorsFromPair(pair):\n",
    "    input_tensor = tensorFromSentence(lang, pair[0])\n",
    "    target_tensor = tensorFromSentence(lang, pair[1])\n",
    "    return (input_tensor, target_tensor)"
   ]
  },
  {
   "cell_type": "code",
   "execution_count": 12,
   "metadata": {},
   "outputs": [],
   "source": [
    "teacher_forcing_ratio = 0.5\n",
    "\n",
    "\n",
    "def train(input_tensor, target_tensor, encoder, decoder, encoder_optimizer, decoder_optimizer, criterion, max_length=MAX_LENGTH):\n",
    "    encoder_hidden = encoder.initHidden()\n",
    "\n",
    "    encoder_optimizer.zero_grad()\n",
    "    decoder_optimizer.zero_grad()\n",
    "\n",
    "    input_length = input_tensor.size(0)\n",
    "    target_length = target_tensor.size(0)\n",
    "\n",
    "    encoder_outputs = torch.zeros(max_length, encoder.hidden_size, device=device)\n",
    "\n",
    "    loss = 0\n",
    "\n",
    "    for ei in range(input_length):\n",
    "        encoder_output, encoder_hidden = encoder(\n",
    "            input_tensor[ei], encoder_hidden)\n",
    "        encoder_outputs[ei] = encoder_output[0, 0]\n",
    "\n",
    "    decoder_input = torch.tensor([[SOS_token]], device=device)\n",
    "\n",
    "    decoder_hidden = encoder_hidden\n",
    "\n",
    "    use_teacher_forcing = True if random.random() < teacher_forcing_ratio else False\n",
    "\n",
    "    if use_teacher_forcing:\n",
    "        # Teacher forcing: Feed the target as the next input\n",
    "        for di in range(target_length):\n",
    "            decoder_output, decoder_hidden, decoder_attention = decoder(\n",
    "                decoder_input, decoder_hidden, encoder_outputs)\n",
    "            loss += criterion(decoder_output, target_tensor[di])\n",
    "            decoder_input = target_tensor[di]  # Teacher forcing\n",
    "\n",
    "    else:\n",
    "        # Without teacher forcing: use its own predictions as the next input\n",
    "        for di in range(target_length):\n",
    "            decoder_output, decoder_hidden, decoder_attention = decoder(\n",
    "                decoder_input, decoder_hidden, encoder_outputs)\n",
    "            topv, topi = decoder_output.topk(1)\n",
    "            decoder_input = topi.squeeze().detach()  # detach from history as input\n",
    "\n",
    "            loss += criterion(decoder_output, target_tensor[di])\n",
    "            if decoder_input.item() == EOS_token:\n",
    "                break\n",
    "\n",
    "    loss.backward()\n",
    "\n",
    "    encoder_optimizer.step()\n",
    "    decoder_optimizer.step()\n",
    "\n",
    "    return loss.item() / target_length"
   ]
  },
  {
   "cell_type": "code",
   "execution_count": 13,
   "metadata": {},
   "outputs": [],
   "source": [
    "import time\n",
    "import math\n",
    "\n",
    "\n",
    "def asMinutes(s):\n",
    "    m = math.floor(s / 60)\n",
    "    s -= m * 60\n",
    "    return '%dm %ds' % (m, s)\n",
    "\n",
    "\n",
    "def timeSince(since, percent):\n",
    "    now = time.time()\n",
    "    s = now - since\n",
    "    es = s / (percent)\n",
    "    rs = es - s\n",
    "    return '%s (- %s)' % (asMinutes(s), asMinutes(rs))"
   ]
  },
  {
   "cell_type": "code",
   "execution_count": 14,
   "metadata": {},
   "outputs": [],
   "source": [
    "def trainIters(encoder, decoder, n_iters, print_every=1000, plot_every=100, learning_rate=0.01):\n",
    "    start = time.time()\n",
    "    plot_losses = []\n",
    "    print_loss_total = 0  # Reset every print_every\n",
    "    plot_loss_total = 0  # Reset every plot_every\n",
    "\n",
    "    encoder_optimizer = optim.SGD(encoder.parameters(), lr=learning_rate)\n",
    "    decoder_optimizer = optim.SGD(decoder.parameters(), lr=learning_rate)\n",
    "    training_pairs = [tensorsFromPair(random.choice(pairs))\n",
    "                      for i in range(n_iters)]\n",
    "    criterion = nn.NLLLoss()\n",
    "\n",
    "    for iter in range(1, n_iters + 1):\n",
    "        training_pair = training_pairs[iter - 1]\n",
    "        input_tensor = training_pair[0]\n",
    "        target_tensor = training_pair[1]\n",
    "\n",
    "        loss = train(input_tensor, target_tensor, encoder,\n",
    "                     decoder, encoder_optimizer, decoder_optimizer, criterion)\n",
    "        print_loss_total += loss\n",
    "        plot_loss_total += loss\n",
    "\n",
    "        if iter % print_every == 0:\n",
    "            print_loss_avg = print_loss_total / print_every\n",
    "            print_loss_total = 0\n",
    "            print('%s (%d %d%%) %.4f' % (timeSince(start, iter / n_iters),\n",
    "                                         iter, iter / n_iters * 100, print_loss_avg))\n",
    "\n",
    "        if iter % plot_every == 0:\n",
    "            plot_loss_avg = plot_loss_total / plot_every\n",
    "            plot_losses.append(plot_loss_avg)\n",
    "            plot_loss_total = 0\n",
    "\n",
    "    showPlot(plot_losses)"
   ]
  },
  {
   "cell_type": "code",
   "execution_count": 15,
   "metadata": {},
   "outputs": [],
   "source": [
    "import matplotlib.pyplot as plt\n",
    "plt.switch_backend('agg')\n",
    "import matplotlib.ticker as ticker\n",
    "import numpy as np\n",
    "\n",
    "\n",
    "def showPlot(points):\n",
    "    plt.figure()\n",
    "    fig, ax = plt.subplots()\n",
    "    # this locator puts ticks at regular intervals\n",
    "    loc = ticker.MultipleLocator(base=0.2)\n",
    "    ax.yaxis.set_major_locator(loc)\n",
    "    plt.plot(points)"
   ]
  },
  {
   "cell_type": "code",
   "execution_count": 16,
   "metadata": {},
   "outputs": [],
   "source": [
    "def evaluate(encoder, decoder, sentence, max_length=MAX_LENGTH):\n",
    "    with torch.no_grad():\n",
    "        input_tensor = tensorFromSentence(lang, sentence)\n",
    "        input_length = input_tensor.size()[0]\n",
    "        encoder_hidden = encoder.initHidden()\n",
    "\n",
    "        encoder_outputs = torch.zeros(max_length, encoder.hidden_size, device=device)\n",
    "\n",
    "        for ei in range(input_length):\n",
    "            encoder_output, encoder_hidden = encoder(input_tensor[ei],\n",
    "                                                     encoder_hidden)\n",
    "            encoder_outputs[ei] += encoder_output[0, 0]\n",
    "\n",
    "        decoder_input = torch.tensor([[SOS_token]], device=device)  # SOS\n",
    "\n",
    "        decoder_hidden = encoder_hidden\n",
    "\n",
    "        decoded_words = []\n",
    "        decoder_attentions = torch.zeros(max_length, max_length)\n",
    "\n",
    "        for di in range(max_length):\n",
    "            decoder_output, decoder_hidden, decoder_attention = decoder(\n",
    "                decoder_input, decoder_hidden, encoder_outputs)\n",
    "            decoder_attentions[di] = decoder_attention.data\n",
    "            topv, topi = decoder_output.data.topk(1)\n",
    "            if topi.item() == EOS_token:\n",
    "                decoded_words.append('<EOS>')\n",
    "                break\n",
    "            else:\n",
    "                decoded_words.append(lang.index2word[topi.item()])\n",
    "\n",
    "            decoder_input = topi.squeeze().detach()\n",
    "\n",
    "        return decoded_words, decoder_attentions[:di + 1]"
   ]
  },
  {
   "cell_type": "code",
   "execution_count": 17,
   "metadata": {},
   "outputs": [],
   "source": [
    "def evaluateRandomly(encoder, decoder, n=10):\n",
    "    for i in range(n):\n",
    "        pair = random.choice(pairs)\n",
    "        print('>', pair[0])\n",
    "        print('=', pair[1])\n",
    "        output_words, attentions = evaluate(encoder, decoder, pair[0])\n",
    "        output_sentence = ' '.join(output_words)\n",
    "        print('<', output_sentence)\n",
    "        print('')"
   ]
  },
  {
   "cell_type": "code",
   "execution_count": 20,
   "metadata": {},
   "outputs": [
    {
     "output_type": "display_data",
     "data": {
      "text/plain": "<Figure size 432x288 with 0 Axes>"
     },
     "metadata": {}
    },
    {
     "output_type": "display_data",
     "data": {
      "text/plain": "<Figure size 432x288 with 1 Axes>",
      "image/svg+xml": "<?xml version=\"1.0\" encoding=\"utf-8\" standalone=\"no\"?>\n<!DOCTYPE svg PUBLIC \"-//W3C//DTD SVG 1.1//EN\"\n  \"http://www.w3.org/Graphics/SVG/1.1/DTD/svg11.dtd\">\n<!-- Created with matplotlib (https://matplotlib.org/) -->\n<svg height=\"249.596565pt\" version=\"1.1\" viewBox=\"0 0 372.103125 249.596565\" width=\"372.103125pt\" xmlns=\"http://www.w3.org/2000/svg\" xmlns:xlink=\"http://www.w3.org/1999/xlink\">\n <defs>\n  <style type=\"text/css\">\n*{stroke-linecap:butt;stroke-linejoin:round;}\n  </style>\n </defs>\n <g id=\"figure_1\">\n  <g id=\"patch_1\">\n   <path d=\"M 0 249.596565 \nL 372.103125 249.596565 \nL 372.103125 0 \nL 0 0 \nz\n\" style=\"fill:none;\"/>\n  </g>\n  <g id=\"axes_1\">\n   <g id=\"patch_2\">\n    <path d=\"M 30.103125 225.71844 \nL 364.903125 225.71844 \nL 364.903125 8.27844 \nL 30.103125 8.27844 \nz\n\" style=\"fill:#ffffff;\"/>\n   </g>\n   <g id=\"matplotlib.axis_1\">\n    <g id=\"xtick_1\">\n     <g id=\"line2d_1\">\n      <defs>\n       <path d=\"M 0 0 \nL 0 3.5 \n\" id=\"m19e2953c57\" style=\"stroke:#000000;stroke-width:0.8;\"/>\n      </defs>\n      <g>\n       <use style=\"stroke:#000000;stroke-width:0.8;\" x=\"45.321307\" xlink:href=\"#m19e2953c57\" y=\"225.71844\"/>\n      </g>\n     </g>\n     <g id=\"text_1\">\n      <!-- 0 -->\n      <defs>\n       <path d=\"M 31.78125 66.40625 \nQ 24.171875 66.40625 20.328125 58.90625 \nQ 16.5 51.421875 16.5 36.375 \nQ 16.5 21.390625 20.328125 13.890625 \nQ 24.171875 6.390625 31.78125 6.390625 \nQ 39.453125 6.390625 43.28125 13.890625 \nQ 47.125 21.390625 47.125 36.375 \nQ 47.125 51.421875 43.28125 58.90625 \nQ 39.453125 66.40625 31.78125 66.40625 \nz\nM 31.78125 74.21875 \nQ 44.046875 74.21875 50.515625 64.515625 \nQ 56.984375 54.828125 56.984375 36.375 \nQ 56.984375 17.96875 50.515625 8.265625 \nQ 44.046875 -1.421875 31.78125 -1.421875 \nQ 19.53125 -1.421875 13.0625 8.265625 \nQ 6.59375 17.96875 6.59375 36.375 \nQ 6.59375 54.828125 13.0625 64.515625 \nQ 19.53125 74.21875 31.78125 74.21875 \nz\n\" id=\"DejaVuSans-48\"/>\n      </defs>\n      <g transform=\"translate(42.140057 240.316878)scale(0.1 -0.1)\">\n       <use xlink:href=\"#DejaVuSans-48\"/>\n      </g>\n     </g>\n    </g>\n    <g id=\"xtick_2\">\n     <g id=\"line2d_2\">\n      <g>\n       <use style=\"stroke:#000000;stroke-width:0.8;\" x=\"112.95767\" xlink:href=\"#m19e2953c57\" y=\"225.71844\"/>\n      </g>\n     </g>\n     <g id=\"text_2\">\n      <!-- 2 -->\n      <defs>\n       <path d=\"M 19.1875 8.296875 \nL 53.609375 8.296875 \nL 53.609375 0 \nL 7.328125 0 \nL 7.328125 8.296875 \nQ 12.9375 14.109375 22.625 23.890625 \nQ 32.328125 33.6875 34.8125 36.53125 \nQ 39.546875 41.84375 41.421875 45.53125 \nQ 43.3125 49.21875 43.3125 52.78125 \nQ 43.3125 58.59375 39.234375 62.25 \nQ 35.15625 65.921875 28.609375 65.921875 \nQ 23.96875 65.921875 18.8125 64.3125 \nQ 13.671875 62.703125 7.8125 59.421875 \nL 7.8125 69.390625 \nQ 13.765625 71.78125 18.9375 73 \nQ 24.125 74.21875 28.421875 74.21875 \nQ 39.75 74.21875 46.484375 68.546875 \nQ 53.21875 62.890625 53.21875 53.421875 \nQ 53.21875 48.921875 51.53125 44.890625 \nQ 49.859375 40.875 45.40625 35.40625 \nQ 44.1875 33.984375 37.640625 27.21875 \nQ 31.109375 20.453125 19.1875 8.296875 \nz\n\" id=\"DejaVuSans-50\"/>\n      </defs>\n      <g transform=\"translate(109.77642 240.316878)scale(0.1 -0.1)\">\n       <use xlink:href=\"#DejaVuSans-50\"/>\n      </g>\n     </g>\n    </g>\n    <g id=\"xtick_3\">\n     <g id=\"line2d_3\">\n      <g>\n       <use style=\"stroke:#000000;stroke-width:0.8;\" x=\"180.594034\" xlink:href=\"#m19e2953c57\" y=\"225.71844\"/>\n      </g>\n     </g>\n     <g id=\"text_3\">\n      <!-- 4 -->\n      <defs>\n       <path d=\"M 37.796875 64.3125 \nL 12.890625 25.390625 \nL 37.796875 25.390625 \nz\nM 35.203125 72.90625 \nL 47.609375 72.90625 \nL 47.609375 25.390625 \nL 58.015625 25.390625 \nL 58.015625 17.1875 \nL 47.609375 17.1875 \nL 47.609375 0 \nL 37.796875 0 \nL 37.796875 17.1875 \nL 4.890625 17.1875 \nL 4.890625 26.703125 \nz\n\" id=\"DejaVuSans-52\"/>\n      </defs>\n      <g transform=\"translate(177.412784 240.316878)scale(0.1 -0.1)\">\n       <use xlink:href=\"#DejaVuSans-52\"/>\n      </g>\n     </g>\n    </g>\n    <g id=\"xtick_4\">\n     <g id=\"line2d_4\">\n      <g>\n       <use style=\"stroke:#000000;stroke-width:0.8;\" x=\"248.230398\" xlink:href=\"#m19e2953c57\" y=\"225.71844\"/>\n      </g>\n     </g>\n     <g id=\"text_4\">\n      <!-- 6 -->\n      <defs>\n       <path d=\"M 33.015625 40.375 \nQ 26.375 40.375 22.484375 35.828125 \nQ 18.609375 31.296875 18.609375 23.390625 \nQ 18.609375 15.53125 22.484375 10.953125 \nQ 26.375 6.390625 33.015625 6.390625 \nQ 39.65625 6.390625 43.53125 10.953125 \nQ 47.40625 15.53125 47.40625 23.390625 \nQ 47.40625 31.296875 43.53125 35.828125 \nQ 39.65625 40.375 33.015625 40.375 \nz\nM 52.59375 71.296875 \nL 52.59375 62.3125 \nQ 48.875 64.0625 45.09375 64.984375 \nQ 41.3125 65.921875 37.59375 65.921875 \nQ 27.828125 65.921875 22.671875 59.328125 \nQ 17.53125 52.734375 16.796875 39.40625 \nQ 19.671875 43.65625 24.015625 45.921875 \nQ 28.375 48.1875 33.59375 48.1875 \nQ 44.578125 48.1875 50.953125 41.515625 \nQ 57.328125 34.859375 57.328125 23.390625 \nQ 57.328125 12.15625 50.6875 5.359375 \nQ 44.046875 -1.421875 33.015625 -1.421875 \nQ 20.359375 -1.421875 13.671875 8.265625 \nQ 6.984375 17.96875 6.984375 36.375 \nQ 6.984375 53.65625 15.1875 63.9375 \nQ 23.390625 74.21875 37.203125 74.21875 \nQ 40.921875 74.21875 44.703125 73.484375 \nQ 48.484375 72.75 52.59375 71.296875 \nz\n\" id=\"DejaVuSans-54\"/>\n      </defs>\n      <g transform=\"translate(245.049148 240.316878)scale(0.1 -0.1)\">\n       <use xlink:href=\"#DejaVuSans-54\"/>\n      </g>\n     </g>\n    </g>\n    <g id=\"xtick_5\">\n     <g id=\"line2d_5\">\n      <g>\n       <use style=\"stroke:#000000;stroke-width:0.8;\" x=\"315.866761\" xlink:href=\"#m19e2953c57\" y=\"225.71844\"/>\n      </g>\n     </g>\n     <g id=\"text_5\">\n      <!-- 8 -->\n      <defs>\n       <path d=\"M 31.78125 34.625 \nQ 24.75 34.625 20.71875 30.859375 \nQ 16.703125 27.09375 16.703125 20.515625 \nQ 16.703125 13.921875 20.71875 10.15625 \nQ 24.75 6.390625 31.78125 6.390625 \nQ 38.8125 6.390625 42.859375 10.171875 \nQ 46.921875 13.96875 46.921875 20.515625 \nQ 46.921875 27.09375 42.890625 30.859375 \nQ 38.875 34.625 31.78125 34.625 \nz\nM 21.921875 38.8125 \nQ 15.578125 40.375 12.03125 44.71875 \nQ 8.5 49.078125 8.5 55.328125 \nQ 8.5 64.0625 14.71875 69.140625 \nQ 20.953125 74.21875 31.78125 74.21875 \nQ 42.671875 74.21875 48.875 69.140625 \nQ 55.078125 64.0625 55.078125 55.328125 \nQ 55.078125 49.078125 51.53125 44.71875 \nQ 48 40.375 41.703125 38.8125 \nQ 48.828125 37.15625 52.796875 32.3125 \nQ 56.78125 27.484375 56.78125 20.515625 \nQ 56.78125 9.90625 50.3125 4.234375 \nQ 43.84375 -1.421875 31.78125 -1.421875 \nQ 19.734375 -1.421875 13.25 4.234375 \nQ 6.78125 9.90625 6.78125 20.515625 \nQ 6.78125 27.484375 10.78125 32.3125 \nQ 14.796875 37.15625 21.921875 38.8125 \nz\nM 18.3125 54.390625 \nQ 18.3125 48.734375 21.84375 45.5625 \nQ 25.390625 42.390625 31.78125 42.390625 \nQ 38.140625 42.390625 41.71875 45.5625 \nQ 45.3125 48.734375 45.3125 54.390625 \nQ 45.3125 60.0625 41.71875 63.234375 \nQ 38.140625 66.40625 31.78125 66.40625 \nQ 25.390625 66.40625 21.84375 63.234375 \nQ 18.3125 60.0625 18.3125 54.390625 \nz\n\" id=\"DejaVuSans-56\"/>\n      </defs>\n      <g transform=\"translate(312.685511 240.316878)scale(0.1 -0.1)\">\n       <use xlink:href=\"#DejaVuSans-56\"/>\n      </g>\n     </g>\n    </g>\n   </g>\n   <g id=\"matplotlib.axis_2\">\n    <g id=\"ytick_1\">\n     <g id=\"line2d_6\">\n      <defs>\n       <path d=\"M 0 0 \nL -3.5 0 \n\" id=\"m470eb9c1ff\" style=\"stroke:#000000;stroke-width:0.8;\"/>\n      </defs>\n      <g>\n       <use style=\"stroke:#000000;stroke-width:0.8;\" x=\"30.103125\" xlink:href=\"#m470eb9c1ff\" y=\"212.067518\"/>\n      </g>\n     </g>\n     <g id=\"text_6\">\n      <!-- 4.0 -->\n      <defs>\n       <path d=\"M 10.6875 12.40625 \nL 21 12.40625 \nL 21 0 \nL 10.6875 0 \nz\n\" id=\"DejaVuSans-46\"/>\n      </defs>\n      <g transform=\"translate(7.2 215.866737)scale(0.1 -0.1)\">\n       <use xlink:href=\"#DejaVuSans-52\"/>\n       <use x=\"63.623047\" xlink:href=\"#DejaVuSans-46\"/>\n       <use x=\"95.410156\" xlink:href=\"#DejaVuSans-48\"/>\n      </g>\n     </g>\n    </g>\n    <g id=\"ytick_2\">\n     <g id=\"line2d_7\">\n      <g>\n       <use style=\"stroke:#000000;stroke-width:0.8;\" x=\"30.103125\" xlink:href=\"#m470eb9c1ff\" y=\"197.705497\"/>\n      </g>\n     </g>\n     <g id=\"text_7\">\n      <!-- 4.2 -->\n      <g transform=\"translate(7.2 201.504716)scale(0.1 -0.1)\">\n       <use xlink:href=\"#DejaVuSans-52\"/>\n       <use x=\"63.623047\" xlink:href=\"#DejaVuSans-46\"/>\n       <use x=\"95.410156\" xlink:href=\"#DejaVuSans-50\"/>\n      </g>\n     </g>\n    </g>\n    <g id=\"ytick_3\">\n     <g id=\"line2d_8\">\n      <g>\n       <use style=\"stroke:#000000;stroke-width:0.8;\" x=\"30.103125\" xlink:href=\"#m470eb9c1ff\" y=\"183.343476\"/>\n      </g>\n     </g>\n     <g id=\"text_8\">\n      <!-- 4.4 -->\n      <g transform=\"translate(7.2 187.142694)scale(0.1 -0.1)\">\n       <use xlink:href=\"#DejaVuSans-52\"/>\n       <use x=\"63.623047\" xlink:href=\"#DejaVuSans-46\"/>\n       <use x=\"95.410156\" xlink:href=\"#DejaVuSans-52\"/>\n      </g>\n     </g>\n    </g>\n    <g id=\"ytick_4\">\n     <g id=\"line2d_9\">\n      <g>\n       <use style=\"stroke:#000000;stroke-width:0.8;\" x=\"30.103125\" xlink:href=\"#m470eb9c1ff\" y=\"168.981454\"/>\n      </g>\n     </g>\n     <g id=\"text_9\">\n      <!-- 4.6 -->\n      <g transform=\"translate(7.2 172.780673)scale(0.1 -0.1)\">\n       <use xlink:href=\"#DejaVuSans-52\"/>\n       <use x=\"63.623047\" xlink:href=\"#DejaVuSans-46\"/>\n       <use x=\"95.410156\" xlink:href=\"#DejaVuSans-54\"/>\n      </g>\n     </g>\n    </g>\n    <g id=\"ytick_5\">\n     <g id=\"line2d_10\">\n      <g>\n       <use style=\"stroke:#000000;stroke-width:0.8;\" x=\"30.103125\" xlink:href=\"#m470eb9c1ff\" y=\"154.619433\"/>\n      </g>\n     </g>\n     <g id=\"text_10\">\n      <!-- 4.8 -->\n      <g transform=\"translate(7.2 158.418651)scale(0.1 -0.1)\">\n       <use xlink:href=\"#DejaVuSans-52\"/>\n       <use x=\"63.623047\" xlink:href=\"#DejaVuSans-46\"/>\n       <use x=\"95.410156\" xlink:href=\"#DejaVuSans-56\"/>\n      </g>\n     </g>\n    </g>\n    <g id=\"ytick_6\">\n     <g id=\"line2d_11\">\n      <g>\n       <use style=\"stroke:#000000;stroke-width:0.8;\" x=\"30.103125\" xlink:href=\"#m470eb9c1ff\" y=\"140.257411\"/>\n      </g>\n     </g>\n     <g id=\"text_11\">\n      <!-- 5.0 -->\n      <defs>\n       <path d=\"M 10.796875 72.90625 \nL 49.515625 72.90625 \nL 49.515625 64.59375 \nL 19.828125 64.59375 \nL 19.828125 46.734375 \nQ 21.96875 47.46875 24.109375 47.828125 \nQ 26.265625 48.1875 28.421875 48.1875 \nQ 40.625 48.1875 47.75 41.5 \nQ 54.890625 34.8125 54.890625 23.390625 \nQ 54.890625 11.625 47.5625 5.09375 \nQ 40.234375 -1.421875 26.90625 -1.421875 \nQ 22.3125 -1.421875 17.546875 -0.640625 \nQ 12.796875 0.140625 7.71875 1.703125 \nL 7.71875 11.625 \nQ 12.109375 9.234375 16.796875 8.0625 \nQ 21.484375 6.890625 26.703125 6.890625 \nQ 35.15625 6.890625 40.078125 11.328125 \nQ 45.015625 15.765625 45.015625 23.390625 \nQ 45.015625 31 40.078125 35.4375 \nQ 35.15625 39.890625 26.703125 39.890625 \nQ 22.75 39.890625 18.8125 39.015625 \nQ 14.890625 38.140625 10.796875 36.28125 \nz\n\" id=\"DejaVuSans-53\"/>\n      </defs>\n      <g transform=\"translate(7.2 144.05663)scale(0.1 -0.1)\">\n       <use xlink:href=\"#DejaVuSans-53\"/>\n       <use x=\"63.623047\" xlink:href=\"#DejaVuSans-46\"/>\n       <use x=\"95.410156\" xlink:href=\"#DejaVuSans-48\"/>\n      </g>\n     </g>\n    </g>\n    <g id=\"ytick_7\">\n     <g id=\"line2d_12\">\n      <g>\n       <use style=\"stroke:#000000;stroke-width:0.8;\" x=\"30.103125\" xlink:href=\"#m470eb9c1ff\" y=\"125.89539\"/>\n      </g>\n     </g>\n     <g id=\"text_12\">\n      <!-- 5.2 -->\n      <g transform=\"translate(7.2 129.694609)scale(0.1 -0.1)\">\n       <use xlink:href=\"#DejaVuSans-53\"/>\n       <use x=\"63.623047\" xlink:href=\"#DejaVuSans-46\"/>\n       <use x=\"95.410156\" xlink:href=\"#DejaVuSans-50\"/>\n      </g>\n     </g>\n    </g>\n    <g id=\"ytick_8\">\n     <g id=\"line2d_13\">\n      <g>\n       <use style=\"stroke:#000000;stroke-width:0.8;\" x=\"30.103125\" xlink:href=\"#m470eb9c1ff\" y=\"111.533369\"/>\n      </g>\n     </g>\n     <g id=\"text_13\">\n      <!-- 5.4 -->\n      <g transform=\"translate(7.2 115.332587)scale(0.1 -0.1)\">\n       <use xlink:href=\"#DejaVuSans-53\"/>\n       <use x=\"63.623047\" xlink:href=\"#DejaVuSans-46\"/>\n       <use x=\"95.410156\" xlink:href=\"#DejaVuSans-52\"/>\n      </g>\n     </g>\n    </g>\n    <g id=\"ytick_9\">\n     <g id=\"line2d_14\">\n      <g>\n       <use style=\"stroke:#000000;stroke-width:0.8;\" x=\"30.103125\" xlink:href=\"#m470eb9c1ff\" y=\"97.171347\"/>\n      </g>\n     </g>\n     <g id=\"text_14\">\n      <!-- 5.6 -->\n      <g transform=\"translate(7.2 100.970566)scale(0.1 -0.1)\">\n       <use xlink:href=\"#DejaVuSans-53\"/>\n       <use x=\"63.623047\" xlink:href=\"#DejaVuSans-46\"/>\n       <use x=\"95.410156\" xlink:href=\"#DejaVuSans-54\"/>\n      </g>\n     </g>\n    </g>\n    <g id=\"ytick_10\">\n     <g id=\"line2d_15\">\n      <g>\n       <use style=\"stroke:#000000;stroke-width:0.8;\" x=\"30.103125\" xlink:href=\"#m470eb9c1ff\" y=\"82.809326\"/>\n      </g>\n     </g>\n     <g id=\"text_15\">\n      <!-- 5.8 -->\n      <g transform=\"translate(7.2 86.608544)scale(0.1 -0.1)\">\n       <use xlink:href=\"#DejaVuSans-53\"/>\n       <use x=\"63.623047\" xlink:href=\"#DejaVuSans-46\"/>\n       <use x=\"95.410156\" xlink:href=\"#DejaVuSans-56\"/>\n      </g>\n     </g>\n    </g>\n    <g id=\"ytick_11\">\n     <g id=\"line2d_16\">\n      <g>\n       <use style=\"stroke:#000000;stroke-width:0.8;\" x=\"30.103125\" xlink:href=\"#m470eb9c1ff\" y=\"68.447304\"/>\n      </g>\n     </g>\n     <g id=\"text_16\">\n      <!-- 6.0 -->\n      <g transform=\"translate(7.2 72.246523)scale(0.1 -0.1)\">\n       <use xlink:href=\"#DejaVuSans-54\"/>\n       <use x=\"63.623047\" xlink:href=\"#DejaVuSans-46\"/>\n       <use x=\"95.410156\" xlink:href=\"#DejaVuSans-48\"/>\n      </g>\n     </g>\n    </g>\n    <g id=\"ytick_12\">\n     <g id=\"line2d_17\">\n      <g>\n       <use style=\"stroke:#000000;stroke-width:0.8;\" x=\"30.103125\" xlink:href=\"#m470eb9c1ff\" y=\"54.085283\"/>\n      </g>\n     </g>\n     <g id=\"text_17\">\n      <!-- 6.2 -->\n      <g transform=\"translate(7.2 57.884502)scale(0.1 -0.1)\">\n       <use xlink:href=\"#DejaVuSans-54\"/>\n       <use x=\"63.623047\" xlink:href=\"#DejaVuSans-46\"/>\n       <use x=\"95.410156\" xlink:href=\"#DejaVuSans-50\"/>\n      </g>\n     </g>\n    </g>\n    <g id=\"ytick_13\">\n     <g id=\"line2d_18\">\n      <g>\n       <use style=\"stroke:#000000;stroke-width:0.8;\" x=\"30.103125\" xlink:href=\"#m470eb9c1ff\" y=\"39.723262\"/>\n      </g>\n     </g>\n     <g id=\"text_18\">\n      <!-- 6.4 -->\n      <g transform=\"translate(7.2 43.52248)scale(0.1 -0.1)\">\n       <use xlink:href=\"#DejaVuSans-54\"/>\n       <use x=\"63.623047\" xlink:href=\"#DejaVuSans-46\"/>\n       <use x=\"95.410156\" xlink:href=\"#DejaVuSans-52\"/>\n      </g>\n     </g>\n    </g>\n    <g id=\"ytick_14\">\n     <g id=\"line2d_19\">\n      <g>\n       <use style=\"stroke:#000000;stroke-width:0.8;\" x=\"30.103125\" xlink:href=\"#m470eb9c1ff\" y=\"25.36124\"/>\n      </g>\n     </g>\n     <g id=\"text_19\">\n      <!-- 6.6 -->\n      <g transform=\"translate(7.2 29.160459)scale(0.1 -0.1)\">\n       <use xlink:href=\"#DejaVuSans-54\"/>\n       <use x=\"63.623047\" xlink:href=\"#DejaVuSans-46\"/>\n       <use x=\"95.410156\" xlink:href=\"#DejaVuSans-54\"/>\n      </g>\n     </g>\n    </g>\n    <g id=\"ytick_15\">\n     <g id=\"line2d_20\">\n      <g>\n       <use style=\"stroke:#000000;stroke-width:0.8;\" x=\"30.103125\" xlink:href=\"#m470eb9c1ff\" y=\"10.999219\"/>\n      </g>\n     </g>\n     <g id=\"text_20\">\n      <!-- 6.8 -->\n      <g transform=\"translate(7.2 14.798437)scale(0.1 -0.1)\">\n       <use xlink:href=\"#DejaVuSans-54\"/>\n       <use x=\"63.623047\" xlink:href=\"#DejaVuSans-46\"/>\n       <use x=\"95.410156\" xlink:href=\"#DejaVuSans-56\"/>\n      </g>\n     </g>\n    </g>\n   </g>\n   <g id=\"line2d_21\">\n    <path clip-path=\"url(#pac9091c198)\" d=\"M 45.321307 18.162077 \nL 79.139489 107.055697 \nL 112.95767 215.834804 \nL 146.775852 148.298929 \nL 180.594034 155.314515 \nL 214.412216 110.952038 \nL 248.230398 145.581636 \nL 282.04858 174.976135 \nL 315.866761 169.338076 \nL 349.684943 134.545809 \n\" style=\"fill:none;stroke:#1f77b4;stroke-linecap:square;stroke-width:1.5;\"/>\n   </g>\n   <g id=\"patch_3\">\n    <path d=\"M 30.103125 225.71844 \nL 30.103125 8.27844 \n\" style=\"fill:none;stroke:#000000;stroke-linecap:square;stroke-linejoin:miter;stroke-width:0.8;\"/>\n   </g>\n   <g id=\"patch_4\">\n    <path d=\"M 364.903125 225.71844 \nL 364.903125 8.27844 \n\" style=\"fill:none;stroke:#000000;stroke-linecap:square;stroke-linejoin:miter;stroke-width:0.8;\"/>\n   </g>\n   <g id=\"patch_5\">\n    <path d=\"M 30.103125 225.71844 \nL 364.903125 225.71844 \n\" style=\"fill:none;stroke:#000000;stroke-linecap:square;stroke-linejoin:miter;stroke-width:0.8;\"/>\n   </g>\n   <g id=\"patch_6\">\n    <path d=\"M 30.103125 8.27844 \nL 364.903125 8.27844 \n\" style=\"fill:none;stroke:#000000;stroke-linecap:square;stroke-linejoin:miter;stroke-width:0.8;\"/>\n   </g>\n  </g>\n </g>\n <defs>\n  <clipPath id=\"pac9091c198\">\n   <rect height=\"217.44\" width=\"334.8\" x=\"30.103125\" y=\"8.27844\"/>\n  </clipPath>\n </defs>\n</svg>\n",
      "image/png": "[encoded data removed]"
     },
     "metadata": {
      "needs_background": "light"
     }
    }
   ],
   "source": [
    "hidden_size = 128\n",
    "encoder1 = EncoderRNN(lang.n_words, hidden_size).to(device)\n",
    "attn_decoder1 = AttnDecoderRNN(hidden_size, lang.n_words, dropout_p=0.1).to(device)\n",
    "\n",
    "trainIters(encoder1, attn_decoder1, 1000, print_every=5000)"
   ]
  },
  {
   "cell_type": "code",
   "execution_count": 21,
   "metadata": {},
   "outputs": [
    {
     "output_type": "stream",
     "name": "stdout",
     "text": "> hi . my children and husband were at the doctor yesterday and he has now informed us he has tested positive for covid . he has come home to my babies and mom . how long before we can go for a test ?\n= in brief incubation period days time from exposure to time of getting illness . i am unclear if the doctor is positive or your husband is ?you should isolate yourselves at home for days .if your husband is positive he should be in his own room and own bathroom if possible .testing only recommended if there are symptoms fever or cough or shortness of breath and then you should be tested .good hand washing no touching face would you like to video or text chat with me ?\n< in brief . . . . . . . . . . . . . . . <EOS>\n\n> what is the treatment for covid ?\n= depends on severity . covid pandemic at this time so a doctor on video may consult by video instead of requiring an in person visit . flu like symptoms can be from a strep throat infection a cold or influenza or from some other cause like covid . usually a person calls the doctor if the symptoms are bothersome serious recurrent or persistent . covid testing depends on local availability .\n< in brief . . . . . . . . . . . . . . . <EOS>\n\n> a friend of mine has been treated for an as yet unidentified intestinal parasite with the antibiotic levofloxacin . he was also diagnosed with a right lower lobe pneumonia discovered on ct scan . his physician told him that the antibiotic would take of both the pneumonia and the parasite . as a np i am familiar with levaquin s use to combat pneumonia but the only antibiotics i can find for use as an antiparasitic are tetracyline and emycin if metronidazole cannot be tolerated . is levofloxacin now also being used the way emycin might be used in the absence of flagyl ?\n= respected user hiwarm welcome to healthcaremagic .comi have gone through your concern in depth . levofloxacin is best effective molecule for pneumonia and many intestine bugs . metronidazole may be kept reserved on waiting for certain test reports or clinically physician may not need to add to the drug cart according to the evaluation and clinical experience .hope this clears your doubt .regards .\n< in brief . . . . . . . . . . . . . . . . <EOS>\n\n> i have been recently diagnosed w the flu nose swab test done . i am years old ex smoker quit completely for years now however each year i get walking pneumonia at least once . i m almost certain i ve got it again now . anything i can do to stop getting pneumonia ? ?\n= thanks for your question on healthcare magic .i can understand your concern . you should do following things to prevent recurrent pneumonia and improve your lung health . . drink plenty of fluids orally and keep yourself hydrated . . do steam inhalation and warm water gargles times a day . . take pneumococcal and influenza vaccine . influenza vaccine should be taken annually while pneumococcal every five yearly . . avoid smoke dust fumes chemicals etc and wear mask . . avoid unnecessary hospital visits .don t worry you will be alright with all these . hope i have solved your query . i will be happy to help you further . wish you good health . thanks .\n< in brief . . . . . . . . . . . . . . . . . . <EOS>\n\n> i have a tight and painful chest with a dry cough no fever and no headaches . could it possibly be coronavirus ?\n= possible . top symptoms include fever dry cough and sob . an obvious possibility . if so your best step is to self quarntine . remember at your age low risk of complication and typically will pass without issue . if worsening sob be seen . call your provider or check with local health department . these are healthtap guidelines https www .healthtap .com blog covid care guidelines self quarantine guide .\n< in brief . . . . . . . . . . . . . . . . <EOS>\n\n> i was diagnosed with pneumonia and pleurisy friday . dr gave me azithromiacin and mg of ibuprofen . that was days ago . azithromiacin has one pill left and i no longer take the ibuprofen as not needed . to date i take sudafed pe and robitussin dm with expectorant suppressant . every hours when the meds wear off my fever returns with body aches chills headache and coughing . i continually cough up flem and when lying down need to clear my throat every seconds . i m also bloated and get air bubbles under my ribs that are painful .\n= hello and welcome to ask a doctor service . i have reviewed your query and here is my advice . as far as my clinical experience is concerned the intensity of the symptoms are not under control with oral antibiotics . in our clinic i recommend the patient to get hospital admission start intravenous antibiotics broncho dilators and other supportive measures to control the same . do give me further chance to assist in future . hope i have answered your query . let me know if i can assist you further .\n< in brief covid is . i have . . . . . . . . would you like to video or text chat with me ? <EOS>\n\n> with a bad immunity deficiency how can i keep as safe as possible from contracting covid in a family household . work is not an issue but shopping and accepting deliveries is . also need to take child outsides as home is small no garden .\n= protection . stay at home as much as possible clean your hands and your children hands after any contact with people alcohol is very helpful avoid touching your face when you are not sure your hands are clean . in crowded places wear protection like n surgical mask . playing outside is ok but apply these measures and stay way ft from any unknown health status person .\n< in brief covid . i have . . . . . . . . would you like to video or text chat with me ? <EOS>\n\n> i have heart valve disease leaky heart due to rheumatic fever as a child . never had any symptoms or complications however am i at high risk for death due to coronavirus and what can i take before or during early symptoms of the virus ?\n= rhd . if your rheumatic heart disease hasn t caused weakness of the heart muscle or cardiac arrhythmia it shouldn t predispose you to more complications than anyone else in good health . keep your resistance and immune system high by avoiding fatigue dehydration excessive stress poor nutrition and exposure to ill people . practice social distancing . at sign of sore throat gargle with warm salt water .\n< in brief . . . . . . . . . . . . . . . <EOS>\n\n> i have mild asthma which is well controlled if i were to contract covid would i experience any difficulties as can t seem to find much information on asthma patients who have had the coronavirus many thanks ?\n= in brief covid and asthma great question . yes asthma is a chronic lung disease which carries some increased risk with covid . good asthma control along with good handwashwng social distancing avoiding unnecessary travel along with your young age should keep your risk of complications low . smoking hypertension diabetes obesity or compromised immune system are also risk factors to be considered .\n< in brief . . . . . . . . . . . . . . . . . <EOS>\n\n> what must i do if i have been in contact with a covid positive person ?\n= if real contact . . . self quarantine helps stay at home except for going to get medical care . do not go to work school church playgrounds or other public areas . for medical care questions about your covid symptoms or other health issues get advice from your doctor by video or phone . see the full guide at https www .healthtap .com blog post covid coronavirus self quarantine guide .\n< in brief . . . . . . . . . . . . . . . . <EOS>\n\n"
    }
   ],
   "source": [
    "evaluateRandomly(encoder1, attn_decoder1)"
   ]
  },
  {
   "cell_type": "code",
   "execution_count": 23,
   "metadata": {},
   "outputs": [
    {
     "output_type": "execute_result",
     "data": {
      "text/plain": "{0: 'SOS',\n 1: 'EOS',\n 2: 'hello',\n 3: 'doctor',\n 4: 'i',\n 5: 'get',\n 6: 'a',\n 7: 'cough',\n 8: 'for',\n 9: 'the',\n 10: 'last',\n 11: 'few',\n 12: 'days',\n 13: 'which',\n 14: 'is',\n 15: 'heavy',\n 16: 'during',\n 17: 'night',\n 18: 'times',\n 19: '.',\n 20: 'no',\n 21: 'raise',\n 22: 'in',\n 23: 'temperature',\n 24: 'but',\n 25: 'feeling',\n 26: 'tired',\n 27: 'with',\n 28: 'travel',\n 29: 'history',\n 30: 'contact',\n 31: 'any',\n 32: 'covid',\n 33: 'persons',\n 34: 'it',\n 35: 'has',\n 36: 'been',\n 37: 'four',\n 38: 'to',\n 39: 'five',\n 40: 'and',\n 41: 'drunk',\n 42: 'lot',\n 43: 'of',\n 44: 'benadryl',\n 45: 'took',\n 46: 'paracetamol',\n 47: 'too',\n 48: 'doctors',\n 49: 'have',\n 50: 'shut',\n 51: 'op',\n 52: 'so',\n 53: 'do',\n 54: 'not',\n 55: 'know',\n 56: 'what',\n 57: '?',\n 58: 'please',\n 59: 'help',\n 60: 'understand',\n 61: 'your',\n 62: 'concern',\n 63: 'just',\n 64: 'more',\n 65: 'questions',\n 66: 'does',\n 67: 'phlegm',\n 68: 'other',\n 69: 'symptoms',\n 70: 'like',\n 71: 'difficulty',\n 72: 'breathing',\n 73: 'medical',\n 74: 'condition',\n 75: 'such',\n 76: 'as',\n 77: 'asthma',\n 78: 'hypertension',\n 79: 'are',\n 80: 'you',\n 81: 'smoker',\n 82: 'alcoholic',\n 83: 'beverage',\n 84: 'drinker',\n 85: 'thank',\n 86: 'tiny',\n 87: 'amount',\n 88: 'comes',\n 89: 'out',\n 90: 'most',\n 91: 'time',\n 92: 'conditions',\n 93: 'nor',\n 94: 'hi',\n 95: 'would',\n 96: 'recommend',\n 97: 'take',\n 98: 'n',\n 99: 'acetylcysteine',\n 100: 'mg',\n 101: 'powder',\n 102: 'dissolved',\n 103: 'water',\n 104: 'three',\n 105: 'day',\n 106: 'may',\n 107: 'also',\n 108: 'nebulize',\n 109: 'using',\n 110: 'pnss',\n 111: 'saline',\n 112: 'nebulizer',\n 113: 'this',\n 114: 'will',\n 115: 'come',\n 116: 'vitamin',\n 117: 'c',\n 118: 'zinc',\n 119: 'boost',\n 120: 'immune',\n 121: 'system',\n 122: 'if',\n 123: 'persist',\n 124: 'worsen',\n 125: 'or',\n 126: 'new',\n 127: 'onset',\n 128: 'noted',\n 129: 'further',\n 130: 'consult',\n 131: 'advised',\n 132: 'am',\n 133: 'suffering',\n 134: 'from',\n 135: 'coughing',\n 136: 'throat',\n 137: 'infection',\n 138: 'week',\n 139: 'at',\n 140: 'that',\n 141: 'fever',\n 142: 'did',\n 143: 'felt',\n 144: 'chest',\n 145: 'pain',\n 146: 'two',\n 147: 'later',\n 148: 'consulted',\n 149: 'he',\n 150: 'prescribed',\n 151: 'cavidur',\n 152: 'montek',\n 153: 'lc',\n 154: 'ambrolite',\n 155: 'syrup',\n 156: 'betaline',\n 157: 'gargle',\n 158: 'solution',\n 159: 'since',\n 160: 'then',\n 161: 'improved',\n 162: 'frequent',\n 163: 'coming',\n 164: 'remarkably',\n 165: 'though',\n 166: 'completely',\n 167: 'yesterday',\n 168: 'onwards',\n 169: 'occuring',\n 170: 'maximum',\n 171: 'degree',\n 172: 'celcius',\n 173: 'touch',\n 174: 'foreign',\n 175: 'returned',\n 176: 'person',\n 177: 'went',\n 178: 'outside',\n 179: 'our',\n 180: 'state',\n 181: 'there',\n 182: 'incidence',\n 183: 'suggest',\n 184: 'can',\n 185: 'my',\n 186: 'opinion',\n 187: 'should',\n 188: 'done',\n 189: 'x',\n 190: 'ray',\n 191: 'cbc',\n 192: 'complete',\n 193: 'blood',\n 194: 'count',\n 195: 'both',\n 196: 'these',\n 197: 'normal',\n 198: 'need',\n 199: 'worry',\n 200: 'much',\n 201: 'hope',\n 202: 'helps',\n 203: 'after',\n 204: 'doing',\n 205: 'all',\n 206: 'upload',\n 207: 'query',\n 208: 'yes',\n 209: 'only',\n 210: 'see',\n 211: 'revert',\n 212: 'per',\n 213: 'guidelines',\n 214: 'made',\n 215: 'one',\n 216: 'test',\n 217: 'due',\n 218: 'city',\n 219: 'shutdown',\n 220: 'could',\n 221: 'able',\n 222: 'make',\n 223: 'an',\n 224: 'every',\n 225: 'hours',\n 226: 'currently',\n 227: 'problem',\n 228: 'uploading',\n 229: 'examination',\n 230: 'report',\n 231: 'advice',\n 232: 'gone',\n 233: 'through',\n 234: 'attached',\n 235: 'attachment',\n 236: 'removed',\n 237: 'protect',\n 238: 'patient',\n 239: 'identity',\n 240: 'total',\n 241: 'on',\n 242: 'higher',\n 243: 'side',\n 244: 'along',\n 245: 'low',\n 246: 'hemoglobin',\n 247: 'start',\n 248: 'azithromycin',\n 249: 'tablet',\n 250: 'dolo',\n 251: 'once',\n 252: 'subside',\n 253: 'iron',\n 254: 'how',\n 255: 'many',\n 256: 'tablets',\n 257: 'be',\n 258: 'taken',\n 259: 'morning',\n 260: 'want',\n 261: 'already',\n 262: 'before',\n 263: 'she',\n 264: 'today',\n 265: 'itself',\n 266: 'now',\n 267: 'drink',\n 268: 'plenty',\n 269: 'fluids',\n 270: 'orally',\n 271: 'keep',\n 272: 'yourself',\n 273: 'hydrated',\n 274: 'warm',\n 275: 'gargles',\n 276: 'steam',\n 277: 'inhalation',\n 278: 'year',\n 279: 'old',\n 280: 'man',\n 281: 'anxiety',\n 282: 'depression',\n 283: 'immunodeficiency',\n 284: 'disorders',\n 285: 'chronic',\n 286: 'diseases',\n 287: 'first',\n 288: 'wanna',\n 289: 'weakened',\n 290: 'likely',\n 291: 'die',\n 292: 'coronavirus',\n 293: 'second',\n 294: 'itchiness',\n 295: 'shortness',\n 296: 'breath',\n 297: 'always',\n 298: 'because',\n 299: 'persistent',\n 300: 'than',\n 301: 'feel',\n 302: 'very',\n 303: 'subtle',\n 304: 'burning',\n 305: 'sensation',\n 306: 'go',\n 307: 'past',\n 308: 'ten',\n 309: 'someone',\n 310: 'positive',\n 311: 'quit',\n 312: 'smoking',\n 313: 'down',\n 314: 'zero',\n 315: 'cigarettes',\n 316: 'why',\n 317: 'manifest',\n 318: 'physical',\n 319: 'psychological',\n 320: 'irritation',\n 321: 'experiencing',\n 322: 'part',\n 323: 'believe',\n 324: 'hype',\n 325: 'about',\n 326: 'mortality',\n 327: 'rate',\n 328: 'percent',\n 329: 'high',\n 330: 'people',\n 331: 'above',\n 332: 'years',\n 333: 'co',\n 334: 'morbidities',\n 335: 'even',\n 336: 'anyone',\n 337: 'continue',\n 338: 'medicines',\n 339: 'taking',\n 340: 'them',\n 341: 'consider',\n 342: 'visiting',\n 343: 'psychiatrist',\n 344: 'started',\n 345: 'some',\n 346: 'dose',\n 347: 'ssri',\n 348: 'type',\n 349: 'needed',\n 350: 'benzodiazepines',\n 351: 'added',\n 352: 'temporarily',\n 353: 'deep',\n 354: 'exercises',\n 355: 'progressive',\n 356: 'muscle',\n 357: 'relaxation',\n 358: 'honey',\n 359: 'reduce',\n 360: 'itching',\n 361: 'try',\n 362: 'lukewarm',\n 363: 'salt',\n 364: 'was',\n 365: 'getting',\n 366: 'chills',\n 367: 'cold',\n 368: 'usual',\n 369: 'lightheaded',\n 370: 'burping',\n 371: 'maybe',\n 372: 'minutes',\n 373: 'less',\n 374: 'running',\n 375: 'body',\n 376: 'bit',\n 377: 'weird',\n 378: 'starting',\n 379: 'having',\n 380: 'trouble',\n 381: 'goes',\n 382: 'back',\n 383: 'repeats',\n 384: 'left',\n 385: 'right',\n 386: 'lungs',\n 387: 'upper',\n 388: 'heart',\n 389: 'pumping',\n 390: 'fast',\n 391: 'minor',\n 392: 'coughs',\n 393: 'were',\n 394: 'seven',\n 395: 'ago',\n 396: 'still',\n 397: 'here',\n 398: 'white',\n 399: 'mucus',\n 400: 'gotten',\n 401: 'yellow',\n 402: 'yet',\n 403: 'got',\n 404: 'severe',\n 405: 'flu',\n 406: 'medicine',\n 407: 'reliever',\n 408: 'away',\n 409: 'called',\n 410: 'phone',\n 411: 'told',\n 412: 'him',\n 413: 'happen',\n 414: 'same',\n 415: 'thing',\n 416: 'happened',\n 417: 'had',\n 418: 'cannot',\n 419: 'breathe',\n 420: 'something',\n 421: 'issue',\n 422: 'going',\n 423: 'least',\n 424: 'somehow',\n 425: 'gives',\n 426: 'pepcid',\n 427: 'gerd',\n 428: 'ate',\n 429: 'arms',\n 430: 'makes',\n 431: 'arm',\n 432: 'sometimes',\n 433: 'worried',\n 434: 'think',\n 435: 'hot',\n 436: 'forehead',\n 437: 'else',\n 438: 'weigh',\n 439: 'around',\n 440: 'kg',\n 441: 'answer',\n 442: 'following',\n 443: 'month',\n 444: 'use',\n 445: 'airports',\n 446: 'checked',\n 447: 'sleep',\n 448: 'malaise',\n 449: 'aches',\n 450: 'weakness',\n 451: 'school',\n 452: 'nearby',\n 453: 'grocery',\n 454: 'stores',\n 455: 'bus',\n 456: 'airport',\n 457: 'exposure',\n 458: 'anything',\n 459: 'sore',\n 460: 'seems',\n 461: 'clear',\n 462: 'probably',\n 463: 'thinking',\n 464: 'stuff',\n 465: 'being',\n 466: 'appear',\n 467: 'whole',\n 468: 'smoke',\n 469: 'sudafed',\n 470: 'tylenol',\n 471: 'zyrtec',\n 472: 'sure',\n 473: 'better',\n 474: 'avoid',\n 475: 'dust',\n 476: 'winds',\n 477: 'ac',\n 478: 'minimum',\n 479: 'ceiling',\n 480: 'fan',\n 481: 'instead',\n 482: 'eating',\n 483: 'partying',\n 484: 'unnecessary',\n 485: 'quarantine',\n 486: 'strictest',\n 487: 'manner',\n 488: 'restrictions',\n 489: 'interacting',\n 490: 'meeting',\n 491: 'community',\n 492: 'lastly',\n 493: 'where',\n 494: 'place',\n 495: 'residence',\n 496: 'country',\n 497: 'corona',\n 498: 'endemic',\n 499: 'talk',\n 500: 'interact',\n 501: 'known',\n 502: 'suspected',\n 503: 'picture',\n 504: 'open',\n 505: 'mouth',\n 506: 'showing',\n 507: 'details',\n 508: 'tonsils',\n 509: 'pharyngeal',\n 510: 'wall',\n 511: 'send',\n 512: 'me',\n 513: 'woke',\n 514: 'up',\n 515: 'sleeping',\n 516: 'ringing',\n 517: 'far',\n 518: 'hear',\n 519: 'thanks',\n 520: 'those',\n 521: 'recommendations',\n 522: 'fall',\n 523: 'asleep',\n 524: 'quicker',\n 525: 'usually',\n 526: 'takes',\n 527: 'hour',\n 528: 'possible',\n 529: 'staying',\n 530: 'inside',\n 531: 'places',\n 532: 'lockdown',\n 533: 'online',\n 534: 'recently',\n 535: 'turned',\n 536: 'air',\n 537: 'purifier',\n 538: 'clean',\n 539: 'allergies',\n 540: 'viruses',\n 541: 'might',\n 542: 'unless',\n 543: 'really',\n 544: 'home',\n 545: 'next',\n 546: 'little',\n 547: 'sick',\n 548: 'enough',\n 549: 'stay',\n 550: 'san',\n 551: 'francisco',\n 552: 'ca',\n 553: 'united',\n 554: 'states',\n 555: 'close',\n 556: 'confirmed',\n 557: 'cases',\n 558: 'reports',\n 559: 'near',\n 560: 'district',\n 561: 'heard',\n 562: 'serious',\n 563: 'tonsil',\n 564: 'while',\n 565: 'swallowing',\n 566: 'drank',\n 567: 'tea',\n 568: 'smaller',\n 569: 'between',\n 570: 'middle',\n 571: 'behind',\n 572: 'tongue',\n 573: 'looks',\n 574: 'red',\n 575: 'inflamed',\n 576: 'rashes',\n 577: 'foods',\n 578: 'drinks',\n 579: 'follow',\n 580: 'precautions',\n 581: 'alright',\n 582: 'soon',\n 583: 'good',\n 584: 'tonight',\n 585: 'sf',\n 586: 'brother',\n 587: 'supposed',\n 588: 'fly',\n 589: 'india',\n 590: 'work',\n 591: 'his',\n 592: 'canceled',\n 593: 'wake',\n 594: 'virus',\n 595: 'camera',\n 596: 'decent',\n 597: 'job',\n 598: 'focussed',\n 599: 'area',\n 600: 'interest',\n 601: 'yours',\n 602: 'picked',\n 603: 'big',\n 604: 'bumps',\n 605: 'enlarged',\n 606: 'current',\n 607: 'resolved',\n 608: 'they',\n 609: 'their',\n 610: 'size',\n 611: 'guess',\n 612: 'must',\n 613: 'slightly',\n 614: 'granular',\n 615: 'quite',\n 616: 'common',\n 617: 'infections',\n 618: 'supportive',\n 619: 'treatment',\n 620: 'traditional',\n 621: 'indian',\n 622: 'forms',\n 623: 'advise',\n 624: 'addition',\n 625: 'appropriate',\n 626: 'weight',\n 627: 'additionally',\n 628: 'tide',\n 629: 'over',\n 630: 'period',\n 631: 'wonderfully',\n 632: 'watch',\n 633: 'warning',\n 634: 'increased',\n 635: 'thick',\n 636: 'postnasal',\n 637: 'drip',\n 638: 'swelling',\n 639: 'neck',\n 640: 'etc',\n 641: 'promptly',\n 642: 'z',\n 643: 'pack',\n 644: 'pm',\n 645: 'harder',\n 646: 'breakfast',\n 647: 'story',\n 648: 'feb',\n 649: 'th',\n 650: 'issues',\n 651: 'besides',\n 652: 'bloating',\n 653: 'lightheadedness',\n 654: 'problems',\n 655: 'friday',\n 656: 'february',\n 657: 'unwell',\n 658: 'bed',\n 659: 'came',\n 660: 'super',\n 661: 'faint',\n 662: 'lied',\n 663: 'stomach',\n 664: 'barely',\n 665: 'eat',\n 666: 'noodles',\n 667: 'small',\n 668: 'pieces',\n 669: 'spam',\n 670: 'vomited',\n 671: 'acid',\n 672: 'saturday',\n 673: 'diarrhea',\n 674: 'sunday',\n 675: 'march',\n 676: 'st',\n 677: 'monday',\n 678: 'tuesday',\n 679: 'wednesday',\n 680: 'stool',\n 681: 'thursday',\n 682: 'afternoon',\n 683: 'chicken',\n 684: 'uncomfortable',\n 685: 'hands',\n 686: 'kind',\n 687: 'fainting',\n 688: 'randomly',\n 689: 'tums',\n 690: 'again',\n 691: 'described',\n 692: 'said',\n 693: 'sounds',\n 694: 'bad',\n 695: 'sound',\n 696: 'course',\n 697: 'we',\n 698: 'lab',\n 699: 'tests',\n 700: 'asked',\n 701: 'tried',\n 702: 'stronger',\n 703: 'antacids',\n 704: 'zantac',\n 705: 'tell',\n 706: 'making',\n 707: 'burp',\n 708: 'almost',\n 709: 'fine',\n 710: 'office',\n 711: 'beats',\n 712: 'minute',\n 713: 'counted',\n 714: 'rating',\n 715: 'bpm',\n 716: 'when',\n 717: 'call',\n 718: 'gets',\n 719: 'worse',\n 720: 'shortly',\n 721: 'drop',\n 722: 'slowly',\n 723: 'pains',\n 724: 'beating',\n 725: 'moving',\n 726: 'sat',\n 727: 'strange',\n 728: 'its',\n 729: 'reflux',\n 730: 'esophagus',\n 731: 'protonix',\n 732: 'pantoprazole',\n 733: 'lie',\n 734: 'immediately',\n 735: 'consuming',\n 736: 'meals',\n 737: 'meal',\n 738: 'spicy',\n 739: 'oily',\n 740: 'store',\n 741: 'look',\n 742: 'talked',\n 743: 'pharmacy',\n 744: 'tightening',\n 745: 'ranitidine',\n 746: 'means',\n 747: 'nervous',\n 748: 'calm',\n 749: 'myself',\n 750: 'by',\n 751: 'putting',\n 752: 'fingers',\n 753: 'teeth',\n 754: 'cause',\n 755: 'beat',\n 756: 'faster',\n 757: 'stick',\n 758: 'finish',\n 759: 'entire',\n 760: 'bottle',\n 761: 'used',\n 762: 'hungry',\n 763: 'snacks',\n 764: 'lying',\n 765: 'starve',\n 766: 'don',\n 767: 't',\n 768: 'lasted',\n 769: 'waited',\n 770: 'pressure',\n 771: 'proton',\n 772: 'pump',\n 773: 'inhibitor',\n 774: 'appears',\n 775: 'heartburn',\n 776: 'acidity',\n 777: 'sinister',\n 778: 'trying',\n 779: 'bowl',\n 780: 'food',\n 781: 'veggies',\n 782: 'rice',\n 783: 'halfway',\n 784: 'meat',\n 785: 'coughed',\n 786: 'well',\n 787: 'cooked',\n 788: 'meats',\n 789: 'appreciate',\n 790: 'effort',\n 791: 'give',\n 792: 'wait',\n 793: 'drinking',\n 794: 'absolutely',\n 795: 'laryngoscopy',\n 796: 'check',\n 797: 'wrong',\n 798: 'larynx',\n 799: 'healthy',\n 800: 'yeah',\n 801: 'doesn',\n 802: 'perfect',\n 803: 'okay',\n 804: 'll',\n 805: '!',\n 806: 'vegetables',\n 807: 'fruits',\n 808: 'junk',\n 809: 'mostly',\n 810: 'pork',\n 811: 'beef',\n 812: 'fish',\n 813: 'fried',\n 814: 'wheat',\n 815: 'bread',\n 816: 'patty',\n 817: 'market',\n 818: 'lunch',\n 819: 'cheap',\n 820: 'stopped',\n 821: 'french',\n 822: 'fries',\n 823: 'pizza',\n 824: 'soda',\n 825: 'exercise',\n 826: 'haven',\n 827: 'exercising',\n 828: 'months',\n 829: 'telling',\n 830: 'feels',\n 831: 'tight',\n 832: 'squeeze',\n 833: 'way',\n 834: 'point',\n 835: 'until',\n 836: 'college',\n 837: 'm',\n 838: 'younger',\n 839: 'elementary',\n 840: 'squeezes',\n 841: 'stethoscope',\n 842: 'hasn',\n 843: 'another',\n 844: 'didn',\n 845: 'regularly',\n 846: '.that',\n 847: 's',\n 848: 'recent',\n 849: 'kinda',\n 850: 'anyways',\n 851: 'track',\n 852: 'regards',\n 853: 'diet',\n 854: 'restart',\n 855: 'active',\n 856: 'quantity',\n 857: 'each',\n 858: 'frequently',\n 859: 'without',\n 860: 'adding',\n 861: 'calories',\n 862: 'chaitanya',\n 863: 'swim',\n 864: 'daily',\n 865: 'spreads',\n 866: 'welcome',\n 867: 'ask',\n 868: 'service',\n 869: 'reviewed',\n 870: 'spread',\n 871: 'however',\n 872: 'human',\n 873: 'mainly',\n 874: 'droplets',\n 875: 'refrain',\n 876: 'swimming',\n 877: 'sometime',\n 878: 'although',\n 879: 'killed',\n 880: 'pool',\n 881: 'doesnot',\n 882: 'find',\n 883: 'host',\n 884: 'include',\n 885: 'social',\n 886: 'gatherings',\n 887: 'wash',\n 888: 'soap',\n 889: 'cover',\n 890: 'face',\n 891: 'mask',\n 892: 'sickness',\n 893: 'let',\n 894: 'assist',\n 895: 'dr',\n 896: 'vaishalee',\n 897: 'depends',\n 898: 'severity',\n 899: 'pandemic',\n 900: 'video',\n 901: 'requiring',\n 902: 'visit',\n 903: 'strep',\n 904: 'influenza',\n 905: 'calls',\n 906: 'bothersome',\n 907: 'recurrent',\n 908: 'testing',\n 909: 'local',\n 910: 'availability',\n 911: 'criteria',\n 912: 'real',\n 913: 'vs',\n 914: 'textbook',\n 915: 'life',\n 916: 'different',\n 917: 'supplies',\n 918: 'staff',\n 919: 'world',\n 920: 'hospitalized',\n 921: 'underlying',\n 922: 'who',\n 923: 'suspect',\n 924: 'risk',\n 925: 'impossible',\n 926: 'say',\n 927: 'vomiting',\n 928: 'symptom',\n 929: 'nausea',\n 930: 'occur',\n 931: 'fairly',\n 932: 'early',\n 933: 'rarely',\n 934: 'ever',\n 935: 'develop',\n 936: 'within',\n 937: 'isn',\n 938: 'news',\n 939: 'break',\n 940: 'strategy',\n 941: 'information',\n 942: 'practice',\n 943: 'prudent',\n 944: 'off',\n 945: 'er',\n 946: 'practicing',\n 947: 'front',\n 948: 'line',\n 949: 'focus',\n 950: 'mind',\n 951: 'cooking',\n 952: 'planning',\n 953: 'garden',\n 954: 'engage',\n 955: 'friends',\n 956: 'loved',\n 957: 'ones',\n 958: 'read',\n 959: 'e',\n 960: 'cov',\n 961: 'several',\n 962: 'coronaviruses',\n 963: 'colds',\n 964: 'biologically',\n 965: 'related',\n 966: 'sars',\n 967: 'seek',\n 968: 'care',\n 969: 'plus',\n 970: 'facility',\n 971: 'treating',\n 972: 'pneumonia',\n 973: 'unknown',\n 974: 'possibly',\n 975: 'exposed',\n 976: 'consultation',\n 977: 'self',\n 978: 'isolate',\n 979: 'tested',\n 980: 'health',\n 981: 'department',\n 982: 'idea',\n 983: 'set',\n 984: 'live',\n 985: 'pick',\n 986: 'weeks',\n 987: 'us',\n 988: 'avoiding',\n 989: 'hand',\n 990: 'washing',\n 991: 'important',\n 992: 'prophylactic',\n 993: 'measures',\n 994: 'dad',\n 995: 'into',\n 996: 'runny',\n 997: 'nose',\n 998: '.no',\n 999: '.any',\n ...}"
     },
     "metadata": {},
     "execution_count": 23
    }
   ],
   "source": [
    "lang.index2word"
   ]
  },
  {
   "cell_type": "code",
   "execution_count": 24,
   "metadata": {},
   "outputs": [
    {
     "output_type": "execute_result",
     "data": {
      "text/plain": "5391"
     },
     "metadata": {},
     "execution_count": 24
    }
   ],
   "source": [
    "lang.n_words"
   ]
  },
  {
   "cell_type": "code",
   "execution_count": null,
   "metadata": {},
   "outputs": [],
   "source": []
  }
 ]
}