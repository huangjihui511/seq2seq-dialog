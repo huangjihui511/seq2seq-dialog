{
  "nbformat": 4,
  "nbformat_minor": 0,
  "metadata": {
    "colab": {
      "name": "Copy of Train a GPT-2 Text-Generating Model w/ GPU",
      "provenance": [],
      "collapsed_sections": [],
      "toc_visible": true,
      "machine_shape": "hm",
      "include_colab_link": true
    },
    "kernelspec": {
      "name": "python3",
      "display_name": "Python 3"
    },
    "accelerator": "GPU"
  },
  "cells": [
    {
      "cell_type": "markdown",
      "metadata": {
        "id": "view-in-github",
        "colab_type": "text"
      },
      "source": [
        "<a href=\"https://colab.research.google.com/github/huangjihui511/seq2seq-dialog/blob/master/Train_a_GPT_2_Text_Generating_Model_w_GPU.ipynb\" target=\"_parent\"><img src=\"https://colab.research.google.com/assets/colab-badge.svg\" alt=\"Open In Colab\"/></a>"
      ]
    },
    {
      "cell_type": "markdown",
      "metadata": {
        "id": "H7LoMj4GA4n_",
        "colab_type": "text"
      },
      "source": [
        "#  免费用 Google GPU 来 finetune GPT-2\n",
        "\n",
        "英文来自： [Max Woolf](http://minimaxir.com)\n",
        "\n",
        "中文修改：Andy\n",
        "\n",
        "最近 GPT2 放出了 345M 的中型模型（之前是 117M 模型），于是又引起一波 Finetune 大潮，于是自己也就顺便抽出时间拿这个 345M 模型 finetune 了几个玩。\n",
        "\n",
        "这部分主要是教大家用 `gpt-2-simple` 库，并且蹭 Google Colab 免费 GPU 来对 GPT2 模型进行 finetune，这篇 Notebook 业主要来自这个库的作者。\n",
        "\n",
        "\n",
        " `gpt-2-simple` 库 github 地址：https://github.com/minimaxir/gpt-2-simple\n",
        "\n"
      ]
    },
    {
      "cell_type": "code",
      "metadata": {
        "id": "_8mhGJEjxZ_T",
        "colab_type": "code",
        "colab": {
          "base_uri": "https://localhost:8080/",
          "height": 836
        },
        "outputId": "867f3929-8923-4ebb-b06a-cc7c66ccf046"
      },
      "source": [
        "!pip install tensorflow==1.15.2\n"
      ],
      "execution_count": 1,
      "outputs": [
        {
          "output_type": "stream",
          "text": [
            "Collecting tensorflow==1.15.2\n",
            "\u001b[?25l  Downloading https://files.pythonhosted.org/packages/9a/d9/fd234c7bf68638423fb8e7f44af7fcfce3bcaf416b51e6d902391e47ec43/tensorflow-1.15.2-cp36-cp36m-manylinux2010_x86_64.whl (110.5MB)\n",
            "\u001b[K     |████████████████████████████████| 110.5MB 88kB/s \n",
            "\u001b[?25hRequirement already satisfied: termcolor>=1.1.0 in /usr/local/lib/python3.6/dist-packages (from tensorflow==1.15.2) (1.1.0)\n",
            "Requirement already satisfied: wheel>=0.26; python_version >= \"3\" in /usr/local/lib/python3.6/dist-packages (from tensorflow==1.15.2) (0.34.2)\n",
            "Requirement already satisfied: grpcio>=1.8.6 in /usr/local/lib/python3.6/dist-packages (from tensorflow==1.15.2) (1.27.2)\n",
            "Requirement already satisfied: protobuf>=3.6.1 in /usr/local/lib/python3.6/dist-packages (from tensorflow==1.15.2) (3.10.0)\n",
            "Collecting gast==0.2.2\n",
            "  Downloading https://files.pythonhosted.org/packages/4e/35/11749bf99b2d4e3cceb4d55ca22590b0d7c2c62b9de38ac4a4a7f4687421/gast-0.2.2.tar.gz\n",
            "Requirement already satisfied: opt-einsum>=2.3.2 in /usr/local/lib/python3.6/dist-packages (from tensorflow==1.15.2) (3.2.0)\n",
            "Requirement already satisfied: six>=1.10.0 in /usr/local/lib/python3.6/dist-packages (from tensorflow==1.15.2) (1.12.0)\n",
            "Requirement already satisfied: absl-py>=0.7.0 in /usr/local/lib/python3.6/dist-packages (from tensorflow==1.15.2) (0.9.0)\n",
            "Collecting tensorflow-estimator==1.15.1\n",
            "\u001b[?25l  Downloading https://files.pythonhosted.org/packages/de/62/2ee9cd74c9fa2fa450877847ba560b260f5d0fb70ee0595203082dafcc9d/tensorflow_estimator-1.15.1-py2.py3-none-any.whl (503kB)\n",
            "\u001b[K     |████████████████████████████████| 512kB 42.9MB/s \n",
            "\u001b[?25hRequirement already satisfied: astor>=0.6.0 in /usr/local/lib/python3.6/dist-packages (from tensorflow==1.15.2) (0.8.1)\n",
            "Requirement already satisfied: keras-preprocessing>=1.0.5 in /usr/local/lib/python3.6/dist-packages (from tensorflow==1.15.2) (1.1.0)\n",
            "Requirement already satisfied: keras-applications>=1.0.8 in /usr/local/lib/python3.6/dist-packages (from tensorflow==1.15.2) (1.0.8)\n",
            "Collecting tensorboard<1.16.0,>=1.15.0\n",
            "\u001b[?25l  Downloading https://files.pythonhosted.org/packages/1e/e9/d3d747a97f7188f48aa5eda486907f3b345cd409f0a0850468ba867db246/tensorboard-1.15.0-py3-none-any.whl (3.8MB)\n",
            "\u001b[K     |████████████████████████████████| 3.8MB 37.8MB/s \n",
            "\u001b[?25hRequirement already satisfied: numpy<2.0,>=1.16.0 in /usr/local/lib/python3.6/dist-packages (from tensorflow==1.15.2) (1.18.2)\n",
            "Requirement already satisfied: google-pasta>=0.1.6 in /usr/local/lib/python3.6/dist-packages (from tensorflow==1.15.2) (0.2.0)\n",
            "Requirement already satisfied: wrapt>=1.11.1 in /usr/local/lib/python3.6/dist-packages (from tensorflow==1.15.2) (1.12.1)\n",
            "Requirement already satisfied: setuptools in /usr/local/lib/python3.6/dist-packages (from protobuf>=3.6.1->tensorflow==1.15.2) (46.1.3)\n",
            "Requirement already satisfied: h5py in /usr/local/lib/python3.6/dist-packages (from keras-applications>=1.0.8->tensorflow==1.15.2) (2.10.0)\n",
            "Requirement already satisfied: werkzeug>=0.11.15 in /usr/local/lib/python3.6/dist-packages (from tensorboard<1.16.0,>=1.15.0->tensorflow==1.15.2) (1.0.1)\n",
            "Requirement already satisfied: markdown>=2.6.8 in /usr/local/lib/python3.6/dist-packages (from tensorboard<1.16.0,>=1.15.0->tensorflow==1.15.2) (3.2.1)\n",
            "Building wheels for collected packages: gast\n",
            "  Building wheel for gast (setup.py) ... \u001b[?25l\u001b[?25hdone\n",
            "  Created wheel for gast: filename=gast-0.2.2-cp36-none-any.whl size=7540 sha256=ee48470b65a32b8a53260149ef6b0f380464018f525a6976b0f1d3ec50af5420\n",
            "  Stored in directory: /root/.cache/pip/wheels/5c/2e/7e/a1d4d4fcebe6c381f378ce7743a3ced3699feb89bcfbdadadd\n",
            "Successfully built gast\n",
            "Installing collected packages: gast, tensorflow-estimator, tensorboard, tensorflow\n",
            "  Found existing installation: gast 0.3.3\n",
            "    Uninstalling gast-0.3.3:\n",
            "      Successfully uninstalled gast-0.3.3\n",
            "  Found existing installation: tensorflow-estimator 2.2.0rc0\n",
            "    Uninstalling tensorflow-estimator-2.2.0rc0:\n",
            "      Successfully uninstalled tensorflow-estimator-2.2.0rc0\n",
            "  Found existing installation: tensorboard 2.2.0\n",
            "    Uninstalling tensorboard-2.2.0:\n",
            "      Successfully uninstalled tensorboard-2.2.0\n",
            "  Found existing installation: tensorflow 2.2.0rc2\n",
            "    Uninstalling tensorflow-2.2.0rc2:\n",
            "      Successfully uninstalled tensorflow-2.2.0rc2\n",
            "Successfully installed gast-0.2.2 tensorboard-1.15.0 tensorflow-1.15.2 tensorflow-estimator-1.15.1\n"
          ],
          "name": "stdout"
        }
      ]
    },
    {
      "cell_type": "code",
      "metadata": {
        "id": "iFa6fmLx1Yqt",
        "colab_type": "code",
        "colab": {
          "base_uri": "https://localhost:8080/",
          "height": 199
        },
        "outputId": "8d856ac4-8976-4660-b146-3527f6ea32a4"
      },
      "source": [
        "import tensorflow.contrib.graph_editor as ge"
      ],
      "execution_count": 1,
      "outputs": [
        {
          "output_type": "display_data",
          "data": {
            "text/html": [
              "<p style=\"color: red;\">\n",
              "The default version of TensorFlow in Colab will switch to TensorFlow 2.x on the 27th of March, 2020.<br>\n",
              "We recommend you <a href=\"https://www.tensorflow.org/guide/migrate\" target=\"_blank\">upgrade</a> now\n",
              "or ensure your notebook will continue to use TensorFlow 1.x via the <code>%tensorflow_version 1.x</code> magic:\n",
              "<a href=\"https://colab.research.google.com/notebooks/tensorflow_version.ipynb\" target=\"_blank\">more info</a>.</p>\n"
            ],
            "text/plain": [
              "<IPython.core.display.HTML object>"
            ]
          },
          "metadata": {
            "tags": []
          }
        },
        {
          "output_type": "stream",
          "text": [
            "WARNING:tensorflow:\n",
            "The TensorFlow contrib module will not be included in TensorFlow 2.0.\n",
            "For more information, please see:\n",
            "  * https://github.com/tensorflow/community/blob/master/rfcs/20180907-contrib-sunset.md\n",
            "  * https://github.com/tensorflow/addons\n",
            "  * https://github.com/tensorflow/io (for I/O related ops)\n",
            "If you depend on functionality not listed there, please file an issue.\n",
            "\n"
          ],
          "name": "stdout"
        }
      ]
    },
    {
      "cell_type": "markdown",
      "metadata": {
        "id": "WjJs-kTnbyLx",
        "colab_type": "text"
      },
      "source": [
        "#### 开始前准备\n",
        "\n",
        "1. 首先，要想薅 Google 羊毛，就得现有个 Google 账号，[注册](https://accounts.google.com/signup);\n",
        "2. 然后把这个 Notebook 保存到自己 Google Drive 里去，便于运行和修改。(File -> Save a Copy in Drive)\n",
        "3. 之后，同样的既然要薅 Google 羊毛，就还得用他家产品，所以保证用 Chrome 浏览器；\n",
        "4. 最后，安装环境和 import 各种需要包，运行下面的 Cell 就好了:"
      ]
    },
    {
      "cell_type": "code",
      "metadata": {
        "id": "KBkpRgBCBS2_",
        "colab_type": "code",
        "colab": {}
      },
      "source": [
        "!pip install -q gpt_2_simple\n",
        "\n",
        "import gpt_2_simple as gpt2\n",
        "from datetime import datetime\n",
        "from google.colab import files"
      ],
      "execution_count": 0,
      "outputs": []
    },
    {
      "cell_type": "markdown",
      "metadata": {
        "id": "Bj2IJLHP3KwE",
        "colab_type": "text"
      },
      "source": [
        "## 查看 GPU\n",
        "\n",
        "既然要薅羊毛，那就要薅个清楚，先来看看 GPU 信息吧。\n",
        "\n",
        "现在 Colab 更新过一次，已经再使用英伟达 T4 GPU了，比之前的 K80 要快些，而且内存也要大些，有 16 G。这么大的内存 finetune 的时候拿大模型来也都没问题了，而且可以生成更多文本。\n"
      ]
    },
    {
      "cell_type": "code",
      "metadata": {
        "id": "sUmTooTW3osf",
        "colab_type": "code",
        "outputId": "38757951-8229-48d1-ae0d-cd4ab674a5f5",
        "colab": {
          "base_uri": "https://localhost:8080/",
          "height": 71
        }
      },
      "source": [
        "!nvidia-smi"
      ],
      "execution_count": 3,
      "outputs": [
        {
          "output_type": "stream",
          "text": [
            "NVIDIA-SMI has failed because it couldn't communicate with the NVIDIA driver. Make sure that the latest NVIDIA driver is installed and running.\n",
            "\n"
          ],
          "name": "stdout"
        }
      ]
    },
    {
      "cell_type": "markdown",
      "metadata": {
        "id": "0wXB05bPDYxS",
        "colab_type": "text"
      },
      "source": [
        "## 下载 GPT-2 模型\n",
        "\n",
        "首先，finetune 的第一步，先把预训练模型下载下来，就像做菜要先备好材料。\n",
        "\n",
        "正如开头提到的，现在放出了两个 GPT-2 模型， \n",
        "* `117M` : 小模型，大概有 500MB 大小；\n",
        "* `345M`: 最近放出的中型模型，1.5 GB.\n",
        "\n",
        "之后 finetune 的时候，只需要修改模型名字 `model_name` 参数就可以选择模型。大模型有更多的知识，但同时也要更长时间来进行 finetune 和生成。\n",
        "\n",
        "下面的 cell 就是用来下载预训练模型文件的，会保持在 Colab 的 `/models/<model_name>`下，点左边栏上面的 `Files` 也可以看到。\n",
        "\n",
        "模型不是永久保存的，下次 finetune 的时候还要重新下载。"
      ]
    },
    {
      "cell_type": "code",
      "metadata": {
        "id": "P8wSlgXoDPCR",
        "colab_type": "code",
        "outputId": "e3f5766e-065c-49dd-9713-17fe166fd6ce",
        "colab": {
          "base_uri": "https://localhost:8080/",
          "height": 136
        }
      },
      "source": [
        "gpt2.download_gpt2(model_name=\"774M\")"
      ],
      "execution_count": 4,
      "outputs": [
        {
          "output_type": "stream",
          "text": [
            "Fetching checkpoint: 1.05Mit [00:00, 246Mit/s]                                                      \n",
            "Fetching encoder.json: 1.05Mit [00:00, 90.3Mit/s]                                                   \n",
            "Fetching hparams.json: 1.05Mit [00:00, 684Mit/s]                                                    \n",
            "Fetching model.ckpt.data-00000-of-00001: 3.10Git [00:44, 70.2Mit/s]                                 \n",
            "Fetching model.ckpt.index: 1.05Mit [00:00, 266Mit/s]                                                \n",
            "Fetching model.ckpt.meta: 2.10Mit [00:00, 172Mit/s]                                                 \n",
            "Fetching vocab.bpe: 1.05Mit [00:00, 158Mit/s]                                                       \n"
          ],
          "name": "stderr"
        }
      ]
    },
    {
      "cell_type": "markdown",
      "metadata": {
        "id": "N8KXuKWzQSsN",
        "colab_type": "text"
      },
      "source": [
        "## 装载 Google Drive （类似云盘）\n",
        "\n",
        "想输入训练数据，然后保存模型的最好方法，就是把 Google Drive 给装载进来，之后把训练数据放在上面，保存也直接放上面\n",
        "\n",
        "\n",
        "下面这个 cell 就是装载个人 Google Driver 的命令。会出现一个链接和提示框，点击链接获得授权码，粘贴到提示框里去。"
      ]
    },
    {
      "cell_type": "code",
      "metadata": {
        "id": "puq4iC6vUAHc",
        "colab_type": "code",
        "outputId": "04463f1c-b0a6-4583-da20-bf2fa7b6d3e3",
        "colab": {
          "base_uri": "https://localhost:8080/",
          "height": 54
        }
      },
      "source": [
        "gpt2.mount_gdrive()"
      ],
      "execution_count": 5,
      "outputs": [
        {
          "output_type": "stream",
          "text": [
            "Drive already mounted at /content/drive; to attempt to forcibly remount, call drive.mount(\"/content/drive\", force_remount=True).\n"
          ],
          "name": "stdout"
        }
      ]
    },
    {
      "cell_type": "markdown",
      "metadata": {
        "id": "BT__brhBCvJu",
        "colab_type": "text"
      },
      "source": [
        "## 上传训练文本\n",
        "\n",
        "也是在左边的侧栏里面，直接点击`Files` 里面的上传 `UPLOAD` 就好了。\n",
        "\n",
        "![alt text](https://i.imgur.com/TGcZT4h.png)\n",
        "\n",
        "之后也可以传任意自己想 finetune 的文本，这里我们用老友记十季的剧本来作为训练数据。直接上传的话推荐小于 10M 的数据。\n"
      ]
    },
    {
      "cell_type": "code",
      "metadata": {
        "id": "6OFnPCLADfll",
        "colab_type": "code",
        "colab": {}
      },
      "source": [
        "file_name = \"COVID-GPT2.txt\""
      ],
      "execution_count": 0,
      "outputs": []
    },
    {
      "cell_type": "markdown",
      "metadata": {
        "id": "HeeSKtNWUedE",
        "colab_type": "text"
      },
      "source": [
        "如果大于 10M 的文本，那就推荐先上传到 google drive (根目录) 里然后再拷过来。如果报错，再重新运行装载命令。"
      ]
    },
    {
      "cell_type": "code",
      "metadata": {
        "id": "-Z6okFD8VKtS",
        "colab_type": "code",
        "colab": {}
      },
      "source": [
        "# gpt2.copy_file_to_gdrive(file_name)\n",
        "gpt2.copy_file_from_gdrive(file_name)\n"
      ],
      "execution_count": 0,
      "outputs": []
    },
    {
      "cell_type": "markdown",
      "metadata": {
        "id": "LdpZQXknFNY3",
        "colab_type": "text"
      },
      "source": [
        "## Finetune GPT-2\n",
        "\n",
        "于是准备好模型和数据，就要开始今天的主菜了，finetune GPT2. \n",
        "\n",
        "下面的代码会运行一个 Tensorflow Sessioin，读取训练设定，然后按照设定训练。`steps` 用来指定 finetune 多少步，如果设成 -1 的话就表示不停 finetune 下去。\n",
        "\n",
        "模型文件会保存在`/checkpoint/run1` 里面，会根据`save_every`来保存一定步数文件，结束训练的时候也会保存。\n",
        "\n",
        "训练结束需要大概半个小时，一定要记得保存模型。\n",
        "\n",
        "\n",
        "\n",
        "**重要提示**：如果想要重复运行下面 cell 的话，需要重启服务，`Runtime/Restart Runtime`.\n",
        "\n",
        "gpt2.finetune 训练参数介绍：\n",
        "\n",
        "\n",
        "*  **`restore_from`**:  `fresh` 是指从 GPT2 原模型开始, 而 `latest`是从之前 finetune 保存的模型继续训练.\n",
        "* **`sample_every`**: 每多少步输出样本，看看训练效果\n",
        "* **`print_every`**: 每多少步打印训练的一些参数，从左到右，步数、时间，loss，平均loss\n",
        "* **`learning_rate`**: 学习率 (默认 `1e-4`, 如果数据小于1MB的话可以调低到 `1e-5`)\n",
        "*  **`run_name`**: 运行的时候，保存模型到`checkpoint`下哪个子文件，默认 `run1`"
      ]
    },
    {
      "cell_type": "code",
      "metadata": {
        "id": "aeXshJM-Cuaf",
        "colab_type": "code",
        "outputId": "5b879512-4d67-4085-e80e-87f007d25529",
        "colab": {
          "base_uri": "https://localhost:8080/",
          "height": 173
        }
      },
      "source": [
        "sess = gpt2.start_tf_sess()\n",
        "\n",
        "gpt2.finetune(sess,\n",
        "              dataset=file_name,\n",
        "              model_name='774M',\n",
        "              steps=200,\n",
        "              restore_from='latest',\n",
        "              print_every=1,\n",
        "              sample_every=10,\n",
        "              save_every=50\n",
        "              )"
      ],
      "execution_count": 0,
      "outputs": [
        {
          "output_type": "stream",
          "text": [
            "WARNING:tensorflow:From /usr/local/lib/python3.6/dist-packages/gpt_2_simple/src/sample.py:17: where (from tensorflow.python.ops.array_ops) is deprecated and will be removed in a future version.\n",
            "Instructions for updating:\n",
            "Use tf.where in 2.0, which has the same broadcast rule as np.where\n",
            "WARNING:tensorflow:From /usr/local/lib/python3.6/dist-packages/gpt_2_simple/src/memory_saving_gradients.py:62: get_backward_walk_ops (from tensorflow.contrib.graph_editor.select) is deprecated and will be removed after 2019-06-06.\n",
            "Instructions for updating:\n",
            "Please use tensorflow.python.ops.op_selector.get_backward_walk_ops.\n",
            "Loading checkpoint models/774M/model.ckpt\n",
            "INFO:tensorflow:Restoring parameters from models/774M/model.ckpt\n"
          ],
          "name": "stdout"
        }
      ]
    },
    {
      "cell_type": "markdown",
      "metadata": {
        "id": "IXSuTNERaw6K",
        "colab_type": "text"
      },
      "source": [
        "模型训练完之后，你就可以把保存模型，直接拷到 Google Drive 下面去了。\n",
        "\n",
        "\n",
        "之后如果想在自己本地使用的话，就直接从 Google Drive 直接下载就可以了。"
      ]
    },
    {
      "cell_type": "code",
      "metadata": {
        "id": "VHdTL8NDbAh3",
        "colab_type": "code",
        "colab": {}
      },
      "source": [
        "gpt2.copy_checkpoint_to_gdrive()"
      ],
      "execution_count": 0,
      "outputs": []
    },
    {
      "cell_type": "markdown",
      "metadata": {
        "id": "qQJgV_b4bmzd",
        "colab_type": "text"
      },
      "source": [
        "OK，搞定了。\n",
        "\n",
        "现在就尽情调戏自己训练好的模型吧。"
      ]
    },
    {
      "cell_type": "markdown",
      "metadata": {
        "id": "pel-uBULXO2L",
        "colab_type": "text"
      },
      "source": [
        "## 载入训练好的模型\n",
        "\n",
        "下面的 cell 会把你 google drive 下的 `checkpoint` 拷进来。\n",
        "\n",
        "如果是一口气直接训练过来的话，就不用运行这一步了。"
      ]
    },
    {
      "cell_type": "code",
      "metadata": {
        "id": "DCcx5u7sbPTD",
        "colab_type": "code",
        "colab": {}
      },
      "source": [
        "gpt2.copy_checkpoint_from_gdrive()"
      ],
      "execution_count": 0,
      "outputs": []
    },
    {
      "cell_type": "markdown",
      "metadata": {
        "id": "KHlbTxmRVBEt",
        "colab_type": "text"
      },
      "source": [
        ""
      ]
    },
    {
      "cell_type": "markdown",
      "metadata": {
        "id": "RTa6zf3e_9gV",
        "colab_type": "text"
      },
      "source": [
        "之后就是，从模型中载入训练好的模型。\n",
        "\n",
        "这个 cell 和之前训练 cell 一样，如果想重复跑的话得重启环境。\n"
      ]
    },
    {
      "cell_type": "code",
      "metadata": {
        "id": "-fxL77nvAMAX",
        "colab_type": "code",
        "outputId": "7a3b640f-3b56-4188-9a4e-c3cef6badb41",
        "colab": {
          "base_uri": "https://localhost:8080/",
          "height": 51
        }
      },
      "source": [
        "sess = gpt2.start_tf_sess()\n",
        "gpt2.load_gpt2(sess)"
      ],
      "execution_count": 7,
      "outputs": [
        {
          "output_type": "stream",
          "text": [
            "Loading checkpoint checkpoint/run1/model-200\n",
            "INFO:tensorflow:Restoring parameters from checkpoint/run1/model-200\n"
          ],
          "name": "stdout"
        }
      ]
    },
    {
      "cell_type": "markdown",
      "metadata": {
        "id": "ClJwpF_ACONp",
        "colab_type": "text"
      },
      "source": [
        "## 从训练好模型生成文本\n",
        "\n",
        "载入模型之后，就是激动人心的生成部分了！\n",
        "\n",
        "下面这个是无条件（Unconditional）的生成，也就是没有任何限制，让模型自己生成。\n",
        "\n",
        "结果并不理想，可能因为 finetune 的步数太小了，还有一些生成参数没有设置，这里只是个示例所以就只设 1000 步训练，想要更好效果可以设更大一些。"
      ]
    },
    {
      "cell_type": "code",
      "metadata": {
        "id": "4RNY6RBI9LmL",
        "colab_type": "code",
        "colab": {}
      },
      "source": [
        "gpt2.generate(sess)"
      ],
      "execution_count": 0,
      "outputs": []
    },
    {
      "cell_type": "markdown",
      "metadata": {
        "id": "oF4-PqF0Fl7R",
        "colab_type": "text"
      },
      "source": [
        "之后如果你想要创建 API 获得生成的文本的话，直接运行 `text = gpt2.generate(sess, return_as_list=True)[0]` 就好了。\n",
        "\n",
        "然后，上面提到了无条件生成，那有条件生成(Conditional)呢，我们可以直接用`prefix`来指定一段文本，然后让模型来续写。\n",
        "\n",
        "此外，还可以同时生成几个样本，通过指定`nsamples`。还有，通过设定`batch_size`还可以加速生成过程。\n",
        "\n",
        "\n",
        "`gpt2.generate` 和相关函数其他一些有用的选项：\n",
        "\n",
        "*  **`length`**: 生成文本长度 (默认 1023, 也是可设最大长度)\n",
        "* **`temperature`**: temperature 越高，生成的就随意。 (默认 0.7，推荐 0.7 到 1.0之间)\n",
        "* **`top_k`**: 将输出限定在 top k 里面 (默认0，也就是不使用。推荐在生成效果差的时候使用，可以设top_k=40)\n",
        "* **`truncate`**: 从指定符号阶段生成文本 (比如设 `truncate='<|endoftext|>'`, 那么就会取第一个'<|endoftext|>'前的文本作为输出). 可以和一个比较小的`length`值搭配使用.\n",
        "*  **`include_prefix`**: 如果用了 `truncate` 和 `include_prefix=False`, 那么在返回文本中就不会包含`prefix`里的文本。"
      ]
    },
    {
      "cell_type": "code",
      "metadata": {
        "id": "8DKMc0fiej4N",
        "colab_type": "code",
        "outputId": "2400f2d8-695b-4a56-9128-442b4d5aea60",
        "colab": {
          "base_uri": "https://localhost:8080/",
          "height": 1000
        }
      },
      "source": [
        "gpt2.generate(sess,\n",
        "              length=100,\n",
        "              temperature=0.7,\n",
        "              prefix=\"Patient: Hello doctor, I get a cough for the last few days, which is heavy during night times .  No raise in temperature but feeling tired with no travel history .  No contact with any Covid-19 persons .  It has been four to five days and has drunk a lot of Benadryl and took Paracetamol too .  Doctors have shut the OP so do not know what to do? Please help . \",\n",
        "              nsamples=20,\n",
        "              batch_size=5,\n",
        "              top_k=40\n",
        "              )"
      ],
      "execution_count": 9,
      "outputs": [
        {
          "output_type": "stream",
          "text": [
            "Patient: Hello doctor, I get a cough for the last few days, which is heavy during night times .  No raise in temperature but feeling tired with no travel history .  No contact with any Covid-19 persons .  It has been four to five days and has drunk a lot of Benadryl and took Paracetamol too .  Doctors have shut the OP so do not know what to do? Please help .  Thanks\n",
            "Doctor: Hello,CT scan is diagnostic for COVID-19 and if cough is severe enough, it can progress into pneumonia .  So better to consult pulmonologist and get done clinical examination of respiratory system and PFT (Pulmonary Function Test) .  PFT will not only diagnose pneumonia but it will also tell you about severity of the cough .  You may need antibiotics and other treatment . Hope I have answered to your query .  Let me know if I can assist\n",
            "====================\n",
            "Patient: Hello doctor, I get a cough for the last few days, which is heavy during night times .  No raise in temperature but feeling tired with no travel history .  No contact with any Covid-19 persons .  It has been four to five days and has drunk a lot of Benadryl and took Paracetamol too .  Doctors have shut the OP so do not know what to do? Please help .  Thanks\n",
            "Doctor: Hello, If you have a fever and are tired, you are probably not having a viral respiratory illness (COVID), but you are having a viral respiratory illness, called a viral bronchitis, and you are not having a viral pneumonia, you are not having a viral bronchitis .  You are having a viral respiratory illness called a viral bronchitis, and you have had it for at least three to four weeks .  Your fever is probably due to a viral\n",
            "====================\n",
            "Patient: Hello doctor, I get a cough for the last few days, which is heavy during night times .  No raise in temperature but feeling tired with no travel history .  No contact with any Covid-19 persons .  It has been four to five days and has drunk a lot of Benadryl and took Paracetamol too .  Doctors have shut the OP so do not know what to do? Please help . \n",
            "Doctor: Hello,If you have a fever and shortness of breath, you are not having a viral pneumonia .   But, if you are having persistent cough and shortness of breath, you are having viral pneumonia .   So better to consult pulmonologist and get done clinical examination of respiratory system and PFT (Pulmonary Function Test) .  PFT will not only diagnose your pneumonia, but it will also tell you about severity of the disease and treatment is based on\n",
            "====================\n",
            "Patient: Hello doctor, I get a cough for the last few days, which is heavy during night times .  No raise in temperature but feeling tired with no travel history .  No contact with any Covid-19 persons .  It has been four to five days and has drunk a lot of Benadryl and took Paracetamol too .  Doctors have shut the OP so do not know what to do? Please help . \n",
            "Doctor: Hello dear , hiWarm welcome to Healthcaremagic . comI have evaluated your query thoroughly  .  It is apparent that severe colds start with cough and progress to fever with body aches and coughing .  This is typical of bacterial pneumonia .   So pneumonia is not the only cause of your symptoms .  So cough is not the only symptom of pneumonia .  So you have to be examined and diagnosis made in all seriousness  .  You have to be started on antibiotics\n",
            "====================\n",
            "Patient: Hello doctor, I get a cough for the last few days, which is heavy during night times .  No raise in temperature but feeling tired with no travel history .  No contact with any Covid-19 persons .  It has been four to five days and has drunk a lot of Benadryl and took Paracetamol too .  Doctors have shut the OP so do not know what to do? Please help . \n",
            "Doctor: Respected user, Hi,You have been using the drug for four to five days, probably need more time .     But, you are not having any fever .   This is because you are not having any cough .  Have you traveled, been in contact with a corona virus patient ?  You have been on the drug for three to four weeks, probably need more time .  But, you are not having any shortness of breath .   This\n",
            "====================\n",
            "Patient: Hello doctor, I get a cough for the last few days, which is heavy during night times .  No raise in temperature but feeling tired with no travel history .  No contact with any Covid-19 persons .  It has been four to five days and has drunk a lot of Benadryl and took Paracetamol too .  Doctors have shut the OP so do not know what to do? Please help .  Thanks\n",
            "Doctor: Hello and Welcome to Healthcaremagic . comI have evaluated your query thoroughly  .  The cough is in relation with a cold, and the use of Benadryl and Paracetamol only partially corrects the underlying cold .  The treatment for the cold is rest, fluids, anti-inflammatory medicine and exercise .  Do not worry, you will be alright with all these .  Hope I have answered your query .  Let me know if I can assist you further\n",
            "====================\n",
            "Patient: Hello doctor, I get a cough for the last few days, which is heavy during night times .  No raise in temperature but feeling tired with no travel history .  No contact with any Covid-19 persons .  It has been four to five days and has drunk a lot of Benadryl and took Paracetamol too .  Doctors have shut the OP so do not know what to do? Please help . \n",
            "Doctor: Hello,Cough,chills and other shortness of breath are very typical of a viral respiratory illness .  So possibility of serious complications is very low .  If cough doesn't start then chances of survival are very good .  But cough is very common symptom of viral respiratory illness .  So better to start treatment and stay home until symptoms develop .   If fever doesn't develop then chances of survival are very good .  But cough is very common symptom of viral respiratory illness\n",
            "====================\n",
            "Patient: Hello doctor, I get a cough for the last few days, which is heavy during night times .  No raise in temperature but feeling tired with no travel history .  No contact with any Covid-19 persons .  It has been four to five days and has drunk a lot of Benadryl and took Paracetamol too .  Doctors have shut the OP so do not know what to do? Please help . \n",
            "Doctor: Hello,It is a common cold, which can be treated with common antibiotics .  Usually, patients do not need treatment for more than three days .  But, if cough is severe and persistent, then cough treatment is advised .  .  For now, rest, drink fluids orally and keep yourself hydrated .  \n",
            "\n",
            "\n",
            "Patient: I got a severe headache last night, and I woke up this morning with the same headache, but my mouth is slightly opened and I\n",
            "====================\n",
            "Patient: Hello doctor, I get a cough for the last few days, which is heavy during night times .  No raise in temperature but feeling tired with no travel history .  No contact with any Covid-19 persons .  It has been four to five days and has drunk a lot of Benadryl and took Paracetamol too .  Doctors have shut the OP so do not know what to do? Please help . \n",
            "Doctor: Hello dear , Hi .  The cough is very persistent and the cough is not going away .  The symptoms are getting stronger day by day and night by night .  You have to see the doctor after two weeks for the cough to subside .  Also take Pills for the cough and fever .    . Hope I have answered your query .  Let me know if I can assist you further . Regards,Dr .  Kaushal Bhavsar\n",
            "\n",
            "\n",
            "====================\n",
            "Patient: Hello doctor, I get a cough for the last few days, which is heavy during night times .  No raise in temperature but feeling tired with no travel history .  No contact with any Covid-19 persons .  It has been four to five days and has drunk a lot of Benadryl and took Paracetamol too .  Doctors have shut the OP so do not know what to do? Please help .  Thank you . \n",
            "\n",
            "\n",
            "Patient: I was recently diagnosed with a very serious pneumonia .  I was given antibiotics but they have not worked .  I have been on a ventilator for over a week and my doctor has said I will not be able to breathe better even with the ventilator .  I am worried sick and ready to die?\n",
            "Doctor: Hello,Do you have a fever?It sounds like pneumonia .  You will recover with the antibiotic .  You can\n",
            "====================\n",
            "Patient: Hello doctor, I get a cough for the last few days, which is heavy during night times .  No raise in temperature but feeling tired with no travel history .  No contact with any Covid-19 persons .  It has been four to five days and has drunk a lot of Benadryl and took Paracetamol too .  Doctors have shut the OP so do not know what to do? Please help .  I have no fever .  \n",
            "Doctor: Hello and Welcome to Healthcaremagic . comI have gone through your query thoroughly  .  First, there is a possibility of bacterial infection, but the treatment is against the immune system and not effective .  So possibility of viral infection is more likely .  But then there is also a possibility of allergic reaction, and this could be very severe reaction .  So consult pulmonologist and discuss about the possibility of hospitalization for severe allergic reaction with your\n",
            "====================\n",
            "Patient: Hello doctor, I get a cough for the last few days, which is heavy during night times .  No raise in temperature but feeling tired with no travel history .  No contact with any Covid-19 persons .  It has been four to five days and has drunk a lot of Benadryl and took Paracetamol too .  Doctors have shut the OP so do not know what to do? Please help . \n",
            "Doctor: Hello,This cough is not caused by COVID-19 .  It can be from a strep infection, a cold or influenza, or from some other cause like COVID-19 .  Usually, a person calls the doctor if the cough is bothersome, serious, recurrent, or persistent .  Usually, a person calls the doctor if the cough is bothersome, serious, recurrent, or persistent .  COVID-19 infections tend to have cough, whereas strep\n",
            "====================\n",
            "Patient: Hello doctor, I get a cough for the last few days, which is heavy during night times .  No raise in temperature but feeling tired with no travel history .  No contact with any Covid-19 persons .  It has been four to five days and has drunk a lot of Benadryl and took Paracetamol too .  Doctors have shut the OP so do not know what to do? Please help . \n",
            "Doctor: Hello,CT scan is diagnostic for bacterial pneumonia .  It is not enough cases to say that you are a probabile case .  But you are a candidate for COVID19, given your recent high temperature, dehydration and poor immunity, and your cough is not responding to the cough medicine, so you are a candidate for bronchoscopy and pneomonia drug .  You are a candidate for Cough Intravenous antibiotics and inhaled bronchodil\n",
            "====================\n",
            "Patient: Hello doctor, I get a cough for the last few days, which is heavy during night times .  No raise in temperature but feeling tired with no travel history .  No contact with any Covid-19 persons .  It has been four to five days and has drunk a lot of Benadryl and took Paracetamol too .  Doctors have shut the OP so do not know what to do? Please help . \n",
            "Doctor: Hello,It is very likely that you have some kind of respiratory infection, which requires treatment .  You will need antibiotics, and also expectorants, due to the severity of the infection .  You will also need to get medical attention if you get worse .  Hope I have solved your query .  I will be happy to help you further .  I will be happy to answer any further queries you may have .   Wish you good health .  Thanks . \n",
            "\n",
            "\n",
            "====================\n",
            "Patient: Hello doctor, I get a cough for the last few days, which is heavy during night times .  No raise in temperature but feeling tired with no travel history .  No contact with any Covid-19 persons .  It has been four to five days and has drunk a lot of Benadryl and took Paracetamol too .  Doctors have shut the OP so do not know what to do? Please help .  I know there are other possible reasons but this is the only one that comes to mind . \n",
            "Doctor: Hello,CT scan is diagnostic for Pneumonia but the treatment is not for cure .  The treatment is to stay home, rest, drink fluids and monitor for symptoms .     You will mostly improve with Aleve or Pirfenidone .  You will be able to resume your usual activities with the help of your doctor .  Hope I have answered your query . \n",
            "====================\n",
            "Patient: Hello doctor, I get a cough for the last few days, which is heavy during night times .  No raise in temperature but feeling tired with no travel history .  No contact with any Covid-19 persons .  It has been four to five days and has drunk a lot of Benadryl and took Paracetamol too .  Doctors have shut the OP so do not know what to do? Please help . \n",
            "Doctor: Hello! Cough is common in children .  It can be serious problem if not treated promptly .  So better to consult pediatrician and get done clinical examination of respiratory system, chest x ray and PFT (Pulmonary Function Test) .  PFT will not only diagnose bronchitis but will also tell you about severity of the disease and treatment is based on severity only .  It is not a cure .  A lot of people with bronchitis also have cough\n",
            "====================\n",
            "Patient: Hello doctor, I get a cough for the last few days, which is heavy during night times .  No raise in temperature but feeling tired with no travel history .  No contact with any Covid-19 persons .  It has been four to five days and has drunk a lot of Benadryl and took Paracetamol too .  Doctors have shut the OP so do not know what to do? Please help . \n",
            "Doctor: Hello sir,Your symptoms are very similar to those of COVID-19 infection .  You are experiencing mild respiratory symptoms and night sleep apnea .  It is quite possible that you are having an acute respiratory illness like COVID-19 .  But due to limited availability of diagnostic tests in such a situation, you have to take things slow and wait for the symptoms to develop .  This way you avoid passing the virus on to others .  And then if the symptoms develop,\n",
            "====================\n",
            "Patient: Hello doctor, I get a cough for the last few days, which is heavy during night times .  No raise in temperature but feeling tired with no travel history .  No contact with any Covid-19 persons .  It has been four to five days and has drunk a lot of Benadryl and took Paracetamol too .  Doctors have shut the OP so do not know what to do? Please help . \n",
            "Doctor: Hello,It sounds like an asthma attack .  It is not enough symptoms to say that you have the disease, but so many cases of COVID 19 are mild and there is the possibility that you may have something called an allergic reaction from the cough .  You may need treatment with the medicine Astymin M . \n",
            "\n",
            "\n",
            "Patient: My 3 year old son has had a cold since October and a cough since then .  He is up at night itching all over his\n",
            "====================\n",
            "Patient: Hello doctor, I get a cough for the last few days, which is heavy during night times .  No raise in temperature but feeling tired with no travel history .  No contact with any Covid-19 persons .  It has been four to five days and has drunk a lot of Benadryl and took Paracetamol too .  Doctors have shut the OP so do not know what to do? Please help .  Thanks alot\n",
            "Doctor: Hello,Cough is common after any infection .  It can be serious or mild .  It depends on a lot of factors .  One thing is for certain, you have a cough .  It can be serious and cause pneumonia if it is not treated promptly .  Sometimes it can be mild, sometimes severe .  If it is severe and persistent, it can cause shortness of breath .  .  There is nothing you can do about it except for taking appropriate\n",
            "====================\n",
            "Patient: Hello doctor, I get a cough for the last few days, which is heavy during night times .  No raise in temperature but feeling tired with no travel history .  No contact with any Covid-19 persons .  It has been four to five days and has drunk a lot of Benadryl and took Paracetamol too .  Doctors have shut the OP so do not know what to do? Please help . \n",
            "Doctor: Hello,You are having a mild cold, it is not corona and you do not have to worry about it .   You can take the medicine as prescribed, but it is not a treatment for this .  You can also get   an inhaler for this .   \n",
            "\n",
            "\n",
            "Patient: I was recently diagnosed with a very bad cold .  I have been on and off the med for about a week .  I have been on the ACE2C\n",
            "====================\n"
          ],
          "name": "stdout"
        }
      ]
    },
    {
      "cell_type": "markdown",
      "metadata": {
        "id": "zjjEN2Tafhl2",
        "colab_type": "text"
      },
      "source": [
        "如果想要生成大量文本的话，就可以用下面 cell 的命令。"
      ]
    },
    {
      "cell_type": "code",
      "metadata": {
        "id": "Fa6p6arifSL0",
        "colab_type": "code",
        "colab": {}
      },
      "source": [
        "gen_file = 'gpt2_gentext_{:%Y%m%d_%H%M%S}.txt'.format(datetime.utcnow())\n",
        "\n",
        "gpt2.generate_to_file(sess,\n",
        "                      destination_path=gen_file,\n",
        "                      length=500,\n",
        "                      temperature=0.7,\n",
        "                      nsamples=100,\n",
        "                      batch_size=20\n",
        "                      )\n",
        "\n",
        "files.download(gen_file)"
      ],
      "execution_count": 0,
      "outputs": []
    },
    {
      "cell_type": "markdown",
      "metadata": {
        "id": "ig-KVgkCDCKD",
        "colab_type": "text"
      },
      "source": [
        "# 额外提示\n",
        "\n",
        "如果出现错误 (比如 GPU Sync Fail or out-of-memory/OOM), 可以用下列命令来强行杀掉并重启:"
      ]
    },
    {
      "cell_type": "code",
      "metadata": {
        "id": "rIHiVP53FnsX",
        "colab_type": "code",
        "colab": {}
      },
      "source": [
        "!kill -9 -1"
      ],
      "execution_count": 0,
      "outputs": []
    },
    {
      "cell_type": "markdown",
      "metadata": {
        "id": "wmTXWNUygS5E",
        "colab_type": "text"
      },
      "source": [
        "欢迎转载，务必注明出处。\n",
        "\n",
        "\n",
        "关注公众号：Andy的写作间(andy_writing) ，更多自然语言处理，深度学习，AI，写作等等等"
      ]
    },
    {
      "cell_type": "code",
      "metadata": {
        "id": "7exmdJooNrWP",
        "colab_type": "code",
        "colab": {}
      },
      "source": [
        ""
      ],
      "execution_count": 0,
      "outputs": []
    }
  ]
}