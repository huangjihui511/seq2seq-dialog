{
  "nbformat": 4,
  "nbformat_minor": 0,
  "metadata": {
    "colab": {
      "name": "Untitled5.ipynb",
      "provenance": [],
      "authorship_tag": "ABX9TyN5nVR2wLNJGnHm4I2HZsQi",
      "include_colab_link": true
    },
    "kernelspec": {
      "name": "python3",
      "display_name": "Python 3"
    }
  },
  "cells": [
    {
      "cell_type": "markdown",
      "metadata": {
        "id": "view-in-github",
        "colab_type": "text"
      },
      "source": [
        "<a href=\"https://colab.research.google.com/github/huangjihui511/seq2seq-dialog/blob/master/test_gpt2.ipynb\" target=\"_parent\"><img src=\"https://colab.research.google.com/assets/colab-badge.svg\" alt=\"Open In Colab\"/></a>"
      ]
    },
    {
      "cell_type": "code",
      "metadata": {
        "id": "s8CxzaZGydV5",
        "colab_type": "code",
        "colab": {
          "base_uri": "https://localhost:8080/",
          "height": 926
        },
        "outputId": "07dd5f1b-7f19-49b3-efef-e108faa9650e"
      },
      "source": [
        "!pip install tensorflow==1.15.2"
      ],
      "execution_count": 2,
      "outputs": [
        {
          "output_type": "stream",
          "text": [
            "Collecting tensorflow==1.15.2\n",
            "\u001b[?25l  Downloading https://files.pythonhosted.org/packages/9a/d9/fd234c7bf68638423fb8e7f44af7fcfce3bcaf416b51e6d902391e47ec43/tensorflow-1.15.2-cp36-cp36m-manylinux2010_x86_64.whl (110.5MB)\n",
            "\u001b[K     |████████████████████████████████| 110.5MB 46kB/s \n",
            "\u001b[?25hCollecting tensorboard<1.16.0,>=1.15.0\n",
            "\u001b[?25l  Downloading https://files.pythonhosted.org/packages/1e/e9/d3d747a97f7188f48aa5eda486907f3b345cd409f0a0850468ba867db246/tensorboard-1.15.0-py3-none-any.whl (3.8MB)\n",
            "\u001b[K     |████████████████████████████████| 3.8MB 47.7MB/s \n",
            "\u001b[?25hRequirement already satisfied: termcolor>=1.1.0 in /usr/local/lib/python3.6/dist-packages (from tensorflow==1.15.2) (1.1.0)\n",
            "Requirement already satisfied: six>=1.10.0 in /usr/local/lib/python3.6/dist-packages (from tensorflow==1.15.2) (1.12.0)\n",
            "Requirement already satisfied: numpy<2.0,>=1.16.0 in /usr/local/lib/python3.6/dist-packages (from tensorflow==1.15.2) (1.18.2)\n",
            "Requirement already satisfied: wheel>=0.26; python_version >= \"3\" in /usr/local/lib/python3.6/dist-packages (from tensorflow==1.15.2) (0.34.2)\n",
            "Requirement already satisfied: keras-preprocessing>=1.0.5 in /usr/local/lib/python3.6/dist-packages (from tensorflow==1.15.2) (1.1.0)\n",
            "Requirement already satisfied: google-pasta>=0.1.6 in /usr/local/lib/python3.6/dist-packages (from tensorflow==1.15.2) (0.2.0)\n",
            "Collecting tensorflow-estimator==1.15.1\n",
            "\u001b[?25l  Downloading https://files.pythonhosted.org/packages/de/62/2ee9cd74c9fa2fa450877847ba560b260f5d0fb70ee0595203082dafcc9d/tensorflow_estimator-1.15.1-py2.py3-none-any.whl (503kB)\n",
            "\u001b[K     |████████████████████████████████| 512kB 50.7MB/s \n",
            "\u001b[?25hRequirement already satisfied: wrapt>=1.11.1 in /usr/local/lib/python3.6/dist-packages (from tensorflow==1.15.2) (1.12.1)\n",
            "Requirement already satisfied: opt-einsum>=2.3.2 in /usr/local/lib/python3.6/dist-packages (from tensorflow==1.15.2) (3.2.0)\n",
            "Requirement already satisfied: keras-applications>=1.0.8 in /usr/local/lib/python3.6/dist-packages (from tensorflow==1.15.2) (1.0.8)\n",
            "Requirement already satisfied: grpcio>=1.8.6 in /usr/local/lib/python3.6/dist-packages (from tensorflow==1.15.2) (1.27.2)\n",
            "Requirement already satisfied: absl-py>=0.7.0 in /usr/local/lib/python3.6/dist-packages (from tensorflow==1.15.2) (0.9.0)\n",
            "Requirement already satisfied: astor>=0.6.0 in /usr/local/lib/python3.6/dist-packages (from tensorflow==1.15.2) (0.8.1)\n",
            "Requirement already satisfied: protobuf>=3.6.1 in /usr/local/lib/python3.6/dist-packages (from tensorflow==1.15.2) (3.10.0)\n",
            "Collecting gast==0.2.2\n",
            "  Downloading https://files.pythonhosted.org/packages/4e/35/11749bf99b2d4e3cceb4d55ca22590b0d7c2c62b9de38ac4a4a7f4687421/gast-0.2.2.tar.gz\n",
            "Requirement already satisfied: markdown>=2.6.8 in /usr/local/lib/python3.6/dist-packages (from tensorboard<1.16.0,>=1.15.0->tensorflow==1.15.2) (3.2.1)\n",
            "Requirement already satisfied: werkzeug>=0.11.15 in /usr/local/lib/python3.6/dist-packages (from tensorboard<1.16.0,>=1.15.0->tensorflow==1.15.2) (1.0.1)\n",
            "Requirement already satisfied: setuptools>=41.0.0 in /usr/local/lib/python3.6/dist-packages (from tensorboard<1.16.0,>=1.15.0->tensorflow==1.15.2) (46.1.3)\n",
            "Requirement already satisfied: h5py in /usr/local/lib/python3.6/dist-packages (from keras-applications>=1.0.8->tensorflow==1.15.2) (2.10.0)\n",
            "Building wheels for collected packages: gast\n",
            "  Building wheel for gast (setup.py) ... \u001b[?25l\u001b[?25hdone\n",
            "  Created wheel for gast: filename=gast-0.2.2-cp36-none-any.whl size=7540 sha256=fcbcf9cd1cbba3cebe8eaf059c220a61c31046ac2d7efee71997769eda4b5198\n",
            "  Stored in directory: /root/.cache/pip/wheels/5c/2e/7e/a1d4d4fcebe6c381f378ce7743a3ced3699feb89bcfbdadadd\n",
            "Successfully built gast\n",
            "Installing collected packages: tensorboard, tensorflow-estimator, gast, tensorflow\n",
            "  Found existing installation: tensorboard 2.2.0\n",
            "    Uninstalling tensorboard-2.2.0:\n",
            "      Successfully uninstalled tensorboard-2.2.0\n",
            "  Found existing installation: tensorflow-estimator 2.2.0rc0\n",
            "    Uninstalling tensorflow-estimator-2.2.0rc0:\n",
            "      Successfully uninstalled tensorflow-estimator-2.2.0rc0\n",
            "  Found existing installation: gast 0.3.3\n",
            "    Uninstalling gast-0.3.3:\n",
            "      Successfully uninstalled gast-0.3.3\n",
            "  Found existing installation: tensorflow 2.2.0rc2\n",
            "    Uninstalling tensorflow-2.2.0rc2:\n",
            "      Successfully uninstalled tensorflow-2.2.0rc2\n",
            "Successfully installed gast-0.2.2 tensorboard-1.15.0 tensorflow-1.15.2 tensorflow-estimator-1.15.1\n"
          ],
          "name": "stdout"
        },
        {
          "output_type": "display_data",
          "data": {
            "application/vnd.colab-display-data+json": {
              "pip_warning": {
                "packages": [
                  "gast",
                  "tensorboard",
                  "tensorflow"
                ]
              }
            }
          },
          "metadata": {
            "tags": []
          }
        }
      ]
    },
    {
      "cell_type": "code",
      "metadata": {
        "id": "oLs9m_3fyiYs",
        "colab_type": "code",
        "colab": {
          "base_uri": "https://localhost:8080/",
          "height": 199
        },
        "outputId": "be4dab6d-ae3f-42fe-c89a-231dfc2cee2a"
      },
      "source": [
        "import tensorflow.contrib.graph_editor as ge"
      ],
      "execution_count": 1,
      "outputs": [
        {
          "output_type": "display_data",
          "data": {
            "text/html": [
              "<p style=\"color: red;\">\n",
              "The default version of TensorFlow in Colab will switch to TensorFlow 2.x on the 27th of March, 2020.<br>\n",
              "We recommend you <a href=\"https://www.tensorflow.org/guide/migrate\" target=\"_blank\">upgrade</a> now\n",
              "or ensure your notebook will continue to use TensorFlow 1.x via the <code>%tensorflow_version 1.x</code> magic:\n",
              "<a href=\"https://colab.research.google.com/notebooks/tensorflow_version.ipynb\" target=\"_blank\">more info</a>.</p>\n"
            ],
            "text/plain": [
              "<IPython.core.display.HTML object>"
            ]
          },
          "metadata": {
            "tags": []
          }
        },
        {
          "output_type": "stream",
          "text": [
            "WARNING:tensorflow:\n",
            "The TensorFlow contrib module will not be included in TensorFlow 2.0.\n",
            "For more information, please see:\n",
            "  * https://github.com/tensorflow/community/blob/master/rfcs/20180907-contrib-sunset.md\n",
            "  * https://github.com/tensorflow/addons\n",
            "  * https://github.com/tensorflow/io (for I/O related ops)\n",
            "If you depend on functionality not listed there, please file an issue.\n",
            "\n"
          ],
          "name": "stdout"
        }
      ]
    },
    {
      "cell_type": "code",
      "metadata": {
        "id": "r5gaaqOxykwk",
        "colab_type": "code",
        "colab": {
          "base_uri": "https://localhost:8080/",
          "height": 34
        },
        "outputId": "d06193fb-7490-4c6a-b940-2b94e13218c4"
      },
      "source": [
        "!pip install -q gpt_2_simple\n",
        "\n",
        "import gpt_2_simple as gpt2\n",
        "from datetime import datetime\n",
        "from google.colab import files"
      ],
      "execution_count": 2,
      "outputs": [
        {
          "output_type": "stream",
          "text": [
            "  Building wheel for gpt-2-simple (setup.py) ... \u001b[?25l\u001b[?25hdone\n"
          ],
          "name": "stdout"
        }
      ]
    },
    {
      "cell_type": "code",
      "metadata": {
        "id": "F26vLEFCyxFs",
        "colab_type": "code",
        "colab": {
          "base_uri": "https://localhost:8080/",
          "height": 122
        },
        "outputId": "892818bf-3b36-47de-9e24-04d4b241a0bd"
      },
      "source": [
        "gpt2.mount_gdrive()"
      ],
      "execution_count": 3,
      "outputs": [
        {
          "output_type": "stream",
          "text": [
            "Go to this URL in a browser: https://accounts.google.com/o/oauth2/auth?client_id=947318989803-6bn6qk8qdgf4n4g3pfee6491hc0brc4i.apps.googleusercontent.com&redirect_uri=urn%3aietf%3awg%3aoauth%3a2.0%3aoob&response_type=code&scope=email%20https%3a%2f%2fwww.googleapis.com%2fauth%2fdocs.test%20https%3a%2f%2fwww.googleapis.com%2fauth%2fdrive%20https%3a%2f%2fwww.googleapis.com%2fauth%2fdrive.photos.readonly%20https%3a%2f%2fwww.googleapis.com%2fauth%2fpeopleapi.readonly\n",
            "\n",
            "Enter your authorization code:\n",
            "··········\n",
            "Mounted at /content/drive\n"
          ],
          "name": "stdout"
        }
      ]
    },
    {
      "cell_type": "code",
      "metadata": {
        "id": "KZFSWPDEyymq",
        "colab_type": "code",
        "colab": {}
      },
      "source": [
        "file_name = \"COVID-GPT2.txt\""
      ],
      "execution_count": 0,
      "outputs": []
    },
    {
      "cell_type": "code",
      "metadata": {
        "id": "mdlJ97Bey5NJ",
        "colab_type": "code",
        "colab": {}
      },
      "source": [
        "gpt2.copy_file_from_gdrive(file_name)"
      ],
      "execution_count": 0,
      "outputs": []
    },
    {
      "cell_type": "code",
      "metadata": {
        "id": "J-ZfHSVOy9Vd",
        "colab_type": "code",
        "colab": {}
      },
      "source": [
        "gpt2.copy_checkpoint_from_gdrive()"
      ],
      "execution_count": 0,
      "outputs": []
    },
    {
      "cell_type": "code",
      "metadata": {
        "id": "mPauwRYk0b4B",
        "colab_type": "code",
        "colab": {
          "base_uri": "https://localhost:8080/",
          "height": 51
        },
        "outputId": "bc7bec5a-8195-4e5f-d988-9d689a38d34d"
      },
      "source": [
        "sess = gpt2.start_tf_sess()\n",
        "gpt2.load_gpt2(sess)"
      ],
      "execution_count": 8,
      "outputs": [
        {
          "output_type": "stream",
          "text": [
            "Loading checkpoint checkpoint/run1/model-200\n",
            "INFO:tensorflow:Restoring parameters from checkpoint/run1/model-200\n"
          ],
          "name": "stdout"
        }
      ]
    },
    {
      "cell_type": "code",
      "metadata": {
        "id": "DGXeltv2zFOx",
        "colab_type": "code",
        "colab": {
          "base_uri": "https://localhost:8080/",
          "height": 1000
        },
        "outputId": "06125937-c6ad-46a1-dff0-ba69d17d230f"
      },
      "source": [
        "gpt2.generate(sess,\n",
        "              length=100,\n",
        "              temperature=0.7,\n",
        "              prefix=\"Patient: Hello doctor, I get a cough for the last few days, which is heavy during night times .  No raise in temperature but feeling tired with no travel history .  No contact with any Covid-19 persons .  It has been four to five days and has drunk a lot of Benadryl and took Paracetamol too .  Doctors have shut the OP so do not know what to do? Please help . \",\n",
        "              nsamples=20,\n",
        "              batch_size=5,\n",
        "              top_k=40\n",
        "              )"
      ],
      "execution_count": 9,
      "outputs": [
        {
          "output_type": "stream",
          "text": [
            "WARNING:tensorflow:From /usr/local/lib/python3.6/dist-packages/gpt_2_simple/src/sample.py:17: where (from tensorflow.python.ops.array_ops) is deprecated and will be removed in a future version.\n",
            "Instructions for updating:\n",
            "Use tf.where in 2.0, which has the same broadcast rule as np.where\n",
            "Patient: Hello doctor, I get a cough for the last few days, which is heavy during night times .  No raise in temperature but feeling tired with no travel history .  No contact with any Covid-19 persons .  It has been four to five days and has drunk a lot of Benadryl and took Paracetamol too .  Doctors have shut the OP so do not know what to do? Please help . \n",
            "Doctor: Hello dear,If you have no fever then it is not a good sign .  You can take antipyretics like paracetamol and ibuprofen .  They do not make you worse .  Pneumonia is lung infection and requires treatment .  If you have a fever and cough it is not a good sign .   Warm temperature is good but not needed .   Avoid cold drinks and tobacco .  You will be alright with all these . \n",
            "====================\n",
            "Patient: Hello doctor, I get a cough for the last few days, which is heavy during night times .  No raise in temperature but feeling tired with no travel history .  No contact with any Covid-19 persons .  It has been four to five days and has drunk a lot of Benadryl and took Paracetamol too .  Doctors have shut the OP so do not know what to do? Please help . \n",
            "Doctor: Hello,If you are not having fever, it is not the COVID-19 .  It may be influenza or some other illness .     If you have any symptoms, please wait for 15 to 30 minutes and if not having fever, then cough only .  You may need additional medication .      Stay home, rest and drink fluids .   If you have any questions, please do not hesitate to ask . \n",
            "\n",
            "\n",
            "Patient: I\n",
            "====================\n",
            "Patient: Hello doctor, I get a cough for the last few days, which is heavy during night times .  No raise in temperature but feeling tired with no travel history .  No contact with any Covid-19 persons .  It has been four to five days and has drunk a lot of Benadryl and took Paracetamol too .  Doctors have shut the OP so do not know what to do? Please help .  I have a fever of 103 . 3 and my cough is getting worse .  I have been on the med for ten days .   I have not been able to reduce the amount of medication as I got to bed after a hard day's work . \n",
            "Doctor: Hello dear   Please wait for a while   before taking any medication  .                  But you are having fever and cough are getting worse so\n",
            "====================\n",
            "Patient: Hello doctor, I get a cough for the last few days, which is heavy during night times .  No raise in temperature but feeling tired with no travel history .  No contact with any Covid-19 persons .  It has been four to five days and has drunk a lot of Benadryl and took Paracetamol too .  Doctors have shut the OP so do not know what to do? Please help . \n",
            "Doctor: Hello,Cough,Cold and Flu like this can be very common .  The cough starts at night and can continue until the next day .  Usually, a person calls the doctor if the cough is bothersome, persistent, recurrent, or doesn't go away quickly .  If the cough is bothersome, recurrent, or doesn't go away quickly, then cough treatment is to be sought .  Usually, a person calls the doctor if the cough is bothersome, persistent,\n",
            "====================\n",
            "Patient: Hello doctor, I get a cough for the last few days, which is heavy during night times .  No raise in temperature but feeling tired with no travel history .  No contact with any Covid-19 persons .  It has been four to five days and has drunk a lot of Benadryl and took Paracetamol too .  Doctors have shut the OP so do not know what to do? Please help .  Thanks alot\n",
            "Doctor: Hello dear dear  Hi, cough is common after the flu and for many weeks now, so better to consult pulmonologist and discuss about treatment .        Avoid Ibuprofen and other NSAIDs and use acetaminophen Tylenol only .  Use Antiseptic wipes when you have to touch surfaces outside the home .  Avoid unnecessary touch .  Use warm water pad on surfaces .   Avoid unnecessary movements .   Avoid\n",
            "====================\n",
            "Patient: Hello doctor, I get a cough for the last few days, which is heavy during night times .  No raise in temperature but feeling tired with no travel history .  No contact with any Covid-19 persons .  It has been four to five days and has drunk a lot of Benadryl and took Paracetamol too .  Doctors have shut the OP so do not know what to do? Please help . \n",
            "Doctor: Hello .  My opinion is that you take paracetamol twice a day .  It does not matter if you are a high risk person or not .  If you have a fever and you get better, it will be because of the paracetamol .  Do you have any other fever pills that you can take when you get better? Would you like to video or text chat with me?               \n",
            "====================\n",
            "Patient: Hello doctor, I get a cough for the last few days, which is heavy during night times .  No raise in temperature but feeling tired with no travel history .  No contact with any Covid-19 persons .  It has been four to five days and has drunk a lot of Benadryl and took Paracetamol too .  Doctors have shut the OP so do not know what to do? Please help .  \n",
            "Doctor: Hello and Welcome to Healthcaremagic . comI have reviewed your query and here is my advice .  If you are not having fever, no shortness of breath and your cough is not severe then do not go for chest x ray .   If you have been exposed to a corona virus patient then don't go for a chest x ray .  The possibility of other lung problems is very more likely .  You may need treatment for these .  Hope I have answered your\n",
            "====================\n",
            "Patient: Hello doctor, I get a cough for the last few days, which is heavy during night times .  No raise in temperature but feeling tired with no travel history .  No contact with any Covid-19 persons .  It has been four to five days and has drunk a lot of Benadryl and took Paracetamol too .  Doctors have shut the OP so do not know what to do? Please help . \n",
            "Doctor: Hello dear , This is the last post on your question .  I will try to answer it shortly .    But, you should do more than once a day for safety .  So better to consult pulmonologist and discuss about the situation .  Hope I have answered your query .  Let me know if I can assist you further . Regards ,Dr .  Kaushal Bhavsar\n",
            "\n",
            "\n",
            "Patient: I was recently diagnosed with pneumonia .  I\n",
            "====================\n",
            "Patient: Hello doctor, I get a cough for the last few days, which is heavy during night times .  No raise in temperature but feeling tired with no travel history .  No contact with any Covid-19 persons .  It has been four to five days and has drunk a lot of Benadryl and took Paracetamol too .  Doctors have shut the OP so do not know what to do? Please help . \n",
            "Doctor: Hello,Cough,Cold .  It is not enough symptoms to say that you are a candidate for COVID-19 .   But,COVID-19 infections tend to have cough, while allergies are more common .  So,it is better to consult pulmonologist and get done clinical examination of respiratory system and PFT (Pulmonary Function Test) .  PFT will not only diagnose the infection but it will also tell you about severity of the infection,\n",
            "====================\n",
            "Patient: Hello doctor, I get a cough for the last few days, which is heavy during night times .  No raise in temperature but feeling tired with no travel history .  No contact with any Covid-19 persons .  It has been four to five days and has drunk a lot of Benadryl and took Paracetamol too .  Doctors have shut the OP so do not know what to do? Please help . \n",
            "Doctor: Hello dear ,  Hi   No need to worry so much .  It is not that serious .  It usually takes 2-3 days for the fever, then symptoms would appear .  So better to consult pulmonologist and get done clinical examination of respiratory system and PFT (Pulmonary Function Test) .  PFT will not only diagnose bronchitis but it will also tell you about severity of the disease which will help you decide about treatment .  You will\n",
            "====================\n",
            "Patient: Hello doctor, I get a cough for the last few days, which is heavy during night times .  No raise in temperature but feeling tired with no travel history .  No contact with any Covid-19 persons .  It has been four to five days and has drunk a lot of Benadryl and took Paracetamol too .  Doctors have shut the OP so do not know what to do? Please help . \n",
            "Doctor: Hello dear,It is not enough symptoms to say that you have COVID 19 infection, but fever, dry cough andor shortness of breath are suggestive of it .  So better to first diagnose and then start treatment .  You will be alright with all these .  Take rest and fluids orally and keep yourself hydrated .  If fever do not improve with treatment then cough for 5 more days .  If shortness of breath do not improve with treatment then cough for 5 more\n",
            "====================\n",
            "Patient: Hello doctor, I get a cough for the last few days, which is heavy during night times .  No raise in temperature but feeling tired with no travel history .  No contact with any Covid-19 persons .  It has been four to five days and has drunk a lot of Benadryl and took Paracetamol too .  Doctors have shut the OP so do not know what to do? Please help .  Thank you very much\n",
            "Doctor: Hello,CT scan is diagnostic for COVID-19, but the treatment is prevention .  So better to consult pulmonologist and start anti-inflammatory medication, preferably with ibuprofen .  And stay home, rest and drink fluids .   Avoid Ibuprofen and other NSAIDs and use acetaminophen Tylenol only .  Don't worry, you will be alright with all these .  Hope I have answered your query .\n",
            "====================\n",
            "Patient: Hello doctor, I get a cough for the last few days, which is heavy during night times .  No raise in temperature but feeling tired with no travel history .  No contact with any Covid-19 persons .  It has been four to five days and has drunk a lot of Benadryl and took Paracetamol too .  Doctors have shut the OP so do not know what to do? Please help .  Thanks\n",
            "Doctor: Hello,It is a common cold and you will get a cough .  It is not a sign of COVID-19 .  You will get a better response from your doctor .   Hope I have answered your query .  Let me know if I can assist you further . Regards,Dr .  Kaushal Bhavsar\n",
            "\n",
            "\n",
            "Patient: Hi my name is Becky and I was recently diagnosed with a very large  pneumonia .  I was given\n",
            "====================\n",
            "Patient: Hello doctor, I get a cough for the last few days, which is heavy during night times .  No raise in temperature but feeling tired with no travel history .  No contact with any Covid-19 persons .  It has been four to five days and has drunk a lot of Benadryl and took Paracetamol too .  Doctors have shut the OP so do not know what to do? Please help . \n",
            "Doctor: Hello,If you are not having fever, you are not having pneumonia, and if you are not having cough, it is not Pneumonia, if you are not having fever, you are not having pneumonia, and if you are not having cough, it is not Pneumonia, if you are not having fever, you are not having pneumonia, and if you are not having cough, then it is not Pneumonia, you are not having a fever, and if you\n",
            "====================\n",
            "Patient: Hello doctor, I get a cough for the last few days, which is heavy during night times .  No raise in temperature but feeling tired with no travel history .  No contact with any Covid-19 persons .  It has been four to five days and has drunk a lot of Benadryl and took Paracetamol too .  Doctors have shut the OP so do not know what to do? Please help . \n",
            "Doctor: Hello dear,Cough and fever is one thing, but shortness of breath is another .   You have some of both, but the cough is not severe enough to warrant urgent treatment .   And breathing difficulties are a very serious problem with this disease, so better to consult pulmonologist and get done clinical examination of respiratory system, chest x ray and PFT (Pulmonary Function Test) .  PFT will not only diagnose shortness of breath but it will\n",
            "====================\n",
            "Patient: Hello doctor, I get a cough for the last few days, which is heavy during night times .  No raise in temperature but feeling tired with no travel history .  No contact with any Covid-19 persons .  It has been four to five days and has drunk a lot of Benadryl and took Paracetamol too .  Doctors have shut the OP so do not know what to do? Please help .  Thanks\n",
            "Doctor: Hello and Welcome to Healthcaremagic . comI have gone through your query in depth  .  Pneumonia (pneumonia) is lung infection and should be treated promptly and correctly .  The treatment is twofold .  First is symptomatic relief with plenty of fluids orally and the rest of the meds .  Second is surgical drainage and cure .     If patient is not cured, it will recur .  Hope I have answered your query . \n",
            "====================\n",
            "Patient: Hello doctor, I get a cough for the last few days, which is heavy during night times .  No raise in temperature but feeling tired with no travel history .  No contact with any Covid-19 persons .  It has been four to five days and has drunk a lot of Benadryl and took Paracetamol too .  Doctors have shut the OP so do not know what to do? Please help .  I am scared as I have type 1 diabetes\n",
            "Doctor: Hello,Coughfever is a normal body response after a fever and the cough has been going on for 4-5 days .  Coughfever is normal after a fever and will subside .  Don't worry, it will pass .  Stay home, rest and drink fluids .  Don't worry, you will be alright with all these .  Stay safe .  Wish you good health .  Thanks\n",
            "Patient\n",
            "====================\n",
            "Patient: Hello doctor, I get a cough for the last few days, which is heavy during night times .  No raise in temperature but feeling tired with no travel history .  No contact with any Covid-19 persons .  It has been four to five days and has drunk a lot of Benadryl and took Paracetamol too .  Doctors have shut the OP so do not know what to do? Please help . \n",
            "Doctor: In brief:       Don't go to the ER            Although the data is inconclusive it would not be wise to go to the ER .           You can call the pediatrician for more information .   Would you like to video or text chat with me?                   \n",
            "\n",
            "\n",
            "\n",
            "====================\n",
            "Patient: Hello doctor, I get a cough for the last few days, which is heavy during night times .  No raise in temperature but feeling tired with no travel history .  No contact with any Covid-19 persons .  It has been four to five days and has drunk a lot of Benadryl and took Paracetamol too .  Doctors have shut the OP so do not know what to do? Please help . \n",
            "Doctor: Hello,Do not worry so much .  Cough only for a few days .  Stay safe .     Stay home and monitor your temperature .  Do not go to work, school, church, playgrounds, or other public areas .  Watch for signs of secondary infection .  Avoid Ibuprofen and other NSAIDs .  Take acetaminophen .  Avoid alcohol .    Avoid junk food .  Avoid smoke and soot .   \n",
            "====================\n",
            "Patient: Hello doctor, I get a cough for the last few days, which is heavy during night times .  No raise in temperature but feeling tired with no travel history .  No contact with any Covid-19 persons .  It has been four to five days and has drunk a lot of Benadryl and took Paracetamol too .  Doctors have shut the OP so do not know what to do? Please help . \n",
            "Doctor: Hello,CT scan is diagnostic for bacterial pneumonia, but there is not enough evidence to confirm it for COVID19 .  Hope I have answered your query .  Let me know if I can assist you further . Regards,Dr .  Kaushal Bhavsar\n",
            "\n",
            "\n",
            "Patient: Hi .  My son has had a high temperature (around 37 degrees), sore throat and headaches for two days .  He now has fever, sore throat and headaches .  He\n",
            "====================\n"
          ],
          "name": "stdout"
        }
      ]
    },
    {
      "cell_type": "code",
      "metadata": {
        "id": "UovfHbA60OZw",
        "colab_type": "code",
        "colab": {}
      },
      "source": [
        "f = open(file_name)\n",
        "s = f.read()\n",
        "data = []\n",
        "for item in s.split(\"\\n\\n\\n\"):\n",
        "    #print(item)\n",
        "    p = item.split(\"\\n\")[0]\n",
        "    d = item.split(\"\\n\")[1]\n",
        "    data.append((p, d))"
      ],
      "execution_count": 0,
      "outputs": []
    },
    {
      "cell_type": "code",
      "metadata": {
        "id": "IFu_cI901uT6",
        "colab_type": "code",
        "colab": {
          "base_uri": "https://localhost:8080/",
          "height": 1000
        },
        "outputId": "bd4e2c73-2cc4-44c4-941a-a4c7f43496ae"
      },
      "source": [
        "def compare(input, output):\n",
        "    gpt2.generate(sess,\n",
        "              length=100,\n",
        "              temperature=0.7,\n",
        "              prefix=input,\n",
        "              nsamples=3,\n",
        "              batch_size=1,\n",
        "              top_k=40\n",
        "              )\n",
        "    print(\">>:\", output)\n",
        "\n",
        "for item in data[:20]:\n",
        "    compare(item[0], item[1])"
      ],
      "execution_count": 18,
      "outputs": [
        {
          "output_type": "stream",
          "text": [
            "Patient: Hello doctor, I get a cough for the last few days, which is heavy during night times .  No raise in temperature but feeling tired with no travel history .  No contact with any Covid-19 persons .  It has been four to five days and has drunk a lot of Benadryl and took Paracetamol too .  Doctors have shut the OP so do not know what to do? Please help . \n",
            "Doctor: Hi,CT scan is diagnostic for COVID-19, but it cannot be diagnosed without clinical experience . So, patient-doctor consult in details .   But cough would be abnormal in itself, without any of the comorbid complaints . So, cough alone is not enough .  Cough and fever are also seen with other diseases, so cough alone is not enough diagnosis .  So, patient-doctor consult in details .  But cough would be abnormal in itself, without\n",
            "====================\n",
            "Patient: Hello doctor, I get a cough for the last few days, which is heavy during night times .  No raise in temperature but feeling tired with no travel history .  No contact with any Covid-19 persons .  It has been four to five days and has drunk a lot of Benadryl and took Paracetamol too .  Doctors have shut the OP so do not know what to do? Please help .  Thanks . \n",
            "Doctor: Hello,If you are not experiencing fever, cough or shortness of breath, You may have a cold .  Stay home, rest and drink fluids .  Do not worry, you will be alright with all the rest .     Hope I have solved your query .  Let me know if I can assist you further . Regards,Dr .  Kaushal Bhavsar\n",
            "\n",
            "\n",
            "Patient: I was recently diagnosed with a very large \n",
            "====================\n",
            "Patient: Hello doctor, I get a cough for the last few days, which is heavy during night times .  No raise in temperature but feeling tired with no travel history .  No contact with any Covid-19 persons .  It has been four to five days and has drunk a lot of Benadryl and took Paracetamol too .  Doctors have shut the OP so do not know what to do? Please help .  Thanks alot\n",
            "Doctor: Hello,CT scan is diagnostic for bacterial pneumonia .  Treatment is supportive and should be done every day .  If patient is not improving, then cough, monitor for 14 days and then give the medication .  If patient is not improving, then cough, monitor for 14 days and then give the medication .  If patient is not improving, then go for CT scan and treatment .  Hope I have answered your query .  Let me know if I can assist you further .\n",
            "====================\n",
            ">>: Doctor: Hello, I understand your concern .  I just have a few more questions . Does your cough has phlegm? Any other symptoms like difficulty breathing? Any other medical condition such as asthma, hypertension? Are you a smoker? Alcoholic beverage drinker?\n",
            "Patient: Thank you doctor,I have phlegm but not a lot .  A tiny amount comes out most of the time .  I have no difficulty in breathing .  No medical conditions and not a smoker nor a drinker .     I have a fever of 39 . 3 and my cough is starting .  I have just been taking Tylenol for my cough for about 15 min and now I feel worse .  I am coughing up mucus .  ?\n",
            "Doctor: Early symptoms of COVID include the following:  Fever, Dry Cough andor SOB .  Usually, a person calls the doctor if the symptoms change or become worse .  COVID-19 infections tend to have cough,\n",
            "====================\n",
            "Patient: Thank you doctor,I have phlegm but not a lot .  A tiny amount comes out most of the time .  I have no difficulty in breathing .  No medical conditions and not a smoker nor a drinker .  I just want to know if I can do something about the phlegm?\n",
            "Doctor: In brief:          You can't                                                     You can't           \n",
            "====================\n",
            "Patient: Thank you doctor,I have phlegm but not a lot .  A tiny amount comes out most of the time .  I have no difficulty in breathing .  No medical conditions and not a smoker nor a drinker .  I know most of the doctors in the office .  I hope I have solved your query .  Thanks . \n",
            "Doctor: Thanks for your concern .  It sounds like a viral infection and not a bacterial infection .  Bacterial infections can be bacterial pneumonia and cause pneumonia .  So better to consult pulmonologist and get done clinical examination of respiratory system and PFT (Pulmonary Function Test) .  PFT will not only diagnose bronchiolitis but it will also tell you\n",
            "====================\n",
            ">>: Doctor: Hi, I would recommend you take n-acetylcysteine 200 mg powder dissolved in water three times a day .  You may also nebulize using PNSS (saline nebulizer) three times a day .  This will help the phlegm to come out .  I would also recommend you take vitamin C 500 mg and zinc to boost your immune system .  If symptoms persist, worsen or new onset of symptoms has been noted, further consult is advised . \n",
            "Patient: Hello doctor, I am suffering from coughing, throat infection from last week .  At that time fever did not persist and also did not felt any chest pain .  Two days later, I consulted with a doctor .  He prescribed Cavidur 625, Montek LC, Ambrolite syrup and Betaline gargle solution .  Since then throat infection improved and frequent cough also coming out .  Coughing also improved remarkably though not completely .  From yesterday onwards fever is occuring (maximum 100-degree Celcius) .  I have not come in touch with any foreign returned person nor went outside .  In our state, there is no incidence of Covid-19 .  Please suggest what to do? Thanks\n",
            "Doctor: Hello dear,Cough and fever is common during the respiratory illness, but usually not during the illness itself .   So better to consult pulmonologist and discuss about causes of fever, including COVID-19 .  Fever is more likely to be viral and cause pneumonia .  COVID-19 is very likely caused by virus, but more likely to be bacterial infection .  The pneumonia is not treatable with antibiotics, but supportive treatment with fluids and other medications is .\n",
            "====================\n",
            "Patient: Hello doctor, I am suffering from coughing, throat infection from last week .  At that time fever did not persist and also did not felt any chest pain .  Two days later, I consulted with a doctor .  He prescribed Cavidur 625, Montek LC, Ambrolite syrup and Betaline gargle solution .  Since then throat infection improved and frequent cough also coming out .  Coughing also improved remarkably though not completely .  From yesterday onwards fever is occuring (maximum 100-degree Celcius) .  I have not come in touch with any foreign returned person nor went outside .  In our state, there is no incidence of Covid-19 .  Please suggest what to do?\n",
            "Doctor: Hi, it is likely a viral infection .  You can treat it however you wish .   It is likely viral infection and should be treated promptly and correctly .    You can do that by following these guidelines: https:www . healthtap . comblogcovid-19-care-guidelinespreventing-covid-19 .  You can also get done clinical examination of respiratory system and PFT (Pulmonary Function Test) .\n",
            "====================\n",
            "Patient: Hello doctor, I am suffering from coughing, throat infection from last week .  At that time fever did not persist and also did not felt any chest pain .  Two days later, I consulted with a doctor .  He prescribed Cavidur 625, Montek LC, Ambrolite syrup and Betaline gargle solution .  Since then throat infection improved and frequent cough also coming out .  Coughing also improved remarkably though not completely .  From yesterday onwards fever is occuring (maximum 100-degree Celcius) .  I have not come in touch with any foreign returned person nor went outside .  In our state, there is no incidence of Covid-19 .  Please suggest what to do? Thanks\n",
            "Doctor: Hello,If fever doesn't develop within few hours after fever, then chances of you getting the infection is very low .  If cough is not severe, then chances are you will be fine .  But, if severe cough persists for more than two days after fever, then chances of severe infection increases .  I hope I have explained your query .  Cough, fever andor shortness of breath are common symptoms of pneumonia .  And, at this stage, treatment is\n",
            "====================\n",
            ">>: Doctor: Hello, I can understand your concern . In my opinion, you should get done a chest x-ray and CBC (complete blood count) .  If both these are normal then no need to worry much .  I hope this helps . \n",
            "Patient: Thank you doctor,After doing all these I can upload all for further query .  I am a female, 35 years of age .  I have no fever, but just a slight cough .  I have no chest pain or shortness of breath .  My pulse is also at a healthy rate (its been getting better over the last couple of years) .  I do experience headaches but they are not severe .  I am currently healthy .  ?\n",
            "Doctor: Hello,After getting done chest x-ray it is not possible to say anything about the cause of your headache\n",
            "====================\n",
            "Patient: Thank you doctor,After doing all these I can upload all for further query .  The symptoms are as follows:I am a 62 year old male with mild depression .  I am currently not having any symptoms .  What could be causing such abnormal symptoms? I have been having chest pain for past couple days .  I have had fever since last night, but I don't have a fever this morning .   I have been zzzz .  I have also had a weird sensation in chest .  I don't have a fever this morning as I was just having chest\n",
            "====================\n",
            "Patient: Thank you doctor,After doing all these I can upload all for further query . \n",
            "Doctor: Thanks for trusting HCM Dear,If your symptoms are not improving then you should consult pulmonologist and get done clinical examination of respiratory system and PFT (Pulmonary Function Test) .  PFT will not only diagnose PFT but it will also tell you whether PFT is improving or deteriorating and you can do certain things like taking medicine paracetamol or ibuprufen .  Hope I have answered your query .  Let me know if I can assist you\n",
            "====================\n",
            ">>: Doctor: Hi, yes, upload in this query only .  I will see and revert to you . \n",
            "Patient: Thank you doctor,As per your guidelines, I have made one test .  Due to city shutdown, I could not able to make an x-ray of chest .  Fever is coming every 12 hours .  But cough does not persist currently .  The only problem is a fever .  I am uploading the blood examination report .  Please advice .  Thanks\n",
            "Doctor: Hello,CT scan of the chest is needed to diagnose this disease .  And chest x ray is need to rule out pneumonia .  Hope I have answered your query .  Let me know if I can assist you further .  Regards,Dr .  Kaushal Bhavsar\n",
            "\n",
            "\n",
            "Patient: Hi, I was recently diagnosed with the flu after a short period of non-responsiveness .  I have had a course of antibiotics, cough medicine and have\n",
            "====================\n",
            "Patient: Thank you doctor,As per your guidelines, I have made one test .  Due to city shutdown, I could not able to make an x-ray of chest .  Fever is coming every 12 hours .  But cough does not persist currently .  The only problem is a fever .  I am uploading the blood examination report .  Please advice .  Thanks . \n",
            "Doctor: Hello,As you explain the history, you will find that the cough is not recurrent .   It may be that you are having fever after the cough but not as many hours after the fever .  So possibility of having pneumonia is more likely .  Keep this in mind when you discuss about future treatment .  Hope I have answered your query .  Let me know if I can assist you further .  Regards,Dr .  Kaushal Bhavs\n",
            "====================\n",
            "Patient: Thank you doctor,As per your guidelines, I have made one test .  Due to city shutdown, I could not able to make an x-ray of chest .  Fever is coming every 12 hours .  But cough does not persist currently .  The only problem is a fever .  I am uploading the blood examination report .  Please advice .  Thanks . \n",
            "Doctor: Hello and Welcome to Healthcaremagic . comI have evaluated your query in details  .    The cough is in relation with underlying pneumonia, not with any other symptomatology .  The cough is recurrent and heavy in volume, persistent and accompanied by fever, not accompanied by cough .  The cough is also accompanied by shortness of breath  .  The volume of the cough is not satisfactory and the cough is not associated with fever .  I am afraid that\n",
            "====================\n",
            ">>: Doctor: Hi, I can understand your concern .  I have gone through the report you have attached .  (attachment removed to protect patient identity) . Your total count is on the higher side of normal along with low hemoglobin .  So start Azithromycin 500 mg 1-0-0, Tablet Dolo 650 1-0-1 .  Once your fever and cough subside, start an Iron tablet for low hemoglobin . I hope this helps . \n",
            "Patient: Thank you doctor,How many tablets of Azithromycin to be taken? Is it in the morning? I want to make you know that I have already taken Azithromycin five days before .  Should she start it? And also can I start an Iron tablet today itself?\n",
            "Doctor: The short answer is no .    Azithromycin is safe when used correctly and should be taken in the morning .   You can take it as a pill, but it is best taken as a nasal spray .   You can take a tablet every three to four hours if you get a fever .    If you get a fever, but not a fever, then no need to worry about it .   You can also use an inhaler, but\n",
            "====================\n",
            "Patient: Thank you doctor,How many tablets of Azithromycin to be taken? Is it in the morning? I want to make you know that I have already taken Azithromycin five days before .  Should she start it? And also can I start an Iron tablet today itself?\n",
            "Doctor: Hello,If you are not having fever, I do not think Azithromycin is needed .  Take Zyrtec or any other NSAID (non-selective NSAID) like Paracetamol or Ibuprofen .  Take them for the fever, if the fever subsides, you will be alright with all these .  Hope I have answered your query .  Let me know if I can assist you further . Regards,Dr .  Kaush\n",
            "====================\n",
            "Patient: Thank you doctor,How many tablets of Azithromycin to be taken? Is it in the morning? I want to make you know that I have already taken Azithromycin five days before .  Should she start it? And also can I start an Iron tablet today itself?Thanks\n",
            "Doctor: Hello,As you explain the history it was not possible to start Iron tablet immediately after taking Azithromycin .  It is now possible however you should wait for one to two hours after taking the tablet before drinking or eating .       Be sure to wash hands and surfaces after handling food and other people .   Enjoy your breakfast . \n",
            "\n",
            "\n",
            "Patient: Hi there, i travelled to the UK last month, I have had an infection since,\n",
            "====================\n",
            ">>: Doctor: Hi, Yes, you can take iron tablet from today onwards .  And no need for Azithromycin now as you have already taken it .  Drink plenty of fluids orally and keep yourself hydrated .  Do warm water gargles and steam inhalation four to five times a day . \n",
            "Patient: Hello doctor,I am a 23-year-old man .  I have anxiety and depression but no immunodeficiency disorders or chronic diseases .  First, I wanna know if my immune system is weakened and how likely am I to die of Coronavirus . Second, I have itchiness in my throat and shortness of breath .  I always have it because of anxiety but now it is more persistent than before .  I also feel a very subtle feeling of pain, burning sensation and itchiness in my chest .  I did not go out during the past ten days and have not been in contact with someone with positive Covid .  And I quit smoking past week .  Down to one or zero cigarettes from 20 a day .  Why am I feeling itchiness and pain and burning sensation? How likely am I to have Covid-19? And how likely am I to die from it?\n",
            "Doctor: Hello dear,As you explain the symptoms, it is probable that you have an infectious disease .  Therefore consult pulmonologist and get done clinical examination of respiratory system and PFT (Pulmonary Function Test) . PFT will not only diagnose your disease but it will also tell you about severity of the disease and treatment is based on severity only .  If you have any chronic diseases, such as diabetes, hypertension, depression, asthma, etc, then consult pulmonologist and\n",
            "====================\n",
            "Patient: Hello doctor,I am a 23-year-old man .  I have anxiety and depression but no immunodeficiency disorders or chronic diseases .  First, I wanna know if my immune system is weakened and how likely am I to die of Coronavirus . Second, I have itchiness in my throat and shortness of breath .  I always have it because of anxiety but now it is more persistent than before .  I also feel a very subtle feeling of pain, burning sensation and itchiness in my chest .  I did not go out during the past ten days and have not been in contact with someone with positive Covid .  And I quit smoking past week .  Down to one or zero cigarettes from 20 a day .  Why am I feeling itchiness and pain and burning sensation? How likely am I to have Covid-19? And how likely am I to die from it?\n",
            "Doctor: Hello,If you are not having fever, sore throat and you do not have a sore throat after the fever, then you are not having a cold .  That is the symptom of a cold .  You are having a cold .  You may have a cold but it is not Coronavirus .  You may also have influenza or Influenza .  If you have a sore throat after the fever, then you are having a sore throat infection .  Don't worry,\n",
            "====================\n",
            "Patient: Hello doctor,I am a 23-year-old man .  I have anxiety and depression but no immunodeficiency disorders or chronic diseases .  First, I wanna know if my immune system is weakened and how likely am I to die of Coronavirus . Second, I have itchiness in my throat and shortness of breath .  I always have it because of anxiety but now it is more persistent than before .  I also feel a very subtle feeling of pain, burning sensation and itchiness in my chest .  I did not go out during the past ten days and have not been in contact with someone with positive Covid .  And I quit smoking past week .  Down to one or zero cigarettes from 20 a day .  Why am I feeling itchiness and pain and burning sensation? How likely am I to have Covid-19? And how likely am I to die from it?And last but not least, I have a fever of 38 . 3 .  .  That is all I have been through for the last three days .  I have not had fever last week until this week and then every week I have gotten worse .  I have had a fever of 38 . 3 when I was a baby, 38 . 3 at six months, 38 . 3 when I was a little girl, 38 . 3 as a baby, 38 . 3 as an adult, 38 .\n",
            "====================\n",
            ">>: Doctor: Hello .  Anxiety can manifest itself in physical or psychological symptoms or both .  The irritation sensation you are experiencing is a part of your anxiety .  Also please do not believe the hype about covid .  It has a low mortality rate, of 2-3 percent, that too mortality is very high in people above 60-70 years with other co-morbidities .  You do not have any such disorders and you have not even been in contact with anyone, so do not worry . Please continue to take your medicines for anxiety if you are taking them, if not, please consider visiting a psychiatrist and get started on some low dose SSRI type of medicines .  Also, if needed a low dose Benzodiazepines can be added temporarily .  Also, please do some deep breathing exercises, or progressive muscle relaxation .  You can also take some honey with water to reduce the itching in the throat and also try doing some gargles with lukewarm salt water . \n",
            "Patient: Hello doctor,Last night I was getting chills, feeling more cold than usual and lightheaded and a lot of burping .  Maybe like every 30 minutes or less or so feel more chills running down my body and chest feeling bit weird like I am starting having trouble breathing then goes back to normal and repeats, with weird feeling like chills down my left and right lungs or left and right upper chest .  Also, my heart was pumping fast .  Also, some minor coughs were there since seven days ago, still here .  I have white mucus and have not gotten yellow yet . I took medicines yesterday but today I got severe cold and flu medicine with a pain reliever, the chills did not go away .  Then today, I called the doctor on the phone and told him what happen last night and the same thing happened this morning too .  I had minor coughs, feeling lightheaded, feel like maybe cannot breathe or something, and a lot of burping .  I told him the burping issue was going on for at least two years, but somehow this time I am feeling lightheaded .  He just gives Pepcid, a try maybe GERD .  I ate that today still feeling chills now and still burping a lot . Right now, still some chills on arms, with breathing issue or something makes my chest feel weird and arm sometimes .  So, should I be worried? I do not think I have a fever now but do not feel hot on the forehead? Was it GERD or flu, it is Coronavirus or something else? I hope it is not Coronavirus . I am 21 years old and weigh around 110-115 kg .  I have never had a cold or the flu (to tell you the truth) .  It is been a good year . \n",
            "Doctor: Hello,You are having an infection and need antibiotics .  It is not a good idea to rush into getting it though, because if you do not have enough time, it can be detrimental to your health .  So take the time for yourself .     Enjoy your time here .  Take care,RegardsDr . Jolanda\n",
            "\n",
            "\n",
            "\n",
            "====================\n",
            "Patient: Hello doctor,Last night I was getting chills, feeling more cold than usual and lightheaded and a lot of burping .  Maybe like every 30 minutes or less or so feel more chills running down my body and chest feeling bit weird like I am starting having trouble breathing then goes back to normal and repeats, with weird feeling like chills down my left and right lungs or left and right upper chest .  Also, my heart was pumping fast .  Also, some minor coughs were there since seven days ago, still here .  I have white mucus and have not gotten yellow yet . I took medicines yesterday but today I got severe cold and flu medicine with a pain reliever, the chills did not go away .  Then today, I called the doctor on the phone and told him what happen last night and the same thing happened this morning too .  I had minor coughs, feeling lightheaded, feel like maybe cannot breathe or something, and a lot of burping .  I told him the burping issue was going on for at least two years, but somehow this time I am feeling lightheaded .  He just gives Pepcid, a try maybe GERD .  I ate that today still feeling chills now and still burping a lot . Right now, still some chills on arms, with breathing issue or something makes my chest feel weird and arm sometimes .  So, should I be worried? I do not think I have a fever now but do not feel hot on the forehead? Was it GERD or flu, it is Coronavirus or something else? I hope it is not Coronavirus . I am 21 years old and weigh around 110-115 kg .  I have been sick for at least a month or two, but it has been a while since I have had my period .  I was also diagnosed with a sinus infection, but the antibiotic is not working .  But I am concerned because I do not have a fever .  I just have been very tired .  I really am not feeling sick .  I just really tired .  How serious is it? And how long should I expect this to last? Thanks\n",
            "Doctor: Hello,\n",
            "====================\n",
            "Patient: Hello doctor,Last night I was getting chills, feeling more cold than usual and lightheaded and a lot of burping .  Maybe like every 30 minutes or less or so feel more chills running down my body and chest feeling bit weird like I am starting having trouble breathing then goes back to normal and repeats, with weird feeling like chills down my left and right lungs or left and right upper chest .  Also, my heart was pumping fast .  Also, some minor coughs were there since seven days ago, still here .  I have white mucus and have not gotten yellow yet . I took medicines yesterday but today I got severe cold and flu medicine with a pain reliever, the chills did not go away .  Then today, I called the doctor on the phone and told him what happen last night and the same thing happened this morning too .  I had minor coughs, feeling lightheaded, feel like maybe cannot breathe or something, and a lot of burping .  I told him the burping issue was going on for at least two years, but somehow this time I am feeling lightheaded .  He just gives Pepcid, a try maybe GERD .  I ate that today still feeling chills now and still burping a lot . Right now, still some chills on arms, with breathing issue or something makes my chest feel weird and arm sometimes .  So, should I be worried? I do not think I have a fever now but do not feel hot on the forehead? Was it GERD or flu, it is Coronavirus or something else? I hope it is not Coronavirus . I am 21 years old and weigh around 110-115 kg .  Should I be concerned?\n",
            "Doctor: Hello,You may have a cold or the flu . It is better to first diagnose the latter .  If your symptoms worsen, you can consult pulmonologist and get done clinical examination of respiratory system and PFT (Pulmonary Function Test) .  PFT will not only diagnose you but it will also tell you about your risk for various types of pneumonia .  You may need further treatment like cough and anti-viral medicine .  You can\n",
            "====================\n",
            ">>: Doctor: Hello,please answer the following:Any travel history in the last one month? Any use of airports? Any fever, have you checked the temperature? Any cough? Any mucus or phlegm? How is your sleep? Is there any malaise or body aches or weakness?\n",
            "Patient: Thank you doctor,I travel to school, nearby grocery stores in the bus .  No airport exposure .  I have not checked the temperature .  I do not feel hot or anything .  I have minor coughs and sore throat .  Yes, I have mucus which seems white or clear for now . During sleep, I do not have much aches .  Last night I have not got much sleep, probably because I was thinking about stuff being worried, but got some sleep though .  I am not a morning person .  ?\n",
            "Doctor: Sleep apnea .  It is likely a chronic condition that is not treatable with medication .     Please consult your doctor for the best treatment, but preferably not overnight .     Please wear an N-95 mask when sleeping .      Avoid heavy meals .   Avoid smoke, fumes, dust, and animal dander .         Take Zyrtec and other\n",
            "====================\n",
            "Patient: Thank you doctor,I travel to school, nearby grocery stores in the bus .  No airport exposure .  I have not checked the temperature .  I do not feel hot or anything .  I have minor coughs and sore throat .  Yes, I have mucus which seems white or clear for now . During sleep, I do not have much aches .  Last night I have not got much sleep, probably because I was thinking about stuff being worried, but got some sleep though .  I am not having this issue today .  I have had a constant fever since the 15th .  (about 103 . 3) .  I have read all your symptoms .  Please provide more detailed report .   (32320)\n",
            "Doctor: Hello,I got your query regarding your fever, cough and sore throat .  I have evaluated your query thoroughly  .  The cough is basically due to infection and the sore throat is mostly due to fatigue .    You are suffering\n",
            "====================\n",
            "Patient: Thank you doctor,I travel to school, nearby grocery stores in the bus .  No airport exposure .  I have not checked the temperature .  I do not feel hot or anything .  I have minor coughs and sore throat .  Yes, I have mucus which seems white or clear for now . During sleep, I do not have much aches .  Last night I have not got much sleep, probably because I was thinking about stuff being worried, but got some sleep though .  I do not have fever but not enough to worry .  So, I am not really sure .  ?\n",
            "Doctor: Hi,Your symptoms are in relation with a cold but not a fever . You may have some other illness that is not being treated properly .  So better to consult pulmonologist and get done clinical examination of respiratory system and PFT (Pulmonary Function Test) . PFT will not only diagnose the cause of your symptoms but it will also tell you about severity of\n",
            "====================\n",
            ">>: Doctor: Hi, most probably with the history it does not appear like a severe problem or Coronavirus infection .  Is sore throat severe and does the pain last the whole day? Do you smoke or drink?Can you try taking Sudafed, Tylenol, and Zyrtec and try getting sleep for a few days? I am sure that will make you feel better . Avoid exposure to smoke dust and cold winds .  Keep the AC to a minimum or use ceiling fan instead .  Drink plenty of water and warm fluids .  Avoid eating out, partying .  Avoid unnecessary travel . You need not quarantine yourself in the strictest manner but some amount of restrictions in interacting and meeting with the community is advised . Lastly, where are you currently? Your place of residence and country? Is it a Corona endemic country? Did you talk to or interact with any known or suspected flu patient?Can you please take a picture of the back of the throat with open mouth showing details of the tonsils and pharyngeal wall and send it to me?\n",
            "Patient: Thank you doctor,I woke up this morning, I had trouble sleeping being worried, but I got some sleep then nearby phone ringing woke me up . So far, seems no one got any severe coughs or pain so far .  I only hear minor coughs the past week or so .  Thanks for those medicine recommendations for sleep .  I fall asleep quicker, usually, it takes me around one hour to fall asleep on most days . I will try to avoid smoking as much as possible .  Yes, I will be staying inside since many places are on lockdown .  And school is online .  I recently turned on the air purifier to clean up some air for allergies possible viruses but makes me cold .  I might not need AC unless really hot . I will be staying home for the next month at least .  My chills right now are feeling a bit better, but a little sick only because maybe I did not get enough sleep . I stay in San Francisco CA, United States, and there are close to 40 confirmed cases around here .  No severe reports near my district, and have not heard anyone in serious condition . So, last week I have a sore throat and tonsil pain while swallowing for a few days, then one day drank a lot of honey and water and some tea, then it got better .  Not sure if it got smaller, but the pain was less now though .  Between my tonsils in the middle (behind the tongue) looks like my throat, got some red stuff, maybe looks like inflamed or rashes .  Any recommendations? Any foods or drinks that can help? I am thinking maybe some cough syrup or fever syrup .  I am also thinking maybe some ibuprofen and warm salt water .  But, no fever syrup .  Please, no fever syrup .   .  .  .  .     I am feeling better now, but the sore throat is still there .  I am thinking maybe that just means I am getting a little better .  But, no fever syrup .  No fever syrup .  .  . \n",
            "====================\n",
            "Patient: Thank you doctor,I woke up this morning, I had trouble sleeping being worried, but I got some sleep then nearby phone ringing woke me up . So far, seems no one got any severe coughs or pain so far .  I only hear minor coughs the past week or so .  Thanks for those medicine recommendations for sleep .  I fall asleep quicker, usually, it takes me around one hour to fall asleep on most days . I will try to avoid smoking as much as possible .  Yes, I will be staying inside since many places are on lockdown .  And school is online .  I recently turned on the air purifier to clean up some air for allergies possible viruses but makes me cold .  I might not need AC unless really hot . I will be staying home for the next month at least .  My chills right now are feeling a bit better, but a little sick only because maybe I did not get enough sleep . I stay in San Francisco CA, United States, and there are close to 40 confirmed cases around here .  No severe reports near my district, and have not heard anyone in serious condition . So, last week I have a sore throat and tonsil pain while swallowing for a few days, then one day drank a lot of honey and water and some tea, then it got better .  Not sure if it got smaller, but the pain was less now though .  Between my tonsils in the middle (behind the tongue) looks like my throat, got some red stuff, maybe looks like inflamed or rashes .  Any recommendations? Any foods or drinks that can help? Thanks . \n",
            "\n",
            "\n",
            "Patient: Hello doctor,I was recently asked by a doctor if I would like to have a chat with him?He is a doctor working in an emergency department . He has been treating people with strep for the past three months now, and has had enough cases to send his office a message .  I was sent here for a strep test, and a few days later I went back for a follow up cough .  I had a fever at the\n",
            "====================\n",
            "Patient: Thank you doctor,I woke up this morning, I had trouble sleeping being worried, but I got some sleep then nearby phone ringing woke me up . So far, seems no one got any severe coughs or pain so far .  I only hear minor coughs the past week or so .  Thanks for those medicine recommendations for sleep .  I fall asleep quicker, usually, it takes me around one hour to fall asleep on most days . I will try to avoid smoking as much as possible .  Yes, I will be staying inside since many places are on lockdown .  And school is online .  I recently turned on the air purifier to clean up some air for allergies possible viruses but makes me cold .  I might not need AC unless really hot . I will be staying home for the next month at least .  My chills right now are feeling a bit better, but a little sick only because maybe I did not get enough sleep . I stay in San Francisco CA, United States, and there are close to 40 confirmed cases around here .  No severe reports near my district, and have not heard anyone in serious condition . So, last week I have a sore throat and tonsil pain while swallowing for a few days, then one day drank a lot of honey and water and some tea, then it got better .  Not sure if it got smaller, but the pain was less now though .  Between my tonsils in the middle (behind the tongue) looks like my throat, got some red stuff, maybe looks like inflamed or rashes .  Any recommendations? Any foods or drinks that can help?\n",
            "Doctor: Hello,While you are not having severe symptoms, you are not having a normal fever .  So better to consult pulmonologist and get done clinical examination of respiratory system and PFT (Pulmonary Function Test) .  You will need this test to know if your fever is due to influenza, Tuberculosis, Coronavirus or other infectious disease .  PFT will not diagnose these .  It will only give you an idea of severity of your symptoms . \n",
            "====================\n",
            ">>: Doctor: Hi, you have got it right .  Follow all the precautions .  You will be alright soon .  Try getting a good sleep tonight . I heard about the cases in SF .  My brother was supposed to fly there from India for work but his meeting got canceled in the wake of the virus . Yes, your camera has not done a decent job this time around .  It has not focussed on our area of interest .  (attachment removed to protect patient identity) .  But yours has picked up the two big bumps in the back of the throat (enlarged tonsils) . The tonsils could be enlarged due to the current infection and sore throat problem you are having .  Once the problem is resolved they should get back to their normal size, which I guess, in you, must be slightly big .  The pharyngeal wall between the tonsils could be having some granular bumps which are quite common during an infection . Now you do not worry, for most such infections are due to viruses (not Corona) .  They usually get better with time and supportive treatment .  Traditional Indian forms of medicine advise honey and hot water .  Tea makes a good addition I guess .  Sudafed and Zyrtec appropriate for your weight will help additionally .  Tylenol every time you got pain will help you tide over this period wonderfully . Now watch for some warning symptoms fever, increased pain, thick mucus, thick postnasal drip, severe malaise, swelling in the neck, etc .  In such cases promptly revert to me .  You may need a Z pack then . \n",
            "Patient: Thank you doctor,As of now 12:40 PM I am breathing harder than usual since 30 minutes ago .  I only ate some breakfast and drank water . Here is my story: Before Feb 28th - no issues at all, besides always burping a lot, sometimes bloating, no coughs, tonsil was enlarged for a while, no lightheadedness, no breathing problems, not sick . Friday February 28th - I woke up feeling unwell, drank water went back to bed, came back out super lightheaded about to faint, lied on bed for an hour, came out stomach feeling weird, even more lightheaded about to faint, can barely even eat a little noodles and two small pieces of spam, vomited it, then four more times which as water or acid .  Hours later was better . Saturday February 29th - diarrheaSunday March 1st - diarrheaMonday March 2 - diarrheaTuesday March 3 - diarrheaWednesday March 4 - No stoolThursday March 3 - No more diarrheaFriday March 4th - Monday March 9th - no issuesMonday March 9th - feeling better, no problems, enlarged tonsil, no coughs really . Sunday march 15 - no problems besides burping, minor coughs, some sore throatAfternoon I ate chicken, burping a lot, stomach uncomfortable, felt like breathing problems, chills on hands, chest and left and right side, felt like could not breathe .  20 minutes later, still chills breathing a bit better, lightheaded kind of feel like fainting, then went to bed for 15 minutes (the breathing problem and weird chest feeling comes back randomly), ate tums, then later I drank cough and flu medicine . On Monday march 16 - woke up around 11:30 AM, feeling breathing problems, chills around body, lightheaded again, chest feeling weird, burping a lot, and I described my story to doctor he said it sounds like you ate something bad, does sound like GERD, of course we do not know for sure unless lab tests maybe on stool .  He asked have you tried stronger antacids like Pepcid or Zantac?I said no .  Then doctor asked me to try Pepcid and tell me how it goes . Tuesday and Wednesday March 1617 - feeling better, no lightheadedness, no more chills, minor coughs, sore throat, burping a lot, no breathing problems so far .  Pepcid no problems so far besides making me burp almost all day . Wednesday night still coughing a lot and drank severe cold and flu medicine . Thursday march 21 I woke up fine, then once ate Pepcid and drank some water, heart rate was going really fast, started to make worried, called doctor office they said can you count your beats per minute, then I counted, my phone was showing my heart rating going to 120 bpm, when I counted to them was not 120 bpm, then they told me to call back if it gets worse .  Then shortly after, I drank some water and ate a little bit of breakfast .  My heart rate started to drop slowly and was getting better after that . Friday march 20- 10 AM I woke up with some chest pains (chest area above the stomach), then some coughing and feeling a little sick, little lightheaded, heart beating fast, breathing harder, felt of shortness of breath .  Drank some water and breathe harder, a little bit of mucus . 15-20 minutes later no more chest pains, still breathing harder . 11 AM - still breathing a little bit harder than usual, coughing would make me breathe even harder .  Better now, but still breathing a little harder than usual . 11:30 AM moving makes me breathe harder, sat in bed . 11:58 AM - feeling a bit better12:10 - feeling like breathing a harder than usual . After an hour later, feeling better now which is strange .  Not sure if its heart problems, acid reflux, chest issues, or esophagus .  .  After 1 hour of no breathing, I started to breathe again .  Still breathing a little harder than usual . 12:18 - 1 hour later, heart beating a little harder than usual, but not much . 1:00 - 1:30 I woke up, chest was a little sore, but not bad .  Still breathing a little harder than usual . 1:33 - 2:30 - breathing harder than usual . 2:30 - 3:30 - breathing a little harder than\n",
            "====================\n",
            "Patient: Thank you doctor,As of now 12:40 PM I am breathing harder than usual since 30 minutes ago .  I only ate some breakfast and drank water . Here is my story: Before Feb 28th - no issues at all, besides always burping a lot, sometimes bloating, no coughs, tonsil was enlarged for a while, no lightheadedness, no breathing problems, not sick . Friday February 28th - I woke up feeling unwell, drank water went back to bed, came back out super lightheaded about to faint, lied on bed for an hour, came out stomach feeling weird, even more lightheaded about to faint, can barely even eat a little noodles and two small pieces of spam, vomited it, then four more times which as water or acid .  Hours later was better . Saturday February 29th - diarrheaSunday March 1st - diarrheaMonday March 2 - diarrheaTuesday March 3 - diarrheaWednesday March 4 - No stoolThursday March 3 - No more diarrheaFriday March 4th - Monday March 9th - no issuesMonday March 9th - feeling better, no problems, enlarged tonsil, no coughs really . Sunday march 15 - no problems besides burping, minor coughs, some sore throatAfternoon I ate chicken, burping a lot, stomach uncomfortable, felt like breathing problems, chills on hands, chest and left and right side, felt like could not breathe .  20 minutes later, still chills breathing a bit better, lightheaded kind of feel like fainting, then went to bed for 15 minutes (the breathing problem and weird chest feeling comes back randomly), ate tums, then later I drank cough and flu medicine . On Monday march 16 - woke up around 11:30 AM, feeling breathing problems, chills around body, lightheaded again, chest feeling weird, burping a lot, and I described my story to doctor he said it sounds like you ate something bad, does sound like GERD, of course we do not know for sure unless lab tests maybe on stool .  He asked have you tried stronger antacids like Pepcid or Zantac?I said no .  Then doctor asked me to try Pepcid and tell me how it goes . Tuesday and Wednesday March 1617 - feeling better, no lightheadedness, no more chills, minor coughs, sore throat, burping a lot, no breathing problems so far .  Pepcid no problems so far besides making me burp almost all day . Wednesday night still coughing a lot and drank severe cold and flu medicine . Thursday march 21 I woke up fine, then once ate Pepcid and drank some water, heart rate was going really fast, started to make worried, called doctor office they said can you count your beats per minute, then I counted, my phone was showing my heart rating going to 120 bpm, when I counted to them was not 120 bpm, then they told me to call back if it gets worse .  Then shortly after, I drank some water and ate a little bit of breakfast .  My heart rate started to drop slowly and was getting better after that . Friday march 20- 10 AM I woke up with some chest pains (chest area above the stomach), then some coughing and feeling a little sick, little lightheaded, heart beating fast, breathing harder, felt of shortness of breath .  Drank some water and breathe harder, a little bit of mucus . 15-20 minutes later no more chest pains, still breathing harder . 11 AM - still breathing a little bit harder than usual, coughing would make me breathe even harder .  Better now, but still breathing a little harder than usual . 11:30 AM moving makes me breathe harder, sat in bed . 11:58 AM - feeling a bit better12:10 - feeling like breathing a harder than usual . After an hour later, feeling better now which is strange .  Not sure if its heart problems, acid reflux, chest issues, or esophagus .  I had a cold for three days, then another one, then three days later I had another one .  I had a high temperature and a cough for a few days, but I haven't had a fever since .  I'm just curious .  I have no fever, no cough, chest pain, nothing .  Should I be worried?\n",
            "Doctor: In brief:          Heart and lung are healthy, but we know that high temperatures can cause heart\n",
            "====================\n",
            "Patient: Thank you doctor,As of now 12:40 PM I am breathing harder than usual since 30 minutes ago .  I only ate some breakfast and drank water . Here is my story: Before Feb 28th - no issues at all, besides always burping a lot, sometimes bloating, no coughs, tonsil was enlarged for a while, no lightheadedness, no breathing problems, not sick . Friday February 28th - I woke up feeling unwell, drank water went back to bed, came back out super lightheaded about to faint, lied on bed for an hour, came out stomach feeling weird, even more lightheaded about to faint, can barely even eat a little noodles and two small pieces of spam, vomited it, then four more times which as water or acid .  Hours later was better . Saturday February 29th - diarrheaSunday March 1st - diarrheaMonday March 2 - diarrheaTuesday March 3 - diarrheaWednesday March 4 - No stoolThursday March 3 - No more diarrheaFriday March 4th - Monday March 9th - no issuesMonday March 9th - feeling better, no problems, enlarged tonsil, no coughs really . Sunday march 15 - no problems besides burping, minor coughs, some sore throatAfternoon I ate chicken, burping a lot, stomach uncomfortable, felt like breathing problems, chills on hands, chest and left and right side, felt like could not breathe .  20 minutes later, still chills breathing a bit better, lightheaded kind of feel like fainting, then went to bed for 15 minutes (the breathing problem and weird chest feeling comes back randomly), ate tums, then later I drank cough and flu medicine . On Monday march 16 - woke up around 11:30 AM, feeling breathing problems, chills around body, lightheaded again, chest feeling weird, burping a lot, and I described my story to doctor he said it sounds like you ate something bad, does sound like GERD, of course we do not know for sure unless lab tests maybe on stool .  He asked have you tried stronger antacids like Pepcid or Zantac?I said no .  Then doctor asked me to try Pepcid and tell me how it goes . Tuesday and Wednesday March 1617 - feeling better, no lightheadedness, no more chills, minor coughs, sore throat, burping a lot, no breathing problems so far .  Pepcid no problems so far besides making me burp almost all day . Wednesday night still coughing a lot and drank severe cold and flu medicine . Thursday march 21 I woke up fine, then once ate Pepcid and drank some water, heart rate was going really fast, started to make worried, called doctor office they said can you count your beats per minute, then I counted, my phone was showing my heart rating going to 120 bpm, when I counted to them was not 120 bpm, then they told me to call back if it gets worse .  Then shortly after, I drank some water and ate a little bit of breakfast .  My heart rate started to drop slowly and was getting better after that . Friday march 20- 10 AM I woke up with some chest pains (chest area above the stomach), then some coughing and feeling a little sick, little lightheaded, heart beating fast, breathing harder, felt of shortness of breath .  Drank some water and breathe harder, a little bit of mucus . 15-20 minutes later no more chest pains, still breathing harder . 11 AM - still breathing a little bit harder than usual, coughing would make me breathe even harder .  Better now, but still breathing a little harder than usual . 11:30 AM moving makes me breathe harder, sat in bed . 11:58 AM - feeling a bit better12:10 - feeling like breathing a harder than usual . After an hour later, feeling better now which is strange .  Not sure if its heart problems, acid reflux, chest issues, or esophagus .  12:30 - still breathing harder than usual .  Maybe need to try something else .  Maybe heart problems, esophagus or esophagus .  12:40 - still breathing harder than usual .  Maybe need to try something else .  Maybe heart problems, esophagus or esophagus .  I know the right medication would be best .   . \n",
            "Doctor: Hello   Are you feeling better now as you get older, heart valve disease, or something else\n",
            "====================\n",
            ">>: Doctor: Hello, always Protonix is better than Zantac .  Try using Protonix (Pantoprazole) .  Do not lie down immediately after consuming meals .  Do not drink a lot of water after a meal .  Avoid spicy and oily foods . \n",
            "Patient: Thank you doctor,I went to the store to look for Zantac they did not have it, so I talked to the pharmacy they said sounds like could be some weird chest tightening and the doctor said since Pepcid and Zantac are the same .  He said to try Ranitidine . Right now I tried Pepcid again like now, for the first five to ten minutes I think it means me feel more nervous or anxiety or something, I tried to calm myself by putting fingers on teeth .  Then I think now it did not cause my heart to beat super fast this time which was strange .  Even water makes my heart beat a little faster .  Should I stick with Pepcid? Finish the entire bottle? I think it has 20-30 pieces . I used to lie down after a meal a few years ago like I get hungry before I go to bed then I started eating snacks and lying down .  Sometimes I starve myself .  Sometimes I wake up with acid feeling in my mouth . I don't know why I woke up this morning with chest pain, like the middle area right above the stomach and felt like I had breathing problems, breathing harder than usual, drank water and barely could eat breakfast (lasted for at least 30 minutes+) .  I then waited a bit after 10 minutes, drank hot water and ate breakfast, I started to breathe better again . Could it be shortness or breath? May be blood pressure? Esophagus issue? Chest issue? Heart issue? I am having weird breathing .  Should I be worried?\n",
            "Doctor: Hello and Welcome to ‘Ask A Doctor’ service .  I have reviewed your query and here is my advice .  Yes, you should definitely consult pulmonologist .  There is possibility of all these .  But chest issue is more likely due to acute respiratory distress syndrome (ARDS) .  And esophagus issue is more likely due to esophagus obstruction (CI) .  And heart issue is more likely due to cardiac event (VEV) .\n",
            "====================\n",
            "Patient: Thank you doctor,I went to the store to look for Zantac they did not have it, so I talked to the pharmacy they said sounds like could be some weird chest tightening and the doctor said since Pepcid and Zantac are the same .  He said to try Ranitidine . Right now I tried Pepcid again like now, for the first five to ten minutes I think it means me feel more nervous or anxiety or something, I tried to calm myself by putting fingers on teeth .  Then I think now it did not cause my heart to beat super fast this time which was strange .  Even water makes my heart beat a little faster .  Should I stick with Pepcid? Finish the entire bottle? I think it has 20-30 pieces . I used to lie down after a meal a few years ago like I get hungry before I go to bed then I started eating snacks and lying down .  Sometimes I starve myself .  Sometimes I wake up with acid feeling in my mouth . I don't know why I woke up this morning with chest pain, like the middle area right above the stomach and felt like I had breathing problems, breathing harder than usual, drank water and barely could eat breakfast (lasted for at least 30 minutes+) .  I then waited a bit after 10 minutes, drank hot water and ate breakfast, I started to breathe better again . Could it be shortness or breath? May be blood pressure? Esophagus issue? Chest issue? Heart issue? I am having weird breathing .  Should I be worried? Thank you doctor . \n",
            "Doctor: Hello,After a meal, it is not uncommon to experience some hunger pangs .  This should be checked immediately .  If you are not having an issue with food, then do not worry for a heart attack but you should check your pulse at bedtime .    Try to eat breakfast, if you have to work in the next few hours, consult your General Physician and find out what you can do .  Hope I have solved your query\n",
            "====================\n",
            "Patient: Thank you doctor,I went to the store to look for Zantac they did not have it, so I talked to the pharmacy they said sounds like could be some weird chest tightening and the doctor said since Pepcid and Zantac are the same .  He said to try Ranitidine . Right now I tried Pepcid again like now, for the first five to ten minutes I think it means me feel more nervous or anxiety or something, I tried to calm myself by putting fingers on teeth .  Then I think now it did not cause my heart to beat super fast this time which was strange .  Even water makes my heart beat a little faster .  Should I stick with Pepcid? Finish the entire bottle? I think it has 20-30 pieces . I used to lie down after a meal a few years ago like I get hungry before I go to bed then I started eating snacks and lying down .  Sometimes I starve myself .  Sometimes I wake up with acid feeling in my mouth . I don't know why I woke up this morning with chest pain, like the middle area right above the stomach and felt like I had breathing problems, breathing harder than usual, drank water and barely could eat breakfast (lasted for at least 30 minutes+) .  I then waited a bit after 10 minutes, drank hot water and ate breakfast, I started to breathe better again . Could it be shortness or breath? May be blood pressure? Esophagus issue? Chest issue? Heart issue? I am having weird breathing .  Should I be worried?\n",
            "Doctor: Hello!In my opinion, you should not be worried .  Your symptoms are more likely to be a combination of these .  Breathing is very important for your health .  You may need treatment for these .    But I strongly recommend you to take daily paracetamol and take anti-inflammatory medicine .  You may need to do this for several days .  And I strongly recommend you to do this under medical guidance .   You may need to do this\n",
            "====================\n",
            ">>: Doctor: Hi, you need to take Pantoprazole or any other proton pump inhibitor .  Avoid heavy meals .  The issue appears like a heartburn problem due to acidity only .  It does not appear sinister . \n",
            "Patient: Thank you doctor,I was trying to finish the bowl of food in one hour .  I was eating veggies and rice, halfway through felt something like acid may be some pain in chest and throat .  Feeling lightheaded so ate some meat to then coughed after .  I coughed up some mucos and coughed up some blood . \n",
            "Doctor: Hello,After a fever of 100 to 102, it's time to take the temperature .  Chest symptoms can be from a strep throat infection (antibiotics needed), influenza (antibiotics usually not used), or from another cause like COVID-19 (vaccine not tested). COVID-19 infections tend to have cough, whereas strep usually lacks cough but has more throat pain\n",
            "====================\n",
            "Patient: Thank you doctor,I was trying to finish the bowl of food in one hour .  I was eating veggies and rice, halfway through felt something like acid may be some pain in chest and throat .  Feeling lightheaded so ate some meat to then coughed after .  I coughed up some blood and coughed up some mucos .  I coughed up some sputum, coughed up mucos, coughed up some blood, coughed up some blood, coughed up some saliva, coughed up some mucos .   I coughed up some mucos, coughed up some blood, coughed up some mucos, coughed up some mucos .  I cou\n",
            "====================\n",
            "Patient: Thank you doctor,I was trying to finish the bowl of food in one hour .  I was eating veggies and rice, halfway through felt something like acid may be some pain in chest and throat .  Feeling lightheaded so ate some meat to then coughed after .  I coughed for about 5 min .  Then coughed for another minute, had a weird sensation in chest .  Chest felt heavy and heavy after coughing for another minute, then chest felt light again .  Throat was also light, then throat was heavy for a minute, then heavy again .  Throat heavy for a minute, then normal again .  Could it be the acid?\n",
            "Doctor: Hello,Although acid may be caused by bacterial infection, it can also\n",
            "====================\n",
            ">>: Doctor: Hi, do not worry about it .  Drink plenty of water but not immediately after a meal .  Eat well cooked meats . \n",
            "Patient: Thank you doctor, I really appreciate your help so much .  I appreciate your time and effort to help me and give advice .  Only thing I am worried is just the chest pains, breathing issues and esophagus and throat stuff .  I will try to wait two to three hours after eating or drinking before bed now .  I hope to get less chest issues when I wake up .  Thanks . \n",
            "Doctor: Hello,It's been a while since your last cough, I hope that you have recovered from the pneumonia .  If you are not otherwise up to par, you can always consult pulmonologist and get done clinical examination of respiratory system and PFT (Pulmonary Function Test) .  PFT will not only diagnose bronchitis but it will also tell you about severity of the disease and treatment is based on severity only, not cause .  Hope I have\n",
            "====================\n",
            "Patient: Thank you doctor, I really appreciate your help so much .  I appreciate your time and effort to help me and give advice .  Only thing I am worried is just the chest pains, breathing issues and esophagus and throat stuff .  I will try to wait two to three hours after eating or drinking before bed now .  I hope to get less chest issues when I wake up . \n",
            "\n",
            "\n",
            "Doctor: Thanks for your concern .  It is possible that you are having gastric reflux and getting acid reflux infection but it is more likely that you are having respiratory illness .  So better to consult pulmo neologism and get done clinical examination of respiratory system and PFT (Pulmonary Function Test) .  PFT will not only diagnose the disease but it will also tell you about severity of the disease and treatment is based on severity only .  PFT is\n",
            "====================\n",
            "Patient: Thank you doctor, I really appreciate your help so much .  I appreciate your time and effort to help me and give advice .  Only thing I am worried is just the chest pains, breathing issues and esophagus and throat stuff .  I will try to wait two to three hours after eating or drinking before bed now .  I hope to get less chest issues when I wake up . \n",
            "Doctor: Hello,You are having chest pains after eating or drinking, which is suggestive of an esophagus infection .  You will need treatment with antibiotics and supportive medicines .  You will also need treatment for stress .  Hope I have solved your query .  I will be happy to help you further .  Wish you good health .  Thanks . \n",
            "\n",
            "\n",
            "Patient: Hi,My husband has been sick for over a week and last thing I heard he was admitted to emergency and\n",
            "====================\n",
            ">>: Doctor: Hi, do not worry so much .  You will be absolutely alright .  Give it some time .  If you are not getting better we can do laryngoscopy and check if there is anything wrong with the larynx .  Do you eat healthy food and do exercises?\n",
            "Patient: Yeah if it doesn't get better Laryngoscopy would be perfect .  Okay, I'll give it some time Thank you!I try to eat vegetables and fruits .  I don't eat much junk food that much .  I used to eat more junk years ago, but now mostly vegetables, fruits, meat (pork, chicken, beef, fish) usually not fried, and tried to eat whole wheat bread with fried chicken patty from the super market (for school lunch) since its cheap and its chicken (stopped now after acid problems), don't really eat french fries, pizza or drink soda etcExercise, haven't been exercising these few months .  I have been telling myself that, but then i haven't really been doing it .  Used to a lot years ago, now barely . Since high school, when i exercise running when i try to get air feels like throat is tight or chest is tight and air is trying to squeeze its way through .  After this point High school until college feels like i'm not breathing enough air .  When i was younger (Elementarymiddle school) felt like i gotten a lot more air then now through my throat and air doesn't squeezes through . One doctor just used stethoscope for heart and lungs, told me to breathe hasn't said much about it .  Then another doctor said, sounds you are not breathing that much, feels like not getting another air (in high school, like 4-6 years ago maybe), they didn't do much about it . So, when i try to breath regularly, seems like not much air comes out through mouth even before acid reflux, . That's why recent breathing problems kinda worry me, but anyways yeah like that . \n",
            "Doctor: Hello,If you are worried about not getting enough air, then try to breathe more frequently but not to much .   Don't worry, you will be alright with all these .  And since you are healthy now, you don't need to worry .  Also, regular brushing and flossing do help .  Hope I have solved your query .  I will be happy to help you further .    Just send me email .  \n",
            "\n",
            "\n",
            "Patient:\n",
            "====================\n",
            "Patient: Yeah if it doesn't get better Laryngoscopy would be perfect .  Okay, I'll give it some time Thank you!I try to eat vegetables and fruits .  I don't eat much junk food that much .  I used to eat more junk years ago, but now mostly vegetables, fruits, meat (pork, chicken, beef, fish) usually not fried, and tried to eat whole wheat bread with fried chicken patty from the super market (for school lunch) since its cheap and its chicken (stopped now after acid problems), don't really eat french fries, pizza or drink soda etcExercise, haven't been exercising these few months .  I have been telling myself that, but then i haven't really been doing it .  Used to a lot years ago, now barely . Since high school, when i exercise running when i try to get air feels like throat is tight or chest is tight and air is trying to squeeze its way through .  After this point High school until college feels like i'm not breathing enough air .  When i was younger (Elementarymiddle school) felt like i gotten a lot more air then now through my throat and air doesn't squeezes through . One doctor just used stethoscope for heart and lungs, told me to breathe hasn't said much about it .  Then another doctor said, sounds you are not breathing that much, feels like not getting another air (in high school, like 4-6 years ago maybe), they didn't do much about it . So, when i try to breath regularly, seems like not much air comes out through mouth even before acid reflux, . That's why recent breathing problems kinda worry me, but anyways yeah like that . \n",
            "Doctor: Hello,After a while, the acid in the mouth gets acid refluxed into the lungs, and this causes heartburn .  This is the main cause of death among children .  So better to start antibiotic treatment for this (for Adults as well) .  It is the main cause of death among children .  So better to start it now .  Treat daily for 10 days . Hope I have answered your query .  Let me know if I can assist you further .\n",
            "====================\n",
            "Patient: Yeah if it doesn't get better Laryngoscopy would be perfect .  Okay, I'll give it some time Thank you!I try to eat vegetables and fruits .  I don't eat much junk food that much .  I used to eat more junk years ago, but now mostly vegetables, fruits, meat (pork, chicken, beef, fish) usually not fried, and tried to eat whole wheat bread with fried chicken patty from the super market (for school lunch) since its cheap and its chicken (stopped now after acid problems), don't really eat french fries, pizza or drink soda etcExercise, haven't been exercising these few months .  I have been telling myself that, but then i haven't really been doing it .  Used to a lot years ago, now barely . Since high school, when i exercise running when i try to get air feels like throat is tight or chest is tight and air is trying to squeeze its way through .  After this point High school until college feels like i'm not breathing enough air .  When i was younger (Elementarymiddle school) felt like i gotten a lot more air then now through my throat and air doesn't squeezes through . One doctor just used stethoscope for heart and lungs, told me to breathe hasn't said much about it .  Then another doctor said, sounds you are not breathing that much, feels like not getting another air (in high school, like 4-6 years ago maybe), they didn't do much about it . So, when i try to breath regularly, seems like not much air comes out through mouth even before acid reflux, . That's why recent breathing problems kinda worry me, but anyways yeah like that . \n",
            "Doctor: Yes, yes, yes .  Yes, yes, yes .  You are not breathing as much as you used to, but now it doesn't sound like you are not getting enough air through your mouth .    Now, it sounds like you have a lot more than normal acid reflux .  So, if you are not getting enough oxygen, then you need to take more than usual .  You need to be concerned about your heart .  It sounds like you are\n",
            "====================\n",
            ">>: Doctor: I guess you are in the right track .  With regards to food diet and exercise . Restart doing your exercise .  Keep yourself active .  Try having more than three meals a day but keep the quantity of each meal less than the usual .  That way you eat more frequently but without putting weight or adding unnecessary calories . \n",
            "Patient: Hi, I am Chaitanya, 27 years old .  I use to swim daily in morning .  Does COVID-19 spreads through water ? What precautions should I take to avoid infection? Thanks\n",
            "Doctor: In brief:       If you are not sick with the flu, don't worry .         There are so little viral illnesses these days, so risk is very low .             Would you like to video or text chat with me?                            \n",
            "====================\n",
            "Patient: Hi, I am Chaitanya, 27 years old .  I use to swim daily in morning .  Does COVID-19 spreads through water ? What precautions should I take to avoid infection?\n",
            "Doctor: In brief:       It could .                If a person is not having fever, but has been in contact with someone who has the disease, or if the person has no fever but is coughing and short of breath, there is a chance that the person will contract the disease .    But, that is rare .          Would you like to video\n",
            "====================\n",
            "Patient: Hi, I am Chaitanya, 27 years old .  I use to swim daily in morning .  Does COVID-19 spreads through water ? What precautions should I take to avoid infection?\n",
            "Doctor: Infection .  Infection spreads from person to person .   It is not a matter of whether a person is swimming or not .   \n",
            "\n",
            "\n",
            "Patient: What is the treatment for Covid-19? I’m scared as well .  I have this for the past week .  I have been going out and meeting new people .  I have been sick for past week .  I have had a high temperature (around 37 degrees), sore throat\n",
            "====================\n",
            ">>: Doctor: Hello and welcome to Ask A Doctor service . I have reviewed your query and here is my advice . First few cases were suspected to have spread from food .  However human to human spread is mainly from air droplets . I would suggest you to refrain from swimming for sometime .  Although the virus will get killed in swimming pool if it doesnot find host for more than few minutes . Other precautions include to avoid social gatherings, wash hands frequently with soap and water, cover face with mask, stay home during sickness, avoid travel . Hope it helps .  Let me know if I can assist you further . Dr Vaishalee\n",
            "Patient: What is the treatment for Covid-19? I have had it for over a week and have had low grade body ache for a few days now . \n",
            "Doctor: Not a diagnosis .  The current NICD and department of health guidelines are to stay home .  If you have a fever, stay home .  Monitor your temperature, rest, drink fluids and monitor your temperature .   If you have a cough, remain home .    If you have a fever, stay home .  If you are otherwise healthy, you\n",
            "====================\n",
            "Patient: What is the treatment for Covid-19?\n",
            "Doctor: Survival .    The virus is live and mutating .  So patient must be treated in right way - prevention, cure and prevention of transmission .  But there is no specific treatment for it .  It is already widely available through various medications . \n",
            "\n",
            "\n",
            "Patient: How safe is it to eat food prepared by someone with coronavirus?\n",
            "Doctor: In brief:       Food prepared by someone with COVID-19 is safe . \n",
            "====================\n",
            "Patient: What is the treatment for Covid-19?\n",
            "Doctor: In brief:    Call       The CDC has a good guide for health care providers on this .       Call your local health department or health department's emergency line for instructions .     Would you like to video or text chat with me?                 \n",
            "\n",
            "\n",
            "Patient: I have a sore throat for over a week now, it hasn't\n",
            "====================\n",
            ">>: Doctor: Depends on severity .  COVID-19 pandemic at this time, so a doctor on video may consult by video instead of requiring an in-person visit .  Flu-like symptoms can be from a strep throat infection, a cold or influenza, or from some other cause like COVID-19 .  Usually, a person calls the doctor if the symptoms are bothersome, serious, recurrent, or persistent .  COVID-19 testing depends on local availability . \n",
            "Patient: Criteria for COVID test? I have had a high temperature (around 107-108) last night .  Test was done  by a doctor and a nurse .  I have had a sore throat and light fever since then .  But I have not been sick .  Could I have a cold?\n",
            "Doctor: In brief:        Allergies          This is a very common problem, yet very few people are diagnosed .      \n",
            "====================\n",
            "Patient: Criteria for COVID test?\n",
            "Doctor: Not applicable .  .    If you have a current medical condition that would be a more appropriate question .  \n",
            "\n",
            "\n",
            "Patient: I am a 23 year old female .  I was recently diagnosed with a very sore throat and light fever .  My body aches a bit, but I do not have a fever .  What could be causing the fever and sore throat?\n",
            "Doctor: In brief:   Stress       Your symptoms are\n",
            "====================\n",
            "Patient: Criteria for COVID test?\n",
            "Doctor: In brief:      Not enough cases to say        Would you like to video or text chat with me?                 \n",
            "\n",
            "\n",
            "Patient: I have a sore throat for 2 days now, I’ve been on the med for that plus cough, fever, shortness of breath, and I’m not feeling it go away .  But I\n",
            "====================\n",
            ">>: Doctor: Real vs .  textbook .  Real-life criteria is different because we don't have enough tests, supplies, or medical staff around the world at this time (March 2020) .  Textbook criteria are suspected COVID in hospitalized persons or in those with underlying medical conditions; or persons who got symptoms less than 14 days after (1) contact with a suspect or confirmed COVID patient or (2) travel through high-risk COVID area . \n",
            "Patient: I have covid 19 symptoms?\n",
            "Doctor: In brief:         There are                                If you have access to a telephonic consult then                    Would you like to video or text chat with me?            \n",
            "====================\n",
            "Patient: I have covid 19 symptoms?\n",
            "Doctor: In brief:        Symptoms          If you have a fever, cough andor shortness of breath contact your PCP .           Would you like to video or text chat with me?                  \n",
            "\n",
            "\n",
            "Patient: I am a 23 year old female .  I have an anxiety disorder,\n",
            "====================\n",
            "Patient: I have covid 19 symptoms?\n",
            "Doctor: In brief:      Not enough data                   Most cases of COVID-19 are mild and self-quarantine and monitor your symptoms for 14 days .    If symptoms develop, Please contact your PCP for possible testing or self-quarantine for 14 days .     Would you like to video or text chat with me?       \n",
            "====================\n",
            ">>: Doctor: Without any details it's impossible to say . \n",
            "Patient: Do I have covid 19?\n",
            "Doctor: Not confirmed .   Stay home .    Stay safe .  If cough and shortness of breath not accompanied by fever, it may be influenza .  If fever, cough andor shortness of breath, with or without fever, it may be pneumonia . \n",
            "\n",
            "\n",
            "Patient: So, what is the treatment for COVID-19? I’m not sure if I have a viral or bacterial infection .  And I have had a cold since I was\n",
            "====================\n",
            "Patient: Do I have covid 19?\n",
            "Doctor: In brief:     Yes                   Would you like to video or text chat with me?                                   \n",
            "\n",
            "\n",
            "Patient: I have a sore throat and light fever today .  I have no fever, cold or flu?\n",
            "====================\n",
            "Patient: Do I have covid 19?\n",
            "Doctor: In brief:    Do not go into public         Would you like to video or text chat with me?                  \n",
            "\n",
            "\n",
            "Patient: I am a healthcare worker, and one of my colleagues (who also happens to be a doctor) is currently treating someone with a very serious case of pnemonia .   His last injection was on 18 March\n",
            "====================\n",
            ">>: Doctor: Without any details it's impossible to say . \n"
          ],
          "name": "stdout"
        }
      ]
    },
    {
      "cell_type": "code",
      "metadata": {
        "id": "7xcz4lUp4Xyg",
        "colab_type": "code",
        "colab": {}
      },
      "source": [
        ""
      ],
      "execution_count": 0,
      "outputs": []
    }
  ]
}